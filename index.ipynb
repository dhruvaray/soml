{
 "cells": [
  {
   "cell_type": "markdown",
   "metadata": {},
   "source": [
    "# Problem\n",
    "\n",
    "Popular question and answer (qna) site -  stackoverflow (+ their sister sites) allows for download of monthly data dumps from https://archive.org/details/stackexchange.\n",
    "\n",
    "With this data, can we classify the questions/answers based on\n",
    "\n",
    "* Conceptual v/s howto question \n",
    "* Beginner v/s intermediate v/s hard/trick\n",
    "* A particular question is associated with another question in terms of the next things to do or perhaps the pre-requisites?\n",
    "* Predict the next question a user may ask based on this current search\n",
    "\n",
    "The taxanomy could be a useful layout of the land for a student of the area."
   ]
  },
  {
   "cell_type": "markdown",
   "metadata": {},
   "source": [
    "# Schema\n",
    "\n",
    "The schema for their data is located @ https://ia800500.us.archive.org/22/items/stackexchange/readme.txt.\n",
    "    \n",
    "Unfortunately, the data is dumped in an XML format and there is preliminary effort to convert that data into CSV format. We have written a converter (convert2csv.py) for the tables of interest.\n",
    "\n",
    "The schemas for the tables of interest are shown below.\n",
    "\n",
    "\n",
    "## Posts\n",
    "-----------\n",
    "- Id\n",
    "- PostTypeId\n",
    "  - 1: Question\n",
    "  - 2: Answer\n",
    "- ParentID (only present if PostTypeId is 2)\n",
    "- AcceptedAnswerId (only present if PostTypeId is 1)\n",
    "- CreationDate\n",
    "- Score\n",
    "- ViewCount\n",
    "- Body\n",
    "- OwnerUserId\n",
    "- LastEditorUserId\n",
    "- LastEditorDisplayName=\"Jeff Atwood\"\n",
    "- LastEditDate=\"2009-03-05T22:28:34.823\"\n",
    "- LastActivityDate=\"2009-03-11T12:51:01.480\"\n",
    "- CommunityOwnedDate=\"2009-03-11T12:51:01.480\"\n",
    "- ClosedDate=\"2009-03-11T12:51:01.480\"\n",
    "- Title=\n",
    "- Tags=\n",
    "- AnswerCount\n",
    "- CommentCount\n",
    "- FavoriteCount\n",
    "\n",
    "## Comments\n",
    "---------------------------\n",
    "- Id\n",
    "- PostId\n",
    "- Score\n",
    "- Text, e.g.: \"@Stu Thompson: Seems possible to me - why not try it?\"\n",
    "- CreationDate, e.g.:\"2008-09-06T08:07:10.730\"\n",
    "- UserId\n",
    "\n",
    "## Post History\n",
    "---------------------------\n",
    "- Id\n",
    "- PostHistoryTypeId\n",
    "    - 1: Initial Title - The first title a question is asked with.\n",
    "    - 2: Initial Body - The first raw body text a post is submitted with.\n",
    "    - 3: Initial Tags - The first tags a question is asked with.\n",
    "    - 4: Edit Title - A question's title has been changed.\n",
    "    - 5: Edit Body - A post's body has been changed, the raw text is stored here as markdown.\n",
    "    - 6: Edit Tags - A question's tags have been changed.\n",
    "    - 7: Rollback Title - A question's title has reverted to a previous version.\n",
    "    - 8: Rollback Body - A post's body has reverted to a previous version - the raw text is stored here.\n",
    "    - 9: Rollback Tags - A question's tags have reverted to a previous version.\n",
    "    - 10: Post Closed - A post was voted to be closed.\n",
    "    - 11: Post Reopened - A post was voted to be reopened.\n",
    "    - 12: Post Deleted - A post was voted to be removed.\n",
    "    - 13: Post Undeleted - A post was voted to be restored.\n",
    "    - 14: Post Locked - A post was locked by a moderator.\n",
    "    - 15: Post Unlocked - A post was unlocked by a moderator.\n",
    "    - 16: Community Owned - A post has become community owned.\n",
    "    - 17: Post Migrated - A post was migrated.\n",
    "    - 18: Question Merged - A question has had another, deleted question merged into itself.\n",
    "    - 19: Question Protected - A question was protected by a moderator\n",
    "    - 20: Question Unprotected - A question was unprotected by a moderator\n",
    "    - 21: Post Disassociated - An admin removes the OwnerUserId from a post.\n",
    "    - 22: Question Unmerged - A previously merged question has had its answers and votes restored.\n",
    "- PostId\n",
    "- RevisionGUID: At times more than one type of history record can be recorded by a single action.  \n",
    "- CreationDate: \"2009-03-05T22:28:34.823\"\n",
    "- UserId\n",
    "- UserDisplayName: populated if a user has been removed and no longer referenced by user Id\n",
    "- Comment: This field will contain the comment made by the user who edited a post\n",
    "- Text: A raw version of the new value for a given revision. \n",
    "- CloseReasonId\n",
    "    - 1: Exact Duplicate - This question covers exactly the same ground as earlier questions on this topic; its answers may be merged with another identical question.\n",
    "    - 2: off-topic\n",
    "    - 3: subjective\n",
    "    - 4: not a real question\n",
    "    - 7: too localized\n",
    "       \n",
    "       \n",
    "## Users\n",
    "---------------------------\n",
    " - Id\n",
    " - Reputation\n",
    " - CreationDate\n",
    " - DisplayName\n",
    " - EmailHash\n",
    " - LastAccessDate\n",
    " - WebsiteUrl\n",
    " - Location\n",
    " - Age\n",
    " - AboutMe\n",
    " - Views\n",
    " - UpVotes\n",
    " - DownVotes\n",
    "       "
   ]
  },
  {
   "cell_type": "markdown",
   "metadata": {},
   "source": [
    "# Conversion from XML to CSV\n",
    "\n",
    "Run python convert2csv.py to convert each of the xml files to their CSV equivalents. For columns/attributes which contain textual data, the converter encodes them with base64 encoding so that handling of quotes and special characters (separators) is avoided. \n",
    "\n",
    "When the data is read back into the dataframe, the corresponding decode (from base64) needs to happen. The converter also creates a sample file of 100 rows for each xml data dump converted."
   ]
  },
  {
   "cell_type": "code",
   "execution_count": 1,
   "metadata": {
    "collapsed": false
   },
   "outputs": [],
   "source": [
    "#imports\n",
    "import pandas as pd\n",
    "import base64\n",
    "import math\n",
    "import re\n",
    "import gensim\n",
    "from gensim import corpora, models\n",
    "import nltk\n",
    "from nltk.corpus import stopwords\n",
    "from bs4 import BeautifulSoup \n",
    "from nltk.stem.porter import PorterStemmer\n",
    "\n",
    "%matplotlib inline\n",
    "import matplotlib\n",
    "import numpy as np\n",
    "import matplotlib.pyplot as plt"
   ]
  },
  {
   "cell_type": "code",
   "execution_count": 2,
   "metadata": {
    "collapsed": false
   },
   "outputs": [
    {
     "data": {
      "text/html": [
       "<div>\n",
       "<table border=\"1\" class=\"dataframe\">\n",
       "  <thead>\n",
       "    <tr style=\"text-align: right;\">\n",
       "      <th></th>\n",
       "      <th>Body</th>\n",
       "      <th>Title</th>\n",
       "    </tr>\n",
       "  </thead>\n",
       "  <tbody>\n",
       "    <tr>\n",
       "      <th>0</th>\n",
       "      <td>When should I use can? When should I use could...</td>\n",
       "      <td>When do I use \"can\" or \"could\"?</td>\n",
       "    </tr>\n",
       "    <tr>\n",
       "      <th>1</th>\n",
       "      <td>Doesn't \"quint\" mean \"five\"?  What does that h...</td>\n",
       "      <td>Where does the \"quint\" in \"quintessential\" com...</td>\n",
       "    </tr>\n",
       "    <tr>\n",
       "      <th>2</th>\n",
       "      <td>Which is the correct use of these two words, a...</td>\n",
       "      <td>When should I use \"shall\" versus \"will\"?</td>\n",
       "    </tr>\n",
       "    <tr>\n",
       "      <th>4</th>\n",
       "      <td>I think most folk happily use either \"while\" o...</td>\n",
       "      <td>When did \"while\" and \"whilst\" become interchan...</td>\n",
       "    </tr>\n",
       "    <tr>\n",
       "      <th>5</th>\n",
       "      <td>\\n\\nI may not be coming in tomorrow... \\nI mig...</td>\n",
       "      <td>\"May\" &amp; \"Might\": What's the right context?</td>\n",
       "    </tr>\n",
       "  </tbody>\n",
       "</table>\n",
       "</div>"
      ],
      "text/plain": [
       "                                                Body  \\\n",
       "0  When should I use can? When should I use could...   \n",
       "1  Doesn't \"quint\" mean \"five\"?  What does that h...   \n",
       "2  Which is the correct use of these two words, a...   \n",
       "4  I think most folk happily use either \"while\" o...   \n",
       "5  \\n\\nI may not be coming in tomorrow... \\nI mig...   \n",
       "\n",
       "                                               Title  \n",
       "0                    When do I use \"can\" or \"could\"?  \n",
       "1  Where does the \"quint\" in \"quintessential\" com...  \n",
       "2           When should I use \"shall\" versus \"will\"?  \n",
       "4  When did \"while\" and \"whilst\" become interchan...  \n",
       "5         \"May\" & \"Might\": What's the right context?  "
      ]
     },
     "execution_count": 2,
     "metadata": {},
     "output_type": "execute_result"
    }
   ],
   "source": [
    "posts = pd.read_csv('posts.sample.csv').dropna(subset=['Body','Title'])\n",
    "posts['Body'] = posts['Body'].apply(lambda x : BeautifulSoup(base64.b64decode(x),\"lxml\").get_text())\n",
    "posts['Title'] = posts['Title'].apply(lambda x : BeautifulSoup(base64.b64decode(x),\"lxml\").get_text())\n",
    "posts[['Body','Title']].head(5)"
   ]
  },
  {
   "cell_type": "markdown",
   "metadata": {},
   "source": [
    "### Notice that we have stripped out the html formatting tags with BeautifulSoup before reassigning back to the dataframe"
   ]
  },
  {
   "cell_type": "code",
   "execution_count": 3,
   "metadata": {
    "collapsed": false
   },
   "outputs": [
    {
     "data": {
      "text/html": [
       "<div>\n",
       "<table border=\"1\" class=\"dataframe\">\n",
       "  <thead>\n",
       "    <tr style=\"text-align: right;\">\n",
       "      <th></th>\n",
       "      <th>Score</th>\n",
       "      <th>Text</th>\n",
       "    </tr>\n",
       "  </thead>\n",
       "  <tbody>\n",
       "    <tr>\n",
       "      <th>0</th>\n",
       "      <td>9</td>\n",
       "      <td>I think you need to edit the title of your que...</td>\n",
       "    </tr>\n",
       "    <tr>\n",
       "      <th>1</th>\n",
       "      <td>12</td>\n",
       "      <td>It's correct when you're accessing a method of...</td>\n",
       "    </tr>\n",
       "    <tr>\n",
       "      <th>2</th>\n",
       "      <td>2</td>\n",
       "      <td>Yes, I would think in almost any context where...</td>\n",
       "    </tr>\n",
       "    <tr>\n",
       "      <th>3</th>\n",
       "      <td>0</td>\n",
       "      <td>Would you say `It can certainly be \"acceptable...</td>\n",
       "    </tr>\n",
       "    <tr>\n",
       "      <th>4</th>\n",
       "      <td>4</td>\n",
       "      <td>@serg555: Would you expect anything less on a ...</td>\n",
       "    </tr>\n",
       "  </tbody>\n",
       "</table>\n",
       "</div>"
      ],
      "text/plain": [
       "   Score                                               Text\n",
       "0      9  I think you need to edit the title of your que...\n",
       "1     12  It's correct when you're accessing a method of...\n",
       "2      2  Yes, I would think in almost any context where...\n",
       "3      0  Would you say `It can certainly be \"acceptable...\n",
       "4      4  @serg555: Would you expect anything less on a ..."
      ]
     },
     "execution_count": 3,
     "metadata": {},
     "output_type": "execute_result"
    }
   ],
   "source": [
    "comments = pd.read_csv('comments.sample.csv').dropna()\n",
    "comments['Text'] = comments['Text'].apply(lambda x : BeautifulSoup(base64.b64decode(x),\"lxml\").get_text())\n",
    "comments[['Score','Text']].head(5)"
   ]
  },
  {
   "cell_type": "code",
   "execution_count": 4,
   "metadata": {
    "collapsed": false
   },
   "outputs": [
    {
     "data": {
      "text/html": [
       "<div>\n",
       "<table border=\"1\" class=\"dataframe\">\n",
       "  <thead>\n",
       "    <tr style=\"text-align: right;\">\n",
       "      <th></th>\n",
       "      <th>CreationDate</th>\n",
       "      <th>Text</th>\n",
       "    </tr>\n",
       "  </thead>\n",
       "  <tbody>\n",
       "    <tr>\n",
       "      <th>0</th>\n",
       "      <td>2010-08-05T19:48:13.987</td>\n",
       "      <td>I think you need to edit the title of your que...</td>\n",
       "    </tr>\n",
       "    <tr>\n",
       "      <th>1</th>\n",
       "      <td>2010-08-05T20:01:43.273</td>\n",
       "      <td>It's correct when you're accessing a method of...</td>\n",
       "    </tr>\n",
       "    <tr>\n",
       "      <th>2</th>\n",
       "      <td>2010-08-05T20:10:25.270</td>\n",
       "      <td>Yes, I would think in almost any context where...</td>\n",
       "    </tr>\n",
       "    <tr>\n",
       "      <th>3</th>\n",
       "      <td>2010-08-05T20:11:23.957</td>\n",
       "      <td>Would you say `It can certainly be \"acceptable...</td>\n",
       "    </tr>\n",
       "    <tr>\n",
       "      <th>4</th>\n",
       "      <td>2010-08-05T20:12:43.500</td>\n",
       "      <td>@serg555: Would you expect anything less on a ...</td>\n",
       "    </tr>\n",
       "  </tbody>\n",
       "</table>\n",
       "</div>"
      ],
      "text/plain": [
       "              CreationDate                                               Text\n",
       "0  2010-08-05T19:48:13.987  I think you need to edit the title of your que...\n",
       "1  2010-08-05T20:01:43.273  It's correct when you're accessing a method of...\n",
       "2  2010-08-05T20:10:25.270  Yes, I would think in almost any context where...\n",
       "3  2010-08-05T20:11:23.957  Would you say `It can certainly be \"acceptable...\n",
       "4  2010-08-05T20:12:43.500  @serg555: Would you expect anything less on a ..."
      ]
     },
     "execution_count": 4,
     "metadata": {},
     "output_type": "execute_result"
    }
   ],
   "source": [
    "posthistory = pd.read_csv('posthistory.sample.csv').dropna(subset=['Text'])\n",
    "posthistory['Text'] = posthistory['Text'].apply(lambda x : BeautifulSoup(base64.b64decode(x),\"lxml\").get_text())\n",
    "comments[['CreationDate','Text']].head(5)"
   ]
  },
  {
   "cell_type": "code",
   "execution_count": 5,
   "metadata": {
    "collapsed": false
   },
   "outputs": [
    {
     "data": {
      "text/html": [
       "<div>\n",
       "<table border=\"1\" class=\"dataframe\">\n",
       "  <thead>\n",
       "    <tr style=\"text-align: right;\">\n",
       "      <th></th>\n",
       "      <th>Location</th>\n",
       "      <th>AboutMe</th>\n",
       "    </tr>\n",
       "  </thead>\n",
       "  <tbody>\n",
       "    <tr>\n",
       "      <th>0</th>\n",
       "      <td>on the server farm</td>\n",
       "      <td>Hi, I'm not really a person.\\nI'm a background...</td>\n",
       "    </tr>\n",
       "    <tr>\n",
       "      <th>1</th>\n",
       "      <td>Corvallis, OR</td>\n",
       "      <td>Developer on the Stack Overflow team.  Find me...</td>\n",
       "    </tr>\n",
       "    <tr>\n",
       "      <th>2</th>\n",
       "      <td>New York, NY</td>\n",
       "      <td>Developer on the Stack Overflow team.\\nWas dub...</td>\n",
       "    </tr>\n",
       "    <tr>\n",
       "      <th>3</th>\n",
       "      <td>Raleigh, NC</td>\n",
       "      <td>I design stuff for Stack Exchange. Also a prof...</td>\n",
       "    </tr>\n",
       "    <tr>\n",
       "      <th>4</th>\n",
       "      <td>California</td>\n",
       "      <td>I slip my front end into the back end, and the...</td>\n",
       "    </tr>\n",
       "  </tbody>\n",
       "</table>\n",
       "</div>"
      ],
      "text/plain": [
       "             Location                                            AboutMe\n",
       "0  on the server farm  Hi, I'm not really a person.\\nI'm a background...\n",
       "1       Corvallis, OR  Developer on the Stack Overflow team.  Find me...\n",
       "2        New York, NY  Developer on the Stack Overflow team.\\nWas dub...\n",
       "3         Raleigh, NC  I design stuff for Stack Exchange. Also a prof...\n",
       "4          California  I slip my front end into the back end, and the..."
      ]
     },
     "execution_count": 5,
     "metadata": {},
     "output_type": "execute_result"
    }
   ],
   "source": [
    "users = pd.read_csv('users.sample.csv').dropna(subset=['AboutMe','Location'])\n",
    "users['AboutMe'] = users['AboutMe'].apply(lambda x : BeautifulSoup(base64.b64decode(x),\"lxml\").get_text())\n",
    "users['Location'] = users['Location'].apply(lambda x : BeautifulSoup(base64.b64decode(x),\"lxml\").get_text())\n",
    "users[['Location','AboutMe']].head(5)"
   ]
  },
  {
   "cell_type": "markdown",
   "metadata": {},
   "source": [
    "## Further cleansing\n",
    "\n",
    "* Remove (html) tags & carriage returns from the Text field\n",
    "* Remove stop words (pick up the nltk stop words)\n",
    "* Use PorterStemmer to stem words"
   ]
  },
  {
   "cell_type": "code",
   "execution_count": 6,
   "metadata": {
    "collapsed": false
   },
   "outputs": [
    {
     "name": "stdout",
     "output_type": "stream",
     "text": [
      "[u'i', u'me', u'my', u'myself', u'we', u'our', u'ours', u'ourselves', u'you', u'your', u'yours', u'yourself', u'yourselves', u'he', u'him', u'his', u'himself', u'she', u'her', u'hers', u'herself', u'it', u'its', u'itself', u'they', u'them', u'their', u'theirs', u'themselves', u'what', u'which', u'who', u'whom', u'this', u'that', u'these', u'those', u'am', u'is', u'are', u'was', u'were', u'be', u'been', u'being', u'have', u'has', u'had', u'having', u'do', u'does', u'did', u'doing', u'a', u'an', u'the', u'and', u'but', u'if', u'or', u'because', u'as', u'until', u'while', u'of', u'at', u'by', u'for', u'with', u'about', u'against', u'between', u'into', u'through', u'during', u'before', u'after', u'above', u'below', u'to', u'from', u'up', u'down', u'in', u'out', u'on', u'off', u'over', u'under', u'again', u'further', u'then', u'once', u'here', u'there', u'when', u'where', u'why', u'how', u'all', u'any', u'both', u'each', u'few', u'more', u'most', u'other', u'some', u'such', u'no', u'nor', u'not', u'only', u'own', u'same', u'so', u'than', u'too', u'very', u's', u't', u'can', u'will', u'just', u'don', u'should', u'now', u'd', u'll', u'm', u'o', u're', u've', u'y', u'ain', u'aren', u'couldn', u'didn', u'doesn', u'hadn', u'hasn', u'haven', u'isn', u'ma', u'mightn', u'mustn', u'needn', u'shan', u'shouldn', u'wasn', u'weren', u'won', u'wouldn']\n"
     ]
    }
   ],
   "source": [
    "#global\n",
    "p_stemmer = PorterStemmer()\n",
    "stop_words = stopwords.words('english')\n",
    "print stop_words"
   ]
  },
  {
   "cell_type": "code",
   "execution_count": 7,
   "metadata": {
    "collapsed": false
   },
   "outputs": [],
   "source": [
    "class Sentences():\n",
    "    def __init__(self,df,field):\n",
    "        self.field = field\n",
    "        self.df = df\n",
    "    \n",
    "    def __iter__(self):\n",
    "      for index, row in self.df.iterrows():\n",
    "         raw_sentence = row[self.field].replace('\\n','').lower()\n",
    "         raw_tokens = filter(None, re.split(\"[ ?]+\",raw_sentence))\n",
    "         stem_tokens = [p_stemmer.stem(tok) for tok in raw_tokens]\n",
    "         tokens = [tok for tok in stem_tokens if not tok in stop_words]       \n",
    "         yield tokens\n",
    "        \n",
    "#all posts is a list of (list of tokens). The inner list of tokens is created once for each post\n",
    "allposts = Sentences(posts,'Body')"
   ]
  },
  {
   "cell_type": "code",
   "execution_count": 8,
   "metadata": {
    "collapsed": false
   },
   "outputs": [],
   "source": [
    "dictionary = corpora.Dictionary(allposts)\n",
    "#print(dictionary.token2id) maps ids to tokens"
   ]
  },
  {
   "cell_type": "code",
   "execution_count": 9,
   "metadata": {
    "collapsed": false
   },
   "outputs": [],
   "source": [
    "#bag of words\n",
    "corpus = [dictionary.doc2bow(text) for text in allposts]"
   ]
  },
  {
   "cell_type": "code",
   "execution_count": 10,
   "metadata": {
    "collapsed": true
   },
   "outputs": [],
   "source": [
    "ldamodel = gensim.models.ldamodel.LdaModel(corpus, num_topics=300, id2word = dictionary, passes=20)"
   ]
  },
  {
   "cell_type": "code",
   "execution_count": 11,
   "metadata": {
    "collapsed": false
   },
   "outputs": [
    {
     "name": "stdout",
     "output_type": "stream",
     "text": [
      "[(163, u'0.003*that\\u2019 + 0.003*whom. + 0.003*up, + 0.003*said'), (241, u'0.003*that\\u2019 + 0.003*whom. + 0.003*up, + 0.003*said'), (196, u'0.003*that\\u2019 + 0.003*whom. + 0.003*up, + 0.003*said')]\n"
     ]
    }
   ],
   "source": [
    "print(ldamodel.print_topics(num_topics=3, num_words=4))"
   ]
  },
  {
   "cell_type": "code",
   "execution_count": null,
   "metadata": {
    "collapsed": false
   },
   "outputs": [],
   "source": []
  },
  {
   "cell_type": "code",
   "execution_count": null,
   "metadata": {
    "collapsed": true
   },
   "outputs": [],
   "source": []
  }
 ],
 "metadata": {
  "kernelspec": {
   "display_name": "Python 2",
   "language": "python",
   "name": "python2"
  },
  "language_info": {
   "codemirror_mode": {
    "name": "ipython",
    "version": 2
   },
   "file_extension": ".py",
   "mimetype": "text/x-python",
   "name": "python",
   "nbconvert_exporter": "python",
   "pygments_lexer": "ipython2",
   "version": "2.7.11"
  }
 },
 "nbformat": 4,
 "nbformat_minor": 0
}
