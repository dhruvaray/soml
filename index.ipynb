{
 "cells": [
  {
   "cell_type": "markdown",
   "metadata": {
    "slideshow": {
     "slide_type": "slide"
    }
   },
   "source": [
    "# Problem\n",
    "\n",
    "Popular question and answer (qna) site -  stackoverflow (+ their sister sites) allows for download of monthly data dumps from https://archive.org/details/stackexchange.\n",
    "\n",
    "With this data, can we classify the questions/answers based on\n",
    "\n",
    "* Conceptual v/s howto question \n",
    "* Beginner v/s intermediate v/s hard/trick\n",
    "* A particular question is associated with another question in terms of the next things to do or perhaps the pre-requisites?\n",
    "* Predict the next question a user may ask based on this current search\n",
    "\n",
    "The taxanomy could be a useful layout of the land for a student of the area."
   ]
  },
  {
   "cell_type": "markdown",
   "metadata": {
    "slideshow": {
     "slide_type": "fragment"
    }
   },
   "source": [
    "# Schema\n",
    "\n",
    "The schema for their data is located @ https://ia800500.us.archive.org/22/items/stackexchange/readme.txt.\n",
    "    \n",
    "Unfortunately, the data is dumped in an XML format and there is preliminary effort to convert that data into CSV format. We have written a converter (convert2csv.py) for the tables of interest.\n",
    "\n",
    "The schemas for the tables of interest are shown below.\n",
    "\n",
    "\n",
    "## Posts\n",
    "-----------\n",
    "- Id\n",
    "- PostTypeId\n",
    "  - 1: Question\n",
    "  - 2: Answer\n",
    "- ParentID (only present if PostTypeId is 2)\n",
    "- AcceptedAnswerId (only present if PostTypeId is 1)\n",
    "- CreationDate\n",
    "- Score\n",
    "- ViewCount\n",
    "- Body\n",
    "- OwnerUserId\n",
    "- LastEditorUserId\n",
    "- LastEditorDisplayName=\"Jeff Atwood\"\n",
    "- LastEditDate=\"2009-03-05T22:28:34.823\"\n",
    "- LastActivityDate=\"2009-03-11T12:51:01.480\"\n",
    "- CommunityOwnedDate=\"2009-03-11T12:51:01.480\"\n",
    "- ClosedDate=\"2009-03-11T12:51:01.480\"\n",
    "- Title=\n",
    "- Tags=\n",
    "- AnswerCount\n",
    "- CommentCount\n",
    "- FavoriteCount\n",
    "\n",
    "## Comments\n",
    "---------------------------\n",
    "- Id\n",
    "- PostId\n",
    "- Score\n",
    "- Text, e.g.: \"@Stu Thompson: Seems possible to me - why not try it?\"\n",
    "- CreationDate, e.g.:\"2008-09-06T08:07:10.730\"\n",
    "- UserId\n",
    "\n",
    "## Post History\n",
    "---------------------------\n",
    "- Id\n",
    "- PostHistoryTypeId\n",
    "    - 1: Initial Title - The first title a question is asked with.\n",
    "    - 2: Initial Body - The first raw body text a post is submitted with.\n",
    "    - 3: Initial Tags - The first tags a question is asked with.\n",
    "    - 4: Edit Title - A question's title has been changed.\n",
    "    - 5: Edit Body - A post's body has been changed, the raw text is stored here as markdown.\n",
    "    - 6: Edit Tags - A question's tags have been changed.\n",
    "    - 7: Rollback Title - A question's title has reverted to a previous version.\n",
    "    - 8: Rollback Body - A post's body has reverted to a previous version - the raw text is stored here.\n",
    "    - 9: Rollback Tags - A question's tags have reverted to a previous version.\n",
    "    - 10: Post Closed - A post was voted to be closed.\n",
    "    - 11: Post Reopened - A post was voted to be reopened.\n",
    "    - 12: Post Deleted - A post was voted to be removed.\n",
    "    - 13: Post Undeleted - A post was voted to be restored.\n",
    "    - 14: Post Locked - A post was locked by a moderator.\n",
    "    - 15: Post Unlocked - A post was unlocked by a moderator.\n",
    "    - 16: Community Owned - A post has become community owned.\n",
    "    - 17: Post Migrated - A post was migrated.\n",
    "    - 18: Question Merged - A question has had another, deleted question merged into itself.\n",
    "    - 19: Question Protected - A question was protected by a moderator\n",
    "    - 20: Question Unprotected - A question was unprotected by a moderator\n",
    "    - 21: Post Disassociated - An admin removes the OwnerUserId from a post.\n",
    "    - 22: Question Unmerged - A previously merged question has had its answers and votes restored.\n",
    "- PostId\n",
    "- RevisionGUID: At times more than one type of history record can be recorded by a single action.  \n",
    "- CreationDate: \"2009-03-05T22:28:34.823\"\n",
    "- UserId\n",
    "- UserDisplayName: populated if a user has been removed and no longer referenced by user Id\n",
    "- Comment: This field will contain the comment made by the user who edited a post\n",
    "- Text: A raw version of the new value for a given revision. \n",
    "- CloseReasonId\n",
    "    - 1: Exact Duplicate - This question covers exactly the same ground as earlier questions on this topic; its answers may be merged with another identical question.\n",
    "    - 2: off-topic\n",
    "    - 3: subjective\n",
    "    - 4: not a real question\n",
    "    - 7: too localized\n",
    "       \n",
    "       \n",
    "## Users\n",
    "---------------------------\n",
    " - Id\n",
    " - Reputation\n",
    " - CreationDate\n",
    " - DisplayName\n",
    " - EmailHash\n",
    " - LastAccessDate\n",
    " - WebsiteUrl\n",
    " - Location\n",
    " - Age\n",
    " - AboutMe\n",
    " - Views\n",
    " - UpVotes\n",
    " - DownVotes\n",
    "       "
   ]
  },
  {
   "cell_type": "markdown",
   "metadata": {},
   "source": [
    "# Conversion from XML to CSV\n",
    "\n",
    "Run python convert2csv.py to convert each of the xml files to their CSV equivalents. For columns/attributes which contain textual data, the converter encodes them with base64 encoding so that handling of quotes and special characters (separators) is avoided. \n",
    "\n",
    "When the data is read back into the dataframe, the corresponding decode (from base64) needs to happen. The converter also creates a sample file of 100 rows for each xml data dump converted."
   ]
  },
  {
   "cell_type": "code",
   "execution_count": 426,
   "metadata": {
    "collapsed": false
   },
   "outputs": [],
   "source": [
    "#imports\n",
    "import pandas as pd\n",
    "import math\n",
    "import re\n",
    "import gensim\n",
    "from gensim import corpora, models\n",
    "from gensim.models import word2vec, doc2vec\n",
    "import nltk\n",
    "from nltk.corpus import stopwords\n",
    "from nltk.stem.porter import PorterStemmer\n",
    "\n",
    "%matplotlib inline\n",
    "import matplotlib\n",
    "import numpy as np\n",
    "import matplotlib.pyplot as plt\n",
    "\n",
    "import pyLDAvis\n",
    "import pyLDAvis.gensim\n",
    "pyLDAvis.enable_notebook()\n",
    "\n",
    "\n",
    "SAMPLE_SIZE = 5000"
   ]
  },
  {
   "cell_type": "code",
   "execution_count": 427,
   "metadata": {
    "collapsed": false
   },
   "outputs": [
    {
     "data": {
      "text/html": [
       "<div>\n",
       "<table border=\"1\" class=\"dataframe\">\n",
       "  <thead>\n",
       "    <tr style=\"text-align: right;\">\n",
       "      <th></th>\n",
       "      <th>Body</th>\n",
       "      <th>Title</th>\n",
       "      <th>Tags</th>\n",
       "    </tr>\n",
       "  </thead>\n",
       "  <tbody>\n",
       "    <tr>\n",
       "      <th>0</th>\n",
       "      <td>when should i use can  when should i use could...</td>\n",
       "      <td>when do i use  can  or  could</td>\n",
       "      <td>word-choice  tenses  politeness  subjunctive-...</td>\n",
       "    </tr>\n",
       "    <tr>\n",
       "      <th>1</th>\n",
       "      <td>doesn t  quint  mean  five    what does that h...</td>\n",
       "      <td>where does the  quint  in  quintessential  com...</td>\n",
       "      <td>etymology</td>\n",
       "    </tr>\n",
       "  </tbody>\n",
       "</table>\n",
       "</div>"
      ],
      "text/plain": [
       "                                                Body  \\\n",
       "0  when should i use can  when should i use could...   \n",
       "1  doesn t  quint  mean  five    what does that h...   \n",
       "\n",
       "                                               Title  \\\n",
       "0                    when do i use  can  or  could     \n",
       "1  where does the  quint  in  quintessential  com...   \n",
       "\n",
       "                                                Tags  \n",
       "0   word-choice  tenses  politeness  subjunctive-...  \n",
       "1                                         etymology   "
      ]
     },
     "execution_count": 427,
     "metadata": {},
     "output_type": "execute_result"
    }
   ],
   "source": [
    "posts = pd.read_csv('data/posts.csv.gz',compression='gzip',nrows=SAMPLE_SIZE).dropna(subset=['Body','Title'])\n",
    "posts['Tags'] = posts['Tags'].apply(lambda x : x.replace('<',' ').replace('>',' '))\n",
    "posts[['Body','Title', 'Tags']].head(2)"
   ]
  },
  {
   "cell_type": "code",
   "execution_count": 428,
   "metadata": {
    "collapsed": false
   },
   "outputs": [
    {
     "data": {
      "text/html": [
       "<div>\n",
       "<table border=\"1\" class=\"dataframe\">\n",
       "  <thead>\n",
       "    <tr style=\"text-align: right;\">\n",
       "      <th></th>\n",
       "      <th>Score</th>\n",
       "      <th>Text</th>\n",
       "    </tr>\n",
       "  </thead>\n",
       "  <tbody>\n",
       "    <tr>\n",
       "      <th>0</th>\n",
       "      <td>9</td>\n",
       "      <td>i think you need to edit the title of your que...</td>\n",
       "    </tr>\n",
       "    <tr>\n",
       "      <th>1</th>\n",
       "      <td>12</td>\n",
       "      <td>it s correct when you re accessing a method of...</td>\n",
       "    </tr>\n",
       "    <tr>\n",
       "      <th>2</th>\n",
       "      <td>2</td>\n",
       "      <td>yes  i would think in almost any context where...</td>\n",
       "    </tr>\n",
       "    <tr>\n",
       "      <th>3</th>\n",
       "      <td>0</td>\n",
       "      <td>would you say  it can certainly be  acceptable...</td>\n",
       "    </tr>\n",
       "    <tr>\n",
       "      <th>4</th>\n",
       "      <td>4</td>\n",
       "      <td>serg     would you expect anything less on a ...</td>\n",
       "    </tr>\n",
       "  </tbody>\n",
       "</table>\n",
       "</div>"
      ],
      "text/plain": [
       "   Score                                               Text\n",
       "0      9  i think you need to edit the title of your que...\n",
       "1     12  it s correct when you re accessing a method of...\n",
       "2      2  yes  i would think in almost any context where...\n",
       "3      0  would you say  it can certainly be  acceptable...\n",
       "4      4   serg     would you expect anything less on a ..."
      ]
     },
     "execution_count": 428,
     "metadata": {},
     "output_type": "execute_result"
    }
   ],
   "source": [
    "comments = pd.read_csv('data/comments.csv.gz',compression='gzip',nrows=SAMPLE_SIZE).dropna()\n",
    "comments[['Score','Text']].head(5)"
   ]
  },
  {
   "cell_type": "code",
   "execution_count": 429,
   "metadata": {
    "collapsed": false
   },
   "outputs": [
    {
     "data": {
      "text/html": [
       "<div>\n",
       "<table border=\"1\" class=\"dataframe\">\n",
       "  <thead>\n",
       "    <tr style=\"text-align: right;\">\n",
       "      <th></th>\n",
       "      <th>Text</th>\n",
       "    </tr>\n",
       "  </thead>\n",
       "  <tbody>\n",
       "    <tr>\n",
       "      <th>0</th>\n",
       "      <td>when could i use can  or when can i use could ...</td>\n",
       "    </tr>\n",
       "    <tr>\n",
       "      <th>1</th>\n",
       "      <td>when do i could  can     could</td>\n",
       "    </tr>\n",
       "    <tr>\n",
       "      <th>3</th>\n",
       "      <td>doesn t  quint  mean five   what does that hav...</td>\n",
       "    </tr>\n",
       "    <tr>\n",
       "      <th>4</th>\n",
       "      <td>where does the  quint  in quintessential come ...</td>\n",
       "    </tr>\n",
       "    <tr>\n",
       "      <th>6</th>\n",
       "      <td>which is the correct use of these two words an...</td>\n",
       "    </tr>\n",
       "  </tbody>\n",
       "</table>\n",
       "</div>"
      ],
      "text/plain": [
       "                                                Text\n",
       "0  when could i use can  or when can i use could ...\n",
       "1                  when do i could  can     could   \n",
       "3  doesn t  quint  mean five   what does that hav...\n",
       "4  where does the  quint  in quintessential come ...\n",
       "6  which is the correct use of these two words an..."
      ]
     },
     "execution_count": 429,
     "metadata": {},
     "output_type": "execute_result"
    }
   ],
   "source": [
    "posthistory = pd.read_csv('data/posthistory.csv.gz',compression='gzip',nrows=SAMPLE_SIZE).dropna(subset=['Text'])\n",
    "posthistory[['Text']].head(5)"
   ]
  },
  {
   "cell_type": "code",
   "execution_count": 430,
   "metadata": {
    "collapsed": false
   },
   "outputs": [
    {
     "data": {
      "text/html": [
       "<div>\n",
       "<table border=\"1\" class=\"dataframe\">\n",
       "  <thead>\n",
       "    <tr style=\"text-align: right;\">\n",
       "      <th></th>\n",
       "      <th>Location</th>\n",
       "      <th>AboutMe</th>\n",
       "    </tr>\n",
       "  </thead>\n",
       "  <tbody>\n",
       "    <tr>\n",
       "      <th>0</th>\n",
       "      <td>on the server farm</td>\n",
       "      <td>hi  i m not really a person  i m a background ...</td>\n",
       "    </tr>\n",
       "    <tr>\n",
       "      <th>1</th>\n",
       "      <td>corvallis  or</td>\n",
       "      <td>developer on the stack overflow team   find me...</td>\n",
       "    </tr>\n",
       "    <tr>\n",
       "      <th>2</th>\n",
       "      <td>new york  ny</td>\n",
       "      <td>developer on the stack overflow team  was dubb...</td>\n",
       "    </tr>\n",
       "    <tr>\n",
       "      <th>3</th>\n",
       "      <td>raleigh  nc</td>\n",
       "      <td>i design stuff for stack exchange  also a prof...</td>\n",
       "    </tr>\n",
       "    <tr>\n",
       "      <th>4</th>\n",
       "      <td>california</td>\n",
       "      <td>i slip my front end into the back end  and the...</td>\n",
       "    </tr>\n",
       "  </tbody>\n",
       "</table>\n",
       "</div>"
      ],
      "text/plain": [
       "             Location                                            AboutMe\n",
       "0  on the server farm  hi  i m not really a person  i m a background ...\n",
       "1       corvallis  or  developer on the stack overflow team   find me...\n",
       "2        new york  ny  developer on the stack overflow team  was dubb...\n",
       "3         raleigh  nc  i design stuff for stack exchange  also a prof...\n",
       "4          california  i slip my front end into the back end  and the..."
      ]
     },
     "execution_count": 430,
     "metadata": {},
     "output_type": "execute_result"
    }
   ],
   "source": [
    "users = pd.read_csv('data/users.csv.gz',compression='gzip',nrows=SAMPLE_SIZE).dropna(subset=['AboutMe','Location'])\n",
    "users[['Location','AboutMe']].head(5)"
   ]
  },
  {
   "cell_type": "markdown",
   "metadata": {},
   "source": [
    "## Further cleansing\n",
    "\n",
    "* Remove (html) tags & carriage returns from the Text field\n",
    "* Remove stop words (pick up the nltk stop words)\n",
    "* Use PorterStemmer to stem words"
   ]
  },
  {
   "cell_type": "code",
   "execution_count": 431,
   "metadata": {
    "collapsed": false
   },
   "outputs": [],
   "source": [
    "#global\n",
    "p_stemmer = PorterStemmer()\n",
    "stop_words = stopwords.words('english')\n",
    "stop_words.append('use')\n",
    "#print(stop_words)"
   ]
  },
  {
   "cell_type": "code",
   "execution_count": 432,
   "metadata": {
    "collapsed": false
   },
   "outputs": [],
   "source": [
    "class SentenceTokens():\n",
    "    def __init__(self,df,field):\n",
    "        self.field = field\n",
    "        self.df = df\n",
    "    \n",
    "    def __iter__(self):\n",
    "      for index, row in self.df.iterrows():\n",
    "         raw_sentence = row[self.field]\n",
    "         raw_tokens = filter(None, re.split(\"[ ]+\",raw_sentence))\n",
    "         #stem_tokens = [p_stemmer.stem(tok) for tok in raw_tokens]\n",
    "         yield [tok for tok in raw_tokens if not tok in stop_words and len(tok) > 1 ]\n",
    "\n",
    "#all posts is a list of (list of tokens). The inner list of tokens is created once for each post\n",
    "allposts = SentenceTokens(posts,'Title')\n",
    "\n",
    "\n",
    "class LabeledLineSentence(object):\n",
    "    def __init__(self,df,field,tag):\n",
    "        self.df = df\n",
    "        self.field = field\n",
    "        self.tag = tag\n",
    "\n",
    "    def __iter__(self):\n",
    "        for index, row in self.df.iterrows():\n",
    "           tags = ['T_' + tag for tag in row[self.tag].split()]\n",
    "           yield doc2vec.TaggedDocument(words=row[self.field].split(),tags=tags)\n",
    "\n",
    "lablines = LabeledLineSentence(posts,'Title','Tags')\n",
    "#print([p for p in allposts])"
   ]
  },
  {
   "cell_type": "code",
   "execution_count": 433,
   "metadata": {
    "collapsed": false
   },
   "outputs": [],
   "source": [
    "#How frequently each term occurs within each document? We construct a document-term matrix.\n",
    "dictionary = corpora.Dictionary(allposts)\n",
    "#print(dictionary.token2id) #maps ids to tokens"
   ]
  },
  {
   "cell_type": "code",
   "execution_count": 441,
   "metadata": {
    "collapsed": false
   },
   "outputs": [
    {
     "name": "stdout",
     "output_type": "stream",
     "text": [
      "[(0, 1)]\n",
      "1371\n"
     ]
    }
   ],
   "source": [
    "#bag of words\n",
    "corpus = [dictionary.doc2bow(text) for text in allposts]\n",
    "#corpus, is a list of vectors equal to the number of documents. \n",
    "#In each document vector is a series of tuples. \n",
    "print(corpus[0])\n",
    "print(len(corpus))\n",
    "#(term ID, term frequency) pairs"
   ]
  },
  {
   "cell_type": "code",
   "execution_count": 435,
   "metadata": {
    "collapsed": true
   },
   "outputs": [],
   "source": [
    "ldamodel = gensim.models.ldamodel.LdaModel(corpus, num_topics=10, id2word = dictionary, passes=30)\n",
    "\n",
    "#num_topics: required. An LDA model requires the user to determine how many topics should be generated. \n",
    "#id2word: required. The LdaModel class requires our previous dictionary to map ids to strings.\n",
    "#passes: optional. The number of laps the model will take through corpus."
   ]
  },
  {
   "cell_type": "code",
   "execution_count": 436,
   "metadata": {
    "collapsed": true
   },
   "outputs": [],
   "source": [
    "from __future__ import print_function\n",
    "from ipywidgets import interact, interactive, fixed\n",
    "import ipywidgets as widgets"
   ]
  },
  {
   "cell_type": "code",
   "execution_count": 437,
   "metadata": {
    "collapsed": false
   },
   "outputs": [
    {
     "data": {
      "text/plain": [
       "[(1,\n",
       "  u'0.030*pronunciation + 0.023*correct + 0.019*word + 0.016*usage + 0.012*different + 0.010*mean'),\n",
       " (3,\n",
       "  u'0.032*words + 0.030*english + 0.014*difference + 0.012*correct + 0.011*word + 0.011*american'),\n",
       " (4,\n",
       "  u'0.071*vs + 0.015*word + 0.013*correct + 0.011*sentence + 0.009*proper + 0.008*appropriate'),\n",
       " (6,\n",
       "  u'0.043*used + 0.023*using + 0.017*word + 0.015*instead + 0.010*versus + 0.010*correct'),\n",
       " (8,\n",
       "  u'0.021*sentence + 0.020*correct + 0.014*question + 0.013*one + 0.012*right + 0.011*grammatically')]"
      ]
     },
     "metadata": {},
     "output_type": "display_data"
    }
   ],
   "source": [
    "@interact(num_topics=5, num_words=6)\n",
    "def understand(num_topics, num_words):\n",
    "    return ldamodel.print_topics(num_topics, num_words)\n",
    "    \n",
    "#Each generated topic is separated by a comma.\n",
    "#Within each topic are the three most probable words to appear in that topic."
   ]
  },
  {
   "cell_type": "code",
   "execution_count": 438,
   "metadata": {
    "collapsed": false
   },
   "outputs": [
    {
     "data": {
      "text/html": [
       "\n",
       "<link rel=\"stylesheet\" type=\"text/css\" href=\"https://cdn.rawgit.com/bmabey/pyLDAvis/files/ldavis.v1.0.0.css\">\n",
       "\n",
       "\n",
       "<div id=\"ldavis_el163221404340741640487926859583\"></div>\n",
       "<script type=\"text/javascript\">\n",
       "\n",
       "var ldavis_el163221404340741640487926859583_data = {\"plot.opts\": {\"xlab\": \"PC1\", \"ylab\": \"PC2\"}, \"topic.order\": [6, 4, 5, 2, 3, 7, 10, 9, 1, 8], \"token.table\": {\"Topic\": [10, 1, 2, 6, 9, 1, 4, 5, 6, 7, 10, 6, 6, 10, 10, 5, 2, 3, 2, 5, 6, 10, 5, 8, 9, 10, 4, 1, 1, 3, 10, 5, 5, 7, 7, 2, 3, 9, 6, 9, 2, 6, 10, 1, 2, 3, 5, 6, 8, 2, 7, 9, 2, 4, 8, 9, 7, 3, 7, 9, 10, 10, 5, 3, 4, 5, 6, 9, 10, 3, 2, 3, 5, 3, 7, 3, 10, 3, 8, 1, 7, 8, 5, 6, 1, 7, 3, 6, 8, 1, 2, 4, 5, 6, 7, 7, 2, 6, 7, 1, 1, 3, 5, 10, 7, 1, 2, 5, 8, 6, 1, 5, 3, 5, 1, 2, 3, 4, 10, 8, 2, 4, 8, 9, 6, 1, 8, 10, 9, 3, 9, 7, 6, 10, 1, 2, 9, 9, 1, 2, 4, 6, 7, 8, 9, 9, 2, 4, 5, 6, 1, 2, 3, 4, 7, 2, 10, 4, 3, 4, 2, 4, 1, 8, 4, 6, 1, 10, 1, 2, 3, 4, 5, 6, 7, 8, 9, 6, 8, 9, 1, 2, 3, 6, 8, 3, 10, 8, 10, 3, 3, 1, 10, 3, 6, 8, 2, 7, 3, 3, 1, 2, 3, 4, 9, 1, 2, 9, 2, 8, 2, 3, 4, 5, 6, 7, 8, 10, 1, 4, 5, 6, 7, 8, 9, 1, 3, 4, 8, 2, 3, 6, 7, 9, 10, 9, 1, 2, 1, 4, 4, 1, 7, 1, 2, 3, 6, 9, 10, 5, 10, 1, 2, 3, 4, 8, 2, 3, 4, 7, 9, 1, 2, 4, 5, 6, 7, 8, 9, 10, 3, 4, 10, 1, 2, 3, 7, 8, 3, 4, 5, 7, 8, 5, 6, 2, 10, 9, 2, 5, 8, 9, 1, 8, 10, 4, 10, 6, 1, 10, 5, 10, 5, 1, 2, 9, 6, 2, 3, 4, 8, 10, 5, 3, 6, 7, 8, 10, 5, 1, 2, 5, 6, 7, 3, 3, 9, 7, 9, 5, 10, 9, 8, 1, 8, 10, 8, 5, 3, 4, 8, 8, 2, 1, 3, 4, 1, 2, 5, 7, 9, 1, 1, 3, 7, 10, 3, 7, 7, 9, 8, 10, 1, 2, 2, 5, 1, 3, 7, 1, 4, 4, 10, 6, 9, 9, 3, 2, 7, 1, 1, 10, 9, 9, 5, 8, 10, 2, 1, 1, 2, 4, 2, 1, 4, 6, 9, 7, 10, 2, 4, 5, 7, 10, 1, 2, 3, 10, 2, 4, 1, 5, 8, 3, 5, 10, 2, 8, 8, 1, 4, 6, 1, 2, 5, 6, 10, 9, 1, 2, 4, 5, 8, 10, 10, 3, 6, 7, 1, 1, 7, 10, 2, 9, 2, 3, 4, 10, 10, 1, 2, 7, 9, 1, 6, 8, 8, 6, 8, 1, 3, 4, 6, 7, 10, 1, 2, 3, 4, 5, 6, 7, 9, 10, 2, 4, 7, 8, 9, 1, 7, 8, 4, 3, 9, 5, 2, 8, 3, 5, 3, 4, 3, 6, 1, 2, 8, 9, 1, 2, 3, 5, 6, 7, 10, 3, 5, 8, 6, 7, 5, 7, 3, 5, 7, 9, 6, 2, 3, 5, 7, 5, 7, 1, 8, 10, 1, 3, 4, 5, 6, 9, 1, 2, 3, 5, 6, 7, 8, 10, 1, 3, 3, 8, 1, 2, 4, 7, 8, 9, 10, 6, 4, 1, 7, 5, 3, 1, 4, 6, 6, 1, 2, 3, 4, 5, 6, 7, 9, 10, 8, 10, 4, 10, 5, 4, 8, 3, 2, 3, 6, 7, 8, 8, 2, 3, 4, 6, 7, 8, 9, 10, 1, 3, 4, 6, 7, 3, 4, 5, 6, 7, 8, 9, 1, 2, 3, 5, 6, 7, 9, 10, 1, 2, 10, 2, 6, 10, 1, 8, 4, 2, 1, 9, 10, 1, 5, 6, 9, 4, 2, 3, 8, 9, 6, 2, 4, 7, 7, 1, 2, 3, 5, 4, 6, 8, 9, 2, 9, 4, 9, 1, 5, 7, 2, 3, 4, 5, 10, 4, 8, 1, 8, 8, 1, 3, 5, 8, 3, 8, 9, 2, 3, 5, 9, 10, 5, 7, 5, 8, 1, 4, 6, 8, 1, 2, 3, 7, 9, 4, 2, 5, 4, 5, 8, 10, 1, 2, 4, 7, 1, 2, 4, 6, 8, 9, 6, 9, 10, 1, 6, 7, 8, 9, 5, 4, 3, 8, 6, 8, 2, 4, 7, 8, 6, 2, 7, 8, 2, 2, 6, 7, 2, 9, 1, 5, 8, 10, 2, 3, 4, 6, 8, 9, 2, 3, 4, 3, 8, 10, 6, 1, 4, 6, 7, 9, 2, 9, 4, 7, 5, 1, 3, 4, 5, 6, 8, 9, 10, 1, 2, 4, 7, 8, 10, 4, 9, 5, 2, 8, 10, 2, 4, 6, 6, 3, 6, 3, 9, 3, 9, 10, 1, 2, 5, 6, 7, 8, 8, 6, 2, 5, 6, 7, 8, 9, 4, 5, 7, 8, 9, 2, 2, 3, 4, 8, 2, 8, 2, 7, 1, 2, 4, 5, 6, 7, 3, 5, 8, 10, 5, 1, 4, 9, 5, 1, 2, 2, 6, 7, 2, 3, 5, 8, 7, 10, 10, 5, 9, 1, 10, 6, 8, 1, 3, 4, 6, 1, 7, 8, 10, 9, 10, 3, 7, 4, 7, 1, 5, 2, 4, 2, 6, 2, 3, 4, 5, 6, 7, 8, 9, 10, 10, 5, 2, 6, 6, 1, 2, 3, 4, 6, 7, 10, 7, 5, 8, 5, 10, 2, 10, 10, 2, 4, 6, 8, 9, 6, 1, 10, 5, 2, 4, 1, 8, 4, 1, 2, 4, 5, 10, 1, 3, 4, 5, 6, 7, 1, 3, 6, 2, 4, 6, 10, 1, 2, 8, 9, 1, 2, 3, 6, 6, 1, 2, 4, 6, 7, 8, 10, 6, 1, 2, 3, 2, 3, 4, 5, 9, 10, 1, 1, 2, 4, 5, 6, 7, 9, 9, 1, 5, 6, 9, 4, 8, 1, 10, 1, 2, 3, 4, 5, 6, 7, 8, 9, 10, 2, 3, 4, 7, 8, 9, 2, 5, 6, 9, 2, 3, 6, 7, 9, 1, 5, 7, 8, 10, 2, 7, 7], \"Freq\": [0.48951192488211748, 0.17340674132459849, 0.34681348264919698, 0.34681348264919698, 0.17340674132459849, 0.38131285497281509, 0.12710428499093834, 0.12710428499093834, 0.12710428499093834, 0.12710428499093834, 0.12710428499093834, 0.93487033300549338, 0.71269681070733326, 0.35634840535366663, 0.48951143731132984, 0.46910873777092149, 0.91728450933753625, 0.69829511613173767, 0.23427709905744915, 0.11713854952872457, 0.46855419811489829, 0.11713854952872457, 0.24034383783846536, 0.24034383783846536, 0.24034383783846536, 0.24034383783846536, 0.70300643435508492, 0.91848866987557376, 0.91848866985394939, 0.92803849217792889, 0.72677412676900743, 0.46910873777401907, 0.35369553239866819, 0.35369553239866819, 0.47259899174919406, 0.23255689224893228, 0.46511378449786456, 0.23255689224893228, 0.18044868568137679, 0.72179474272550714, 0.28623320872653357, 0.28623320872653357, 0.28623320872653357, 0.15383075971353127, 0.30766151942706255, 0.15383075971353127, 0.15383075971353127, 0.15383075971353127, 0.15383075971353127, 0.68935813652228051, 0.19695946757779442, 0.098479733788897211, 0.46594572155103831, 0.15531524051701276, 0.15531524051701276, 0.15531524051701276, 0.70936630801848088, 0.28228997765561747, 0.56457995531123495, 0.58221453291063019, 0.29110726645531509, 0.72677412674179254, 0.46910873777366813, 0.41339406490948777, 0.082678812981897554, 0.082678812981897554, 0.24803643894569266, 0.082678812981897554, 0.082678812981897554, 0.92803849210865719, 0.91728450932098937, 0.55734939304454512, 0.27867469652227256, 0.28229109925697704, 0.56458219851395408, 0.92803849209545053, 0.48951193884961075, 0.92803849210652378, 0.47374136685479479, 0.17677840689145771, 0.17677840689145771, 0.53033522067437311, 0.46910873777710216, 0.70215605590958274, 0.62822188956748881, 0.25128875582699556, 0.2014061687394883, 0.4028123374789766, 0.4028123374789766, 0.12620049911218642, 0.25240099822437284, 0.12620049911218642, 0.12620049911218642, 0.25240099822437284, 0.12620049911218642, 0.70936630803173306, 0.91728450929289773, 0.93487033300256006, 0.4725993851410521, 0.91848866991416256, 0.68687987223825353, 0.92803849209463607, 0.46910873777286605, 0.72677412675769903, 0.47252742245390805, 0.13848881038951225, 0.41546643116853677, 0.27697762077902449, 0.13848881038951225, 0.93487033304732925, 0.91848866984639743, 0.84403183056481368, 0.46537145577251687, 0.46537145577251687, 0.21461662248340568, 0.10730831124170284, 0.21461662248340568, 0.32192493372510855, 0.10730831124170284, 0.4737413668474848, 0.3497654744446233, 0.17488273722231165, 0.17488273722231165, 0.17488273722231165, 0.93487033299983602, 0.91848866993696143, 0.57493150295921436, 0.28746575147960718, 0.48041008081794745, 0.35656006875480889, 0.35656006875480889, 0.47259938510724975, 0.93487033300759714, 0.48951193885753208, 0.91848866989919609, 0.35496108339914323, 0.35496108339914323, 0.71669418550014119, 0.18241841822740837, 0.12161227881827223, 0.24322455763654446, 0.060806139409136116, 0.12161227881827223, 0.18241841822740837, 0.060806139409136116, 0.48041008082486131, 0.082346024530048231, 0.16469204906009646, 0.32938409812019293, 0.32938409812019293, 0.17409131862848307, 0.17409131862848307, 0.17409131862848307, 0.17409131862848307, 0.34818263725696613, 0.70243052892622115, 0.35121526446311058, 0.70192304521996118, 0.92803872875451632, 0.46818767901998781, 0.91728450926603411, 0.46818920247735674, 0.55361361860110425, 0.27680680930055213, 0.56109417322352728, 0.28054708661176364, 0.36009074310730782, 0.36009074310730782, 0.024177091405619199, 0.096708365622476797, 0.096708365622476797, 0.15715109413652478, 0.26594800546181119, 0.072531274216857594, 0.13297400273090559, 0.12088545702809599, 0.024177091405619199, 0.20349601817136209, 0.61048805451408628, 0.20349601817136209, 0.18474157067877101, 0.18474157067877101, 0.18474157067877101, 0.46185392669692754, 0.70924703579070403, 0.7087193993696761, 0.35435969968483805, 0.71129652973709445, 0.48951193873394494, 0.92803849207390154, 0.69829511613091655, 0.56958877698946453, 0.28479438849473226, 0.69490193822471957, 0.70416469855513042, 0.35208234927756521, 0.69218902888857192, 0.70796646112225392, 0.92803849214599721, 0.92803849211299005, 0.11585386837788555, 0.11585386837788555, 0.46341547351154222, 0.11585386837788555, 0.11585386837788555, 0.9184886700379743, 0.69768853481935011, 0.34884426740967506, 0.20205107148141829, 0.80820428592567317, 0.17287861533416082, 0.096043675185644911, 0.096043675185644911, 0.3073397605940637, 0.076834940148515926, 0.11525241022277388, 0.096043675185644911, 0.038417470074257963, 0.061271604385914204, 0.42890123070139941, 0.061271604385914204, 0.12254320877182841, 0.12254320877182841, 0.061271604385914204, 0.061271604385914204, 0.68687984446953054, 0.92803849210226896, 0.46818920249105705, 0.70924703578756043, 0.28230909417570438, 0.28230909417570438, 0.14115454708785219, 0.14115454708785219, 0.14115454708785219, 0.14115454708785219, 0.71669418549783803, 0.91848866987956279, 0.91728450928857319, 0.91848866981377897, 0.70192304522342264, 0.46818920248744206, 0.91848866988855193, 0.47259938513501476, 0.11715149261793018, 0.23430298523586035, 0.23430298523586035, 0.23430298523586035, 0.35145447785379053, 0.73807230173872962, 0.36308406303769342, 0.36308406303769342, 0.1719807517049847, 0.42995187926246176, 0.25797112755747703, 0.085990375852492348, 0.085990375852492348, 0.21668407974618015, 0.10834203987309007, 0.21668407974618015, 0.32502611961927025, 0.10834203987309007, 0.19461183855171474, 0.38922367710342948, 0.097305919275857369, 0.15568947084137177, 0.038922367710342944, 0.038922367710342944, 0.097305919275857369, 0.48041008080963632, 0.48951113287809001, 0.40226317467058192, 0.20113158733529096, 0.20113158733529096, 0.21188481753436961, 0.42376963506873921, 0.21188481753436961, 0.1059424087671848, 0.1059424087671848, 0.12847753741646381, 0.12847753741646381, 0.12847753741646381, 0.25695507483292762, 0.25695507483292762, 0.35079504690728125, 0.7015900938145625, 0.35990567586134337, 0.35990567586134337, 0.48040983712295832, 0.40281072602857237, 0.20140536301428619, 0.20140536301428619, 0.20140536301428619, 0.62389543206736231, 0.15597385801684058, 0.15597385801684058, 0.36280788314576579, 0.36280788314576579, 0.70215605590849439, 0.91848924707783486, 0.7267741267657547, 0.46910873777685991, 0.726774126759554, 0.46910873777470569, 0.91848866989578859, 0.28541342768615818, 0.57082685537231637, 0.93487033302212419, 0.13047980933679673, 0.13047980933679673, 0.13047980933679673, 0.13047980933679673, 0.39143942801039017, 0.46910873777489159, 0.38662106924811007, 0.12887368974937002, 0.12887368974937002, 0.12887368974937002, 0.12887368974937002, 0.46910873777127488, 0.13941540685872009, 0.13941540685872009, 0.20912311028808014, 0.34853851714680023, 0.13941540685872009, 0.92803804704009996, 0.35655995367186877, 0.35655995367186877, 0.47259938512305211, 0.86853813724397966, 0.56980965394924499, 0.28490482697462249, 0.71669418550243325, 0.70924703578951109, 0.43394062462307509, 0.21697031231153754, 0.21697031231153754, 0.7092470357883297, 0.46910873777081397, 0.52480787466617751, 0.17493595822205918, 0.17493595822205918, 0.47374136685341678, 0.68587028054595045, 0.51774422028278178, 0.17258140676092726, 0.17258140676092726, 0.48920313019581163, 0.081533855032635272, 0.32613542013054109, 0.081533855032635272, 0.081533855032635272, 0.91848866989045286, 0.20079808393705503, 0.20079808393705503, 0.60239425181116513, 0.72677412676238951, 0.55841468448836384, 0.27920734224418192, 0.71273431498147255, 0.2375781049938242, 0.72182484119474422, 0.24060828039824808, 0.82293485907769237, 0.69218902888570077, 0.91728450928367367, 0.70472895238605082, 0.55024545520024293, 0.27512272760012146, 0.47259959751930114, 0.68817301636655182, 0.22939100545551727, 0.4681892024792898, 0.72677412676437492, 0.60702294425363135, 0.20234098141787712, 0.48040976664013874, 0.69829511613120243, 0.69352699359256709, 0.34676349679628354, 0.9184886699217869, 0.82283259027798328, 0.72677412674875164, 0.71669418549961172, 0.4804100808106237, 0.2386610859170821, 0.4773221718341642, 0.2386610859170821, 0.69218902888963196, 0.91848866987087663, 0.4561567572278018, 0.4561567572278018, 0.70192304522625337, 0.91728450925122695, 0.40464835734144083, 0.0578069081916344, 0.52026217372470962, 0.0578069081916344, 0.28987420013427823, 0.28987420013427823, 0.23298531710872913, 0.23298531710872913, 0.46597063421745827, 0.47259938513583499, 0.73807305077490004, 0.91848866991483413, 0.91728450925412364, 0.7087194440258926, 0.3543597220129463, 0.3084925982285443, 0.6169851964570886, 0.51997388430320624, 0.17332462810106875, 0.17332462810106875, 0.70146013498197124, 0.17536503374549281, 0.17536503374549281, 0.69414129708868266, 0.34707064854434133, 0.47374115532788708, 0.27794290300902824, 0.41691435451354236, 0.27794290300902824, 0.35736076403798295, 0.30630922631827107, 0.20420615087884739, 0.10210307543942369, 0.051051537719711847, 0.48041008080806713, 0.23193540899804732, 0.34790311349707098, 0.11596770449902366, 0.11596770449902366, 0.11596770449902366, 0.11596770449902366, 0.48951193880544541, 0.46511349286024184, 0.31007566190682789, 0.15503783095341395, 0.91848866983093835, 0.91848866989565581, 0.47258708219821438, 0.48951193887272615, 0.23867880727437668, 0.7160364218231301, 0.12786546235021634, 0.51146184940086536, 0.12786546235021634, 0.12786546235021634, 0.72677412676481046, 0.19883104576649371, 0.39766209153298743, 0.19883104576649371, 0.19883104576649371, 0.17602639312892343, 0.35205278625784686, 0.52807917938677029, 0.70924703579054271, 0.35347701043621904, 0.53021551565432856, 0.5269737556138121, 0.04053644273952401, 0.12160932821857204, 0.060804664109286019, 0.060804664109286019, 0.18241399232785804, 0.32620047659015716, 0.032620047659015716, 0.065240095318031432, 0.032620047659015716, 0.13048019063606286, 0.065240095318031432, 0.19572028595409433, 0.032620047659015716, 0.097860142977047163, 0.15725418251801668, 0.15725418251801668, 0.47176254755405, 0.15725418251801668, 0.15725418251801668, 0.34946582007548821, 0.34946582007548821, 0.1747329100377441, 0.46818920248433293, 0.35655987432511199, 0.35655987432511199, 0.46910873777163931, 0.68586984699670139, 0.47373942550088072, 0.92803849215176304, 0.4691087377706874, 0.39929811484494088, 0.59894717226741134, 0.92803849208758116, 0.84042260024667925, 0.067022911545930791, 0.33511455772965393, 0.33511455772965393, 0.26809164618372316, 0.20043519396407042, 0.20043519396407042, 0.10021759698203521, 0.10021759698203521, 0.10021759698203521, 0.20043519396407042, 0.10021759698203521, 0.40080222350351469, 0.40080222350351469, 0.20040111175175734, 0.93487033300156264, 0.47259812505057641, 0.7034735461109457, 0.70936466264324127, 0.23421838838320255, 0.46843677676640511, 0.23421838838320255, 0.71669418550231345, 0.93486983333244444, 0.51818218393003124, 0.17272739464334375, 0.17272739464334375, 0.17272739464334375, 0.46910873778073031, 0.47259938513623956, 0.23736608638923073, 0.47473217277846147, 0.23736608638923073, 0.21508620378882279, 0.10754310189441139, 0.10754310189441139, 0.10754310189441139, 0.43017240757764558, 0.10754310189441139, 0.13963021037805456, 0.13963021037805456, 0.27926042075610913, 0.069815105189027282, 0.069815105189027282, 0.069815105189027282, 0.13963021037805456, 0.069815105189027282, 0.86942459020525953, 0.92803849210325728, 0.92503692005379645, 0.47374132677826514, 0.18913833055906168, 0.22696599667087403, 0.15131066444724933, 0.075655332223624666, 0.22696599667087403, 0.075655332223624666, 0.037827666111812333, 0.93487033301502742, 0.4681892024954884, 0.20158996355590827, 0.8063598542236331, 0.46910873778205314, 0.92803849214325485, 0.17460333521498853, 0.5238100056449656, 0.34920667042997705, 0.93487033300972311, 0.043957878008725013, 0.17583151203490005, 0.087915756017450025, 0.13187363402617505, 0.2637472680523501, 0.087915756017450025, 0.087915756017450025, 0.043957878008725013, 0.087915756017450025, 0.7092470357892936, 0.72677412675886799, 0.46818920247963819, 0.72677412675491615, 0.46910873778725803, 0.46820042648566984, 0.47374136685314538, 0.92803849209318723, 0.26206158232646137, 0.087353860775487124, 0.3494154431019485, 0.087353860775487124, 0.26206158232646137, 0.71129652974801505, 0.15651050658034307, 0.078255253290171536, 0.31302101316068615, 0.15651050658034307, 0.15651050658034307, 0.078255253290171536, 0.078255253290171536, 0.078255253290171536, 0.11647174978126498, 0.11647174978126498, 0.23294349956252997, 0.46588699912505993, 0.11647174978126498, 0.23540304617803295, 0.11770152308901648, 0.11770152308901648, 0.11770152308901648, 0.11770152308901648, 0.35310456926704942, 0.11770152308901648, 0.42383402132151388, 0.090821575997467263, 0.15136929332911209, 0.090821575997467263, 0.060547717331644837, 0.030273858665822419, 0.15136929332911209, 0.030273858665822419, 0.69170789308749858, 0.17292697327187465, 0.17292697327187465, 0.68587072314000674, 0.70215605590931429, 0.48951193882644412, 0.23544855866537626, 0.70634567599612874, 0.46818908205347592, 0.91728450931488326, 0.91848866990140254, 0.72798105848729622, 0.24266035282909876, 0.10395545133836233, 0.623732708030174, 0.1559331770075435, 0.051977725669181164, 0.70192311507872895, 0.68589099809318155, 0.20317103282674426, 0.60951309848023283, 0.20317103282674426, 0.70065133518585854, 0.12843830947759549, 0.12843830947759549, 0.77062985686557295, 0.47259938513408301, 0.54996371305918856, 0.13749092826479714, 0.27498185652959428, 0.13749092826479714, 0.14260996523844643, 0.28521993047689287, 0.14260996523844643, 0.42782989571533925, 0.69218902888889711, 0.48041008082989323, 0.70300643435424215, 0.48041105127163314, 0.20031820370151282, 0.60095461110453841, 0.20031820370151282, 0.18631402078815379, 0.37262804157630758, 0.093157010394076895, 0.27947103118223071, 0.093157010394076895, 0.93526177117727316, 0.051958987287626282, 0.35148360856789407, 0.35148360856789407, 0.47373128797622777, 0.59662733557825998, 0.27536646257458153, 0.045894410429096921, 0.091788820858193843, 0.92803849206321198, 0.47374136685353929, 0.48041008079189923, 0.31457411948070307, 0.31457411948070307, 0.15728705974035154, 0.15728705974035154, 0.15728705974035154, 0.70347353872847296, 0.47259938513870148, 0.47115850290325767, 0.23557925145162883, 0.38129172697049712, 0.063548621161749516, 0.063548621161749516, 0.44484034813224665, 0.15616811693250385, 0.15616811693250385, 0.15616811693250385, 0.46850435079751152, 0.15616811693250385, 0.46818897958749156, 0.91728450926101635, 0.46910873777407741, 0.20307533707502526, 0.40615067415005052, 0.20307533707502526, 0.20307533707502526, 0.17433494020653595, 0.17433494020653595, 0.52300482061960785, 0.17433494020653595, 0.12764014982468089, 0.25528029964936177, 0.12764014982468089, 0.12764014982468089, 0.38292044947404269, 0.12764014982468089, 0.28871600804631098, 0.28871600804631098, 0.28871600804631098, 0.46375611309847947, 0.15458537103282649, 0.15458537103282649, 0.15458537103282649, 0.4804100808295006, 0.46910873777529077, 0.46818920248022605, 0.35287285392322426, 0.35287285392322426, 0.28353367957741166, 0.56706735915482331, 0.20124996296484801, 0.20124996296484801, 0.40249992592969602, 0.20124996296484801, 0.70215605591143082, 0.9172848111403652, 0.47259938513470173, 0.47374136686286789, 0.69218902888323885, 0.23290475658173243, 0.46580951316346486, 0.23290475658173243, 0.91728450933094596, 0.48041008081846842, 0.91848866984562605, 0.1299373164477084, 0.77962389868625037, 0.1299373164477084, 0.12752437023820254, 0.12752437023820254, 0.25504874047640508, 0.25504874047640508, 0.12752437023820254, 0.12752437023820254, 0.1390725909205609, 0.4172177727616827, 0.4172177727616827, 0.60374926420535646, 0.20124975473511883, 0.20124975473511883, 0.93487033301659495, 0.14585549250244975, 0.14585549250244975, 0.19447399000326632, 0.34032948250571604, 0.14585549250244975, 0.69218902888686007, 0.48041008083683578, 0.46818920249636614, 0.47259938513087313, 0.46910873777296641, 0.048957988276209487, 0.17135295896673319, 0.12239497069052371, 0.097915976552418973, 0.097915976552418973, 0.24478994138104743, 0.12239497069052371, 0.097915976552418973, 0.17630627384989359, 0.17630627384989359, 0.088153136924946793, 0.088153136924946793, 0.44076568462473398, 0.088153136924946793, 0.46776745055811053, 0.48041008082825182, 0.70346912523121108, 0.40966788931969655, 0.20483394465984828, 0.40966788931969655, 0.23236541851433692, 0.23236541851433692, 0.46473083702867385, 0.70215605590939933, 0.19966194395654988, 0.7986477758261995, 0.92803849211905864, 0.48041008080662218, 0.28646417149452796, 0.57292834298905593, 0.48951116908178066, 0.91848866989212552, 0.070238234229647117, 0.63214410806682397, 0.14047646845929423, 0.070238234229647117, 0.070238234229647117, 0.7092470357897791, 0.93487062541531674, 0.1282839231995313, 0.1282839231995313, 0.2565678463990626, 0.2565678463990626, 0.1282839231995313, 0.1282839231995313, 0.074766230092629171, 0.37383115046314586, 0.14953246018525834, 0.22429869027788751, 0.14953246018525834, 0.68587074733897502, 0.15469092901003267, 0.46407278703009802, 0.15469092901003267, 0.15469092901003267, 0.5529572781745109, 0.27647863908725545, 0.69352713703259528, 0.34676356851629764, 0.12632213358874464, 0.25264426717748928, 0.12632213358874464, 0.25264426717748928, 0.12632213358874464, 0.12632213358874464, 0.83307188648037023, 0.84403183056261122, 0.57493116840288783, 0.28746558420144391, 0.84403151945335853, 0.14014820208850146, 0.70074101044250725, 0.14014820208850146, 0.46910873778276108, 0.91848903840220852, 0.91728450947210816, 0.68705350172124868, 0.22901783390708291, 0.47259938513960598, 0.093370204818067681, 0.37348081927227073, 0.093370204818067681, 0.37348081927227073, 0.29297822739464913, 0.58595645478929825, 0.72677412675085129, 0.56668538550119374, 0.28334269275059687, 0.55887370539619874, 0.27943685269809937, 0.35385610033501219, 0.35385610033501219, 0.54991318364625619, 0.27495659182312809, 0.13747829591156405, 0.93487981691548061, 0.2391517459578896, 0.2391517459578896, 0.2391517459578896, 0.2391517459578896, 0.48041008081692271, 0.48951193878689009, 0.92803862243543511, 0.47259938514026201, 0.56294036766386613, 0.28147018383193306, 0.91848866985882871, 0.46910873777299283, 0.27894225349969171, 0.55788450699938341, 0.1394858694763059, 0.83691521685783543, 0.088204895825176211, 0.17640979165035242, 0.088204895825176211, 0.088204895825176211, 0.088204895825176211, 0.088204895825176211, 0.26461468747552863, 0.088204895825176211, 0.088204895825176211, 0.4895119388663956, 0.46910872719087243, 0.27854070329421193, 0.55708140658842387, 0.70215605591121832, 0.074480842053322865, 0.074480842053322865, 0.074480842053322865, 0.074480842053322865, 0.074480842053322865, 0.44688505231993719, 0.074480842053322865, 0.47259938512729693, 0.2838408681147378, 0.5676817362294756, 0.4691087377722622, 0.48951193883222366, 0.91728450926362171, 0.48951193884809224, 0.48951193875501886, 0.23425111544391342, 0.35137667316587012, 0.11712555772195671, 0.23425111544391342, 0.11712555772195671, 0.46744321833639801, 0.36009112932682691, 0.36009112932682691, 0.46910873777540535, 0.91728597679083512, 0.46818920250329826, 0.35148362270740863, 0.35148362270740863, 0.46818867648430307, 0.15613815263338987, 0.15613815263338987, 0.15613815263338987, 0.46841445790016967, 0.15613815263338987, 0.15113038316599894, 0.1133477873744992, 0.34004336212349762, 0.1133477873744992, 0.075565191582999472, 0.18891297895749867, 0.26693023670348331, 0.053386047340696664, 0.66732559175870831, 0.10369636825855161, 0.20739273651710322, 0.67402639368058537, 0.051848184129275804, 0.68875659041906689, 0.098393798631295271, 0.049196899315647635, 0.098393798631295271, 0.19818578719206076, 0.19818578719206076, 0.19818578719206076, 0.39637157438412152, 0.84042155745370373, 0.04209826647102221, 0.084196532942044419, 0.04209826647102221, 0.25258959882613324, 0.25258959882613324, 0.04209826647102221, 0.29468786529715546, 0.84042155745149083, 0.22976372317882593, 0.22976372317882593, 0.45952744635765186, 0.039958944979759096, 0.5993841746963865, 0.066598241632931834, 0.17315542824562277, 0.079917889959518193, 0.039958944979759096, 0.91848866984093536, 0.26474361668458862, 0.26474361668458862, 0.066185904171147156, 0.19855771251344148, 0.066185904171147156, 0.066185904171147156, 0.066185904171147156, 0.48041008082848496, 0.12774943707260358, 0.51099774829041433, 0.25549887414520717, 0.12774943707260358, 0.70192304521554172, 0.70924703578775938, 0.69559529119835195, 0.23186509706611733, 0.25925179694508421, 0.098762589312413038, 0.11110791297646466, 0.13579856030456794, 0.049381294656206519, 0.1234532366405163, 0.06172661832025815, 0.049381294656206519, 0.086417265648361413, 0.024690647328103259, 0.56909326939911109, 0.081299038485587297, 0.10839871798078307, 0.081299038485587297, 0.10839871798078307, 0.027099679495195768, 0.11471419281969296, 0.11471419281969296, 0.057357096409846479, 0.68828515691815773, 0.12779630276326723, 0.12779630276326723, 0.38338890828980171, 0.25559260552653446, 0.12779630276326723, 0.12993051540427314, 0.12993051540427314, 0.12993051540427314, 0.51972206161709256, 0.12993051540427314, 0.2812881323730469, 0.56257626474609379, 0.47259893984571416], \"Term\": [\"abbreviate\", \"accent\", \"accent\", \"accent\", \"accent\", \"acceptable\", \"acceptable\", \"acceptable\", \"acceptable\", \"acceptable\", \"acceptable\", \"accident\", \"account\", \"account\", \"accounts\", \"acting\", \"added\", \"additional\", \"adjective\", \"adjective\", \"adjective\", \"adjective\", \"adjectives\", \"adjectives\", \"adjectives\", \"adjectives\", \"admin\", \"admire\", \"adults\", \"adverbs\", \"agriculture\", \"albert\", \"almost\", \"almost\", \"already\", \"also\", \"also\", \"also\", \"alternative\", \"alternative\", \"alternatives\", \"alternatives\", \"alternatives\", \"always\", \"always\", \"always\", \"always\", \"always\", \"always\", \"american\", \"american\", \"american\", \"another\", \"another\", \"another\", \"another\", \"answer\", \"answering\", \"answering\", \"apostrophe\", \"apostrophe\", \"appearance\", \"apples\", \"appropriate\", \"appropriate\", \"appropriate\", \"appropriate\", \"appropriate\", \"appropriate\", \"arrived\", \"arse\", \"article\", \"article\", \"ask\", \"ask\", \"asking\", \"ate\", \"award\", \"backseat\", \"bad\", \"bad\", \"bad\", \"bananas\", \"basis\", \"become\", \"become\", \"beginning\", \"beginning\", \"beginning\", \"best\", \"best\", \"best\", \"best\", \"best\", \"best\", \"beyond\", \"bless\", \"blocked\", \"bob\", \"borrow\", \"bother\", \"bourbon\", \"box\", \"break\", \"bring\", \"british\", \"british\", \"british\", \"british\", \"built\", \"bus\", \"bye\", \"call\", \"call\", \"called\", \"called\", \"called\", \"called\", \"called\", \"capitalize\", \"capitalized\", \"capitalized\", \"capitalized\", \"capitalized\", \"care\", \"categories\", \"century\", \"century\", \"chainsaw\", \"changes\", \"changes\", \"check\", \"checked\", \"cheeseburger\", \"chinese\", \"choose\", \"choose\", \"clumsy\", \"come\", \"come\", \"come\", \"come\", \"come\", \"come\", \"come\", \"coming\", \"comma\", \"comma\", \"comma\", \"comma\", \"common\", \"common\", \"common\", \"common\", \"common\", \"company\", \"company\", \"complete\", \"confusion\", \"connect\", \"contains\", \"continuous\", \"contracted\", \"contracted\", \"contraction\", \"contraction\", \"contractions\", \"contractions\", \"correct\", \"correct\", \"correct\", \"correct\", \"correct\", \"correct\", \"correct\", \"correct\", \"correct\", \"correctly\", \"correctly\", \"correctly\", \"could\", \"could\", \"could\", \"could\", \"counts\", \"couple\", \"couple\", \"course\", \"currently\", \"darkly\", \"dashes\", \"deal\", \"deal\", \"definite\", \"definition\", \"definition\", \"demand\", \"denote\", \"deployed\", \"derivative\", \"describe\", \"describe\", \"describe\", \"describe\", \"describe\", \"despite\", \"dialect\", \"dialect\", \"differ\", \"differ\", \"difference\", \"difference\", \"difference\", \"difference\", \"difference\", \"difference\", \"difference\", \"difference\", \"different\", \"different\", \"different\", \"different\", \"different\", \"different\", \"different\", \"direct\", \"discuss\", \"discussed\", \"discussions\", \"double\", \"double\", \"double\", \"double\", \"double\", \"double\", \"drifting\", \"drinking\", \"drupal\", \"dv\", \"early\", \"easily\", \"eating\", \"educated\", \"email\", \"email\", \"email\", \"email\", \"email\", \"emails\", \"employee\", \"employee\", \"end\", \"end\", \"end\", \"end\", \"end\", \"ending\", \"ending\", \"ending\", \"ending\", \"ending\", \"english\", \"english\", \"english\", \"english\", \"english\", \"english\", \"english\", \"equipped\", \"especially\", \"etc\", \"etc\", \"etc\", \"etymology\", \"etymology\", \"etymology\", \"etymology\", \"etymology\", \"ever\", \"ever\", \"ever\", \"ever\", \"ever\", \"everyone\", \"everyone\", \"explain\", \"explain\", \"explanation\", \"express\", \"express\", \"express\", \"express\", \"expression\", \"expression\", \"expression\", \"fact\", \"fact\", \"factual\", \"far\", \"farmer\", \"favorite\", \"federal\", \"feedback\", \"fell\", \"file\", \"file\", \"fill\", \"first\", \"first\", \"first\", \"first\", \"first\", \"flexible\", \"following\", \"following\", \"following\", \"following\", \"following\", \"force\", \"form\", \"form\", \"form\", \"form\", \"form\", \"forward\", \"fragments\", \"fragments\", \"french\", \"friend\", \"friends\", \"friends\", \"geek\", \"german\", \"get\", \"get\", \"get\", \"getting\", \"gins\", \"go\", \"go\", \"go\", \"gobble\", \"god\", \"going\", \"going\", \"going\", \"good\", \"good\", \"good\", \"good\", \"good\", \"google\", \"got\", \"got\", \"got\", \"government\", \"grammar\", \"grammar\", \"grammatical\", \"grammatical\", \"grammatically\", \"grammatically\", \"great\", \"guard\", \"half\", \"hand\", \"hard\", \"hard\", \"hat\", \"help\", \"help\", \"high\", \"hold\", \"home\", \"home\", \"hopefully\", \"horse\", \"hour\", \"hour\", \"humanitarian\", \"hyphen\", \"id\", \"idea\", \"include\", \"incorrect\", \"incorrect\", \"incorrect\", \"increase\", \"indirect\", \"infinitive\", \"infinitive\", \"information\", \"initial\", \"instead\", \"instead\", \"instead\", \"instead\", \"interesting\", \"interesting\", \"internet\", \"internet\", \"internet\", \"italicize\", \"jive\", \"keen\", \"kids\", \"kind\", \"kind\", \"know\", \"know\", \"language\", \"language\", \"language\", \"last\", \"last\", \"last\", \"latin\", \"latin\", \"learn\", \"letter\", \"letter\", \"letter\", \"like\", \"like\", \"like\", \"like\", \"like\", \"limited\", \"list\", \"list\", \"list\", \"list\", \"list\", \"list\", \"log\", \"long\", \"long\", \"long\", \"longer\", \"longest\", \"lose\", \"made\", \"mail\", \"mail\", \"make\", \"make\", \"make\", \"make\", \"manual\", \"many\", \"many\", \"many\", \"many\", \"mark\", \"mark\", \"mark\", \"mass\", \"may\", \"may\", \"mean\", \"mean\", \"mean\", \"mean\", \"mean\", \"mean\", \"meaning\", \"meaning\", \"meaning\", \"meaning\", \"meaning\", \"meaning\", \"meaning\", \"meaning\", \"meaning\", \"meanings\", \"meanings\", \"meanings\", \"meanings\", \"meanings\", \"means\", \"means\", \"means\", \"merely\", \"metaphors\", \"metaphors\", \"michael\", \"middle\", \"mind\", \"missing\", \"mockingbird\", \"modern\", \"modern\", \"months\", \"na\", \"name\", \"name\", \"name\", \"name\", \"names\", \"names\", \"names\", \"names\", \"names\", \"names\", \"names\", \"native\", \"native\", \"native\", \"nay\", \"necessary\", \"needs\", \"negation\", \"neither\", \"neither\", \"neither\", \"nerd\", \"neutral\", \"new\", \"new\", \"new\", \"new\", \"news\", \"night\", \"non\", \"non\", \"non\", \"noun\", \"noun\", \"noun\", \"noun\", \"noun\", \"noun\", \"nouns\", \"nouns\", \"nouns\", \"nouns\", \"nouns\", \"nouns\", \"nouns\", \"nouns\", \"object\", \"offer\", \"often\", \"okay\", \"one\", \"one\", \"one\", \"one\", \"one\", \"one\", \"one\", \"open\", \"opinion\", \"opposite\", \"opposite\", \"orange\", \"orbit\", \"order\", \"order\", \"order\", \"ordered\", \"origin\", \"origin\", \"origin\", \"origin\", \"origin\", \"origin\", \"origin\", \"origin\", \"origin\", \"orthographies\", \"ottoman\", \"overflow\", \"owns\", \"page\", \"pairs\", \"participle\", \"password\", \"past\", \"past\", \"past\", \"past\", \"past\", \"pay\", \"people\", \"people\", \"people\", \"people\", \"people\", \"people\", \"people\", \"people\", \"period\", \"period\", \"period\", \"period\", \"period\", \"person\", \"person\", \"person\", \"person\", \"person\", \"person\", \"person\", \"phrase\", \"phrase\", \"phrase\", \"phrase\", \"phrase\", \"phrase\", \"phrase\", \"phrase\", \"phrases\", \"phrases\", \"phrases\", \"pig\", \"pirate\", \"pissed\", \"place\", \"place\", \"placed\", \"planet\", \"playing\", \"please\", \"please\", \"plural\", \"plural\", \"plural\", \"plural\", \"pluralization\", \"pluralized\", \"position\", \"position\", \"position\", \"possession\", \"possessive\", \"possessive\", \"possessive\", \"prefer\", \"preposition\", \"preposition\", \"preposition\", \"preposition\", \"present\", \"present\", \"present\", \"present\", \"price\", \"print\", \"professionals\", \"progressive\", \"pronoun\", \"pronoun\", \"pronoun\", \"pronounce\", \"pronounce\", \"pronounce\", \"pronounce\", \"pronounce\", \"pronunciation\", \"pronunciation\", \"pronunciations\", \"pronunciations\", \"proof\", \"proper\", \"proper\", \"proper\", \"proper\", \"prose\", \"province\", \"punctuated\", \"punctuation\", \"punctuation\", \"punctuation\", \"punctuation\", \"punctuation\", \"purpose\", \"purposes\", \"put\", \"put\", \"question\", \"question\", \"question\", \"question\", \"questions\", \"questions\", \"questions\", \"questions\", \"questions\", \"quite\", \"rag\", \"rates\", \"read\", \"read\", \"read\", \"read\", \"real\", \"real\", \"real\", \"real\", \"really\", \"really\", \"really\", \"really\", \"really\", \"really\", \"redundant\", \"redundant\", \"redundant\", \"referring\", \"referring\", \"referring\", \"referring\", \"reflected\", \"refrigerator\", \"refurbished\", \"regarding\", \"regarding\", \"regards\", \"regards\", \"related\", \"related\", \"related\", \"related\", \"remained\", \"repeating\", \"requests\", \"reserved\", \"resources\", \"response\", \"response\", \"response\", \"retarded\", \"retrieves\", \"rich\", \"right\", \"right\", \"right\", \"rule\", \"rule\", \"rule\", \"rule\", \"rule\", \"rule\", \"rules\", \"rules\", \"rules\", \"said\", \"said\", \"said\", \"santa\", \"say\", \"say\", \"say\", \"say\", \"say\", \"scarce\", \"schema\", \"scratch\", \"sea\", \"seconds\", \"sentence\", \"sentence\", \"sentence\", \"sentence\", \"sentence\", \"sentence\", \"sentence\", \"sentence\", \"sentences\", \"sentences\", \"sentences\", \"sentences\", \"sentences\", \"sentences\", \"separate\", \"server\", \"set\", \"shall\", \"shall\", \"shall\", \"share\", \"share\", \"share\", \"shiver\", \"short\", \"short\", \"sighted\", \"similes\", \"simple\", \"simple\", \"simpler\", \"simplified\", \"singular\", \"singular\", \"singular\", \"singular\", \"singular\", \"slogan\", \"software\", \"someone\", \"someone\", \"someone\", \"someone\", \"someone\", \"someone\", \"something\", \"something\", \"something\", \"something\", \"something\", \"sometimes\", \"sound\", \"sound\", \"sound\", \"sound\", \"sounds\", \"sounds\", \"spaghetti\", \"spaghetti\", \"speak\", \"speak\", \"speak\", \"speak\", \"speak\", \"speak\", \"speaker\", \"speakers\", \"speaking\", \"speaking\", \"special\", \"spelling\", \"spelling\", \"spelling\", \"splice\", \"split\", \"sqa\", \"standard\", \"standard\", \"standing\", \"start\", \"start\", \"start\", \"start\", \"started\", \"started\", \"step\", \"still\", \"still\", \"stories\", \"stories\", \"structure\", \"structure\", \"subject\", \"subject\", \"subject\", \"subjects\", \"suffix\", \"suffix\", \"suffix\", \"suffix\", \"suggest\", \"sure\", \"syllable\", \"talk\", \"talking\", \"talking\", \"tasks\", \"tater\", \"tax\", \"tax\", \"tense\", \"tense\", \"term\", \"term\", \"term\", \"term\", \"term\", \"term\", \"term\", \"term\", \"term\", \"testing\", \"thank\", \"thanks\", \"thanks\", \"timbers\", \"time\", \"time\", \"time\", \"time\", \"time\", \"time\", \"time\", \"times\", \"title\", \"title\", \"tonics\", \"topics\", \"toy\", \"turkey\", \"turn\", \"two\", \"two\", \"two\", \"two\", \"two\", \"type\", \"types\", \"types\", \"uk\", \"understanding\", \"uniform\", \"uppercase\", \"uppercase\", \"url\", \"us\", \"us\", \"us\", \"us\", \"us\", \"usage\", \"usage\", \"usage\", \"usage\", \"usage\", \"usage\", \"used\", \"used\", \"used\", \"using\", \"using\", \"using\", \"using\", \"verb\", \"verb\", \"verb\", \"verb\", \"verbs\", \"verbs\", \"verbs\", \"verbs\", \"versa\", \"versus\", \"versus\", \"versus\", \"versus\", \"versus\", \"versus\", \"versus\", \"vice\", \"vowel\", \"vowel\", \"vowel\", \"vs\", \"vs\", \"vs\", \"vs\", \"vs\", \"vs\", \"want\", \"way\", \"way\", \"way\", \"way\", \"way\", \"way\", \"way\", \"weekend\", \"well\", \"well\", \"well\", \"well\", \"went\", \"winning\", \"without\", \"without\", \"word\", \"word\", \"word\", \"word\", \"word\", \"word\", \"word\", \"word\", \"word\", \"word\", \"words\", \"words\", \"words\", \"words\", \"words\", \"words\", \"would\", \"would\", \"would\", \"would\", \"write\", \"write\", \"write\", \"write\", \"write\", \"written\", \"written\", \"written\", \"written\", \"written\", \"yet\", \"yet\", \"zero\"]}, \"mdsDat\": {\"y\": [-0.070385097746053255, 0.12836559465451294, -0.10882734933484696, 0.016658100801917732, -0.03722813577107878, -0.048959255486295157, 0.076137457748695361, 0.081403244662988233, 0.015008683269188935, -0.052173242799028574], \"cluster\": [1, 1, 1, 1, 1, 1, 1, 1, 1, 1], \"Freq\": [13.018795597855453, 11.894669755872785, 11.223127043018275, 10.601556363852028, 10.492520354962867, 10.215201621707642, 9.1591376414956507, 8.712736716406182, 7.6950882545831876, 6.9871666502459364], \"topics\": [1, 2, 3, 4, 5, 6, 7, 8, 9, 10], \"x\": [0.16758595406731627, -0.0099151567923821057, -0.12116515156596469, 0.016917307088873769, -0.10181894200512946, 0.061931095115934406, 0.033180581964675292, -0.022355233209057183, -0.046671233692177592, 0.022310779027911481]}, \"R\": 30, \"lambda.step\": 0.01, \"tinfo\": {\"Category\": [\"Default\", \"Default\", \"Default\", \"Default\", \"Default\", \"Default\", \"Default\", \"Default\", \"Default\", \"Default\", \"Default\", \"Default\", \"Default\", \"Default\", \"Default\", \"Default\", \"Default\", \"Default\", \"Default\", \"Default\", \"Default\", \"Default\", \"Default\", \"Default\", \"Default\", \"Default\", \"Default\", \"Default\", \"Default\", \"Default\", \"Topic1\", \"Topic1\", \"Topic1\", \"Topic1\", \"Topic1\", \"Topic1\", \"Topic1\", \"Topic1\", \"Topic1\", \"Topic1\", \"Topic1\", \"Topic1\", \"Topic1\", \"Topic1\", \"Topic1\", \"Topic1\", \"Topic1\", \"Topic1\", \"Topic1\", \"Topic1\", \"Topic1\", \"Topic1\", \"Topic1\", \"Topic1\", \"Topic1\", \"Topic1\", \"Topic1\", \"Topic1\", \"Topic1\", \"Topic1\", \"Topic1\", \"Topic1\", \"Topic1\", \"Topic1\", \"Topic1\", \"Topic1\", \"Topic1\", \"Topic1\", \"Topic1\", \"Topic1\", \"Topic1\", \"Topic1\", \"Topic1\", \"Topic1\", \"Topic1\", \"Topic1\", \"Topic1\", \"Topic1\", \"Topic1\", \"Topic1\", \"Topic1\", \"Topic1\", \"Topic1\", \"Topic1\", \"Topic1\", \"Topic1\", \"Topic1\", \"Topic1\", \"Topic1\", \"Topic1\", \"Topic1\", \"Topic2\", \"Topic2\", \"Topic2\", \"Topic2\", \"Topic2\", \"Topic2\", \"Topic2\", \"Topic2\", \"Topic2\", \"Topic2\", \"Topic2\", \"Topic2\", \"Topic2\", \"Topic2\", \"Topic2\", \"Topic2\", \"Topic2\", \"Topic2\", \"Topic2\", \"Topic2\", \"Topic2\", \"Topic2\", \"Topic2\", \"Topic2\", \"Topic2\", \"Topic2\", \"Topic2\", \"Topic2\", \"Topic2\", \"Topic2\", \"Topic2\", \"Topic2\", \"Topic2\", \"Topic2\", \"Topic2\", \"Topic2\", \"Topic2\", \"Topic2\", \"Topic2\", \"Topic2\", \"Topic2\", \"Topic2\", \"Topic2\", \"Topic2\", \"Topic2\", \"Topic2\", \"Topic2\", \"Topic2\", \"Topic2\", \"Topic2\", \"Topic2\", \"Topic2\", \"Topic2\", \"Topic2\", \"Topic2\", \"Topic2\", \"Topic2\", \"Topic2\", \"Topic2\", \"Topic2\", \"Topic2\", \"Topic2\", \"Topic3\", \"Topic3\", \"Topic3\", \"Topic3\", \"Topic3\", \"Topic3\", \"Topic3\", \"Topic3\", \"Topic3\", \"Topic3\", \"Topic3\", \"Topic3\", \"Topic3\", \"Topic3\", \"Topic3\", \"Topic3\", \"Topic3\", \"Topic3\", \"Topic3\", \"Topic3\", \"Topic3\", \"Topic3\", \"Topic3\", \"Topic3\", \"Topic3\", \"Topic3\", \"Topic3\", \"Topic3\", \"Topic3\", \"Topic3\", \"Topic3\", \"Topic3\", \"Topic3\", \"Topic3\", \"Topic3\", \"Topic3\", \"Topic3\", \"Topic3\", \"Topic3\", \"Topic3\", \"Topic3\", \"Topic3\", \"Topic3\", \"Topic3\", \"Topic3\", \"Topic3\", \"Topic3\", \"Topic3\", \"Topic3\", \"Topic3\", \"Topic3\", \"Topic3\", \"Topic3\", \"Topic3\", \"Topic3\", \"Topic3\", \"Topic3\", \"Topic3\", \"Topic3\", \"Topic4\", \"Topic4\", \"Topic4\", \"Topic4\", \"Topic4\", \"Topic4\", \"Topic4\", \"Topic4\", \"Topic4\", \"Topic4\", \"Topic4\", \"Topic4\", \"Topic4\", \"Topic4\", \"Topic4\", \"Topic4\", \"Topic4\", \"Topic4\", \"Topic4\", \"Topic4\", \"Topic4\", \"Topic4\", \"Topic4\", \"Topic4\", \"Topic4\", \"Topic4\", \"Topic4\", \"Topic4\", \"Topic4\", \"Topic4\", \"Topic4\", \"Topic4\", \"Topic4\", \"Topic4\", \"Topic4\", \"Topic4\", \"Topic4\", \"Topic4\", \"Topic4\", \"Topic4\", \"Topic4\", \"Topic4\", \"Topic4\", \"Topic4\", \"Topic4\", \"Topic4\", \"Topic4\", \"Topic4\", \"Topic4\", \"Topic4\", \"Topic4\", \"Topic4\", \"Topic4\", \"Topic4\", \"Topic4\", \"Topic5\", \"Topic5\", \"Topic5\", \"Topic5\", \"Topic5\", \"Topic5\", \"Topic5\", \"Topic5\", \"Topic5\", \"Topic5\", \"Topic5\", \"Topic5\", \"Topic5\", \"Topic5\", \"Topic5\", \"Topic5\", \"Topic5\", \"Topic5\", \"Topic5\", \"Topic5\", \"Topic5\", \"Topic5\", \"Topic5\", \"Topic5\", \"Topic5\", \"Topic5\", \"Topic5\", \"Topic5\", \"Topic5\", \"Topic5\", \"Topic5\", \"Topic5\", \"Topic5\", \"Topic5\", \"Topic5\", \"Topic5\", \"Topic5\", \"Topic5\", \"Topic5\", \"Topic5\", \"Topic5\", \"Topic5\", \"Topic5\", \"Topic5\", \"Topic5\", \"Topic5\", \"Topic5\", \"Topic5\", \"Topic5\", \"Topic5\", \"Topic5\", \"Topic5\", \"Topic5\", \"Topic5\", \"Topic5\", \"Topic5\", \"Topic5\", \"Topic5\", \"Topic5\", \"Topic5\", \"Topic5\", \"Topic5\", \"Topic6\", \"Topic6\", \"Topic6\", \"Topic6\", \"Topic6\", \"Topic6\", \"Topic6\", \"Topic6\", \"Topic6\", \"Topic6\", \"Topic6\", \"Topic6\", \"Topic6\", \"Topic6\", \"Topic6\", \"Topic6\", \"Topic6\", \"Topic6\", \"Topic6\", \"Topic6\", \"Topic6\", \"Topic6\", \"Topic6\", \"Topic6\", \"Topic6\", \"Topic6\", \"Topic6\", \"Topic6\", \"Topic6\", \"Topic6\", \"Topic6\", \"Topic6\", \"Topic6\", \"Topic6\", \"Topic6\", \"Topic6\", \"Topic6\", \"Topic6\", \"Topic6\", \"Topic6\", \"Topic6\", \"Topic6\", \"Topic6\", \"Topic6\", \"Topic6\", \"Topic6\", \"Topic6\", \"Topic6\", \"Topic6\", \"Topic6\", \"Topic6\", \"Topic6\", \"Topic6\", \"Topic6\", \"Topic6\", \"Topic6\", \"Topic6\", \"Topic6\", \"Topic7\", \"Topic7\", \"Topic7\", \"Topic7\", \"Topic7\", \"Topic7\", \"Topic7\", \"Topic7\", \"Topic7\", \"Topic7\", \"Topic7\", \"Topic7\", \"Topic7\", \"Topic7\", \"Topic7\", \"Topic7\", \"Topic7\", \"Topic7\", \"Topic7\", \"Topic7\", \"Topic7\", \"Topic7\", \"Topic7\", \"Topic7\", \"Topic7\", \"Topic7\", \"Topic7\", \"Topic7\", \"Topic7\", \"Topic7\", \"Topic7\", \"Topic7\", \"Topic7\", \"Topic7\", \"Topic7\", \"Topic7\", \"Topic7\", \"Topic7\", \"Topic7\", \"Topic7\", \"Topic7\", \"Topic7\", \"Topic7\", \"Topic7\", \"Topic7\", \"Topic7\", \"Topic7\", \"Topic7\", \"Topic7\", \"Topic7\", \"Topic7\", \"Topic7\", \"Topic7\", \"Topic7\", \"Topic7\", \"Topic7\", \"Topic7\", \"Topic8\", \"Topic8\", \"Topic8\", \"Topic8\", \"Topic8\", \"Topic8\", \"Topic8\", \"Topic8\", \"Topic8\", \"Topic8\", \"Topic8\", \"Topic8\", \"Topic8\", \"Topic8\", \"Topic8\", \"Topic8\", \"Topic8\", \"Topic8\", \"Topic8\", \"Topic8\", \"Topic8\", \"Topic8\", \"Topic8\", \"Topic8\", \"Topic8\", \"Topic8\", \"Topic8\", \"Topic8\", \"Topic8\", \"Topic8\", \"Topic8\", \"Topic8\", \"Topic8\", \"Topic8\", \"Topic8\", \"Topic8\", \"Topic8\", \"Topic8\", \"Topic8\", \"Topic8\", \"Topic8\", \"Topic8\", \"Topic8\", \"Topic8\", \"Topic8\", \"Topic8\", \"Topic8\", \"Topic8\", \"Topic8\", \"Topic8\", \"Topic8\", \"Topic8\", \"Topic8\", \"Topic8\", \"Topic8\", \"Topic8\", \"Topic8\", \"Topic8\", \"Topic8\", \"Topic8\", \"Topic9\", \"Topic9\", \"Topic9\", \"Topic9\", \"Topic9\", \"Topic9\", \"Topic9\", \"Topic9\", \"Topic9\", \"Topic9\", \"Topic9\", \"Topic9\", \"Topic9\", \"Topic9\", \"Topic9\", \"Topic9\", \"Topic9\", \"Topic9\", \"Topic9\", \"Topic9\", \"Topic9\", \"Topic9\", \"Topic9\", \"Topic9\", \"Topic9\", \"Topic9\", \"Topic9\", \"Topic9\", \"Topic9\", \"Topic9\", \"Topic9\", \"Topic9\", \"Topic9\", \"Topic9\", \"Topic9\", \"Topic9\", \"Topic9\", \"Topic9\", \"Topic9\", \"Topic9\", \"Topic9\", \"Topic9\", \"Topic9\", \"Topic9\", \"Topic9\", \"Topic9\", \"Topic9\", \"Topic9\", \"Topic9\", \"Topic9\", \"Topic9\", \"Topic9\", \"Topic9\", \"Topic9\", \"Topic10\", \"Topic10\", \"Topic10\", \"Topic10\", \"Topic10\", \"Topic10\", \"Topic10\", \"Topic10\", \"Topic10\", \"Topic10\", \"Topic10\", \"Topic10\", \"Topic10\", \"Topic10\", \"Topic10\", \"Topic10\", \"Topic10\", \"Topic10\", \"Topic10\", \"Topic10\", \"Topic10\", \"Topic10\", \"Topic10\", \"Topic10\", \"Topic10\", \"Topic10\", \"Topic10\", \"Topic10\", \"Topic10\", \"Topic10\", \"Topic10\", \"Topic10\", \"Topic10\", \"Topic10\", \"Topic10\", \"Topic10\", \"Topic10\", \"Topic10\", \"Topic10\", \"Topic10\", \"Topic10\", \"Topic10\", \"Topic10\", \"Topic10\", \"Topic10\", \"Topic10\", \"Topic10\", \"Topic10\", \"Topic10\", \"Topic10\", \"Topic10\", \"Topic10\", \"Topic10\", \"Topic10\", \"Topic10\", \"Topic10\", \"Topic10\", \"Topic10\"], \"Term\": [\"vs\", \"used\", \"mean\", \"pronunciation\", \"words\", \"would\", \"using\", \"english\", \"correct\", \"plural\", \"proper\", \"verb\", \"versus\", \"instead\", \"difference\", \"sentence\", \"question\", \"name\", \"say\", \"singular\", \"usage\", \"grammatically\", \"phrase\", \"object\", \"like\", \"meaning\", \"american\", \"right\", \"possessive\", \"one\", \"object\", \"hyphen\", \"great\", \"direct\", \"bother\", \"dv\", \"longer\", \"want\", \"rich\", \"bus\", \"adults\", \"tasks\", \"indirect\", \"admire\", \"eating\", \"drinking\", \"simplified\", \"longest\", \"google\", \"fell\", \"playing\", \"chinese\", \"borrow\", \"keen\", \"humanitarian\", \"categories\", \"despite\", \"split\", \"far\", \"without\", \"verb\", \"help\", \"become\", \"proper\", \"mean\", \"phrases\", \"subject\", \"expression\", \"phrase\", \"stories\", \"good\", \"contracted\", \"hard\", \"get\", \"preposition\", \"word\", \"meaning\", \"like\", \"instead\", \"language\", \"question\", \"used\", \"going\", \"referring\", \"english\", \"one\", \"acceptable\", \"way\", \"usage\", \"come\", \"say\", \"middle\", \"god\", \"pig\", \"sometimes\", \"pluralized\", \"american\", \"initial\", \"kids\", \"rag\", \"contains\", \"toy\", \"drupal\", \"half\", \"bless\", \"planet\", \"arse\", \"retarded\", \"added\", \"sqa\", \"repeating\", \"understanding\", \"standard\", \"sounds\", \"words\", \"resources\", \"guard\", \"scarce\", \"demand\", \"price\", \"increase\", \"company\", \"new\", \"dialect\", \"latin\", \"hour\", \"spaghetti\", \"infinitive\", \"english\", \"etymology\", \"end\", \"another\", \"name\", \"like\", \"difference\", \"british\", \"one\", \"correct\", \"way\", \"word\", \"origin\", \"capitalized\", \"accent\", \"many\", \"list\", \"know\", \"always\", \"past\", \"phrase\", \"vs\", \"speak\", \"common\", \"adjective\", \"often\", \"speaker\", \"definite\", \"prose\", \"darkly\", \"months\", \"bourbon\", \"password\", \"discuss\", \"offer\", \"asking\", \"arrived\", \"award\", \"sighted\", \"derivative\", \"orbit\", \"deployed\", \"missing\", \"adverbs\", \"syllable\", \"confusion\", \"forward\", \"last\", \"grammar\", \"article\", \"vs\", \"said\", \"dashes\", \"horse\", \"additional\", \"make\", \"couple\", \"kind\", \"go\", \"describe\", \"appropriate\", \"start\", \"call\", \"long\", \"sound\", \"proper\", \"also\", \"nouns\", \"rules\", \"pronounce\", \"sentence\", \"following\", \"word\", \"correct\", \"etc\", \"phrase\", \"vowel\", \"end\", \"difference\", \"called\", \"words\", \"usage\", \"mean\", \"could\", \"pronunciation\", \"went\", \"complete\", \"early\", \"information\", \"pluralization\", \"continuous\", \"high\", \"overflow\", \"refurbished\", \"merely\", \"easily\", \"discussed\", \"opinion\", \"uniform\", \"scratch\", \"placed\", \"connect\", \"quite\", \"url\", \"pairs\", \"separate\", \"spelling\", \"talking\", \"contraction\", \"tax\", \"modern\", \"know\", \"professionals\", \"admin\", \"order\", \"real\", \"different\", \"usage\", \"correct\", \"people\", \"called\", \"word\", \"rules\", \"letter\", \"come\", \"two\", \"mean\", \"one\", \"sentence\", \"using\", \"words\", \"difference\", \"english\", \"vs\", \"say\", \"origin\", \"common\", \"rule\", \"period\", \"speakers\", \"bye\", \"special\", \"needs\", \"purpose\", \"set\", \"hand\", \"seconds\", \"acting\", \"mockingbird\", \"tonics\", \"force\", \"gins\", \"michael\", \"albert\", \"box\", \"tater\", \"feedback\", \"bananas\", \"flexible\", \"apples\", \"uk\", \"refrigerator\", \"rates\", \"favorite\", \"orange\", \"splice\", \"news\", \"page\", \"thank\", \"plural\", \"singular\", \"well\", \"pronoun\", \"friends\", \"still\", \"difference\", \"correct\", \"something\", \"comma\", \"us\", \"call\", \"vs\", \"origin\", \"put\", \"neither\", \"internet\", \"english\", \"good\", \"read\", \"native\", \"pronounce\", \"like\", \"meaning\", \"form\", \"way\", \"sentence\", \"word\", \"usage\", \"phrase\", \"speak\", \"british\", \"na\", \"versa\", \"vice\", \"tense\", \"possession\", \"short\", \"nay\", \"care\", \"blocked\", \"accident\", \"checked\", \"ordered\", \"open\", \"santa\", \"fill\", \"built\", \"software\", \"neutral\", \"subjects\", \"type\", \"using\", \"used\", \"thanks\", \"home\", \"factual\", \"basis\", \"pirate\", \"shiver\", \"remained\", \"timbers\", \"instead\", \"account\", \"response\", \"share\", \"definition\", \"everyone\", \"could\", \"adjective\", \"period\", \"form\", \"comma\", \"noun\", \"past\", \"versus\", \"word\", \"write\", \"verbs\", \"say\", \"may\", \"appropriate\", \"correct\", \"long\", \"plural\", \"sentence\", \"difference\", \"mean\", \"usage\", \"best\", \"beyond\", \"answer\", \"negation\", \"possessive\", \"opposite\", \"bob\", \"talk\", \"standing\", \"purposes\", \"night\", \"educated\", \"italicize\", \"prefer\", \"sea\", \"requests\", \"french\", \"times\", \"check\", \"already\", \"zero\", \"hat\", \"necessary\", \"lose\", \"grammatical\", \"bring\", \"ask\", \"answering\", \"yet\", \"got\", \"denote\", \"almost\", \"time\", \"say\", \"meanings\", \"questions\", \"correct\", \"meaning\", \"versus\", \"common\", \"usage\", \"ending\", \"related\", \"difference\", \"means\", \"word\", \"ever\", \"someone\", \"write\", \"become\", \"names\", \"mean\", \"words\", \"english\", \"people\", \"origin\", \"come\", \"something\", \"pay\", \"course\", \"right\", \"differ\", \"reserved\", \"backseat\", \"province\", \"gobble\", \"capitalize\", \"participle\", \"learn\", \"okay\", \"mind\", \"proof\", \"place\", \"grammatically\", \"speaking\", \"century\", \"title\", \"regards\", \"correctly\", \"position\", \"counts\", \"german\", \"getting\", \"mass\", \"slogan\", \"orthographies\", \"discussions\", \"winning\", \"incorrect\", \"may\", \"non\", \"bad\", \"structure\", \"regarding\", \"uppercase\", \"pronunciations\", \"question\", \"written\", \"sentences\", \"mark\", \"sentence\", \"name\", \"one\", \"start\", \"correct\", \"really\", \"beginning\", \"person\", \"difference\", \"past\", \"english\", \"something\", \"words\", \"term\", \"come\", \"word\", \"two\", \"nouns\", \"friend\", \"alternative\", \"schema\", \"server\", \"print\", \"weekend\", \"reflected\", \"coming\", \"retrieves\", \"chainsaw\", \"suggest\", \"include\", \"limited\", \"equipped\", \"similes\", \"punctuated\", \"hopefully\", \"explanation\", \"progressive\", \"please\", \"mail\", \"would\", \"apostrophe\", \"simple\", \"file\", \"nerd\", \"geek\", \"clumsy\", \"idea\", \"drifting\", \"changes\", \"fragments\", \"metaphors\", \"choose\", \"present\", \"email\", \"name\", \"word\", \"sentence\", \"phrase\", \"vs\", \"say\", \"something\", \"verb\", \"one\", \"correct\", \"words\", \"origin\", \"double\", \"redundant\", \"express\", \"appropriate\", \"adjectives\", \"different\", \"jive\", \"emails\", \"made\", \"testing\", \"cheeseburger\", \"turkey\", \"ate\", \"topics\", \"pissed\", \"log\", \"sure\", \"turn\", \"currently\", \"abbreviate\", \"accounts\", \"simpler\", \"especially\", \"started\", \"agriculture\", \"hold\", \"farmer\", \"manual\", \"government\", \"federal\", \"ottoman\", \"break\", \"owns\", \"step\", \"id\", \"appearance\", \"employee\", \"fact\", \"contractions\", \"types\", \"explain\", \"shall\", \"versus\", \"first\", \"interesting\", \"mean\", \"alternatives\", \"deal\", \"grammatically\", \"sentence\", \"meaning\", \"get\", \"vs\", \"origin\", \"difference\", \"word\", \"phrase\", \"names\", \"suffix\", \"punctuation\", \"adjective\", \"make\", \"written\", \"expression\"], \"loglift\": [30.0, 29.0, 28.0, 27.0, 26.0, 25.0, 24.0, 23.0, 22.0, 21.0, 20.0, 19.0, 18.0, 17.0, 16.0, 15.0, 14.0, 13.0, 12.0, 11.0, 10.0, 9.0, 8.0, 7.0, 6.0, 5.0, 4.0, 3.0, 2.0, 1.0, 1.9564999999999999, 1.8472, 1.8440000000000001, 1.7925, 1.7925, 1.6936, 1.6936, 1.6936, 1.6936, 1.6936, 1.6936, 1.6936, 1.6936, 1.6936, 1.6936, 1.6936, 1.6936, 1.6936, 1.6936, 1.6936, 1.6936, 1.6936, 1.6936, 1.6936, 1.6936, 1.6936, 1.6936, 1.6936, 1.6936, 1.6792, 1.6673, 1.6684000000000001, 1.6153999999999999, 1.4874000000000001, 1.3954, 1.5920000000000001, 1.5539000000000001, 1.4798, 1.1463000000000001, 1.5863, 1.3148, 1.5768, 1.5707, 1.3169999999999999, 1.3749, 0.68679999999999997, 0.94769999999999999, 1.0674999999999999, 1.0898000000000001, 1.3882000000000001, 1.0654999999999999, 0.71750000000000003, 1.3517999999999999, 1.2738, 0.39860000000000001, 0.36299999999999999, 1.0781000000000001, 0.61660000000000004, 0.16339999999999999, 0.34079999999999999, 0.11700000000000001, 1.8833, 1.8833, 1.8832, 1.8832, 1.8827, 1.8045, 1.7845, 1.7845, 1.7845, 1.7845, 1.7845, 1.7845, 1.7845, 1.7845, 1.7845, 1.7845, 1.7845, 1.7845, 1.7845, 1.7845, 1.7844, 1.756, 1.6678999999999999, 1.5750999999999999, 1.5495000000000001, 1.5495000000000001, 1.5495000000000001, 1.5495000000000001, 1.5495000000000001, 1.5495000000000001, 1.5177, 1.4769000000000001, 1.5108999999999999, 1.5058, 1.5048999999999999, 1.5048999999999999, 1.4754, 1.169, 1.3723000000000001, 1.3222, 1.3708, 1.0616000000000001, 0.92449999999999999, 0.39169999999999999, 1.2561, 0.57399999999999995, -0.18720000000000001, 0.73609999999999998, -0.23419999999999999, 0.41649999999999998, 1.2154, 1.2014, 1.2667999999999999, 0.90469999999999995, 1.0843, 1.0815999999999999, 0.67079999999999995, -0.4259, -1.2210000000000001, 0.88460000000000005, 0.51219999999999999, 0.80910000000000004, 2.0278999999999998, 1.9925999999999999, 1.9371, 1.837, 1.837, 1.837, 1.837, 1.837, 1.837, 1.837, 1.837, 1.837, 1.837, 1.837, 1.837, 1.837, 1.837, 1.837, 1.837, 1.837, 1.837, 1.8369, 1.7512000000000001, 1.7184999999999999, 1.6878, 1.6716, 1.6707000000000001, 1.5991, 1.5991, 1.5991, 1.5718000000000001, 1.5673999999999999, 1.5673999999999999, 1.5305, 1.4975000000000001, 1.3302, 1.2999000000000001, 1.4103000000000001, 1.4097999999999999, 1.4075, 0.87329999999999997, 1.5357000000000001, 1.0027999999999999, 1.3010999999999999, 1.1187, 0.43140000000000001, 1.2060999999999999, 0.031399999999999997, -0.095399999999999999, 1.3905000000000001, 0.25259999999999999, 1.3912, 0.76170000000000004, -0.23619999999999999, 0.84860000000000002, -0.3115, -0.1024, -0.83309999999999995, 0.62970000000000004, 2.161, 1.9907999999999999, 1.9907999999999999, 1.9907999999999999, 1.9907999999999999, 1.9907999999999999, 1.8895, 1.8895, 1.8895, 1.8895, 1.8895, 1.8895, 1.8895, 1.8895, 1.8895, 1.8895, 1.8895, 1.8894, 1.8893, 1.8889, 1.8887, 1.8465, 1.8080000000000001, 1.77, 1.7668999999999999, 1.7612000000000001, 1.7062999999999999, 1.6665000000000001, 1.6494, 1.6494, 1.5722, 1.5707, 1.4184000000000001, 1.1865000000000001, 0.4294, 1.167, 1.2473000000000001, 0.27660000000000001, 1.3447, 1.3440000000000001, 0.91469999999999996, 1.1660999999999999, 0.099699999999999997, 0.44009999999999999, 0.1593, 0.57630000000000003, 0.13650000000000001, -0.085800000000000001, -0.1148, -0.42209999999999998, 0.44209999999999999, 0.30549999999999999, 0.59760000000000002, 0.97850000000000004, 0.88780000000000003, 2.0567000000000002, 2.0567000000000002, 2.0567000000000002, 2.0004, 2.0004, 2.0002, 1.9646999999999999, 1.8989, 1.8989, 1.8989, 1.8989, 1.8989, 1.8989, 1.8989, 1.8989, 1.8989, 1.8989, 1.8989, 1.8989, 1.8989, 1.8989, 1.8989, 1.8989, 1.8989, 1.8989, 1.8989, 1.8989, 1.8989, 1.8989, 1.8989, 1.7896000000000001, 1.8012999999999999, 1.6645000000000001, 1.7170000000000001, 1.7897000000000001, 1.7842, 1.1012999999999999, 0.92230000000000001, 1.2806999999999999, 1.2254, 1.4679, 1.4613, 0.4748, 0.88129999999999997, 1.5995999999999999, 1.5938000000000001, 1.5885, 0.38279999999999997, 1.0364, 1.4511000000000001, 1.4379, 0.95140000000000002, 0.56820000000000004, 0.1852, 0.70489999999999997, 0.60960000000000003, -0.1668, -0.87990000000000002, 0.049000000000000002, -0.14580000000000001, 0.97640000000000005, 1.0683, 2.0846, 2.0844999999999998, 2.0844999999999998, 2.048, 2.0285000000000002, 1.9578, 1.9275, 1.9275, 1.9275, 1.9275, 1.9275, 1.9275, 1.9275, 1.9275, 1.9275, 1.9275, 1.9274, 1.9274, 1.9266000000000001, 1.9174, 1.8825000000000001, 1.8657999999999999, 1.7991999999999999, 1.7592000000000001, 1.6877, 1.6877, 1.6877, 1.6877, 1.6877, 1.6877, 1.5868, 1.6560999999999999, 1.6203000000000001, 1.6180000000000001, 1.6440999999999999, 1.6404000000000001, 1.5045999999999999, 1.4308000000000001, 1.4251, 1.2309000000000001, 1.2573000000000001, 1.3453999999999999, 1.2274, 0.86550000000000005, 0.16489999999999999, 1.2997000000000001, 1.4407000000000001, 0.626, 1.3428, 0.86419999999999997, -0.39140000000000003, 1.2134, 0.41120000000000001, -0.13469999999999999, -0.37709999999999999, -0.54190000000000005, -0.1416, 1.0076000000000001, 2.1335000000000002, 2.1335000000000002, 2.1335000000000002, 2.0781000000000001, 2.0663, 2.0310999999999999, 2.0310999999999999, 2.0310999999999999, 2.0310999999999999, 2.0310999999999999, 2.0310999999999999, 2.0310999999999999, 2.0310999999999999, 2.0310999999999999, 2.0310999999999999, 2.0310999999999999, 2.0310999999999999, 2.0310999999999999, 2.0310999999999999, 2.0310999999999999, 2.0308999999999999, 2.0308000000000002, 2.0301999999999998, 2.0124, 2.0112999999999999, 1.9053, 1.9049, 1.9016999999999999, 1.8442000000000001, 1.7886, 1.7413000000000001, 1.6242000000000001, 1.3146, 1.5998000000000001, 1.5829, 0.39019999999999999, 0.82420000000000004, 0.94010000000000005, 1.2253000000000001, 0.72119999999999995, 1.2271000000000001, 1.5669, 0.1782, 1.4255, -0.32140000000000002, 1.1181000000000001, 1.1166, 1.1127, 1.0958000000000001, 0.86829999999999996, -0.3458, -0.1588, -0.72940000000000005, 0.62229999999999996, 0.045600000000000002, 0.37, 0.57669999999999999, 2.1825999999999999, 2.1825999999999999, 2.1305000000000001, 2.1150000000000002, 2.0798999999999999, 2.0798999999999999, 2.0798999999999999, 2.0798999999999999, 2.0798999999999999, 2.0798999999999999, 2.0798000000000001, 2.0798000000000001, 2.0794999999999999, 2.0716000000000001, 2.0474000000000001, 2.0413999999999999, 1.9697, 1.9697, 1.9571000000000001, 1.956, 1.9036, 1.9023000000000001, 1.8368, 1.8368, 1.8368, 1.8368, 1.8368, 1.8368, 1.8368, 1.8368, 1.7834000000000001, 1.7639, 1.7783, 1.7411000000000001, 1.7881, 1.7853000000000001, 1.7814000000000001, 1.7814000000000001, 1.6256999999999999, 1.6735, 1.5998000000000001, 1.6939, 1.0680000000000001, 1.3013999999999999, 0.98240000000000005, 1.343, 0.29899999999999999, 1.4117999999999999, 1.6140000000000001, 1.2566999999999999, 0.1429, 1.0582, 0.088200000000000001, 0.89429999999999998, 0.095600000000000004, 1.0072000000000001, 0.69599999999999995, -0.66859999999999997, 1.0809, 0.55459999999999998, 2.3595000000000002, 2.2841, 2.1968999999999999, 2.1968999999999999, 2.1968999999999999, 2.1968999999999999, 2.1968999999999999, 2.1968999999999999, 2.1968999999999999, 2.1968999999999999, 2.1968999999999999, 2.1968999999999999, 2.1968999999999999, 2.1968999999999999, 2.1968999999999999, 2.1968999999999999, 2.1968999999999999, 2.1968999999999999, 2.1968000000000001, 2.1829999999999998, 2.1663999999999999, 2.1513, 2.0825, 2.0693999999999999, 2.0629, 1.9502999999999999, 1.9502999999999999, 1.9502999999999999, 1.9502999999999999, 1.9502999999999999, 1.8988, 1.8988, 1.8988, 1.8943000000000001, 1.6515, 1.4548000000000001, 1.1911, 0.16819999999999999, 0.48409999999999997, 0.59470000000000001, 0.077799999999999994, 0.59419999999999995, 0.72609999999999997, 0.30759999999999998, -0.1258, -1.4001999999999999, -0.6573, -0.17899999999999999, 0.97219999999999995, 1.6877, 1.3275999999999999, 0.43730000000000002, 1.5044, 0.1376, 2.3904999999999998, 2.3904999999999998, 2.2835999999999999, 2.2835999999999999, 2.2835999999999999, 2.2835999999999999, 2.2835999999999999, 2.2835999999999999, 2.2835999999999999, 2.2835999999999999, 2.2835999999999999, 2.2835999999999999, 2.2835999999999999, 2.2835999999999999, 2.2835999999999999, 2.2835999999999999, 2.2835000000000001, 2.1597, 2.0322, 2.0322, 2.0322, 2.0322, 2.0322, 2.0322, 2.0322, 2.0322, 2.0322, 2.0322, 2.0322, 2.0322, 1.9847999999999999, 1.984, 1.9764999999999999, 1.9764999999999999, 1.976, 1.8017000000000001, 1.4189000000000001, 1.6304000000000001, 1.7596000000000001, 0.93779999999999997, 1.7470000000000001, 1.7419, 1.3143, 0.3543, 0.46250000000000002, 1.1661999999999999, -0.4955, 0.26290000000000002, -0.56510000000000005, -1.0097, -0.47299999999999998, 0.6976, 1.5672999999999999, 1.1483000000000001, 0.85350000000000004, 0.94120000000000004, 0.95720000000000005, 1.1398999999999999], \"Freq\": [75.0, 37.0, 49.0, 19.0, 36.0, 17.0, 19.0, 51.0, 82.0, 19.0, 21.0, 20.0, 23.0, 17.0, 52.0, 40.0, 15.0, 14.0, 20.0, 14.0, 26.0, 8.0, 33.0, 8.0, 19.0, 30.0, 10.0, 7.0, 7.0, 26.0, 7.4155621750733225, 3.0101838090839426, 3.0002896016435763, 2.2761045992579079, 2.2760968955218006, 1.5418773099496841, 1.5418773091317874, 1.5418773083483528, 1.5418773080608574, 1.5418773079540897, 1.541877307549554, 1.5418773072671554, 1.5418773066249776, 1.5418773061572033, 1.5418773057789645, 1.5418773057057571, 1.5418773053181274, 1.5418773051456127, 1.5418773051008443, 1.5418773049119678, 1.5418773047457675, 1.5418773046181684, 1.541877304278584, 1.5418773042455276, 1.541877303963699, 1.5418773026959096, 1.5418772969121171, 1.5418580523582011, 1.541833234386675, 3.0103338167651317, 14.01885312348513, 3.0101815248207129, 5.2115749527878208, 12.553688458618051, 25.927435458318968, 3.6992955631541351, 4.4788360583990707, 3.6659101847436308, 13.531463231960911, 2.2761139783911779, 5.946096235734851, 2.2761056267776008, 2.2761283800056584, 4.4786825262147874, 3.7445149394275372, 20.957352431489795, 10.295803514001335, 7.4156758121924202, 6.6972248523654807, 3.0102966980403076, 5.9460201581006942, 9.9945890578737586, 2.9150110158742635, 3.0102164281610535, 9.9657664525099765, 4.9476135549365958, 3.0102978355582017, 3.6440301328472118, 4.0573595064354029, 3.0103241925196413, 3.0102083270202473, 2.2805352581729399, 2.280493140906386, 2.2804373987093993, 2.2804191660735653, 2.2791960659700989, 7.3402497335901122, 1.5448787226397422, 1.5448787223683151, 1.5448787220240865, 1.5448787219092135, 1.5448787218633755, 1.5448787207528183, 1.5448787206925405, 1.5448787202987655, 1.5448787190674993, 1.5448787187584267, 1.5448787179254699, 1.5448787176282477, 1.5448787103853023, 1.5448680344179959, 1.5446455863041033, 3.0069055806712335, 2.2805431473715827, 21.204295249730528, 0.80922218810645141, 0.80922218796181666, 0.80922218787634681, 0.80922218781017097, 0.80922218775239796, 0.80922218773113563, 1.5448816303677291, 3.0158324783705321, 1.5448836840217655, 1.5448364320229429, 1.5448906660915482, 1.544872311024418, 2.2804511066900748, 19.673552172615899, 4.4288008957779139, 5.1897320570808265, 3.0161698849545262, 5.1305170993808087, 5.8729676000722479, 9.1614351249143535, 3.0162520773577102, 5.5825006804709174, 8.1594917680631358, 3.751905630318193, 7.6229167882187712, 4.1039324136862962, 2.2932365821268519, 2.2805273466233387, 2.1233326896679752, 2.5347688045145893, 2.2805289501405532, 2.2806121366214507, 2.6632743734871469, 2.5664174776494328, 2.6338422881325769, 2.2805772953607346, 2.2805657991066095, 2.2805512786547797, 3.6872677888901331, 2.9643269351088968, 2.2411980185588005, 1.5183498636175379, 1.5183498624782816, 1.518349861101927, 1.51834986067487, 1.5183498605697063, 1.5183498601932806, 1.5183498601283394, 1.5183498600238676, 1.5183498594326421, 1.5183498589748305, 1.5183498580894257, 1.518349857973772, 1.5183498554949342, 1.5183498554108208, 1.5183498552423296, 1.5183498526146479, 1.518327060848363, 1.5183084638083149, 1.518288424341419, 3.6872436898525285, 2.241380151667788, 2.1778802778634718, 44.832983128070772, 2.9644266236778272, 0.79532611848571233, 0.79532611831507616, 0.79532611825926502, 4.226484265975671, 1.5183566122029959, 1.5183543244990712, 2.9643752595052297, 4.3309146844309652, 5.1335694557026734, 4.4101138742881938, 2.9643957108097441, 2.9643289668076411, 2.9641797155819707, 5.856487816428011, 2.241395951581993, 4.3820428707989549, 2.9644264012571218, 3.6874916494390049, 7.0578434224388067, 2.9090668073380774, 9.3809067201728453, 8.4393667217501775, 2.2413712148969407, 4.7724255745464284, 1.963441643141129, 2.7955274958002834, 4.6133599438650723, 2.4436713266116978, 3.0328609765665302, 2.6814367355225821, 2.4070595262419276, 2.2806355350663421, 17.710531034077679, 2.2116223156648878, 2.2116223139034465, 2.2116223103985737, 2.2116223100149455, 2.2115256771974914, 1.4981957628917417, 1.4981957616125143, 1.4981957613064532, 1.4981957610146774, 1.4981957595608952, 1.4981957583186774, 1.4981957564656991, 1.4981957532761709, 1.4981957507855042, 1.4981957495684781, 1.498154917755717, 1.497969735939445, 1.4978401836575626, 1.4972256954052459, 1.4968354276811924, 1.4363918647601961, 4.61317877308087, 2.2112301635009368, 2.2115697896280699, 2.2116331329837045, 2.9250679915282864, 3.6384781492622396, 0.784769208905719, 0.7847692088230197, 2.9250382908220725, 2.925121432032904, 7.1466715852494103, 9.1911088687240898, 13.474110515049134, 4.3520311217507475, 3.4388991288248958, 11.323835212510975, 2.9249149891816826, 2.9250298264445451, 4.3518916782780419, 2.9051514854694345, 5.7787448552247431, 4.3519668340418614, 5.0786001354374157, 3.6384443077432556, 4.484331264443723, 5.0652913078132524, 4.8569215963535459, 5.2188748237230067, 3.3930434648431409, 3.2735270922051711, 2.2138569671417154, 2.2116716244891221, 2.2116713509240591, 2.9164661010625643, 2.9164660989300288, 2.9164253754620799, 2.2051329044856067, 2.2051273326433014, 2.204610391023575, 2.1240316777372166, 1.4937997111322603, 1.4937997110501648, 1.4937997109058638, 1.4937997108708583, 1.4937997106882444, 1.4937997102234346, 1.4937997100400711, 1.4937997097266547, 1.4937997096810911, 1.4937997096552309, 1.4937997086246084, 1.493799708258855, 1.4937997077183334, 1.4937997075149607, 1.4937997070574278, 1.4937997060685797, 1.4937997051373364, 1.4937997045828593, 1.4937997041586375, 1.4937997039573065, 1.4937997032029833, 1.4937996974639363, 1.4937907415263907, 12.086186551229124, 9.0489226044266466, 4.3390123978429944, 2.9164504895738972, 2.2051511174916643, 2.2051422489603896, 16.431919315201313, 21.830795090900388, 5.0508700496391299, 4.3394655858872948, 2.9164849071090635, 2.9164677118179263, 12.663930699993299, 5.762024256643949, 2.2051332520802012, 2.2051529097326128, 2.2051216357033936, 7.9057391209216652, 3.6278167817409011, 2.2051710129736168, 2.2051523792418086, 2.9165084739016405, 3.6277455121915865, 3.8710595537959307, 3.0461681386833752, 2.9165245277107563, 3.6279356520276917, 3.5257695906333506, 2.9164863587868983, 2.9957865593761706, 2.2051863661951203, 2.2051544965550263, 2.9321120939756327, 2.9318810507068132, 2.9318810487868578, 5.6774022312934633, 2.216841129536153, 3.6242369165275399, 1.501813511563314, 1.501813511420268, 1.5018135112764799, 1.5018135109952122, 1.5018135092534068, 1.5018135092389713, 1.5018135084626962, 1.5018135080386219, 1.5018135077252857, 1.5018135009067726, 1.5017725684417105, 1.5017668391644567, 1.5005041955488136, 1.4867746967558695, 12.944198705253973, 24.725329993524877, 2.2169760802164249, 2.9320699564658446, 0.78666422093746158, 0.78666422091390042, 0.78666422077730558, 0.78666422065264596, 0.78666422060542651, 0.78666422047908391, 8.6380544233951095, 1.5018207484800041, 2.2169344723338087, 2.2169924848419367, 1.5018169296976938, 1.5018270137908778, 4.9793300200914512, 3.6471334696352469, 3.6469632643511236, 5.018328333870862, 4.3616108808177403, 3.6473371733165609, 3.9902500573895696, 5.7656415331013857, 9.7578116944856124, 2.9320041591385482, 2.17695975094923, 3.9294187873491797, 2.213619834179406, 2.9320226433644119, 5.7133365260480877, 2.216989324821752, 2.9648038828808536, 3.6472244387613042, 3.6471627955678265, 2.9315227729155984, 2.3466300790136518, 2.2170133926987217, 2.1807283453882955, 2.1807283399213122, 2.1805854511438993, 5.6972940179727285, 3.5873636376264972, 1.4772675880725099, 1.4772675870575103, 1.4772675863831572, 1.4772675862598317, 1.4772675856896882, 1.4772675846926258, 1.4772675842377461, 1.4772675829337281, 1.4772675824592008, 1.4772675823317374, 1.4772675795059824, 1.4772675757867317, 1.477267570063677, 1.4772273152810373, 1.4772138533719601, 1.4770052427385998, 1.4768820348066467, 1.4760012455836138, 2.8840943273019835, 1.4485669267242831, 2.1807091498379676, 2.179937552177599, 2.1806807613183752, 2.8842402431658138, 0.77380683242718906, 1.4772624813459783, 6.2399245800671377, 7.0141341517470588, 2.8842079173715796, 2.8556238466673922, 11.192675456628926, 6.4018283945904999, 5.5702769664318446, 3.5831355310970525, 4.9863183173717838, 2.883906429051196, 2.1807570012947819, 5.6981213539070135, 2.1805059070282109, 5.3799647135692243, 2.1807149646644741, 2.1807866288879025, 2.1807039922291036, 2.1807041779640479, 2.1777284110523643, 3.1979531991707919, 2.8836346614427968, 2.2695106482837755, 2.1807909662981615, 2.1807810245381365, 2.180748478676096, 2.1807385328188493, 2.1728223469963384, 2.1728223449746058, 5.6450624174930288, 3.5746279279177746, 1.4719119173787025, 1.471911914226792, 1.4719119137994865, 1.4719119137662526, 1.4719119133726941, 1.4719119129287479, 1.471878030600293, 1.4718628494211135, 1.4713264679037759, 1.4598526552388853, 2.8670001258086781, 5.5775700935081103, 2.1727876429766453, 2.1727662333701012, 2.1727927476234217, 2.1727951524112035, 2.8727712041586453, 2.8737338096646186, 0.77100147953481635, 0.77100147941628161, 0.77100147930467322, 0.77100147921970652, 0.77100147909351913, 0.77100147908799954, 0.77100147899425242, 0.77100147887064263, 2.1721142812627434, 2.876543405312971, 2.1728539101706632, 2.8111543648416983, 1.4718762116576423, 1.4718789290032968, 1.4719314084151496, 1.4719289973411342, 6.9676807078056999, 3.5747357268424129, 4.8944859081130083, 2.6928371250787038, 10.355480491663041, 4.7764937749269185, 6.1515252991487737, 3.574556067373643, 9.7193942615407263, 2.8009056701299899, 2.172789312195651, 2.6011659090598647, 5.2328040782345973, 2.8737836967006314, 4.8895586281595547, 2.849857296483771, 3.5377773441987954, 2.7045110670345194, 2.873789357737067, 3.6166203624445004, 2.1924617478424597, 2.1729194358258441, 2.8135708981990137, 4.1862205856714008, 1.4411454254838647, 1.4411454247672586, 1.4411454244750954, 1.4411454244238737, 1.4411454244040198, 1.4411454240375992, 1.4411454231139056, 1.4411454230949208, 1.4411454228094003, 1.4411454224448608, 1.4411454223538203, 1.4411454222395625, 1.441145422043294, 1.441145420163858, 1.4411107570090886, 1.4410926629033061, 1.4409348583803954, 2.8136468018644245, 2.8136644629354572, 11.532023306112274, 2.121123880042354, 2.1274147748759833, 2.1214073739336996, 0.75488569869989885, 0.75488569861332266, 0.75488569861079358, 0.75488569849181564, 0.75488569840788966, 1.4411865785152942, 1.4411696820558695, 1.4411580331794407, 1.4411632215786654, 2.8137127003549027, 2.8137319281049149, 3.7781662163519547, 7.3750638233920274, 5.1008407599988805, 4.6069866110170796, 6.2449334632195406, 2.8673646490229676, 2.1274131441370923, 2.1274088510152627, 1.7938398785646543, 1.5693606589523919, 1.4715835618376096, 1.4636857967907939, 1.4411801178505628, 1.4411798037626309, 1.4411747887924671, 1.441174521093622, 1.4411711747413558, 1.4411708997832862, 2.0674141121229814, 2.0673688300576254, 1.4005063351149878, 1.4005063347072255, 1.4005063342018218, 1.4005063336197896, 1.4005063335093664, 1.4005063325830016, 1.4005063322782789, 1.400506330798617, 1.400506330045389, 1.4005063280523953, 1.4005063265854294, 1.4005043292044363, 1.4004681505501948, 1.4004681550943614, 1.4004595270859959, 2.0673887500132127, 0.7335985571283804, 0.73359855699822996, 0.73359855698928422, 0.73359855697125786, 0.73359855690153553, 0.73359855685929309, 0.73359855684998587, 0.73359855679141117, 0.73359855675266206, 0.73359855662348694, 0.73359855655853423, 0.73359855633576976, 1.4005238179727602, 1.4004754313387409, 1.4005123786059663, 1.4005100915938968, 1.4005243018207636, 2.0671069433754901, 6.8586610779888657, 2.7343113236618768, 1.4005111220072808, 8.8055898893122269, 1.4005263190248751, 1.4005109904108659, 2.1616916266500068, 4.0680643578439843, 3.4013981465055325, 2.0674026171190909, 3.1962074620102343, 2.0674676970065202, 2.0672297065744716, 2.0620901703484287, 1.4381811849387611, 1.4006067665450184, 1.4005420951601113, 1.4005315791499897, 1.4005288353769498, 1.4005265776783729, 1.400521932051362, 1.4005105813368057], \"Total\": [75.0, 37.0, 49.0, 19.0, 36.0, 17.0, 19.0, 51.0, 82.0, 19.0, 21.0, 20.0, 23.0, 17.0, 52.0, 40.0, 15.0, 14.0, 20.0, 14.0, 26.0, 8.0, 33.0, 8.0, 19.0, 30.0, 10.0, 7.0, 7.0, 26.0, 8.0513020667466897, 3.6459421216975487, 3.6454890285754358, 2.9117174074958876, 2.9117172897829113, 2.1774901158067572, 2.1774901157660769, 2.1774901157423767, 2.1774901157312563, 2.1774901157294275, 2.1774901157115241, 2.1774901156999564, 2.1774901156713939, 2.1774901156602584, 2.1774901156294906, 2.1774901156508015, 2.1774901156210187, 2.1774901156126494, 2.177490115624984, 2.1774901156123345, 2.1774901155990252, 2.1774901156042561, 2.1774901155687747, 2.1774901155671826, 2.1774901155506994, 2.1774901155147246, 2.1774901152752504, 2.1774892419828697, 2.1774887472694773, 4.3128526572278609, 20.326484268530692, 4.3593688340753909, 7.9589713173514918, 21.789145794669647, 49.338320405947997, 5.7827878501510961, 7.2738754388057894, 6.411330800652693, 33.031798524214786, 3.5786260485848995, 12.264843844311464, 3.612627892091401, 3.634741515987931, 9.2178509524763612, 7.2732071317030869, 81.002331507265524, 30.655994450198609, 19.588048561637809, 17.298970508592539, 5.7695205289399603, 15.735982649485225, 37.462972061529307, 5.7943669527811599, 6.4689174229018613, 51.384335477323354, 26.435677978233315, 7.8675553705470511, 15.108957300245455, 26.467212721921513, 16.445707780779617, 20.568303246788002, 2.9160051411468726, 2.9160032978947661, 2.9160014161907011, 2.9160013133080138, 2.9159152191239146, 10.154373509412775, 2.1803486048538923, 2.1803486048470071, 2.1803486048306233, 2.1803486048186964, 2.1803486048244305, 2.1803486047651219, 2.1803486047767677, 2.1803486047548426, 2.180348604702584, 2.1803486046880698, 2.1803486046644034, 2.1803486046487386, 2.1803486043288665, 2.1803478872757167, 2.1803451165764978, 4.3664721779078564, 3.6169159516312734, 36.900805420126098, 1.4446920686006479, 1.4446920685955096, 1.44469206859309, 1.444692068589517, 1.4446920685888385, 1.4446920685873046, 2.8472566576189733, 5.7894695978298669, 2.866608665882481, 2.881257761767317, 2.883809885524022, 2.883809289074728, 4.3844576854557316, 51.384335477323354, 9.439090649690284, 11.629208386243098, 6.4385181819324613, 14.92027094816226, 19.588048561637809, 52.059648803894596, 7.2207999851208911, 26.435677978233315, 82.722936619876592, 15.108957300245455, 81.002331507265524, 22.74905080271423, 5.7181172703672631, 5.7667884902358502, 5.0293956667833228, 8.6230904053845361, 6.4831377202713822, 6.5006504671902618, 11.447690933434002, 33.031798524214786, 75.07705725262835, 7.9162690780351141, 11.488223627440433, 8.5368992874099163, 4.3241517319842497, 3.6011298048655123, 2.8781039309077792, 2.1550830241465597, 2.1550830241217365, 2.1550830240899699, 2.155083024073587, 2.1550830240769514, 2.1550830240558621, 2.155083024053567, 2.1550830240716956, 2.1550830240410273, 2.1550830240459815, 2.1550830240168732, 2.1550830240309655, 2.1550830239606849, 2.1550830239543166, 2.1550830239409273, 2.1550830238801653, 2.1550827213973442, 2.1550824745041837, 2.155084057575908, 5.7023910561970954, 3.5815677050693244, 3.5884133453073552, 75.07705725262835, 4.9689501550756239, 1.4320592782329007, 1.4320592782323145, 1.4320592782312169, 7.8207201664907444, 2.8219913294016905, 2.8219911515887963, 5.7163776399282407, 8.6315633133479572, 12.094997060721578, 10.710054689807151, 6.446463277426413, 6.4500386379920513, 6.4645031638225134, 21.789145794669647, 4.3000230624409337, 14.323547852466293, 7.1904894658301579, 10.734565179472332, 40.851351749105156, 7.7595357279268731, 81.002331507265524, 82.722936619876592, 4.971869477333648, 33.031798524214786, 4.3522971605996146, 11.629208386243098, 52.059648803894596, 9.318942665564693, 36.900805420126098, 26.467212721921513, 49.338320405947997, 10.825933722722342, 19.245948626064617, 2.8493151972034965, 2.8493151971855566, 2.8493151971715056, 2.8493151971600148, 2.8493149136079903, 2.1358886422596717, 2.135888642250853, 2.1358886422492636, 2.1358886422465817, 2.135888642227846, 2.1358886422136623, 2.1358886421971706, 2.1358886421769547, 2.1358886421413259, 2.1358886421729504, 2.135889191636001, 2.1358955923257179, 2.1358896590882437, 2.1358910418533519, 2.1358374393334878, 2.1378144178413083, 7.1353038076686506, 3.5527741744649721, 3.5644640337465154, 3.584971396243148, 5.0087889865862714, 6.4831377202713822, 1.4224620873044584, 1.4224620873027531, 5.7272674589446027, 5.7360847963999202, 16.320773872699359, 26.467212721921513, 82.722936619876592, 12.778694821828593, 9.318942665564693, 81.002331507265524, 7.1904894658301579, 7.1957224967713431, 16.445707780779617, 8.5378462177647929, 49.338320405947997, 26.435677978233315, 40.851351749105156, 19.287078550458922, 36.900805420126098, 52.059648803894596, 51.384335477323354, 75.07705725262835, 20.568303246788002, 22.74905080271423, 11.488223627440433, 7.8416384110119646, 8.5857729610657447, 3.5543683204462475, 3.5543683204369723, 3.5543696305831869, 2.8430351234338773, 2.8430351532695828, 2.8430529901971955, 2.8379705321151603, 2.1317019263963655, 2.131701926405658, 2.1317019264067216, 2.1317019263995656, 2.1317019264040522, 2.1317019264061465, 2.1317019264023962, 2.1317019263915822, 2.1317019263968215, 2.1317019263962456, 2.131701926388462, 2.1317019263775721, 2.1317019263876174, 2.1317019263931769, 2.1317019263852828, 2.1317019263858032, 2.1317019263913171, 2.131701926378673, 2.1317019263550741, 2.1317019263518571, 2.1317019263610852, 2.1317019263314223, 2.1317019744830219, 19.23901030923567, 14.2372599620095, 7.8278231428266256, 4.9920575440565811, 3.5099440420820729, 3.5292951806603226, 52.059648803894596, 82.722936619876592, 13.375022369873173, 12.143877080976726, 6.4045845498632579, 6.446463277426413, 75.07705725262835, 22.74905080271423, 4.2448560042450456, 4.2695196005016873, 4.2921159685497345, 51.384335477323354, 12.264843844311464, 4.9242808821760296, 4.9899922772820187, 10.734565179472332, 19.588048561637809, 30.655994450198609, 14.345616779835154, 15.108957300245455, 40.851351749105156, 81.002331507265524, 26.467212721921513, 33.031798524214786, 7.9162690780351141, 7.2207999851208911, 3.5696327051645751, 3.5696371343559461, 3.5696371343653452, 7.1691849773346927, 2.854486817568783, 5.0084657105092516, 2.139334118752763, 2.1393341187567141, 2.1393341187504804, 2.139334118743768, 2.1393341187389536, 2.1393341187340886, 2.1393341187219503, 2.1393341187183634, 2.1393341187057104, 2.1393341186480317, 2.1393334496005787, 2.1393352621838102, 2.1393124162191786, 2.139297268145079, 19.287078550458922, 37.462972061529307, 3.5901395672995702, 4.9421525634235586, 1.4241848255600902, 1.4241848255578826, 1.4241848255584271, 1.4241848255582548, 1.4241848255541343, 1.4241848255545653, 17.298970508592539, 2.8062423880009391, 4.2936005888272772, 4.3035663671197275, 2.8402446247359219, 2.8506673877419666, 10.825933722722342, 8.5368992874099163, 8.5857729610657447, 14.345616779835154, 12.143877080976726, 9.2985973287419768, 11.447690933434002, 23.753947224604531, 81.002331507265524, 7.8249525094041461, 5.0457705074022563, 20.568303246788002, 5.6580765960757651, 12.094997060721578, 82.722936619876592, 6.4500386379920513, 19.23901030923567, 40.851351749105156, 52.059648803894596, 49.338320405947997, 26.467212721921513, 7.9238989309467476, 2.8194178062239335, 2.8194178062766051, 2.8194243459317261, 7.7858390075932746, 4.9605644168027414, 2.1159570482757606, 2.1159570482792982, 2.1159570482822354, 2.1159570482862851, 2.1159570482973078, 2.1159570483027914, 2.1159570482991192, 2.1159570483069632, 2.1159570483213348, 2.115957048304193, 2.1159570483563517, 2.1159570483373464, 2.1159570484271031, 2.1159588096004551, 2.1159590419869807, 2.1159560974005265, 2.1159626900614179, 2.1160121333586854, 4.2091420841411074, 2.1162792940287893, 3.5424425447069217, 3.542456619625229, 3.5550735523878796, 4.9801272023764627, 1.4124962903112959, 2.827290447290268, 13.426271406599737, 20.568303246788002, 6.3591313374792406, 6.4033556889989391, 82.722936619876592, 30.655994450198609, 23.753947224604531, 11.488223627440433, 26.467212721921513, 9.2300274313773496, 4.9689450137919691, 52.059648803894596, 5.7230203502247496, 81.002331507265524, 7.7834617638916122, 7.7952090570586288, 7.8249525094041461, 7.9589713173514918, 9.9782875474379793, 49.338320405947997, 36.900805420126098, 51.384335477323354, 12.778694821828593, 22.74905080271423, 16.445707780779617, 13.375022369873173, 2.8117668459714302, 2.8117668460145997, 7.6960185675562816, 4.9492437365864967, 2.1108564080482046, 2.1108564080841759, 2.11085640808977, 2.1108564080903158, 2.1108564081167471, 2.1108564080915251, 2.1108573505881649, 2.1108565866537763, 2.110865058238943, 2.110901317647782, 4.2472122389214455, 8.3122658816631585, 3.4786772920240829, 3.478675267759471, 3.5231008368948733, 3.5269178655969, 4.9141010668715364, 4.9219614926738009, 1.4099459702149477, 1.4099459702173194, 1.4099459702196679, 1.4099459702152686, 1.4099459702167865, 1.4099459702177517, 1.4099459702211972, 1.4099459702208017, 4.1900421099543204, 5.6580765960757651, 4.2129017468831211, 5.6567994789884146, 2.8260075184609028, 2.8338819177560577, 2.8450827731238184, 2.8450828875760665, 15.735982649485225, 7.6964214056147124, 11.343895803179366, 5.6809662586654852, 40.851351749105156, 14.92027094816226, 26.435677978233315, 10.710054689807151, 82.722936619876592, 7.8345254324250009, 4.965091219690815, 8.496066777689105, 52.059648803894596, 11.447690933434002, 51.384335477323354, 13.375022369873173, 36.900805420126098, 11.337239170737405, 16.445707780779617, 81.002331507265524, 8.5378462177647929, 14.323547852466293, 3.4540797592602139, 5.541741665914528, 2.0815549878930106, 2.081554987930204, 2.0815549879230919, 2.0815549879291937, 2.0815549879247932, 2.0815549879448945, 2.0815549879725941, 2.0815549879748514, 2.0815549879792914, 2.0815549880065842, 2.0815549880176616, 2.0815549880108626, 2.0815549880239224, 2.0815549880877149, 2.0815563492677107, 2.0815560438743792, 2.0815507831325508, 4.1209863430153408, 4.1897310088802122, 17.434634292755625, 3.435159871399156, 3.4908379459212822, 3.5036893957897606, 1.3952952601382198, 1.3952952601379867, 1.3952952601424489, 1.3952952601434796, 1.3952952601469328, 2.8045765289765447, 2.804577434178908, 2.8045780582932278, 2.8172102429480406, 7.0121326958321744, 8.5359561167635416, 14.92027094816226, 81.002331507265524, 40.851351749105156, 33.031798524214786, 75.07705725262835, 20.568303246788002, 13.375022369873173, 20.326484268530692, 26.435677978233315, 82.722936619876592, 36.900805420126098, 22.74905080271423, 7.0844334853599653, 3.4636112031571065, 4.9651110826133635, 12.094997060721578, 4.1607057996306862, 16.320773872699359, 2.7097588753582151, 2.7097616253698416, 2.0428510943019136, 2.0428510943283325, 2.042851094365322, 2.0428510944047167, 2.0428510943983795, 2.0428510944709402, 2.0428510944950595, 2.0428510945826921, 2.0428510946601279, 2.0428510947931344, 2.042851094881081, 2.0428511526880913, 2.0428531874404374, 2.0428543068297875, 2.0428544579169854, 3.4132229172544433, 1.3759433132900074, 1.3759433132987779, 1.3759433132961656, 1.3759433132979533, 1.3759433133025367, 1.3759433133079049, 1.3759433133092036, 1.3759433133114167, 1.3759433133166854, 1.375943313324381, 1.3759433133283561, 1.3759433133415313, 2.7541831267217738, 2.7562796908639076, 2.7770777759260472, 2.7770747973421397, 2.7785057782341234, 4.8820033303592423, 23.753947224604531, 7.6640210089423322, 3.4497723479246192, 49.338320405947997, 3.4936547175956694, 3.5113051394216521, 8.3122658816631585, 40.851351749105156, 30.655994450198609, 9.2178509524763612, 75.07705725262835, 22.74905080271423, 52.059648803894596, 81.002331507265524, 33.031798524214786, 9.9782875474379793, 4.181445533649093, 6.3578021081377809, 8.5368992874099163, 7.8207201664907444, 7.6964214056147124, 6.411330800652693], \"logprob\": [30.0, 29.0, 28.0, 27.0, 26.0, 25.0, 24.0, 23.0, 22.0, 21.0, 20.0, 19.0, 18.0, 17.0, 16.0, 15.0, 14.0, 13.0, 12.0, 11.0, 10.0, 9.0, 8.0, 7.0, 6.0, 5.0, 4.0, 3.0, 2.0, 1.0, -4.5865999999999998, -5.4881000000000002, -5.4913999999999996, -5.7676999999999996, -5.7676999999999996, -6.1570999999999998, -6.1570999999999998, -6.1570999999999998, -6.1570999999999998, -6.1570999999999998, -6.1570999999999998, -6.1570999999999998, -6.1570999999999998, -6.1570999999999998, -6.1570999999999998, -6.1570999999999998, -6.1570999999999998, -6.1570999999999998, -6.1570999999999998, -6.1570999999999998, -6.1570999999999998, -6.1570999999999998, -6.1570999999999998, -6.1570999999999998, -6.1570999999999998, -6.1570999999999998, -6.1570999999999998, -6.1570999999999998, -6.1571999999999996, -5.4881000000000002, -3.9497, -5.4881000000000002, -4.9393000000000002, -4.0601000000000003, -3.3348, -5.282, -5.0907999999999998, -5.2911000000000001, -3.9851000000000001, -5.7676999999999996, -4.8074000000000003, -5.7676999999999996, -5.7676999999999996, -5.0907999999999998, -5.2698, -3.5476000000000001, -4.2584, -4.5865, -4.6883999999999997, -5.4881000000000002, -4.8074000000000003, -4.2881, -5.5202999999999998, -5.4881000000000002, -4.2910000000000004, -4.9912000000000001, -5.4881000000000002, -5.2969999999999997, -5.1896000000000004, -5.4881000000000002, -5.4881000000000002, -5.6753999999999998, -5.6753999999999998, -5.6755000000000004, -5.6755000000000004, -5.6760000000000002, -4.5065, -6.0648999999999997, -6.0648999999999997, -6.0648999999999997, -6.0648999999999997, -6.0648999999999997, -6.0648999999999997, -6.0648999999999997, -6.0648999999999997, -6.0648999999999997, -6.0648999999999997, -6.0648999999999997, -6.0648999999999997, -6.0648999999999997, -6.0648999999999997, -6.0650000000000004, -5.3989000000000003, -5.6753999999999998, -3.4456000000000002, -6.7115, -6.7115, -6.7115, -6.7115, -6.7115, -6.7115, -6.0648999999999997, -5.3959999999999999, -6.0648999999999997, -6.0648999999999997, -6.0648999999999997, -6.0648999999999997, -5.6755000000000004, -3.5206, -5.0117000000000003, -4.8532000000000002, -5.3958000000000004, -4.8646000000000003, -4.7294999999999998, -4.2847999999999997, -5.3958000000000004, -4.7801999999999998, -4.4006999999999996, -5.1776, -4.4687000000000001, -5.0879000000000003, -5.6699000000000002, -5.6753999999999998, -5.7468000000000004, -5.5697000000000001, -5.6753999999999998, -5.6753999999999998, -5.5202999999999998, -5.5572999999999997, -5.5313999999999997, -5.6753999999999998, -5.6753999999999998, -5.6753999999999998, -5.1368, -5.3551000000000002, -5.6346999999999996, -6.0240999999999998, -6.0240999999999998, -6.0240999999999998, -6.0240999999999998, -6.0240999999999998, -6.0240999999999998, -6.0240999999999998, -6.0240999999999998, -6.0240999999999998, -6.0240999999999998, -6.0240999999999998, -6.0240999999999998, -6.0240999999999998, -6.0240999999999998, -6.0240999999999998, -6.0240999999999998, -6.0240999999999998, -6.0240999999999998, -6.0240999999999998, -5.1368, -5.6345999999999998, -5.6634000000000002, -2.6387999999999998, -5.3550000000000004, -6.6707000000000001, -6.6707000000000001, -6.6707000000000001, -5.0003000000000002, -6.0240999999999998, -6.0240999999999998, -5.3551000000000002, -4.9759000000000002, -4.8059000000000003, -4.9577999999999998, -5.3550000000000004, -5.3551000000000002, -5.3551000000000002, -4.6741999999999999, -5.6345999999999998, -4.9641999999999999, -5.3550000000000004, -5.1368, -4.4875999999999996, -5.3738999999999999, -4.2030000000000003, -4.3087999999999997, -5.6345999999999998, -4.8788999999999998, -5.7670000000000003, -5.4137000000000004, -4.9127999999999998, -5.5481999999999996, -5.3322000000000003, -5.4554, -5.5632999999999999, -5.6173000000000002, -3.5106000000000002, -5.5910000000000002, -5.5910000000000002, -5.5910000000000002, -5.5910000000000002, -5.5911, -5.9805000000000001, -5.9805000000000001, -5.9805000000000001, -5.9805000000000001, -5.9805000000000001, -5.9805000000000001, -5.9805000000000001, -5.9805000000000001, -5.9805000000000001, -5.9805000000000001, -5.9805000000000001, -5.9805999999999999, -5.9806999999999997, -5.9810999999999996, -5.9813999999999998, -6.0225999999999997, -4.8558000000000003, -5.5911999999999997, -5.5910000000000002, -5.5910000000000002, -5.3113999999999999, -5.0932000000000004, -6.6271000000000004, -6.6271000000000004, -5.3113999999999999, -5.3113999999999999, -4.4180999999999999, -4.1665000000000001, -3.7839999999999998, -4.9141000000000004, -5.1496000000000004, -3.9578000000000002, -5.3114999999999997, -5.3113999999999999, -4.9141000000000004, -5.3182999999999998, -4.6306000000000003, -4.9141000000000004, -4.7596999999999996, -5.0932000000000004, -4.8841999999999999, -4.7622999999999998, -4.8042999999999996, -4.7324999999999999, -5.1630000000000003, -5.1989000000000001, -5.5899999999999999, -5.5910000000000002, -5.5910000000000002, -5.3040000000000003, -5.3040000000000003, -5.3040000000000003, -5.5835999999999997, -5.5835999999999997, -5.5838999999999999, -5.6211000000000002, -5.9730999999999996, -5.9730999999999996, -5.9730999999999996, -5.9730999999999996, -5.9730999999999996, -5.9730999999999996, -5.9730999999999996, -5.9730999999999996, -5.9730999999999996, -5.9730999999999996, -5.9730999999999996, -5.9730999999999996, -5.9730999999999996, -5.9730999999999996, -5.9730999999999996, -5.9730999999999996, -5.9730999999999996, -5.9730999999999996, -5.9730999999999996, -5.9730999999999996, -5.9730999999999996, -5.9730999999999996, -5.9730999999999996, -3.8822999999999999, -4.1718000000000002, -4.9067999999999996, -5.3040000000000003, -5.5835999999999997, -5.5835999999999997, -3.5752000000000002, -3.2911000000000001, -4.7548000000000004, -4.9066999999999998, -5.3040000000000003, -5.3040000000000003, -3.8355999999999999, -4.6231, -5.5835999999999997, -5.5835999999999997, -5.5835999999999997, -4.3068, -5.0857999999999999, -5.5835999999999997, -5.5835999999999997, -5.3040000000000003, -5.0857999999999999, -5.0209000000000001, -5.2605000000000004, -5.3040000000000003, -5.0857000000000001, -5.1143000000000001, -5.3040000000000003, -5.2771999999999997, -5.5835999999999997, -5.5835999999999997, -5.2718999999999996, -5.2720000000000002, -5.2720000000000002, -4.6111000000000004, -5.5514999999999999, -5.0599999999999996, -5.9409000000000001, -5.9409000000000001, -5.9409000000000001, -5.9409000000000001, -5.9409000000000001, -5.9409000000000001, -5.9409000000000001, -5.9409000000000001, -5.9409000000000001, -5.9409000000000001, -5.9409999999999998, -5.9409999999999998, -5.9417999999999997, -5.9509999999999996, -3.7869999999999999, -3.1398000000000001, -5.5514999999999999, -5.2718999999999996, -6.5876000000000001, -6.5876000000000001, -6.5876000000000001, -6.5876000000000001, -6.5876000000000001, -6.5876000000000001, -4.1913999999999998, -5.9409000000000001, -5.5514999999999999, -5.5514999999999999, -5.9409000000000001, -5.9409000000000001, -4.7423000000000002, -5.0537000000000001, -5.0537000000000001, -4.7344999999999997, -4.8747999999999996, -5.0536000000000003, -4.9638, -4.5956999999999999, -4.0696000000000003, -5.2718999999999996, -5.5697000000000001, -4.9790999999999999, -5.5529999999999999, -5.2718999999999996, -4.6048, -5.5514999999999999, -5.2607999999999997, -5.0537000000000001, -5.0537000000000001, -5.2721, -5.4946000000000002, -5.5514999999999999, -5.4588000000000001, -5.4588000000000001, -5.4588999999999999, -4.4984999999999999, -4.9611000000000001, -5.8483000000000001, -5.8483000000000001, -5.8483000000000001, -5.8483000000000001, -5.8483000000000001, -5.8483000000000001, -5.8483000000000001, -5.8483000000000001, -5.8483000000000001, -5.8483000000000001, -5.8483000000000001, -5.8483000000000001, -5.8483000000000001, -5.8483000000000001, -5.8483000000000001, -5.8484999999999996, -5.8486000000000002, -5.8491999999999997, -5.1792999999999996, -5.8678999999999997, -5.4588000000000001, -5.4592000000000001, -5.4588999999999999, -5.1791999999999998, -6.4949000000000003, -5.8483000000000001, -4.4074999999999998, -4.2906000000000004, -5.1791999999999998, -5.1891999999999996, -3.8231999999999999, -4.3818999999999999, -4.5210999999999997, -4.9622999999999999, -4.6318000000000001, -5.1792999999999996, -5.4588000000000001, -4.4984000000000002, -5.4588999999999999, -4.5557999999999996, -5.4588000000000001, -5.4588000000000001, -5.4588000000000001, -5.4588000000000001, -5.4602000000000004, -5.0759999999999996, -5.1794000000000002, -5.4188999999999998, -5.4588000000000001, -5.4588000000000001, -5.4588000000000001, -5.4588000000000001, -5.4124999999999996, -5.4124999999999996, -4.4577, -4.9146999999999998, -5.8019999999999996, -5.8019999999999996, -5.8019999999999996, -5.8019999999999996, -5.8019999999999996, -5.8019999999999996, -5.8019999999999996, -5.8019999999999996, -5.8023999999999996, -5.8102, -5.1353, -4.4698000000000002, -5.4124999999999996, -5.4124999999999996, -5.4124999999999996, -5.4124999999999996, -5.1333000000000002, -5.1329000000000002, -6.4485999999999999, -6.4485999999999999, -6.4485999999999999, -6.4485999999999999, -6.4485999999999999, -6.4485999999999999, -6.4485999999999999, -6.4485999999999999, -5.4127999999999998, -5.1318999999999999, -5.4124999999999996, -5.1548999999999996, -5.8019999999999996, -5.8019999999999996, -5.8019999999999996, -5.8019999999999996, -4.2472000000000003, -4.9146000000000001, -4.6003999999999996, -5.1978999999999997, -3.851, -4.6247999999999996, -4.3718000000000004, -4.9146999999999998, -3.9144000000000001, -5.1585999999999999, -5.4124999999999996, -5.2325999999999997, -4.5335999999999999, -5.1329000000000002, -4.6013999999999999, -5.1413000000000002, -4.9249999999999998, -5.1936, -5.1329000000000002, -4.9029999999999996, -5.4035000000000002, -5.4124999999999996, -5.0298999999999996, -4.6325000000000003, -5.6989000000000001, -5.6989000000000001, -5.6989000000000001, -5.6989000000000001, -5.6989000000000001, -5.6989000000000001, -5.6989000000000001, -5.6989000000000001, -5.6989000000000001, -5.6989000000000001, -5.6989000000000001, -5.6989000000000001, -5.6989000000000001, -5.6989000000000001, -5.6989000000000001, -5.6989000000000001, -5.6989999999999998, -5.0297999999999998, -5.0297999999999998, -3.6192000000000002, -5.3124000000000002, -5.3094000000000001, -5.3121999999999998, -6.3455000000000004, -6.3455000000000004, -6.3455000000000004, -6.3455000000000004, -6.3455000000000004, -5.6989000000000001, -5.6989000000000001, -5.6989000000000001, -5.6989000000000001, -5.0297999999999998, -5.0297999999999998, -4.7351000000000001, -4.0662000000000003, -4.4348999999999998, -4.5368000000000004, -4.2325999999999997, -5.0109000000000004, -5.3094000000000001, -5.3094000000000001, -5.4800000000000004, -5.6136999999999997, -5.6779999999999999, -5.6833999999999998, -5.6989000000000001, -5.6989000000000001, -5.6989000000000001, -5.6989000000000001, -5.6989000000000001, -5.6989000000000001, -5.2415000000000003, -5.2415000000000003, -5.6310000000000002, -5.6310000000000002, -5.6310000000000002, -5.6310000000000002, -5.6310000000000002, -5.6310000000000002, -5.6310000000000002, -5.6310000000000002, -5.6310000000000002, -5.6310000000000002, -5.6310000000000002, -5.6310000000000002, -5.6310000000000002, -5.6310000000000002, -5.6310000000000002, -5.2415000000000003, -6.2775999999999996, -6.2775999999999996, -6.2775999999999996, -6.2775999999999996, -6.2775999999999996, -6.2775999999999996, -6.2775999999999996, -6.2775999999999996, -6.2775999999999996, -6.2775999999999996, -6.2775999999999996, -6.2775999999999996, -5.6310000000000002, -5.6310000000000002, -5.6310000000000002, -5.6310000000000002, -5.6310000000000002, -5.2416999999999998, -4.0423, -4.9619, -5.6310000000000002, -3.7924000000000002, -5.6310000000000002, -5.6310000000000002, -5.1969000000000003, -4.5647000000000002, -4.7435999999999998, -5.2415000000000003, -4.8059000000000003, -5.2415000000000003, -5.2416, -5.2441000000000004, -5.6044, -5.6308999999999996, -5.6310000000000002, -5.6310000000000002, -5.6310000000000002, -5.6310000000000002, -5.6310000000000002, -5.6310000000000002]}};\n",
       "\n",
       "function LDAvis_load_lib(url, callback){\n",
       "  var s = document.createElement('script');\n",
       "  s.src = url;\n",
       "  s.async = true;\n",
       "  s.onreadystatechange = s.onload = callback;\n",
       "  s.onerror = function(){console.warn(\"failed to load library \" + url);};\n",
       "  document.getElementsByTagName(\"head\")[0].appendChild(s);\n",
       "}\n",
       "\n",
       "if(typeof(LDAvis) !== \"undefined\"){\n",
       "   // already loaded: just create the visualization\n",
       "   !function(LDAvis){\n",
       "       new LDAvis(\"#\" + \"ldavis_el163221404340741640487926859583\", ldavis_el163221404340741640487926859583_data);\n",
       "   }(LDAvis);\n",
       "}else if(typeof define === \"function\" && define.amd){\n",
       "   // require.js is available: use it to load d3/LDAvis\n",
       "   require.config({paths: {d3: \"https://cdnjs.cloudflare.com/ajax/libs/d3/3.5.5/d3.min\"}});\n",
       "   require([\"d3\"], function(d3){\n",
       "      window.d3 = d3;\n",
       "      LDAvis_load_lib(\"https://cdn.rawgit.com/bmabey/pyLDAvis/files/ldavis.v1.0.0.js\", function(){\n",
       "        new LDAvis(\"#\" + \"ldavis_el163221404340741640487926859583\", ldavis_el163221404340741640487926859583_data);\n",
       "      });\n",
       "    });\n",
       "}else{\n",
       "    // require.js not available: dynamically load d3 & LDAvis\n",
       "    LDAvis_load_lib(\"https://cdnjs.cloudflare.com/ajax/libs/d3/3.5.5/d3.min.js\", function(){\n",
       "         LDAvis_load_lib(\"https://cdn.rawgit.com/bmabey/pyLDAvis/files/ldavis.v1.0.0.js\", function(){\n",
       "                 new LDAvis(\"#\" + \"ldavis_el163221404340741640487926859583\", ldavis_el163221404340741640487926859583_data);\n",
       "            })\n",
       "         });\n",
       "}\n",
       "</script>"
      ],
      "text/plain": [
       "PreparedData(topic_coordinates=            Freq  cluster  topics         x         y\n",
       "topic                                                \n",
       "5      13.018796        1       1  0.167586 -0.070385\n",
       "3      11.894670        1       2 -0.009915  0.128366\n",
       "4      11.223127        1       3 -0.121165 -0.108827\n",
       "1      10.601556        1       4  0.016917  0.016658\n",
       "2      10.492520        1       5 -0.101819 -0.037228\n",
       "6      10.215202        1       6  0.061931 -0.048959\n",
       "9       9.159138        1       7  0.033181  0.076137\n",
       "8       8.712737        1       8 -0.022355  0.081403\n",
       "0       7.695088        1       9 -0.046671  0.015009\n",
       "7       6.987167        1      10  0.022311 -0.052173, topic_info=     Category       Freq           Term      Total  loglift  logprob\n",
       "term                                                                \n",
       "2092  Default  75.000000             vs  75.000000  30.0000  30.0000\n",
       "1363  Default  37.000000           used  37.000000  29.0000  29.0000\n",
       "184   Default  49.000000           mean  49.000000  28.0000  28.0000\n",
       "1681  Default  19.000000  pronunciation  19.000000  27.0000  27.0000\n",
       "2004  Default  36.000000          words  36.000000  26.0000  26.0000\n",
       "76    Default  17.000000          would  17.000000  25.0000  25.0000\n",
       "1617  Default  19.000000          using  19.000000  24.0000  24.0000\n",
       "2126  Default  51.000000        english  51.000000  23.0000  23.0000\n",
       "801   Default  82.000000        correct  82.000000  22.0000  22.0000\n",
       "1898  Default  19.000000         plural  19.000000  21.0000  21.0000\n",
       "2181  Default  21.000000         proper  21.000000  20.0000  20.0000\n",
       "1213  Default  20.000000           verb  20.000000  19.0000  19.0000\n",
       "167   Default  23.000000         versus  23.000000  18.0000  18.0000\n",
       "1836  Default  17.000000        instead  17.000000  17.0000  17.0000\n",
       "1219  Default  52.000000     difference  52.000000  16.0000  16.0000\n",
       "429   Default  40.000000       sentence  40.000000  15.0000  15.0000\n",
       "1679  Default  15.000000       question  15.000000  14.0000  14.0000\n",
       "770   Default  14.000000           name  14.000000  13.0000  13.0000\n",
       "862   Default  20.000000            say  20.000000  12.0000  12.0000\n",
       "1838  Default  14.000000       singular  14.000000  11.0000  11.0000\n",
       "2149  Default  26.000000          usage  26.000000  10.0000  10.0000\n",
       "120   Default   8.000000  grammatically   8.000000   9.0000   9.0000\n",
       "708   Default  33.000000         phrase  33.000000   8.0000   8.0000\n",
       "271   Default   8.000000         object   8.000000   7.0000   7.0000\n",
       "2165  Default  19.000000           like  19.000000   6.0000   6.0000\n",
       "1720  Default  30.000000        meaning  30.000000   5.0000   5.0000\n",
       "1391  Default  10.000000       american  10.000000   4.0000   4.0000\n",
       "467   Default   7.000000          right   7.000000   3.0000   3.0000\n",
       "969   Default   7.000000     possessive   7.000000   2.0000   2.0000\n",
       "823   Default  26.000000            one  26.000000   1.0000   1.0000\n",
       "...       ...        ...            ...        ...      ...      ...\n",
       "978   Topic10   0.733599             id   1.375943   2.0322  -6.2776\n",
       "1231  Topic10   0.733599     appearance   1.375943   2.0322  -6.2776\n",
       "1992  Topic10   1.400524       employee   2.754183   1.9848  -5.6310\n",
       "1975  Topic10   1.400475           fact   2.756280   1.9840  -5.6310\n",
       "1858  Topic10   1.400512   contractions   2.777078   1.9765  -5.6310\n",
       "141   Topic10   1.400510          types   2.777075   1.9765  -5.6310\n",
       "295   Topic10   1.400524        explain   2.778506   1.9760  -5.6310\n",
       "270   Topic10   2.067107          shall   4.882003   1.8017  -5.2417\n",
       "167   Topic10   6.858661         versus  23.753947   1.4189  -4.0423\n",
       "817   Topic10   2.734311          first   7.664021   1.6304  -4.9619\n",
       "752   Topic10   1.400511    interesting   3.449772   1.7596  -5.6310\n",
       "184   Topic10   8.805590           mean  49.338320   0.9378  -3.7924\n",
       "584   Topic10   1.400526   alternatives   3.493655   1.7470  -5.6310\n",
       "469   Topic10   1.400511           deal   3.511305   1.7419  -5.6310\n",
       "120   Topic10   2.161692  grammatically   8.312266   1.3143  -5.1969\n",
       "429   Topic10   4.068064       sentence  40.851352   0.3543  -4.5647\n",
       "1720  Topic10   3.401398        meaning  30.655994   0.4625  -4.7436\n",
       "917   Topic10   2.067403            get   9.217851   1.1662  -5.2415\n",
       "2092  Topic10   3.196207             vs  75.077057  -0.4955  -4.8059\n",
       "818   Topic10   2.067468         origin  22.749051   0.2629  -5.2415\n",
       "1219  Topic10   2.067230     difference  52.059649  -0.5651  -5.2416\n",
       "97    Topic10   2.062090           word  81.002332  -1.0097  -5.2441\n",
       "708   Topic10   1.438181         phrase  33.031799  -0.4730  -5.6044\n",
       "1794  Topic10   1.400607          names   9.978288   0.6976  -5.6309\n",
       "1919  Topic10   1.400542         suffix   4.181446   1.5673  -5.6310\n",
       "407   Topic10   1.400532    punctuation   6.357802   1.1483  -5.6310\n",
       "586   Topic10   1.400529      adjective   8.536899   0.8535  -5.6310\n",
       "406   Topic10   1.400527           make   7.820720   0.9412  -5.6310\n",
       "204   Topic10   1.400522        written   7.696421   0.9572  -5.6310\n",
       "963   Topic10   1.400511     expression   6.411331   1.1399  -5.6310\n",
       "\n",
       "[616 rows x 6 columns], token_table=      Topic      Freq        Term\n",
       "term                             \n",
       "356      10  0.489512  abbreviate\n",
       "1931      1  0.173407      accent\n",
       "1931      2  0.346813      accent\n",
       "1931      6  0.346813      accent\n",
       "1931      9  0.173407      accent\n",
       "682       1  0.381313  acceptable\n",
       "682       4  0.127104  acceptable\n",
       "682       5  0.127104  acceptable\n",
       "682       6  0.127104  acceptable\n",
       "682       7  0.127104  acceptable\n",
       "682      10  0.127104  acceptable\n",
       "347       6  0.934870    accident\n",
       "1815      6  0.712697     account\n",
       "1815     10  0.356348     account\n",
       "1112     10  0.489511    accounts\n",
       "1372      5  0.469109      acting\n",
       "1647      2  0.917285       added\n",
       "2211      3  0.698295  additional\n",
       "586       2  0.234277   adjective\n",
       "586       5  0.117139   adjective\n",
       "586       6  0.468554   adjective\n",
       "586      10  0.117139   adjective\n",
       "1254      5  0.240344  adjectives\n",
       "1254      8  0.240344  adjectives\n",
       "1254      9  0.240344  adjectives\n",
       "1254     10  0.240344  adjectives\n",
       "2042      4  0.703006       admin\n",
       "1573      1  0.918489      admire\n",
       "1699      1  0.918489      adults\n",
       "1673      3  0.928038     adverbs\n",
       "...     ...       ...         ...\n",
       "97        4  0.135799        word\n",
       "97        5  0.049381        word\n",
       "97        6  0.123453        word\n",
       "97        7  0.061727        word\n",
       "97        8  0.049381        word\n",
       "97        9  0.086417        word\n",
       "97       10  0.024691        word\n",
       "2004      2  0.569093       words\n",
       "2004      3  0.081299       words\n",
       "2004      4  0.108399       words\n",
       "2004      7  0.081299       words\n",
       "2004      8  0.108399       words\n",
       "2004      9  0.027100       words\n",
       "76        2  0.114714       would\n",
       "76        5  0.114714       would\n",
       "76        6  0.057357       would\n",
       "76        9  0.688285       would\n",
       "1862      2  0.127796       write\n",
       "1862      3  0.127796       write\n",
       "1862      6  0.383389       write\n",
       "1862      7  0.255593       write\n",
       "1862      9  0.127796       write\n",
       "204       1  0.129931     written\n",
       "204       5  0.129931     written\n",
       "204       7  0.129931     written\n",
       "204       8  0.519722     written\n",
       "204      10  0.129931     written\n",
       "437       2  0.281288         yet\n",
       "437       7  0.562576         yet\n",
       "244       7  0.472599        zero\n",
       "\n",
       "[1010 rows x 3 columns], R=30, lambda_step=0.01, plot_opts={'xlab': 'PC1', 'ylab': 'PC2'}, topic_order=[6, 4, 5, 2, 3, 7, 10, 9, 1, 8])"
      ]
     },
     "execution_count": 438,
     "metadata": {},
     "output_type": "execute_result"
    }
   ],
   "source": [
    "pyLDAvis.gensim.prepare(ldamodel,corpus,dictionary)"
   ]
  },
  {
   "cell_type": "code",
   "execution_count": 439,
   "metadata": {
    "collapsed": false,
    "scrolled": false
   },
   "outputs": [],
   "source": [
    "#wordmodel = word2vec.Word2Vec(allposts)\n",
    "#wordmodel.init_sims(replace=True)\n",
    "#docmodel = doc2vec.Doc2Vec(lablines, min_count=1)\n",
    "\n",
    "\n",
    "docmodel = doc2vec.Doc2Vec(alpha=0.025, min_alpha=0.025)\n",
    "docmodel.build_vocab(lablines)\n",
    "for epoch in range(10):\n",
    "    docmodel.train(lablines)\n",
    "    docmodel.alpha -= 0.002  # decrease the learning rate\n",
    "    docmodel.min_alpha = docmodel.alpha  # fix the learning rate, no decay\n",
    "\n"
   ]
  },
  {
   "cell_type": "code",
   "execution_count": 440,
   "metadata": {
    "collapsed": false
   },
   "outputs": [
    {
     "name": "stdout",
     "output_type": "stream",
     "text": [
      "['one', 'answer', 'business', 'phone']\n"
     ]
    },
    {
     "data": {
      "text/html": [
       "<div>\n",
       "<table border=\"1\" class=\"dataframe\">\n",
       "  <thead>\n",
       "    <tr style=\"text-align: right;\">\n",
       "      <th></th>\n",
       "      <th>Body</th>\n",
       "      <th>Title</th>\n",
       "      <th>Tags</th>\n",
       "    </tr>\n",
       "  </thead>\n",
       "  <tbody>\n",
       "    <tr>\n",
       "      <th>1201</th>\n",
       "      <td>when i was a child  pretty much every children...</td>\n",
       "      <td>english term for a word that differs from anot...</td>\n",
       "      <td>single-word-requests  terminology  word-games</td>\n",
       "    </tr>\n",
       "    <tr>\n",
       "      <th>3617</th>\n",
       "      <td>having studied latin at high school and not be...</td>\n",
       "      <td>what s the origin of pig latin</td>\n",
       "      <td>history  word-games</td>\n",
       "    </tr>\n",
       "  </tbody>\n",
       "</table>\n",
       "</div>"
      ],
      "text/plain": [
       "                                                   Body  \\\n",
       "1201  when i was a child  pretty much every children...   \n",
       "3617  having studied latin at high school and not be...   \n",
       "\n",
       "                                                  Title  \\\n",
       "1201  english term for a word that differs from anot...   \n",
       "3617                    what s the origin of pig latin    \n",
       "\n",
       "                                                 Tags  \n",
       "1201   single-word-requests  terminology  word-games   \n",
       "3617                             history  word-games   "
      ]
     },
     "execution_count": 440,
     "metadata": {},
     "output_type": "execute_result"
    }
   ],
   "source": [
    "input = 'how should one answer a business phone'\n",
    "norm_input = [tok for tok in input.split() if not tok in stop_words and len(tok) > 1 ]\n",
    "print(norm_input)\n",
    "input_vec = docmodel.infer_vector(norm_input)\n",
    "similar_vecs = docmodel.docvecs.most_similar(positive=[input_vec])\n",
    "similartags = [s[0] for s in similar_vecs]\n",
    "\n",
    "def matches(data,col,values):\n",
    "    match = False\n",
    "    for v in values:\n",
    "        match =  data[col].str.contains(v.replace('T_',''))\n",
    "        if match is True:\n",
    "            return match\n",
    "    return match\n",
    "\n",
    "similarposts = posts[matches(posts,'Tags',similartags)]\n",
    "similarposts[['Body','Title', 'Tags']].head(50)"
   ]
  },
  {
   "cell_type": "markdown",
   "metadata": {
    "collapsed": false
   },
   "source": [
    "## References\n",
    "\n",
    "* https://rstudio-pubs-static.s3.amazonaws.com/79360_850b2a69980c4488b1db95987a24867a.html\n",
    "* LDA Viz - http://nlp.stanford.edu/events/illvi2014/papers/sievert-illvi2014.pdf\n",
    "* This dashboard @ https://github.com/dhruvaray/soml\n",
    "    "
   ]
  },
  {
   "cell_type": "code",
   "execution_count": null,
   "metadata": {
    "collapsed": true
   },
   "outputs": [],
   "source": []
  }
 ],
 "metadata": {
  "kernelspec": {
   "display_name": "Python 2",
   "language": "python",
   "name": "python2"
  },
  "language_info": {
   "codemirror_mode": {
    "name": "ipython",
    "version": 2
   },
   "file_extension": ".py",
   "mimetype": "text/x-python",
   "name": "python",
   "nbconvert_exporter": "python",
   "pygments_lexer": "ipython2",
   "version": "2.7.11"
  }
 },
 "nbformat": 4,
 "nbformat_minor": 0
}
