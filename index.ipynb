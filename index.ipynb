{
 "cells": [
  {
   "cell_type": "markdown",
   "metadata": {},
   "source": [
    "# Problem\n",
    "\n",
    "Popular question and answer (qna) site -  stackoverflow (+ their sister sites) allows for download of monthly data dumps from https://archive.org/details/stackexchange.\n",
    "\n",
    "With this data, can we classify the questions/answers based on\n",
    "\n",
    "* Conceptual v/s howto question \n",
    "* Beginner v/s intermediate v/s hard/trick\n",
    "* A particular question is associated with another question in terms of the next things to do or perhaps the pre-requisites?\n",
    "* Predict the next question a user may ask based on this current search\n",
    "\n",
    "The taxanomy could be a useful layout of the land for a student of the area."
   ]
  },
  {
   "cell_type": "markdown",
   "metadata": {},
   "source": [
    "# Schema\n",
    "\n",
    "The schema for their data is located @ https://ia800500.us.archive.org/22/items/stackexchange/readme.txt.\n",
    "    \n",
    "Unfortunately, the data is dumped in an XML format and there is preliminary effort to convert that data into CSV format. We have written a converter (convert2csv.py) for the tables of interest.\n",
    "\n",
    "The schemas for the tables of interest are shown below.\n",
    "\n",
    "\n",
    "## Posts\n",
    "-----------\n",
    "- Id\n",
    "- PostTypeId\n",
    "  - 1: Question\n",
    "  - 2: Answer\n",
    "- ParentID (only present if PostTypeId is 2)\n",
    "- AcceptedAnswerId (only present if PostTypeId is 1)\n",
    "- CreationDate\n",
    "- Score\n",
    "- ViewCount\n",
    "- Body\n",
    "- OwnerUserId\n",
    "- LastEditorUserId\n",
    "- LastEditorDisplayName=\"Jeff Atwood\"\n",
    "- LastEditDate=\"2009-03-05T22:28:34.823\"\n",
    "- LastActivityDate=\"2009-03-11T12:51:01.480\"\n",
    "- CommunityOwnedDate=\"2009-03-11T12:51:01.480\"\n",
    "- ClosedDate=\"2009-03-11T12:51:01.480\"\n",
    "- Title=\n",
    "- Tags=\n",
    "- AnswerCount\n",
    "- CommentCount\n",
    "- FavoriteCount\n",
    "\n",
    "## Comments\n",
    "---------------------------\n",
    "- Id\n",
    "- PostId\n",
    "- Score\n",
    "- Text, e.g.: \"@Stu Thompson: Seems possible to me - why not try it?\"\n",
    "- CreationDate, e.g.:\"2008-09-06T08:07:10.730\"\n",
    "- UserId\n",
    "\n",
    "## Post History\n",
    "---------------------------\n",
    "- Id\n",
    "- PostHistoryTypeId\n",
    "    - 1: Initial Title - The first title a question is asked with.\n",
    "    - 2: Initial Body - The first raw body text a post is submitted with.\n",
    "    - 3: Initial Tags - The first tags a question is asked with.\n",
    "    - 4: Edit Title - A question's title has been changed.\n",
    "    - 5: Edit Body - A post's body has been changed, the raw text is stored here as markdown.\n",
    "    - 6: Edit Tags - A question's tags have been changed.\n",
    "    - 7: Rollback Title - A question's title has reverted to a previous version.\n",
    "    - 8: Rollback Body - A post's body has reverted to a previous version - the raw text is stored here.\n",
    "    - 9: Rollback Tags - A question's tags have reverted to a previous version.\n",
    "    - 10: Post Closed - A post was voted to be closed.\n",
    "    - 11: Post Reopened - A post was voted to be reopened.\n",
    "    - 12: Post Deleted - A post was voted to be removed.\n",
    "    - 13: Post Undeleted - A post was voted to be restored.\n",
    "    - 14: Post Locked - A post was locked by a moderator.\n",
    "    - 15: Post Unlocked - A post was unlocked by a moderator.\n",
    "    - 16: Community Owned - A post has become community owned.\n",
    "    - 17: Post Migrated - A post was migrated.\n",
    "    - 18: Question Merged - A question has had another, deleted question merged into itself.\n",
    "    - 19: Question Protected - A question was protected by a moderator\n",
    "    - 20: Question Unprotected - A question was unprotected by a moderator\n",
    "    - 21: Post Disassociated - An admin removes the OwnerUserId from a post.\n",
    "    - 22: Question Unmerged - A previously merged question has had its answers and votes restored.\n",
    "- PostId\n",
    "- RevisionGUID: At times more than one type of history record can be recorded by a single action.  \n",
    "- CreationDate: \"2009-03-05T22:28:34.823\"\n",
    "- UserId\n",
    "- UserDisplayName: populated if a user has been removed and no longer referenced by user Id\n",
    "- Comment: This field will contain the comment made by the user who edited a post\n",
    "- Text: A raw version of the new value for a given revision. \n",
    "- CloseReasonId\n",
    "    - 1: Exact Duplicate - This question covers exactly the same ground as earlier questions on this topic; its answers may be merged with another identical question.\n",
    "    - 2: off-topic\n",
    "    - 3: subjective\n",
    "    - 4: not a real question\n",
    "    - 7: too localized\n",
    "       \n",
    "       \n",
    "## Users\n",
    "---------------------------\n",
    " - Id\n",
    " - Reputation\n",
    " - CreationDate\n",
    " - DisplayName\n",
    " - EmailHash\n",
    " - LastAccessDate\n",
    " - WebsiteUrl\n",
    " - Location\n",
    " - Age\n",
    " - AboutMe\n",
    " - Views\n",
    " - UpVotes\n",
    " - DownVotes\n",
    "       "
   ]
  },
  {
   "cell_type": "markdown",
   "metadata": {},
   "source": [
    "# Conversion from XML to CSV\n",
    "\n",
    "Run python convert2csv.py to convert each of the xml files to their CSV equivalents. For columns/attributes which contain textual data, the converter encodes them with base64 encoding so that handling of quotes and special characters (separators) is avoided. \n",
    "\n",
    "When the data is read back into the dataframe, the corresponding decode (from base64) needs to happen. The converter also creates a sample file of 100 rows for each xml data dump converted."
   ]
  },
  {
   "cell_type": "code",
   "execution_count": 14,
   "metadata": {
    "collapsed": false
   },
   "outputs": [],
   "source": [
    "#imports\n",
    "import pandas as pd\n",
    "import base64\n",
    "import math\n",
    "import re\n",
    "import gensim\n",
    "from gensim import corpora, models\n",
    "import nltk\n",
    "from nltk.corpus import stopwords\n",
    "from bs4 import BeautifulSoup \n",
    "from nltk.stem.porter import PorterStemmer\n",
    "\n",
    "%matplotlib inline\n",
    "import matplotlib\n",
    "import numpy as np\n",
    "import matplotlib.pyplot as plt\n",
    "\n",
    "import pyLDAvis\n",
    "import pyLDAvis.gensim\n",
    "\n",
    "\n",
    "SAMPLE_SIZE = 500"
   ]
  },
  {
   "cell_type": "code",
   "execution_count": 15,
   "metadata": {
    "collapsed": false
   },
   "outputs": [
    {
     "data": {
      "text/html": [
       "<div>\n",
       "<table border=\"1\" class=\"dataframe\">\n",
       "  <thead>\n",
       "    <tr style=\"text-align: right;\">\n",
       "      <th></th>\n",
       "      <th>Body</th>\n",
       "      <th>Title</th>\n",
       "      <th>Tags</th>\n",
       "    </tr>\n",
       "  </thead>\n",
       "  <tbody>\n",
       "    <tr>\n",
       "      <th>0</th>\n",
       "      <td>When should I use can? When should I use could...</td>\n",
       "      <td>When do I use \"can\" or \"could\"?</td>\n",
       "      <td>&lt;word-choice&gt;&lt;tenses&gt;&lt;politeness&gt;&lt;subjunctive-...</td>\n",
       "    </tr>\n",
       "    <tr>\n",
       "      <th>1</th>\n",
       "      <td>Doesn't \"quint\" mean \"five\"?  What does that h...</td>\n",
       "      <td>Where does the \"quint\" in \"quintessential\" com...</td>\n",
       "      <td>&lt;etymology&gt;</td>\n",
       "    </tr>\n",
       "    <tr>\n",
       "      <th>2</th>\n",
       "      <td>Which is the correct use of these two words, a...</td>\n",
       "      <td>When should I use \"shall\" versus \"will\"?</td>\n",
       "      <td>&lt;future-tense&gt;&lt;shall-future&gt;&lt;will-future&gt;</td>\n",
       "    </tr>\n",
       "    <tr>\n",
       "      <th>4</th>\n",
       "      <td>I think most folk happily use either \"while\" o...</td>\n",
       "      <td>When did \"while\" and \"whilst\" become interchan...</td>\n",
       "      <td>&lt;word-choice&gt;&lt;grammar&gt;&lt;etymology&gt;&lt;conjunctions&gt;</td>\n",
       "    </tr>\n",
       "    <tr>\n",
       "      <th>5</th>\n",
       "      <td>\\n\\nI may not be coming in tomorrow... \\nI mig...</td>\n",
       "      <td>\"May\" &amp; \"Might\": What's the right context?</td>\n",
       "      <td>&lt;word-choice&gt;&lt;grammar&gt;&lt;modal-verbs&gt;&lt;auxiliary-...</td>\n",
       "    </tr>\n",
       "  </tbody>\n",
       "</table>\n",
       "</div>"
      ],
      "text/plain": [
       "                                                Body  \\\n",
       "0  When should I use can? When should I use could...   \n",
       "1  Doesn't \"quint\" mean \"five\"?  What does that h...   \n",
       "2  Which is the correct use of these two words, a...   \n",
       "4  I think most folk happily use either \"while\" o...   \n",
       "5  \\n\\nI may not be coming in tomorrow... \\nI mig...   \n",
       "\n",
       "                                               Title  \\\n",
       "0                    When do I use \"can\" or \"could\"?   \n",
       "1  Where does the \"quint\" in \"quintessential\" com...   \n",
       "2           When should I use \"shall\" versus \"will\"?   \n",
       "4  When did \"while\" and \"whilst\" become interchan...   \n",
       "5         \"May\" & \"Might\": What's the right context?   \n",
       "\n",
       "                                                Tags  \n",
       "0  <word-choice><tenses><politeness><subjunctive-...  \n",
       "1                                        <etymology>  \n",
       "2          <future-tense><shall-future><will-future>  \n",
       "4    <word-choice><grammar><etymology><conjunctions>  \n",
       "5  <word-choice><grammar><modal-verbs><auxiliary-...  "
      ]
     },
     "execution_count": 15,
     "metadata": {},
     "output_type": "execute_result"
    }
   ],
   "source": [
    "posts = pd.read_csv('posts.csv',nrows=SAMPLE_SIZE).dropna(subset=['Body','Title'])\n",
    "posts['Body'] = posts['Body'].apply(lambda x : BeautifulSoup(base64.b64decode(x),\"lxml\").get_text())\n",
    "posts['Title'] = posts['Title'].apply(lambda x : BeautifulSoup(base64.b64decode(x),\"lxml\").get_text())\n",
    "posts[['Body','Title', 'Tags']].head(5)"
   ]
  },
  {
   "cell_type": "markdown",
   "metadata": {},
   "source": [
    "### Notice that we have stripped out the html formatting tags with BeautifulSoup before reassigning back to the dataframe"
   ]
  },
  {
   "cell_type": "code",
   "execution_count": 16,
   "metadata": {
    "collapsed": false
   },
   "outputs": [
    {
     "data": {
      "text/html": [
       "<div>\n",
       "<table border=\"1\" class=\"dataframe\">\n",
       "  <thead>\n",
       "    <tr style=\"text-align: right;\">\n",
       "      <th></th>\n",
       "      <th>Score</th>\n",
       "      <th>Text</th>\n",
       "    </tr>\n",
       "  </thead>\n",
       "  <tbody>\n",
       "    <tr>\n",
       "      <th>0</th>\n",
       "      <td>9</td>\n",
       "      <td>I think you need to edit the title of your que...</td>\n",
       "    </tr>\n",
       "    <tr>\n",
       "      <th>1</th>\n",
       "      <td>12</td>\n",
       "      <td>It's correct when you're accessing a method of...</td>\n",
       "    </tr>\n",
       "    <tr>\n",
       "      <th>2</th>\n",
       "      <td>2</td>\n",
       "      <td>Yes, I would think in almost any context where...</td>\n",
       "    </tr>\n",
       "    <tr>\n",
       "      <th>3</th>\n",
       "      <td>0</td>\n",
       "      <td>Would you say `It can certainly be \"acceptable...</td>\n",
       "    </tr>\n",
       "    <tr>\n",
       "      <th>4</th>\n",
       "      <td>4</td>\n",
       "      <td>@serg555: Would you expect anything less on a ...</td>\n",
       "    </tr>\n",
       "  </tbody>\n",
       "</table>\n",
       "</div>"
      ],
      "text/plain": [
       "   Score                                               Text\n",
       "0      9  I think you need to edit the title of your que...\n",
       "1     12  It's correct when you're accessing a method of...\n",
       "2      2  Yes, I would think in almost any context where...\n",
       "3      0  Would you say `It can certainly be \"acceptable...\n",
       "4      4  @serg555: Would you expect anything less on a ..."
      ]
     },
     "execution_count": 16,
     "metadata": {},
     "output_type": "execute_result"
    }
   ],
   "source": [
    "comments = pd.read_csv('comments.csv',nrows=SAMPLE_SIZE).dropna()\n",
    "comments['Text'] = comments['Text'].apply(lambda x : BeautifulSoup(base64.b64decode(x),\"lxml\").get_text())\n",
    "comments[['Score','Text']].head(5)"
   ]
  },
  {
   "cell_type": "code",
   "execution_count": 17,
   "metadata": {
    "collapsed": false
   },
   "outputs": [],
   "source": [
    "#posthistory = pd.read_csv('posthistory.csv',nrows=SAMPLE_SIZE).dropna(subset=['Text'])\n",
    "#posthistory['Text'] = posthistory['Text'].apply(lambda x : BeautifulSoup(base64.b64decode(x),\"lxml\").get_text())\n",
    "#posthistory[['Text']].head(5)"
   ]
  },
  {
   "cell_type": "code",
   "execution_count": 28,
   "metadata": {
    "collapsed": false
   },
   "outputs": [
    {
     "data": {
      "text/html": [
       "<div>\n",
       "<table border=\"1\" class=\"dataframe\">\n",
       "  <thead>\n",
       "    <tr style=\"text-align: right;\">\n",
       "      <th></th>\n",
       "      <th>Location</th>\n",
       "      <th>AboutMe</th>\n",
       "    </tr>\n",
       "  </thead>\n",
       "  <tbody>\n",
       "    <tr>\n",
       "      <th>0</th>\n",
       "      <td>on the server farm</td>\n",
       "      <td>Hi, I'm not really a person.\\nI'm a background...</td>\n",
       "    </tr>\n",
       "    <tr>\n",
       "      <th>1</th>\n",
       "      <td>Corvallis, OR</td>\n",
       "      <td>Developer on the Stack Overflow team.  Find me...</td>\n",
       "    </tr>\n",
       "    <tr>\n",
       "      <th>2</th>\n",
       "      <td>New York, NY</td>\n",
       "      <td>Developer on the Stack Overflow team.\\nWas dub...</td>\n",
       "    </tr>\n",
       "    <tr>\n",
       "      <th>3</th>\n",
       "      <td>Raleigh, NC</td>\n",
       "      <td>I design stuff for Stack Exchange. Also a prof...</td>\n",
       "    </tr>\n",
       "    <tr>\n",
       "      <th>4</th>\n",
       "      <td>California</td>\n",
       "      <td>I slip my front end into the back end, and the...</td>\n",
       "    </tr>\n",
       "  </tbody>\n",
       "</table>\n",
       "</div>"
      ],
      "text/plain": [
       "             Location                                            AboutMe\n",
       "0  on the server farm  Hi, I'm not really a person.\\nI'm a background...\n",
       "1       Corvallis, OR  Developer on the Stack Overflow team.  Find me...\n",
       "2        New York, NY  Developer on the Stack Overflow team.\\nWas dub...\n",
       "3         Raleigh, NC  I design stuff for Stack Exchange. Also a prof...\n",
       "4          California  I slip my front end into the back end, and the..."
      ]
     },
     "execution_count": 28,
     "metadata": {},
     "output_type": "execute_result"
    }
   ],
   "source": [
    "users = pd.read_csv('users.csv',nrows=SAMPLE_SIZE).dropna(subset=['AboutMe','Location'])\n",
    "users['AboutMe'] = users['AboutMe'].apply(lambda x : BeautifulSoup(base64.b64decode(x),\"lxml\").get_text())\n",
    "users['Location'] = users['Location'].apply(lambda x : BeautifulSoup(base64.b64decode(x),\"lxml\").get_text())\n",
    "users[['Location','AboutMe']].head(5)"
   ]
  },
  {
   "cell_type": "markdown",
   "metadata": {},
   "source": [
    "## Further cleansing\n",
    "\n",
    "* Remove (html) tags & carriage returns from the Text field\n",
    "* Remove stop words (pick up the nltk stop words)\n",
    "* Use PorterStemmer to stem words"
   ]
  },
  {
   "cell_type": "code",
   "execution_count": 27,
   "metadata": {
    "collapsed": false
   },
   "outputs": [],
   "source": [
    "#global\n",
    "p_stemmer = PorterStemmer()\n",
    "stop_words = stopwords.words('english')\n",
    "stop_words.append('use')\n",
    "#print(stop_words)"
   ]
  },
  {
   "cell_type": "code",
   "execution_count": 20,
   "metadata": {
    "collapsed": false
   },
   "outputs": [],
   "source": [
    "class SentenceTokens():\n",
    "    def __init__(self,df,field):\n",
    "        self.field = field\n",
    "        self.df = df\n",
    "    \n",
    "    def __iter__(self):\n",
    "      for index, row in self.df.iterrows():\n",
    "         raw_sentence = row[self.field].replace('\\n','').lower()\n",
    "         raw_tokens = filter(None, re.split(\"[ ?.,\\\"\\']+\",raw_sentence))\n",
    "         #stem_tokens = [p_stemmer.stem(tok) for tok in raw_tokens]\n",
    "         yield [tok for tok in raw_tokens if not tok in stop_words]\n",
    "\n",
    "#all posts is a list of (list of tokens). The inner list of tokens is created once for each post\n",
    "allposts = SentenceTokens(posts,'Body')\n",
    "\n",
    "#for p in allposts:\n",
    "#    print(p)"
   ]
  },
  {
   "cell_type": "code",
   "execution_count": 21,
   "metadata": {
    "collapsed": false
   },
   "outputs": [],
   "source": [
    "#How frequently each term occurs within each document? We construct a document-term matrix.\n",
    "dictionary = corpora.Dictionary(allposts)\n",
    "#print(dictionary.token2id) #maps ids to tokens"
   ]
  },
  {
   "cell_type": "code",
   "execution_count": 22,
   "metadata": {
    "collapsed": false
   },
   "outputs": [
    {
     "name": "stdout",
     "output_type": "stream",
     "text": [
      "[(0, 1), (1, 1), (2, 1)]\n"
     ]
    }
   ],
   "source": [
    "#bag of words\n",
    "corpus = [dictionary.doc2bow(text) for text in allposts]\n",
    "#corpus, is a list of vectors equal to the number of documents. \n",
    "#In each document vector is a series of tuples. \n",
    "print(corpus[0])\n",
    "#(term ID, term frequency) pairs"
   ]
  },
  {
   "cell_type": "code",
   "execution_count": 23,
   "metadata": {
    "collapsed": true
   },
   "outputs": [],
   "source": [
    "ldamodel = gensim.models.ldamodel.LdaModel(corpus, num_topics=10, id2word = dictionary, passes=30)\n",
    "\n",
    "#num_topics: required. An LDA model requires the user to determine how many topics should be generated. \n",
    "#id2word: required. The LdaModel class requires our previous dictionary to map ids to strings.\n",
    "#passes: optional. The number of laps the model will take through corpus."
   ]
  },
  {
   "cell_type": "code",
   "execution_count": 24,
   "metadata": {
    "collapsed": true
   },
   "outputs": [],
   "source": [
    "from __future__ import print_function\n",
    "from ipywidgets import interact, interactive, fixed\n",
    "import ipywidgets as widgets"
   ]
  },
  {
   "cell_type": "code",
   "execution_count": 29,
   "metadata": {
    "collapsed": false
   },
   "outputs": [
    {
     "data": {
      "text/plain": [
       "[(5,\n",
       "  u'0.017*people + 0.015*correct + 0.013*used + 0.013*different + 0.011*say + 0.010*english'),\n",
       " (9,\n",
       "  u'0.030*english + 0.010*one + 0.010*language + 0.009*like + 0.009*people + 0.008*words'),\n",
       " (3,\n",
       "  u'0.016*try + 0.011*seems + 0.011*whilst + 0.011*pretty + 0.011*often + 0.011*\\u201cemployee\\u201d'),\n",
       " (0,\n",
       "  u'0.014*one + 0.014*english + 0.013*= + 0.011*written + 0.009*correct + 0.009*people'),\n",
       " (8,\n",
       "  u'0.011*instead + 0.011*right + 0.011*may + 0.008*2010april + 0.008*word + 0.008*sentences')]"
      ]
     },
     "metadata": {},
     "output_type": "display_data"
    }
   ],
   "source": [
    "@interact(num_topics=5, num_words=6)\n",
    "def understand(num_topics, num_words):\n",
    "    return ldamodel.print_topics(num_topics, num_words)\n",
    "    \n",
    "#Each generated topic is separated by a comma.\n",
    "#Within each topic are the three most probable words to appear in that topic.\n",
    "\n",
    "#interact(understand, x=widgets.IntSlider(min=0,max=300,step=1,value=10));"
   ]
  },
  {
   "cell_type": "code",
   "execution_count": 26,
   "metadata": {
    "collapsed": false
   },
   "outputs": [
    {
     "data": {
      "text/html": [
       "\n",
       "<link rel=\"stylesheet\" type=\"text/css\" href=\"https://cdn.rawgit.com/bmabey/pyLDAvis/files/ldavis.v1.0.0.css\">\n",
       "\n",
       "\n",
       "<div id=\"ldavis_el16322140434926958416278568353\"></div>\n",
       "<script type=\"text/javascript\">\n",
       "\n",
       "var ldavis_el16322140434926958416278568353_data = {\"plot.opts\": {\"xlab\": \"PC1\", \"ylab\": \"PC2\"}, \"topic.order\": [6, 5, 3, 10, 1, 2, 8, 4, 9, 7], \"token.table\": {\"Topic\": [2, 2, 4, 10, 10, 10, 8, 1, 10, 7, 1, 1, 2, 3, 6, 7, 10, 9, 1, 9, 3, 9, 9, 5, 5, 5, 5, 5, 10, 1, 4, 6, 9, 4, 2, 6, 9, 7, 1, 4, 5, 8, 5, 8, 10, 1, 2, 3, 4, 5, 6, 7, 7, 3, 8, 1, 3, 4, 5, 10, 4, 5, 10, 1, 4, 5, 5, 5, 6, 1, 2, 5, 6, 7, 9, 10, 3, 4, 5, 3, 9, 1, 2, 3, 5, 1, 8, 6, 6, 5, 3, 1, 1, 2, 4, 6, 3, 3, 3, 1, 2, 1, 6, 1, 7, 8, 4, 5, 8, 3, 9, 3, 4, 1, 4, 5, 1, 1, 3, 7, 10, 7, 7, 10, 2, 10, 6, 4, 5, 4, 7, 9, 10, 1, 2, 3, 4, 5, 6, 8, 1, 9, 2, 2, 3, 6, 9, 9, 1, 2, 1, 3, 4, 10, 4, 6, 7, 1, 5, 3, 9, 3, 4, 10, 1, 5, 3, 1, 3, 5, 7, 10, 3, 2, 9, 5, 6, 10, 6, 10, 3, 3, 1, 2, 3, 5, 6, 7, 9, 1, 2, 3, 4, 6, 9, 2, 4, 3, 1, 3, 6, 10, 2, 8, 9, 3, 6, 3, 8, 5, 5, 5, 5, 2, 3, 4, 5, 8, 9, 3, 5, 6, 9, 10, 1, 3, 9, 10, 10, 8, 2, 1, 5, 6, 7, 10, 3, 4, 1, 10, 2, 3, 5, 7, 6, 7, 10, 1, 2, 3, 6, 8, 1, 6, 1, 3, 4, 5, 6, 9, 10, 5, 7, 9, 1, 2, 6, 1, 5, 9, 2, 6, 1, 2, 3, 8, 1, 2, 3, 5, 6, 7, 10, 9, 9, 8, 8, 1, 8, 1, 2, 4, 4, 3, 1, 4, 6, 9, 6, 1, 4, 7, 4, 7, 1, 2, 3, 5, 6, 7, 9, 1, 2, 3, 6, 10, 1, 2, 3, 6, 9, 9, 6, 10, 3, 5, 7, 1, 4, 10, 9, 1, 6, 7, 10, 2, 3, 6, 4, 5, 3, 6, 9, 4, 5, 10, 5, 6, 8, 2, 3, 9, 5, 1, 3, 6, 7, 8, 7, 1, 3, 3, 5, 7, 8, 9, 5, 6, 1, 1, 6, 1, 6, 7, 8, 1, 2, 5, 6, 9, 2, 1, 4, 1, 1, 2, 8, 8, 1, 4, 9, 7, 3, 3, 1, 3, 10, 1, 3, 5, 7, 9, 10, 6, 9, 7, 6, 1, 2, 3, 4, 5, 6, 10, 9, 1, 2, 3, 4, 5, 6, 7, 1, 9, 7, 9, 4, 4, 6, 1, 2, 3, 4, 5, 6, 7, 8, 9, 10, 1, 3, 10, 1, 3, 4, 6, 3, 2, 4, 1, 3, 4, 6, 7, 1, 4, 9, 1, 2, 3, 5, 7, 2, 3, 5, 6, 7, 8, 9, 8, 4, 10, 7, 9, 1, 2, 9, 1, 6, 7, 10, 1, 4, 8, 1, 4, 8, 9, 10, 4, 8, 4, 1, 1, 2, 4, 5, 8, 4, 10, 9, 5, 1, 4, 5, 7, 8, 10, 1, 5, 8, 9, 10, 1, 2, 3, 4, 5, 6, 7, 8, 9, 4, 6, 8, 10, 3, 2, 5, 4, 3, 4, 8, 2, 4, 2, 9, 1, 2, 4, 5, 6, 7, 10, 9, 1, 6, 7, 9, 10, 6, 2, 7, 2, 1, 2, 3, 4, 3, 1, 3, 4, 7, 10, 1, 5, 7, 8, 1, 1, 3, 4, 5, 7, 1, 6, 4, 8, 4, 6, 8, 2, 4, 6, 9, 10, 4, 1, 2, 4, 1, 2, 3, 4, 5, 9, 10, 10, 1, 2, 3, 4, 8, 2, 7, 1, 4, 7, 9, 4, 3, 5, 1, 8, 4, 4, 5, 1, 1, 10, 7, 7, 5, 2, 1, 2, 5, 2, 10, 2, 1, 2, 3, 4, 6, 7, 8, 9, 7, 6, 8, 1, 3, 9, 2, 10, 1, 2, 9, 2, 8, 1, 1, 2, 5, 6, 7, 8, 9, 1, 3, 4, 5, 6, 7, 8, 9, 10, 2, 1, 6, 7, 8, 9, 10, 10, 1, 1, 2, 3, 4, 6, 7, 9, 1, 3, 6, 9, 9, 5, 8, 4, 7, 7, 6, 9, 5, 7, 2, 3, 8, 1, 9, 10, 7, 2, 1, 4, 8, 9, 1, 2, 3, 5, 7, 9, 6, 1, 6, 7, 9, 1, 4, 9, 8, 2, 3, 5, 4, 1, 1, 6, 7, 8, 8, 9, 8, 2, 6, 7, 10, 2, 7, 7, 3, 3, 1, 4, 10, 7, 9, 10, 6, 9, 1, 2, 3, 4, 6, 8, 6, 6, 1, 2, 3, 8, 9, 3, 9, 6, 9, 1, 2, 6, 5, 3, 5, 8, 8, 1, 3, 6, 1, 2, 3, 5, 9, 10, 10, 9, 2, 9, 6, 1, 2, 3, 4, 6, 7, 9, 1, 2, 4, 5, 6, 7, 9, 10, 1, 2, 3, 4, 7, 8, 4, 6, 4, 5, 6, 7, 4, 5, 5, 1, 5, 6, 7, 8, 1, 4, 5, 6, 8, 2, 3, 8, 2, 4, 6, 7, 1, 3, 7, 9, 8, 7, 6, 7, 10, 1, 2, 3, 4, 6, 8, 9, 10, 10, 2, 3, 4, 5, 6, 7, 8, 10, 7, 1, 2, 3, 4, 5, 6, 9, 1, 3, 4, 10, 4, 5, 6, 7, 9, 10, 1, 2, 3, 4, 6, 2, 6, 7, 8, 8], \"Freq\": [0.81900168994861022, 0.48378614297886913, 0.74584852109888577, 0.83890281202431716, 0.83890281203533357, 0.838902811972985, 0.79238067818892866, 0.87827507028673701, 0.83890281201476791, 0.7816026906227499, 0.77005450563905176, 0.16877603564209551, 0.16877603564209551, 0.16877603564209551, 0.16877603564209551, 0.16877603564209551, 0.16877603564209551, 0.79887552658137106, 0.77005320409453393, 0.54201369586778303, 0.73974820644198847, 0.79887552658076655, 0.82028257068044563, 0.84646138280753769, 0.74828915902247584, 0.49647096808523294, 0.49647096808864649, 0.49647096808819724, 0.83890281191477556, 0.24519426563765825, 0.24519426563765825, 0.24519426563765825, 0.24519426563765825, 0.74584852108521238, 0.31087020194849457, 0.31087020194849457, 0.31087020194849457, 0.52623318920007178, 0.41286658431544826, 0.20643329215772413, 0.20643329215772413, 0.20643329215772413, 0.49647100045891301, 0.79238067817187918, 0.8389028120296036, 0.30832779978943187, 0.10277593326314395, 0.10277593326314395, 0.10277593326314395, 0.2055518665262879, 0.10277593326314395, 0.2055518665262879, 0.52623438650896981, 0.37756546266470353, 0.37756546266470353, 0.33017058029060692, 0.11005686009686898, 0.11005686009686898, 0.22011372019373796, 0.11005686009686898, 0.37086157046387025, 0.37086157046387025, 0.83890281199086014, 0.28524620457973865, 0.28524620457973865, 0.28524620457973865, 0.49647139179139305, 0.89023787211192729, 0.75408990829119416, 0.13997885110715588, 0.13997885110715588, 0.13997885110715588, 0.13997885110715588, 0.13997885110715588, 0.13997885110715588, 0.13997885110715588, 0.73974820643886896, 0.49250916028270109, 0.24625458014135054, 0.39397360140935639, 0.39397360140935639, 0.20195102041720767, 0.40390204083441533, 0.20195102041720767, 0.20195102041720767, 0.30503768588744173, 0.61007537177488347, 0.50159090986745603, 0.75408990829290468, 0.49647096808803304, 0.48897949137057289, 0.87827591144373407, 0.97197213311938246, 0.36373720818139077, 0.36373720818139077, 0.75408990829243983, 0.73974820643948425, 0.48897949136480401, 0.73974820644130335, 0.87827575749204956, 0.48378596463755369, 0.3567634560963337, 0.3567634560963337, 0.30342665271043606, 0.30342665271043606, 0.30342665271043606, 0.74584852109274824, 0.49647096810038088, 0.79238067818163482, 0.37903368911919882, 0.37903368911919882, 0.48897949138227248, 0.49432452547635058, 0.28524633028840801, 0.28524633028840801, 0.28524633028840801, 0.8782750703623452, 0.34821911375401093, 0.69643822750802187, 0.42618579634537995, 0.42618579634537995, 0.95478705421447374, 0.79327834295239541, 0.83890281196297134, 0.38453888157257837, 0.38453888157257837, 0.50159090986876709, 0.59119095732604765, 0.29559547866302383, 0.74584852108236099, 0.32396823902009891, 0.32396823902009891, 0.83890281193745042, 0.46126377719771855, 0.092252755439543713, 0.092252755439543713, 0.092252755439543713, 0.092252755439543713, 0.092252755439543713, 0.092252755439543713, 0.85013143059042717, 0.54201202632280454, 0.73378961038103185, 0.483786355100847, 0.87422674781128928, 0.75408990829171196, 0.5420122441209384, 0.54201328018980943, 0.79140046144132503, 0.26380015381377497, 0.62838377667262801, 0.1256767553345256, 0.1256767553345256, 0.1256767553345256, 0.49432549276851623, 0.38943050676503049, 0.38943050676503049, 0.87827672893672382, 0.74828915901970849, 0.73974820643993999, 0.54201173119953894, 0.32247760347149912, 0.32247760347149912, 0.32247760347149912, 0.87827647673650877, 0.49647096808582653, 0.48897949136686392, 0.22090658337141469, 0.22090658337141469, 0.22090658337141469, 0.22090658337141469, 0.22090658337141469, 0.73974820644056638, 0.37590532978910046, 0.37590532978910046, 0.31101724388502133, 0.31101724388502133, 0.31101724388502133, 0.75408990829226574, 0.8389028120272598, 0.48897949138298258, 0.48897949138606356, 0.40500925083199013, 0.16200370033279604, 0.16200370033279604, 0.12150277524959703, 0.04050092508319901, 0.04050092508319901, 0.04050092508319901, 0.79139938145051214, 0.26379979381683738, 0.49531220208806442, 0.16510406736268815, 0.16510406736268815, 0.16510406736268815, 0.48378643838467739, 0.74584852109662136, 0.73974820644045924, 0.97197069607452025, 0.36864585120791615, 0.36864585120791615, 0.83890281188610016, 0.48378609560446478, 0.81005297238777108, 0.79887552658436289, 0.73974820644136219, 0.50159090986737187, 0.37756473275625413, 0.37756473275625413, 0.49646988816627258, 0.89022794568291286, 0.49646550606386169, 0.74828915902255955, 0.13704705558121449, 0.27409411116242899, 0.13704705558121449, 0.13704705558121449, 0.13704705558121449, 0.13704705558121449, 0.2615131793127739, 0.2615131793127739, 0.2615131793127739, 0.2615131793127739, 0.2615131793127739, 0.79078897915116586, 0.087865442127907326, 0.087865442127907326, 0.087865442127907326, 0.83890281202595307, 0.79238067818055158, 0.81900015541267157, 0.27662492808718075, 0.13831246404359038, 0.13831246404359038, 0.27662492808718075, 0.13831246404359038, 0.48897946289453992, 0.49432546681632256, 0.87827780320409554, 0.83890281185503301, 0.24703384109636109, 0.24703384109636109, 0.24703384109636109, 0.24703384109636109, 0.26532998886407616, 0.26532998886407616, 0.26532998886407616, 0.29051587410291574, 0.14525793705145787, 0.14525793705145787, 0.29051587410291574, 0.14525793705145787, 0.35676327380581774, 0.35676327380581774, 0.23477761833065336, 0.16769829880760953, 0.33539659761521906, 0.13415863904608763, 0.033539659761521907, 0.067079319523043815, 0.033539659761521907, 0.74828915902078508, 0.52623308898477028, 0.79887552660258865, 0.72608208234767868, 0.14521641646953573, 0.14521641646953573, 0.29118765975388861, 0.29118765975388861, 0.29118765975388861, 0.36568624827562607, 0.36568624827562607, 0.23518897428812874, 0.23518897428812874, 0.47037794857625748, 0.53605154667946719, 0.18516905739579623, 0.092584528697898114, 0.092584528697898114, 0.092584528697898114, 0.27775358609369433, 0.18516905739579623, 0.092584528697898114, 0.54201190333646221, 0.54201186062209283, 0.79238067818698399, 0.79238067818464963, 0.37385796343589628, 0.37385796343589628, 0.97197219109729915, 0.73378961038370949, 0.7458485210960355, 0.74584852109880861, 0.73974820644197092, 0.2451944946385354, 0.2451944946385354, 0.2451944946385354, 0.2451944946385354, 0.50159090986543753, 0.40447519482374422, 0.40447519482374422, 0.20223759741187211, 0.74584852109186284, 0.95479067828546949, 0.28870665631840658, 0.14435332815920329, 0.14435332815920329, 0.14435332815920329, 0.14435332815920329, 0.14435332815920329, 0.14435332815920329, 0.47224666963505119, 0.15741555654501707, 0.15741555654501707, 0.15741555654501707, 0.15741555654501707, 0.26465359701050933, 0.13232679850525467, 0.13232679850525467, 0.26465359701050933, 0.13232679850525467, 0.79887552658261696, 0.39570369547349782, 0.39570369547349782, 0.36725379921538553, 0.36725379921538553, 0.52623332906566678, 0.31084462855101541, 0.31084462855101541, 0.31084462855101541, 0.82028203738763283, 0.19062966573804205, 0.3812593314760841, 0.19062966573804205, 0.19062966573804205, 0.20660783996772264, 0.61982351990316786, 0.50159090987591393, 0.49432470046179489, 0.49647096808488356, 0.31193537126697751, 0.31193537126697751, 0.31193537126697751, 0.39183872940635561, 0.39183872940635561, 0.39183872940635561, 0.4964639981919427, 0.39477977962796668, 0.39477977962796668, 0.18750258494692293, 0.37500516989384586, 0.18750258494692293, 0.49647096810618219, 0.13742893229877368, 0.13742893229877368, 0.13742893229877368, 0.41228679689632103, 0.13742893229877368, 0.78160269062379195, 0.67068489655461538, 0.22356163218487179, 0.15728140353415196, 0.15728140353415196, 0.15728140353415196, 0.15728140353415196, 0.15728140353415196, 0.37288788820434715, 0.37288788820434715, 0.87827539296202928, 0.77005407442419982, 0.5015909098757515, 0.87827507036093289, 0.50159074127296766, 0.95479116017021981, 0.53605154667751131, 0.14775289793605767, 0.14775289793605767, 0.29550579587211534, 0.14775289793605767, 0.14775289793605767, 0.73378961037966273, 0.79602717033899439, 0.26534239011299815, 0.87827619499154763, 0.20456989162524267, 0.61370967487572803, 0.20456989162524267, 0.53604931710178871, 0.299715299559356, 0.299715299559356, 0.299715299559356, 0.5262330644120935, 0.73036955526711678, 0.87422674781114229, 0.79369802236939058, 0.26456600745646353, 0.83890281202307504, 0.23118520946174201, 0.115592604730871, 0.115592604730871, 0.115592604730871, 0.23118520946174201, 0.83890281184576909, 0.50159076418296722, 0.54201068389622342, 0.5262333290815272, 0.50159035323279488, 0.45894502330358389, 0.22947251165179194, 0.076490837217263977, 0.076490837217263977, 0.076490837217263977, 0.076490837217263977, 0.076490837217263977, 0.54200986429694609, 0.080665775879122451, 0.080665775879122451, 0.24199732763736737, 0.24199732763736737, 0.1613315517582449, 0.1613315517582449, 0.52623332907784648, 0.37674768391406332, 0.37674768391406332, 0.40104065165125224, 0.40104065165125224, 0.49432458817183428, 0.3716757553082915, 0.3716757553082915, 0.13490448382204542, 0.26980896764409085, 0.044968161274015137, 0.13490448382204542, 0.089936322548030273, 0.044968161274015137, 0.089936322548030273, 0.044968161274015137, 0.089936322548030273, 0.044968161274015137, 0.65372298531931572, 0.21790766177310525, 0.5795356810422746, 0.87828976686510185, 0.48897949138145519, 0.74584852108643018, 0.75408990829376854, 0.48897949136773167, 0.48378609136514977, 0.49432545866209709, 0.13333346815197822, 0.4000004044559346, 0.13333346815197822, 0.13333346815197822, 0.13333346815197822, 0.37507649739365162, 0.18753824869682581, 0.37507649739365162, 0.20898850165003843, 0.20898850165003843, 0.20898850165003843, 0.20898850165003843, 0.20898850165003843, 0.42684414709750385, 0.10671103677437596, 0.10671103677437596, 0.21342207354875192, 0.10671103677437596, 0.10671103677437596, 0.10671103677437596, 0.79238067818505176, 0.74584852109895372, 0.83890281191917127, 0.78160269062424914, 0.5420121301202806, 0.27928340308285032, 0.55856680616570065, 0.54201069894944343, 0.87827730518931069, 0.75408990829212441, 0.78160269062296728, 0.83890281202142447, 0.48003661328397734, 0.24001830664198867, 0.24001830664198867, 0.42647821701057903, 0.21323910850528952, 0.21323910850528952, 0.21323910850528952, 0.21323910850528952, 0.49432467578824374, 0.53605126157518923, 0.49432551417722326, 0.87827507031717833, 0.18445729034900199, 0.18445729034900199, 0.18445729034900199, 0.18445729034900199, 0.18445729034900199, 0.74584852108984334, 0.8389028120380515, 0.79887552658504379, 0.74828915902160298, 0.1228280169137474, 0.1228280169137474, 0.1228280169137474, 0.1228280169137474, 0.24565603382749479, 0.24565603382749479, 0.25800661932981278, 0.25800661932981278, 0.25800661932981278, 0.25800661932981278, 0.25800661932981278, 0.2044877917352956, 0.08179511669411825, 0.2044877917352956, 0.12269267504117737, 0.2044877917352956, 0.040897558347059125, 0.040897558347059125, 0.040897558347059125, 0.040897558347059125, 0.37167566378752698, 0.37167566378752698, 0.79238067818584235, 0.83890281203183492, 0.48897967729340003, 0.48378505647706033, 0.74828915902335602, 0.745848521092634, 0.48897949136634672, 0.49432456979543249, 0.53605181297643734, 0.36373720773638718, 0.36373720773638718, 0.73378961038247659, 0.542013695882403, 0.48319558747229246, 0.12079889686807312, 0.12079889686807312, 0.12079889686807312, 0.12079889686807312, 0.04026629895602437, 0.04026629895602437, 0.54200963171886984, 0.6673828946195639, 0.16684572365489098, 0.16684572365489098, 0.79887552657006333, 0.83890281201006645, 0.50159090986706412, 0.37203675804083008, 0.37203675804083008, 0.73378961038495483, 0.17735943178333136, 0.35471886356666271, 0.17735943178333136, 0.17735943178333136, 0.73974820644189021, 0.42206725464451628, 0.14068908488150542, 0.14068908488150542, 0.14068908488150542, 0.14068908488150542, 0.21386903077714403, 0.21386903077714403, 0.21386903077714403, 0.21386903077714403, 0.87827564057679119, 0.18174913371472393, 0.18174913371472393, 0.18174913371472393, 0.18174913371472393, 0.18174913371472393, 0.87827507030605523, 0.50159090986783494, 0.26633708195187544, 0.53267416390375089, 0.37167632388547056, 0.37167632388547056, 0.53605154669191801, 0.22868985236113787, 0.22868985236113787, 0.22868985236113787, 0.22868985236113787, 0.22868985236113787, 0.49432457418327136, 0.46020955117805235, 0.23010477558902617, 0.23010477558902617, 0.22517785228006432, 0.15011856818670954, 0.30023713637341909, 0.15011856818670954, 0.075059284093354772, 0.075059284093354772, 0.075059284093354772, 0.83890281201938277, 0.16342707633869466, 0.16342707633869466, 0.16342707633869466, 0.32685415267738932, 0.16342707633869466, 0.48378551191050823, 0.79328137797929843, 0.2471353137750642, 0.2471353137750642, 0.2471353137750642, 0.2471353137750642, 0.49432494439537727, 0.36725412620028852, 0.36725412620028852, 0.57403041153824674, 0.28701520576912337, 0.49432452475205796, 0.59118799238917719, 0.29559399619458859, 0.87827507036912678, 0.49966225905108297, 0.49966225905108297, 0.79328319101815536, 0.52623443769789491, 0.74828915902185533, 0.48378535864005295, 0.23777719122029981, 0.23777719122029981, 0.47555438244059961, 0.48378550113790253, 0.83890281194256788, 0.4837850732261133, 0.26146005806529948, 0.087153352688433161, 0.087153352688433161, 0.087153352688433161, 0.087153352688433161, 0.087153352688433161, 0.087153352688433161, 0.17430670537686632, 0.52623315247013069, 0.7540899082910274, 0.79238067818606417, 0.57889243936492696, 0.19296414645497564, 0.19296414645497564, 0.81900037995343256, 0.57953568098443042, 0.60824109633301116, 0.24329643853320446, 0.12164821926660223, 0.48378608375192222, 0.53605154669741983, 0.87827914006717667, 0.57297443039096885, 0.14324360759774221, 0.071621803798871106, 0.071621803798871106, 0.071621803798871106, 0.071621803798871106, 0.071621803798871106, 0.20439949908790933, 0.10219974954395467, 0.10219974954395467, 0.10219974954395467, 0.10219974954395467, 0.10219974954395467, 0.10219974954395467, 0.10219974954395467, 0.10219974954395467, 0.72169081186906037, 0.53511482309376479, 0.089185803848960798, 0.089185803848960798, 0.1783716076979216, 0.089185803848960798, 0.83890281201886285, 0.83890281202824879, 0.97197069613680598, 0.41516826625165282, 0.20758413312582641, 0.13838942208388427, 0.069194711041942136, 0.069194711041942136, 0.069194711041942136, 0.069194711041942136, 0.36916380139569949, 0.18458190069784974, 0.18458190069784974, 0.36916380139569949, 0.79887552660239114, 0.7482891590224805, 0.79238067817385027, 0.49432471567536523, 0.52623332907627174, 0.78160269062779486, 0.75069019754199418, 0.5420136958615005, 0.74828915902130921, 0.52623434494680355, 0.21100140633519099, 0.63300421900557302, 0.21100140633519099, 0.31968856745977237, 0.31968856745977237, 0.31968856745977237, 0.78160269062681631, 0.48378638923469375, 0.48603889363210812, 0.16201296454403605, 0.3240259290880721, 0.16201296454403605, 0.22544157988310273, 0.11272078994155137, 0.22544157988310273, 0.11272078994155137, 0.11272078994155137, 0.11272078994155137, 0.75408990829272959, 0.46547474411823586, 0.15515824803941197, 0.15515824803941197, 0.15515824803941197, 0.97197073917713839, 0.31158550153942438, 0.31158550153942438, 0.79238067818734992, 0.72169113328252776, 0.48897949139037244, 0.49647132694557133, 0.74584852109218591, 0.97197069600699371, 0.97197195410671278, 0.7540899082925262, 0.78160269062274834, 0.53605176228538221, 0.53605154667603616, 0.82028202065194034, 0.79238067818129088, 0.73378961038486556, 0.38247714788052961, 0.38247714788052961, 0.83890281203582817, 0.48378598583900428, 0.78160269062847743, 0.52623124656552722, 0.48897949136539259, 0.73974820643967487, 0.49672547765394648, 0.24836273882697324, 0.24836273882697324, 0.3268977116502324, 0.65379542330046481, 0.83890281202902772, 0.75153716619131761, 0.79887552659853445, 0.39422146379127426, 0.19711073189563713, 0.098555365947818566, 0.098555365947818566, 0.098555365947818566, 0.098555365947818566, 0.50159073967382561, 0.90123457913141913, 0.29194623496516686, 0.19463082331011125, 0.19463082331011125, 0.19463082331011125, 0.097315411655055625, 0.39397378503875485, 0.39397378503875485, 0.7540899082928243, 0.54201171516847835, 0.97197153908760192, 0.7337896103820376, 0.75408990829198874, 0.49647099352424751, 0.17696862266374622, 0.17696862266374622, 0.70787449065498487, 0.79238067818621805, 0.3503366641851921, 0.3503366641851921, 0.75408990829150557, 0.26904534042670514, 0.35872712056894018, 0.089681780142235046, 0.26904534042670514, 0.089681780142235046, 0.089681780142235046, 0.83890281200635586, 0.79887552660344263, 0.48378596467062274, 0.54201186832553139, 0.90123453388718466, 0.41368932342403331, 0.082737864684806664, 0.082737864684806664, 0.082737864684806664, 0.16547572936961333, 0.082737864684806664, 0.082737864684806664, 0.43729015981792585, 0.048587795535325093, 0.048587795535325093, 0.14576338660597529, 0.097175591070650186, 0.048587795535325093, 0.048587795535325093, 0.048587795535325093, 0.38036125934864212, 0.12678708644954736, 0.12678708644954736, 0.12678708644954736, 0.12678708644954736, 0.12678708644954736, 0.37371066667245073, 0.37371066667245073, 0.7458485210831225, 0.49646917913429783, 0.26249447957794891, 0.78748343873384674, 0.74584852109098665, 0.49647096808620639, 0.74828915902160176, 0.21174879480168121, 0.21174879480168121, 0.21174879480168121, 0.21174879480168121, 0.53605180787056594, 0.5287958585129432, 0.21151834340517728, 0.21151834340517728, 0.10575917170258864, 0.10575917170258864, 0.24715406443711993, 0.49430812887423986, 0.24715406443711993, 0.437493079066195, 0.2916620527107967, 0.14583102635539835, 0.52623332906121578, 0.57416397373708672, 0.11483279474741735, 0.11483279474741735, 0.11483279474741735, 0.6509492456859568, 0.5262333290847202, 0.31766007740222546, 0.31766007740222546, 0.31766007740222546, 0.26131437943538272, 0.065328594858845679, 0.065328594858845679, 0.13065718971769136, 0.065328594858845679, 0.065328594858845679, 0.13065718971769136, 0.13065718971769136, 0.83890281186022275, 0.07510015093921385, 0.3004006037568554, 0.22530045281764155, 0.22530045281764155, 0.07510015093921385, 0.07510015093921385, 0.07510015093921385, 0.07510015093921385, 0.78160269062039722, 0.2530242829654693, 0.20241942637237545, 0.20241942637237545, 0.10120971318618772, 0.050604856593093862, 0.15181456977928159, 0.050604856593093862, 0.67354309763679254, 0.13470861952735849, 0.13470861952735849, 0.13470861952735849, 0.12775860034717029, 0.38327580104151088, 0.12775860034717029, 0.12775860034717029, 0.12775860034717029, 0.12775860034717029, 0.28108760487356416, 0.14054380243678208, 0.28108760487356416, 0.14054380243678208, 0.14054380243678208, 0.49264644750378545, 0.24632322375189272, 0.24632322375189272, 0.5360494921325748, 0.65094581389017925], \"Term\": [\"!\", \"!!\", \"(effectively)\", \"(for\", \"(formal\", \"(if\", \"(non-native\", \"(not\", \"(on\", \"(see\", \"(you\", \")\", \")\", \")\", \")\", \")\", \")\", \"01\", \"10\", \"1st\", \"2\", \"2010another\", \"2010april\", \"=\", \"[aj]has\", \"[e]\", \"[i]\", \"__\", \"aboutcv\", \"acceptable\", \"acceptable\", \"acceptable\", \"acceptable\", \"accepted\", \"according\", \"according\", \"according\", \"actors\", \"adjective\", \"adjective\", \"adjective\", \"adjective\", \"advanced\", \"age\", \"ain\\u2019t\", \"also\", \"also\", \"also\", \"also\", \"also\", \"also\", \"also\", \"alternative\", \"although\", \"although\", \"always\", \"always\", \"always\", \"always\", \"always\", \"america\", \"america\", \"annoying\", \"answers\", \"answers\", \"answers\", \"appears\", \"apple\", \"applies\", \"appropriate\", \"appropriate\", \"appropriate\", \"appropriate\", \"appropriate\", \"appropriate\", \"appropriate\", \"arise\", \"article\", \"article\", \"ask\", \"ask\", \"asked\", \"asked\", \"asked\", \"asked\", \"asking\", \"asking\", \"assume\", \"assumed\", \"ate\", \"atm\", \"attendee\", \"attendees\", \"attention\", \"attention\", \"avoided\", \"baseball\", \"bat\", \"bat/to\", \"bed\", \"beginning\", \"bill\", \"bill\", \"bit\", \"bit\", \"bit\", \"blank\", \"bless\", \"bonus\", \"book\", \"book\", \"bookcase\", \"brackets\", \"british\", \"british\", \"british\", \"brown\", \"bus\", \"bus\", \"business\", \"business\", \"buyer\", \"buyers\", \"caf\\u00e9\", \"called\", \"called\", \"came\", \"capitalization\", \"capitalization\", \"capitalized\", \"car\", \"car\", \"careers\", \"case\", \"case\", \"case\", \"case\", \"case\", \"case\", \"case\", \"cases\", \"chains\", \"changinghowever\", \"cheese\", \"city\", \"clearly\", \"code\", \"coming\", \"comma\", \"comma\", \"common\", \"common\", \"common\", \"common\", \"communicate\", \"communication\", \"communication\", \"comparative\", \"comparision\", \"conceivably\", \"concise\", \"confused\", \"confused\", \"confused\", \"confusion\", \"consider\", \"consists\", \"context\", \"context\", \"context\", \"context\", \"context\", \"context)\", \"contexts\", \"contexts\", \"contraction\", \"contraction\", \"contraction\", \"contraction:that\", \"convey\", \"convinced\", \"copy\", \"correct\", \"correct\", \"correct\", \"correct\", \"correct\", \"correct\", \"correct\", \"correctly\", \"correctly\", \"could\", \"could\", \"could\", \"could\", \"crackers\", \"creating\", \"cricket\", \"dash\", \"day\", \"day\", \"deactivate\", \"dear\", \"definition\", \"denoting\", \"derived\", \"describing\", \"developer\", \"developer\", \"dialects\", \"dice\", \"die\", \"differ\", \"difference\", \"difference\", \"difference\", \"difference\", \"difference\", \"difference\", \"differences\", \"differences\", \"differences\", \"differences\", \"differences\", \"different\", \"different\", \"different\", \"different\", \"disable\", \"done:\", \"dry\", \"e\", \"e\", \"e\", \"e\", \"e\", \"easy\", \"edit\", \"edit:\", \"effect\", \"else\", \"else\", \"else\", \"else\", \"emails\", \"emails\", \"emails\", \"end\", \"end\", \"end\", \"end\", \"end\", \"ending\", \"ending\", \"english\", \"english\", \"english\", \"english\", \"english\", \"english\", \"english\", \"english-------------------\", \"enjoy\", \"etci\", \"even\", \"even\", \"even\", \"ever\", \"ever\", \"ever\", \"everyday\", \"everyday\", \"everyone\", \"everyone\", \"everyone\", \"ex-wife\", \"example\", \"example\", \"example\", \"example\", \"example\", \"example\", \"example\", \"extension\", \"extremely\", \"fail\", \"failure\", \"fairly\", \"fairly\", \"fame\", \"feelings\", \"fill\", \"fill-in-the-blank\", \"final\", \"find\", \"find\", \"find\", \"find\", \"fine\", \"first\", \"first\", \"first\", \"fluent\", \"followed\", \"following\", \"following\", \"following\", \"following\", \"following\", \"following\", \"following\", \"form\", \"form\", \"form\", \"form\", \"form\", \"formal\", \"formal\", \"formal\", \"formal\", \"formal\", \"format\", \"former\", \"former\", \"found\", \"found\", \"four\", \"frequently\", \"frequently\", \"frequently\", \"freshmen\", \"g\", \"g\", \"g\", \"g\", \"game\", \"game\", \"gatesh\", \"gender\", \"german\", \"gerund\", \"gerund\", \"gerund\", \"getting\", \"getting\", \"getting\", \"give\", \"given\", \"given\", \"go\", \"go\", \"go\", \"god\", \"good\", \"good\", \"good\", \"good\", \"good\", \"good!\", \"got\", \"got\", \"great\", \"great\", \"great\", \"great\", \"great\", \"green\", \"green\", \"guides\", \"guys\", \"h\", \"hair\", \"hand\", \"haskell\", \"hates\", \"heard\", \"heard\", \"heard\", \"heard\", \"heard\", \"held\", \"help\", \"help\", \"heuristic\", \"however\", \"however\", \"however\", \"id\\u201d\", \"important\", \"important\", \"important\", \"ing\", \"inning\", \"innings\", \"inside\", \"inside\", \"instance:\", \"instead\", \"instead\", \"instead\", \"instead\", \"instead\", \"interchangeably\", \"jim\", \"joe\", \"july\", \"keep\", \"know\", \"know\", \"know\", \"know\", \"know\", \"know\", \"know\", \"knowledge\", \"language\", \"language\", \"language\", \"language\", \"language\", \"language\", \"learn\", \"learned\", \"learned\", \"learning\", \"learning\", \"learnt\", \"letters\", \"letters\", \"like\", \"like\", \"like\", \"like\", \"like\", \"like\", \"like\", \"like\", \"like\", \"like\", \"line\", \"line\", \"listbox\", \"look\", \"loves\", \"lowercase\", \"lyric\", \"machines\", \"mail\", \"making\", \"many\", \"many\", \"many\", \"many\", \"many\", \"may\", \"may\", \"may\", \"mean\", \"mean\", \"mean\", \"mean\", \"mean\", \"meaning\", \"meaning\", \"meaning\", \"meaning\", \"meaning\", \"meaning\", \"meaning\", \"means\", \"memo\", \"mentioned\\u00a0\\u2014\", \"messengers\", \"methods\", \"mind\", \"mind\", \"mom\", \"money\", \"moose\", \"morning\", \"movies\", \"name\", \"name\", \"name\", \"native\", \"native\", \"native\", \"native\", \"native\", \"need\", \"ninja\", \"norms\", \"northeast\", \"noun\", \"noun\", \"noun\", \"noun\", \"noun\", \"noun)\", \"novel\", \"nowadays\", \"occur\", \"often\", \"often\", \"often\", \"often\", \"often\", \"often\", \"ok\", \"ok\", \"ok\", \"ok\", \"ok\", \"one\", \"one\", \"one\", \"one\", \"one\", \"one\", \"one\", \"one\", \"one\", \"online\", \"online\", \"option\", \"oral\", \"orange\", \"orjohn\", \"orthographies\", \"ought\", \"outing\", \"papers\", \"passing\", \"pay\", \"pay\", \"pedants\", \"pen\", \"people\", \"people\", \"people\", \"people\", \"people\", \"people\", \"people\", \"per\", \"person\", \"person\", \"person\", \"personal)\", \"phone\", \"photos\", \"phrase\", \"phrase\", \"phrases)\", \"place\", \"place\", \"place\", \"place\", \"play)\", \"please\", \"please\", \"please\", \"please\", \"please\", \"plural\", \"plural\", \"plural\", \"plural\", \"position\", \"possible\", \"possible\", \"possible\", \"possible\", \"possible\", \"preference\", \"presume\", \"pretty\", \"pretty\", \"problem\", \"problem\", \"pronoun\", \"proper\", \"proper\", \"proper\", \"proper\", \"proper\", \"proposals\", \"punctuation\", \"punctuation\", \"punctuation\", \"question\", \"question\", \"question\", \"question\", \"question\", \"question\", \"question\", \"question)\", \"questions\", \"questions\", \"questions\", \"questions\", \"questions\", \"quotation\", \"r\", \"read\", \"read\", \"read\", \"read\", \"readers\", \"reason\", \"reason\", \"reasons\", \"reasons\", \"recognized\", \"refer\", \"refer\", \"reference\", \"referring\", \"referring\", \"regard\", \"regards\", \"regular\", \"rehearsal\", \"related\", \"related\", \"related\", \"release\", \"resumes\", \"retarded\", \"right\", \"right\", \"right\", \"right\", \"right\", \"right\", \"right\", \"right\", \"rolled\", \"rolls\", \"rude\", \"rule\", \"rule\", \"rule\", \"run\", \"r\\u00e9sum\\u00e9s\", \"said\", \"said\", \"said\", \"salutation\", \"save\", \"saw\", \"say\", \"say\", \"say\", \"say\", \"say\", \"say\", \"say\", \"see\", \"see\", \"see\", \"see\", \"see\", \"see\", \"see\", \"see\", \"see\", \"seem\", \"seems\", \"seems\", \"seems\", \"seems\", \"seems\", \"selection\", \"selectionmode=\\u201cnone\\u201d\", \"semicolon\", \"sentence\", \"sentence\", \"sentence\", \"sentence\", \"sentence\", \"sentence\", \"sentence\", \"sentences\", \"sentences\", \"sentences\", \"sentences\", \"setting\", \"shift\", \"shifting\", \"ship\", \"shoot\", \"shorten\", \"signed\", \"significant\", \"simple\", \"simpler\", \"singular\", \"singular\", \"singular\", \"situations\", \"situations\", \"situations\", \"skype\", \"soda\", \"someone\", \"someone\", \"someone\", \"someone\", \"something\", \"something\", \"something\", \"something\", \"something\", \"something\", \"song\", \"sounds\", \"sounds\", \"sounds\", \"sounds\", \"spaghetti\", \"speaker\", \"speaker\", \"speaker)\", \"speaks\", \"split\", \"spoken\", \"squiggly\", \"standing\", \"steve\", \"stop\", \"story):on\", \"street\", \"student\", \"students\", \"success\", \"suggest\", \"suppose\", \"suppose\", \"surprised\", \"synonym\", \"talk\", \"talking\", \"team\", \"teams\", \"technical\", \"technical\", \"technical\", \"term\", \"term\", \"text)see\", \"thehulk66\", \"thing\", \"think\", \"think\", \"think\", \"think\", \"think\", \"think\", \"this:only\", \"three\", \"time\", \"time\", \"time\", \"time\", \"time\", \"together\", \"together\", \"tongue\", \"tool\", \"top\", \"tosome\", \"touching\", \"toward\", \"try\", \"try\", \"try\", \"try:\", \"turn\", \"turn\", \"tutu\", \"two\", \"two\", \"two\", \"two\", \"two\", \"two\", \"uncertain\", \"uncomfortable\", \"university\", \"unprecedented\", \"up:\", \"usage\", \"usage\", \"usage\", \"usage\", \"usage\", \"usage\", \"usage\", \"used\", \"used\", \"used\", \"used\", \"used\", \"used\", \"used\", \"used\", \"using\", \"using\", \"using\", \"using\", \"using\", \"using\", \"usually\", \"usually\", \"variants:\", \"vein\", \"verbs\", \"verbs\", \"video\", \"vowels\", \"vowels:\", \"vs\", \"vs\", \"vs\", \"vs\", \"walking\", \"want\", \"want\", \"want\", \"want\", \"want\", \"wanted\", \"wanted\", \"wanted\", \"well\", \"well\", \"well\", \"wheels\", \"whether\", \"whether\", \"whether\", \"whether\", \"whilst\", \"whole\", \"without\", \"without\", \"without\", \"word\", \"word\", \"word\", \"word\", \"word\", \"word\", \"word\", \"word\", \"word)\", \"words\", \"words\", \"words\", \"words\", \"words\", \"words\", \"words\", \"words\", \"world\", \"would\", \"would\", \"would\", \"would\", \"would\", \"would\", \"would\", \"writing\", \"writing\", \"writing\", \"writing\", \"written\", \"written\", \"written\", \"written\", \"written\", \"written\", \"wrong\", \"wrong\", \"wrong\", \"wrong\", \"wrong\", \"yes\", \"yes\", \"yes\", \"\\u201cdeterminer\\u201d\", \"\\u201cemployee\\u201d\"]}, \"mdsDat\": {\"y\": [-0.00053914391128077194, 0.042025735564080555, -0.025583063339131434, -0.12439382982165328, -0.0966939601918409, 0.086198482637933671, 0.091675538904226514, -0.024234989978935601, 0.048161145431744413, 0.0033840847048566699], \"cluster\": [1, 1, 1, 1, 1, 1, 1, 1, 1, 1], \"Freq\": [21.261720394821172, 11.443573778239905, 10.953788368861394, 10.143738422575254, 9.9191126715279854, 9.465806244405325, 7.5941372118633579, 7.0505674848689397, 6.8765236123226794, 5.2910318105140073], \"topics\": [1, 2, 3, 4, 5, 6, 7, 8, 9, 10], \"x\": [0.1387354789379236, 0.11008367830795883, 0.042236431959113099, 0.0028375149374773641, -0.059913905925450449, -0.01747424945236805, -0.098450089612976105, -0.065198816409231933, 0.0048940268173316374, -0.057750069559777663]}, \"R\": 30, \"lambda.step\": 0.01, \"tinfo\": {\"Category\": [\"Default\", \"Default\", \"Default\", \"Default\", \"Default\", \"Default\", \"Default\", \"Default\", \"Default\", \"Default\", \"Default\", \"Default\", \"Default\", \"Default\", \"Default\", \"Default\", \"Default\", \"Default\", \"Default\", \"Default\", \"Default\", \"Default\", \"Default\", \"Default\", \"Default\", \"Default\", \"Default\", \"Default\", \"Default\", \"Default\", \"Topic1\", \"Topic1\", \"Topic1\", \"Topic1\", \"Topic1\", \"Topic1\", \"Topic1\", \"Topic1\", \"Topic1\", \"Topic1\", \"Topic1\", \"Topic1\", \"Topic1\", \"Topic1\", \"Topic1\", \"Topic1\", \"Topic1\", \"Topic1\", \"Topic1\", \"Topic1\", \"Topic1\", \"Topic1\", \"Topic1\", \"Topic1\", \"Topic1\", \"Topic1\", \"Topic1\", \"Topic1\", \"Topic1\", \"Topic1\", \"Topic1\", \"Topic1\", \"Topic1\", \"Topic1\", \"Topic1\", \"Topic1\", \"Topic1\", \"Topic1\", \"Topic1\", \"Topic1\", \"Topic1\", \"Topic1\", \"Topic1\", \"Topic1\", \"Topic1\", \"Topic1\", \"Topic1\", \"Topic1\", \"Topic1\", \"Topic1\", \"Topic1\", \"Topic1\", \"Topic1\", \"Topic1\", \"Topic1\", \"Topic1\", \"Topic1\", \"Topic1\", \"Topic1\", \"Topic1\", \"Topic1\", \"Topic1\", \"Topic2\", \"Topic2\", \"Topic2\", \"Topic2\", \"Topic2\", \"Topic2\", \"Topic2\", \"Topic2\", \"Topic2\", \"Topic2\", \"Topic2\", \"Topic2\", \"Topic2\", \"Topic2\", \"Topic2\", \"Topic2\", \"Topic2\", \"Topic2\", \"Topic2\", \"Topic2\", \"Topic2\", \"Topic2\", \"Topic2\", \"Topic2\", \"Topic2\", \"Topic2\", \"Topic2\", \"Topic2\", \"Topic2\", \"Topic2\", \"Topic2\", \"Topic2\", \"Topic2\", \"Topic2\", \"Topic2\", \"Topic2\", \"Topic2\", \"Topic2\", \"Topic2\", \"Topic2\", \"Topic2\", \"Topic2\", \"Topic2\", \"Topic2\", \"Topic2\", \"Topic2\", \"Topic2\", \"Topic2\", \"Topic2\", \"Topic2\", \"Topic2\", \"Topic2\", \"Topic2\", \"Topic2\", \"Topic2\", \"Topic3\", \"Topic3\", \"Topic3\", \"Topic3\", \"Topic3\", \"Topic3\", \"Topic3\", \"Topic3\", \"Topic3\", \"Topic3\", \"Topic3\", \"Topic3\", \"Topic3\", \"Topic3\", \"Topic3\", \"Topic3\", \"Topic3\", \"Topic3\", \"Topic3\", \"Topic3\", \"Topic3\", \"Topic3\", \"Topic3\", \"Topic3\", \"Topic3\", \"Topic3\", \"Topic3\", \"Topic3\", \"Topic3\", \"Topic3\", \"Topic3\", \"Topic3\", \"Topic3\", \"Topic3\", \"Topic3\", \"Topic3\", \"Topic3\", \"Topic3\", \"Topic3\", \"Topic3\", \"Topic3\", \"Topic3\", \"Topic3\", \"Topic3\", \"Topic3\", \"Topic3\", \"Topic3\", \"Topic3\", \"Topic3\", \"Topic3\", \"Topic3\", \"Topic3\", \"Topic3\", \"Topic3\", \"Topic3\", \"Topic3\", \"Topic3\", \"Topic3\", \"Topic3\", \"Topic3\", \"Topic3\", \"Topic4\", \"Topic4\", \"Topic4\", \"Topic4\", \"Topic4\", \"Topic4\", \"Topic4\", \"Topic4\", \"Topic4\", \"Topic4\", \"Topic4\", \"Topic4\", \"Topic4\", \"Topic4\", \"Topic4\", \"Topic4\", \"Topic4\", \"Topic4\", \"Topic4\", \"Topic4\", \"Topic4\", \"Topic4\", \"Topic4\", \"Topic4\", \"Topic4\", \"Topic4\", \"Topic4\", \"Topic4\", \"Topic4\", \"Topic4\", \"Topic4\", \"Topic4\", \"Topic4\", \"Topic4\", \"Topic4\", \"Topic4\", \"Topic4\", \"Topic4\", \"Topic4\", \"Topic4\", \"Topic4\", \"Topic4\", \"Topic4\", \"Topic4\", \"Topic4\", \"Topic4\", \"Topic4\", \"Topic4\", \"Topic4\", \"Topic4\", \"Topic4\", \"Topic4\", \"Topic4\", \"Topic4\", \"Topic4\", \"Topic4\", \"Topic4\", \"Topic4\", \"Topic4\", \"Topic5\", \"Topic5\", \"Topic5\", \"Topic5\", \"Topic5\", \"Topic5\", \"Topic5\", \"Topic5\", \"Topic5\", \"Topic5\", \"Topic5\", \"Topic5\", \"Topic5\", \"Topic5\", \"Topic5\", \"Topic5\", \"Topic5\", \"Topic5\", \"Topic5\", \"Topic5\", \"Topic5\", \"Topic5\", \"Topic5\", \"Topic5\", \"Topic5\", \"Topic5\", \"Topic5\", \"Topic5\", \"Topic5\", \"Topic5\", \"Topic5\", \"Topic5\", \"Topic5\", \"Topic5\", \"Topic5\", \"Topic5\", \"Topic5\", \"Topic5\", \"Topic5\", \"Topic5\", \"Topic5\", \"Topic5\", \"Topic5\", \"Topic5\", \"Topic5\", \"Topic5\", \"Topic5\", \"Topic5\", \"Topic5\", \"Topic5\", \"Topic5\", \"Topic5\", \"Topic5\", \"Topic5\", \"Topic6\", \"Topic6\", \"Topic6\", \"Topic6\", \"Topic6\", \"Topic6\", \"Topic6\", \"Topic6\", \"Topic6\", \"Topic6\", \"Topic6\", \"Topic6\", \"Topic6\", \"Topic6\", \"Topic6\", \"Topic6\", \"Topic6\", \"Topic6\", \"Topic6\", \"Topic6\", \"Topic6\", \"Topic6\", \"Topic6\", \"Topic6\", \"Topic6\", \"Topic6\", \"Topic6\", \"Topic6\", \"Topic6\", \"Topic6\", \"Topic6\", \"Topic6\", \"Topic6\", \"Topic6\", \"Topic6\", \"Topic6\", \"Topic6\", \"Topic6\", \"Topic6\", \"Topic6\", \"Topic6\", \"Topic6\", \"Topic6\", \"Topic6\", \"Topic6\", \"Topic6\", \"Topic6\", \"Topic6\", \"Topic6\", \"Topic6\", \"Topic6\", \"Topic6\", \"Topic6\", \"Topic6\", \"Topic6\", \"Topic6\", \"Topic7\", \"Topic7\", \"Topic7\", \"Topic7\", \"Topic7\", \"Topic7\", \"Topic7\", \"Topic7\", \"Topic7\", \"Topic7\", \"Topic7\", \"Topic7\", \"Topic7\", \"Topic7\", \"Topic7\", \"Topic7\", \"Topic7\", \"Topic7\", \"Topic7\", \"Topic7\", \"Topic7\", \"Topic7\", \"Topic7\", \"Topic7\", \"Topic7\", \"Topic7\", \"Topic7\", \"Topic7\", \"Topic7\", \"Topic7\", \"Topic7\", \"Topic7\", \"Topic7\", \"Topic7\", \"Topic7\", \"Topic7\", \"Topic7\", \"Topic7\", \"Topic7\", \"Topic7\", \"Topic7\", \"Topic7\", \"Topic7\", \"Topic7\", \"Topic7\", \"Topic7\", \"Topic7\", \"Topic7\", \"Topic7\", \"Topic8\", \"Topic8\", \"Topic8\", \"Topic8\", \"Topic8\", \"Topic8\", \"Topic8\", \"Topic8\", \"Topic8\", \"Topic8\", \"Topic8\", \"Topic8\", \"Topic8\", \"Topic8\", \"Topic8\", \"Topic8\", \"Topic8\", \"Topic8\", \"Topic8\", \"Topic8\", \"Topic8\", \"Topic8\", \"Topic8\", \"Topic8\", \"Topic8\", \"Topic8\", \"Topic8\", \"Topic8\", \"Topic8\", \"Topic8\", \"Topic8\", \"Topic8\", \"Topic8\", \"Topic8\", \"Topic8\", \"Topic8\", \"Topic8\", \"Topic8\", \"Topic8\", \"Topic8\", \"Topic8\", \"Topic8\", \"Topic8\", \"Topic8\", \"Topic8\", \"Topic8\", \"Topic8\", \"Topic9\", \"Topic9\", \"Topic9\", \"Topic9\", \"Topic9\", \"Topic9\", \"Topic9\", \"Topic9\", \"Topic9\", \"Topic9\", \"Topic9\", \"Topic9\", \"Topic9\", \"Topic9\", \"Topic9\", \"Topic9\", \"Topic9\", \"Topic9\", \"Topic9\", \"Topic9\", \"Topic9\", \"Topic9\", \"Topic9\", \"Topic9\", \"Topic9\", \"Topic9\", \"Topic9\", \"Topic9\", \"Topic9\", \"Topic9\", \"Topic9\", \"Topic9\", \"Topic9\", \"Topic9\", \"Topic9\", \"Topic9\", \"Topic9\", \"Topic9\", \"Topic9\", \"Topic9\", \"Topic9\", \"Topic9\", \"Topic9\", \"Topic9\", \"Topic9\", \"Topic9\", \"Topic9\", \"Topic9\", \"Topic9\", \"Topic9\", \"Topic9\", \"Topic9\", \"Topic9\", \"Topic9\", \"Topic9\", \"Topic10\", \"Topic10\", \"Topic10\", \"Topic10\", \"Topic10\", \"Topic10\", \"Topic10\", \"Topic10\", \"Topic10\", \"Topic10\", \"Topic10\", \"Topic10\", \"Topic10\", \"Topic10\", \"Topic10\", \"Topic10\", \"Topic10\", \"Topic10\", \"Topic10\", \"Topic10\", \"Topic10\", \"Topic10\", \"Topic10\", \"Topic10\", \"Topic10\", \"Topic10\", \"Topic10\", \"Topic10\", \"Topic10\", \"Topic10\", \"Topic10\", \"Topic10\", \"Topic10\", \"Topic10\", \"Topic10\", \"Topic10\", \"Topic10\", \"Topic10\", \"Topic10\", \"Topic10\", \"Topic10\", \"Topic10\", \"Topic10\", \"Topic10\", \"Topic10\", \"Topic10\", \"Topic10\", \"Topic10\", \"Topic10\", \"Topic10\", \"Topic10\", \"Topic10\", \"Topic10\", \"Topic10\", \"Topic10\", \"Topic10\", \"Topic10\", \"Topic10\"], \"Term\": [\"english\", \"try\", \"seems\", \"=\", \"often\", \"different\", \"!\", \"run\", \"dry\", \"word\", \"correct\", \"instead\", \"language\", \"people\", \"signed\", \"may\", \"time\", \"bus\", \"good\", \"well\", \"pretty\", \"e\", \"two\", \"whilst\", \"\\u201cemployee\\u201d\", \"verbs\", \"written\", \"words\", \"haskell\", \"followed\", \"cases\", \"10\", \"guys\", \"(you\", \"standing\", \"dash\", \"semicolon\", \"spaghetti\", \"top\", \"steve\", \"attendees\", \"fame\", \"different\", \"(not\", \"preference\", \"northeast\", \"hair\", \"brown\", \"reference\", \"guides\", \"position\", \"bed\", \"attendee\", \"comparative\", \"heuristic\", \"confusion\", \"money\", \"edit:\", \"saw\", \"look\", \"even\", \"line\", \"person\", \"writing\", \"common\", \"say\", \"said\", \"people\", \"rule\", \"whether\", \"help\", \"used\", \"seems\", \"inside\", \"correctly\", \"comma\", \"correct\", \"know\", \"want\", \"case\", \"sentence\", \"usage\", \"english\", \"think\", \"sounds\", \"would\", \"one\", \"please\", \"word\", \"always\", \"like\", \"question\", \"!\", \"run\", \"dry\", \"seem\", \"speaks\", \"beginning\", \"university\", \"synonym\", \"quotation\", \"retarded\", \"orjohn\", \"!!\", \"cheese\", \"salutation\", \"soda\", \"release\", \"rehearsal\", \"mail\", \"dear\", \"crackers\", \"mind\", \"however\", \"called\", \"held\", \"changinghowever\", \"tosome\", \"suggest\", \"phrases)\", \"feelings\", \"pedants\", \"contexts\", \"phrase\", \"yes\", \"everyday\", \"pay\", \"attention\", \"well\", \"meaning\", \"asked\", \"like\", \"two\", \"place\", \"correct\", \"would\", \"know\", \"sentence\", \"said\", \"people\", \"think\", \"time\", \"question\", \"say\", \"one\", \"difference\", \"wrong\", \"innings\", \"city\", \"inning\", \"bat\", \"team\", \"consists\", \"outing\", \"machines\", \"atm\", \"loves\", \"bookcase\", \"copy\", \"split\", \"convinced\", \"easy\", \"orange\", \"bus\", \"singular\", \"game\", \"baseball\", \"cricket\", \"teams\", \"conceivably\", \"bat/to\", \"context)\", \"arise\", \"play)\", \"derived\", \"2\", \"final\", \"book\", \"developer\", \"although\", \"wanted\", \"day\", \"reason\", \"found\", \"everyone\", \"could\", \"turn\", \"many\", \"go\", \"one\", \"words\", \"question\", \"english\", \"correct\", \"would\", \"language\", \"wrong\", \"difference\", \"something\", \"time\", \"sentence\", \"using\", \"instead\", \"always\", \"whether\", \"got\", \"following\", \"else\", \"brackets\", \"recognized\", \"readers\", \"papers\", \"proposals\", \"gender\", \"making\", \"ship\", \"communicate\", \"edit\", \"norms\", \"learnt\", \"need\", \"refer\", \"capitalization\", \"capitalized\", \"variants:\", \"lowercase\", \"accepted\", \"noun)\", \"ought\", \"fill\", \"blank\", \"video\", \"fill-in-the-blank\", \"squiggly\", \"creating\", \"memo\", \"(effectively)\", \"fluent\", \"article\", \"online\", \"letters\", \"problem\", \"english\", \"first\", \"speaker\", \"language\", \"questions\", \"well\", \"read\", \"words\", \"punctuation\", \"one\", \"like\", \"people\", \"word\", \"would\", \"want\", \"question\", \"usage\", \"written\", \"possible\", \"used\", \"right\", \"could\", \"think\", \"place\", \"noun\", \"=\", \"apple\", \"dice\", \"consider\", \"[e]\", \"vowels\", \"german\", \"[i]\", \"ate\", \"__\", \"god\", \"bless\", \"advanced\", \"toward\", \"spoken\", \"appears\", \"vein\", \"die\", \"give\", \"dialects\", \"regular\", \"occur\", \"english-------------------\", \"orthographies\", \"differ\", \"[aj]has\", \"comparision\", \"simple\", \"shift\", \"vowels:\", \"green\", \"america\", \"related\", \"written\", \"contraction\", \"british\", \"answers\", \"heard\", \"one\", \"ever\", \"two\", \"english\", \"words\", \"correct\", \"people\", \"also\", \"used\", \"always\", \"language\", \"like\", \"want\", \"appropriate\", \"e\", \"example\", \"signed\", \"three\", \"up:\", \"thehulk66\", \"fine\", \"assume\", \"photos\", \"presume\", \"came\", \"describing\", \"h\", \"gatesh\", \"hand\", \"keep\", \"jim\", \"this:only\", \"former\", \"rolls\", \"applies\", \"tutu\", \"touching\", \"song\", \"contraction:that\", \"lyric\", \"stop\", \"tongue\", \"avoided\", \"moose\", \"assumed\", \"clearly\", \"suppose\", \"usually\", \"bill\", \"ending\", \"g\", \"without\", \"example\", \"end\", \"emails\", \"formal\", \"acceptable\", \"find\", \"meaning\", \"would\", \"people\", \"usage\", \"language\", \"used\", \"vs\", \"good\", \"right\", \"like\", \"one\", \"word\", \"sentence\", \"form\", \"haskell\", \"followed\", \"buyer\", \"r\", \"regard\", \"buyers\", \"whole\", \"learn\", \"july\", \"shoot\", \"four\", \"wheels\", \"actors\", \"rolled\", \"enjoy\", \"ing\", \"simpler\", \"regards\", \"alternative\", \"talking\", \"verbs\", \"talk\", \"shorten\", \"good!\", \"skype\", \"messengers\", \"world\", \"story):on\", \"(see\", \"morning\", \"learning\", \"communication\", \"good\", \"car\", \"e\", \"emails\", \"also\", \"plural\", \"vs\", \"example\", \"like\", \"mean\", \"used\", \"words\", \"see\", \"something\", \"g\", \"great\", \"instead\", \"whilst\", \"\\u201cemployee\\u201d\", \"definition\", \"save\", \"pronoun\", \"student\", \"hates\", \"ex-wife\", \"street\", \"walking\", \"passing\", \"ninja\", \"\\u201cdeterminer\\u201d\", \"id\\u201d\", \"pretty\", \"try\", \"asking\", \"(non-native\", \"option\", \"speaker)\", \"fail\", \"rude\", \"means\", \"try:\", \"failure\", \"success\", \"bonus\", \"done:\", \"shifting\", \"age\", \"given\", \"fairly\", \"often\", \"bit\", \"someone\", \"reasons\", \"seems\", \"name\", \"time\", \"adjective\", \"noun\", \"questions\", \"great\", \"end\", \"like\", \"see\", \"word\", \"2010april\", \"freshmen\", \"students\", \"pen\", \"1st\", \"significant\", \"coming\", \"code\", \"mom\", \"joe\", \"methods\", \"chains\", \"extension\", \"unprecedented\", \"extremely\", \"concise\", \"tool\", \"knowledge\", \"per\", \"term\", \"uncomfortable\", \"setting\", \"etci\", \"thing\", \"nowadays\", \"denoting\", \"format\", \"2010another\", \"01\", \"personal)\", \"ask\", \"together\", \"may\", \"learned\", \"car\", \"sentences\", \"gerund\", \"speaker\", \"according\", \"instead\", \"right\", \"word\", \"like\", \"english\", \"formal\", \"difference\", \"great\", \"important\", \"time\", \"something\", \"whether\", \"usage\", \"seems\", \"correct\", \"used\", \"listbox\", \"r\\u00e9sum\\u00e9s\", \"novel\", \"(formal\", \"surprised\", \"oral\", \"ain\\u2019t\", \"text)see\", \"selectionmode=\\u201cnone\\u201d\", \"convey\", \"disable\", \"(for\", \"instance:\", \"movies\", \"selection\", \"question)\", \"(on\", \"phone\", \"uncertain\", \"annoying\", \"(if\", \"caf\\u00e9\", \"resumes\", \"careers\", \"mentioned\\u00a0\\u2014\", \"aboutcv\", \"deactivate\", \"word)\", \"effect\", \"interchangeably\", \"business\", \"confused\", \"situations\", \"frequently\", \"often\", \"technical\", \"word\", \"proper\", \"context\", \")\", \"appropriate\", \"e\", \"common\", \"always\", \"see\", \"used\", \"like\", \"english\", \"getting\", \"ok\", \"written\", \"emails\", \"referring\", \"question\", \"native\", \"please\", \"writing\", \"differences\"], \"loglift\": [30.0, 29.0, 28.0, 27.0, 26.0, 25.0, 24.0, 23.0, 22.0, 21.0, 20.0, 19.0, 18.0, 17.0, 16.0, 15.0, 14.0, 13.0, 12.0, 11.0, 10.0, 9.0, 8.0, 7.0, 6.0, 5.0, 4.0, 3.0, 2.0, 1.0, 1.4173, 1.3877999999999999, 1.3877999999999999, 1.3877999999999999, 1.3411, 1.3411, 1.3411, 1.3411, 1.3411, 1.3411, 1.3411, 1.3411, 1.3117000000000001, 1.2557, 1.2557, 1.2557, 1.2557, 1.2557, 1.2557, 1.2557, 1.2557, 1.2557, 1.2557, 1.2557, 1.2557, 1.2557, 1.2557, 1.2557, 1.2557, 1.2556, 1.2155, 1.224, 1.1752, 1.1403000000000001, 1.0709, 0.96250000000000002, 1.0384, 0.8155, 1.1024, 0.98070000000000002, 1.1414, 0.74509999999999998, 0.87980000000000003, 1.1384000000000001, 1.1355, 1.1355, 0.66710000000000003, 0.72619999999999996, 0.83240000000000003, 0.76180000000000003, 0.626, 0.65290000000000004, 0.050099999999999999, 0.64880000000000004, 0.88439999999999996, 0.1613, -0.0016000000000000001, 0.78649999999999998, 0.2344, 0.57920000000000005, -0.35410000000000003, 0.15820000000000001, 2.0394000000000001, 2.0394000000000001, 2.0394000000000001, 1.9292, 1.9292, 1.8329, 1.8329, 1.8329, 1.8329, 1.8329, 1.8329, 1.8329, 1.8329, 1.8329, 1.8329, 1.8329, 1.8329, 1.8329, 1.8329, 1.8329, 1.673, 1.6412, 1.6032999999999999, 1.6029, 1.6029, 1.6029, 1.6029, 1.6029, 1.6029, 1.6029, 1.5806, 1.5703, 1.5474000000000001, 1.5530999999999999, 1.5477000000000001, 1.5477000000000001, 1.3028, 1.2087000000000001, 1.3488, 0.80720000000000003, 1.0347999999999999, 1.2189000000000001, 0.41889999999999999, 0.46260000000000001, 0.65749999999999997, 0.55730000000000002, 0.84189999999999998, 0.015900000000000001, 0.63139999999999996, 0.61870000000000003, 0.35899999999999999, 0.31209999999999999, -0.2482, 0.5716, 0.5968, 2.0230999999999999, 2.0230999999999999, 1.9692000000000001, 1.8715999999999999, 1.8715999999999999, 1.8715999999999999, 1.8715999999999999, 1.8715999999999999, 1.8715999999999999, 1.8715999999999999, 1.8715999999999999, 1.8715999999999999, 1.8715999999999999, 1.8715999999999999, 1.8715999999999999, 1.8715999999999999, 1.7262999999999999, 1.6998, 1.6792, 1.639, 1.639, 1.639, 1.639, 1.639, 1.639, 1.639, 1.639, 1.639, 1.639, 1.639, 1.6169, 1.613, 1.613, 1.5788, 1.5891, 1.5853999999999999, 1.5853999999999999, 1.5291999999999999, 1.4549000000000001, 1.5382, 1.2412000000000001, 1.3026, 0.61419999999999997, 0.88539999999999996, 0.88490000000000002, 0.41210000000000002, 0.45169999999999999, 0.49070000000000003, 0.74329999999999996, 1.0143, 0.98909999999999998, 0.79369999999999996, 0.64670000000000005, 0.30570000000000003, 0.54579999999999995, 0.43590000000000001, 0.3841, 0.42280000000000001, 1.089, 0.65159999999999996, 1.1889000000000001, 1.9433, 1.9433, 1.9433, 1.9432, 1.9432, 1.9432, 1.9432, 1.9432, 1.9432, 1.9432, 1.9432, 1.9432, 1.9432, 1.8185, 1.8185, 1.708, 1.708, 1.708, 1.708, 1.708, 1.708, 1.708, 1.708, 1.708, 1.708, 1.708, 1.708, 1.708, 1.708, 1.708, 1.6358999999999999, 1.6580999999999999, 1.6580999999999999, 1.6580999999999999, 1.1822999999999999, 1.4390000000000001, 1.4817, 1.0177, 1.2259, 1.1120000000000001, 1.2499, 0.72789999999999999, 1.1786000000000001, 0.33850000000000002, 0.28470000000000001, 0.153, 0.309, 0.053600000000000002, 0.50970000000000004, 0.17530000000000001, 0.15579999999999999, 0.59019999999999995, 0.94269999999999998, -0.37659999999999999, 0.2077, 0.84660000000000002, 0.33069999999999999, 0.91820000000000002, 0.95750000000000002, 2.1772, 2.1179999999999999, 2.1177999999999999, 1.9636, 1.9636, 1.9636, 1.9636, 1.9636, 1.9636, 1.9636, 1.9636, 1.9636, 1.9635, 1.9635, 1.9635, 1.9635, 1.9635, 1.9634, 1.9634, 1.9631000000000001, 1.7272000000000001, 1.7272000000000001, 1.7272000000000001, 1.7272000000000001, 1.7272000000000001, 1.7272000000000001, 1.7272000000000001, 1.7272000000000001, 1.7272000000000001, 1.7272000000000001, 1.6773, 1.6718999999999999, 1.6168, 1.4935, 1.4959, 1.4094, 1.4094, 1.1306, 0.63419999999999999, 1.3647, 0.8992, 0.41249999999999998, 0.74399999999999999, 0.22670000000000001, 0.15640000000000001, 0.77810000000000001, 0.23499999999999999, 0.79079999999999995, 0.51929999999999998, -0.14879999999999999, 0.48559999999999998, 0.69750000000000001, 0.68559999999999999, 0.28420000000000001, 2.1972, 2.1617000000000002, 2.1617000000000002, 2.1059000000000001, 2.0053000000000001, 2.0053000000000001, 2.0053000000000001, 2.0053000000000001, 2.0053000000000001, 2.0053000000000001, 2.0053000000000001, 2.0053000000000001, 2.0053000000000001, 2.0053000000000001, 2.0053000000000001, 2.0053000000000001, 1.7682, 1.7664, 1.7664, 1.7664, 1.7664, 1.7664, 1.7664, 1.7664, 1.7664, 1.7664, 1.7664, 1.7664, 1.7664, 1.7664, 1.7342, 1.7110000000000001, 1.6646000000000001, 1.6646000000000001, 1.4273, 1.5485, 0.98470000000000002, 1.1555, 1.3685, 1.0623, 1.2896000000000001, 1.2896000000000001, 0.84730000000000005, 0.38059999999999999, 0.15210000000000001, 0.5927, 0.56730000000000003, 0.060400000000000002, 1.1431, 0.71079999999999999, 0.25530000000000003, -0.40649999999999997, -0.50139999999999996, -0.033000000000000002, 0.024500000000000001, 0.84640000000000004, 2.3673000000000002, 2.3673000000000002, 2.3672, 2.3077999999999999, 2.3077999999999999, 2.3077999999999999, 2.2010999999999998, 2.2010999999999998, 2.2010999999999998, 2.2010999999999998, 2.2010999999999998, 2.2010999999999998, 2.2010999999999998, 2.2010999999999998, 2.2010999999999998, 2.2010999999999998, 2.2010999999999998, 2.2010999999999998, 2.2010999999999998, 2.2010000000000001, 2.1745999999999999, 1.9500999999999999, 1.9500999999999999, 1.9500999999999999, 1.9500999999999999, 1.9500999999999999, 1.9500999999999999, 1.9500999999999999, 1.9500999999999999, 1.9500999999999999, 1.9294, 1.8999999999999999, 1.5275000000000001, 1.716, 1.2543, 1.5163, 0.95740000000000003, 1.3007, 1.2906, 0.85289999999999999, 0.1308, 1.2777000000000001, -0.18129999999999999, 0.25419999999999998, 0.56230000000000002, 0.6603, 1.1857, 0.99339999999999995, 0.68540000000000001, 2.4355000000000002, 2.4355000000000002, 2.3746, 2.2654000000000001, 2.2654000000000001, 2.2654000000000001, 2.2654000000000001, 2.2654000000000001, 2.2654000000000001, 2.2654000000000001, 2.2654000000000001, 2.2654000000000001, 2.2654000000000001, 2.2654000000000001, 2.2349999999999999, 2.2235, 2.0911, 2.0095999999999998, 2.0095999999999998, 2.0095999999999998, 2.0095999999999998, 2.0095999999999998, 2.0095999999999998, 2.0095999999999998, 2.0095999999999998, 2.0095999999999998, 2.0095999999999998, 2.0095999999999998, 2.0095999999999998, 2.0095999999999998, 1.9595, 1.9051, 1.4610000000000001, 1.6962999999999999, 1.4582999999999999, 1.6407, 1.141, 1.4619, 0.9486, 1.3110999999999999, 1.1986000000000001, 1.0775999999999999, 1.0391999999999999, 0.9597, -0.21290000000000001, 0.60809999999999997, 0.16059999999999999, 2.395, 2.395, 2.395, 2.2843, 2.2843, 2.2843, 2.2843, 2.2843, 2.2843, 2.2843, 2.2843, 2.2843, 2.2843, 2.2843, 2.2843, 2.2843, 2.2843, 2.2843, 2.2843, 2.1680999999999999, 2.0255999999999998, 2.0255999999999998, 2.0255999999999998, 2.0255999999999998, 2.0255999999999998, 2.0255999999999998, 2.0255999999999998, 2.0255999999999998, 2.0255999999999998, 2.0255999999999998, 1.9653, 1.9653, 1.8920999999999999, 1.9206000000000001, 1.7697000000000001, 1.5966, 1.7318, 1.7306999999999999, 1.7283999999999999, 1.4081999999999999, 1.1256999999999999, 0.55789999999999995, 0.18440000000000001, -0.10879999999999999, 0.87429999999999997, 0.90939999999999999, 1.0470999999999999, 1.6919, 0.56699999999999995, 0.71389999999999998, 0.73250000000000004, 0.4047, 0.47970000000000002, -0.30969999999999998, -0.12759999999999999, 2.5072000000000001, 2.5072000000000001, 2.2305000000000001, 2.2305000000000001, 2.2305000000000001, 2.2305000000000001, 2.2305000000000001, 2.2305000000000001, 2.2305000000000001, 2.2305000000000001, 2.2305000000000001, 2.2305000000000001, 2.2305000000000001, 2.2305000000000001, 2.2305000000000001, 2.2305000000000001, 2.2305000000000001, 2.2305000000000001, 2.2305000000000001, 2.2305000000000001, 2.2305000000000001, 2.2305000000000001, 2.2305000000000001, 2.2305000000000001, 2.2305000000000001, 2.2305000000000001, 2.2305000000000001, 2.2305000000000001, 2.2305000000000001, 2.2305000000000001, 2.1999, 1.9211, 1.9124000000000001, 1.8843000000000001, 1.3452999999999999, 1.6598999999999999, 0.99350000000000005, 1.5773999999999999, 1.5427999999999999, 1.2736000000000001, 1.0865, 1.0745, 0.97870000000000001, 0.84599999999999997, 0.77200000000000002, 0.028400000000000002, -0.049000000000000002, -0.34229999999999999, 1.4693000000000001, 1.0513999999999999, 0.34849999999999998, 1.0793999999999999, 1.7122999999999999, -0.18329999999999999, 0.86080000000000001, 0.44500000000000001, 0.40150000000000002, 1.0649], \"Freq\": [29.0, 5.0, 11.0, 4.0, 8.0, 11.0, 4.0, 4.0, 4.0, 15.0, 24.0, 8.0, 12.0, 24.0, 3.0, 5.0, 10.0, 5.0, 7.0, 6.0, 3.0, 7.0, 11.0, 3.0, 3.0, 3.0, 7.0, 13.0, 3.0, 3.0, 4.1275319847432419, 3.3182198004165464, 3.3181890946625954, 3.3181845194553032, 2.5088978988166377, 2.5088978977804479, 2.5088978968496125, 2.5088971163678337, 2.5088833729777065, 2.5088724622830649, 2.5088688430038899, 2.5088647911804549, 8.9834150147731986, 1.6995759960869501, 1.6995759958390337, 1.6995759957024856, 1.6995759951748342, 1.6995759951583187, 1.6995759950522644, 1.6995712201041251, 1.6995676999096727, 1.6995661808642355, 1.6995621102281522, 1.6995573885249495, 1.6995574293982554, 1.6995527784268534, 1.6995447339330541, 1.6995429100616466, 1.699523786283585, 1.6993394090980922, 4.9368604678397379, 3.3182256579924942, 4.1273922380397954, 4.9368425967851959, 4.9368616121229678, 7.772762883585929, 4.9369096223908082, 11.935618844593266, 3.3182139949731884, 4.9368512139539655, 2.5088794322060939, 9.2183932194812073, 5.7461704870545143, 2.5088874496977134, 2.5088958891034241, 2.5088750323347044, 10.229047140446379, 5.7462639961112103, 4.6217375067270501, 4.9368090779483014, 5.7462274551854255, 4.9368621179651582, 6.6649142831049142, 4.1275408958869315, 3.318217689091215, 4.9368977961061846, 5.190616711803437, 3.3182177805962354, 4.1141692134291956, 3.4477497132674175, 3.3182622638549182, 3.318235771278863, 4.2957874955051993, 4.2957707786465233, 4.295757583257287, 2.1831024084634909, 2.1831001483890611, 1.478906825508044, 1.4789068237590075, 1.4789039310107364, 1.4788938623094818, 1.478881300466786, 1.4788808212135003, 1.4788759297211178, 1.4788748011150412, 1.4788741738641764, 1.4788720014005317, 1.478874475124706, 1.4788748779207408, 1.47887208717764, 1.478870925204754, 1.4788679704010343, 2.1831487666137255, 2.8873791721551374, 1.4788972095205579, 0.77466547981944844, 0.77466547981025391, 0.77466547979152811, 0.7746654797824718, 0.77466547977657241, 0.77466547977650568, 0.77466547977536404, 1.4788722581412788, 1.4788878651675283, 2.1831183648930237, 1.4788999906704743, 1.4789080773912497, 1.4789080611926055, 2.8873360533400514, 3.5916229510043975, 2.1831303915641351, 5.704263506779875, 3.5915763651179313, 2.1831254021835833, 4.2958024904847303, 3.5915872736448069, 2.8873684063677274, 2.8874082993199681, 2.1831308959661566, 2.8873840383833995, 2.1831182100471969, 2.1831329098711874, 2.1831267007548223, 2.183111533684734, 2.1831151012658956, 1.4789199285066892, 1.4789117203886175, 2.8423833197691124, 2.8423833197128805, 2.1491190955368036, 1.4558548712259047, 1.455854871187553, 1.4558548711392596, 1.4558548710942638, 1.4558548710802921, 1.4558548707786747, 1.4558548701251457, 1.4558548700940723, 1.4558548698375777, 1.4558548697347227, 1.4558548697566136, 1.4558256929026077, 1.4558199329617107, 3.535653340235732, 2.8412671488321211, 2.8423863415257942, 0.76259064667637977, 0.76259064667274123, 0.7625906466639254, 0.76259064666166765, 0.76259064665854459, 0.76259064665722809, 0.76259064663292964, 0.7625906466214194, 0.7625906466160508, 0.76259064659568188, 0.76259064659345543, 1.4558548663109923, 1.4558331107196001, 1.455827693508003, 2.1491094058863558, 1.455841379909526, 1.4558553798858538, 1.4558341760426479, 2.149127762606641, 2.8423630626541483, 1.455856241598652, 2.8423929959509611, 2.1491212380268738, 4.9501903586803619, 3.5356361045869789, 3.5356384550553521, 4.931342087431136, 4.2487607042322502, 3.53564385107622, 2.8556600934646208, 2.1491271106303729, 2.1491448506246011, 2.1491191855419776, 2.1491172644356822, 2.1491453318267153, 1.4911465724142585, 1.4653022796801305, 1.4613205484022747, 1.455920749531433, 1.4558656550207401, 1.4558611356840028, 1.4558606201081845, 1.432636219321564, 1.4326360409116103, 1.4326144637689098, 1.4326079165165322, 1.4326051140283007, 1.4326028773242423, 1.4325984262703426, 1.4325999784098242, 1.4325948530840145, 1.4325947862746535, 1.4325945832537486, 1.4325961837832268, 1.4325402589234904, 2.1148290524246764, 2.1147956863276125, 0.75042849605686057, 0.75042849598796724, 0.75042849593984218, 0.75042849593592365, 0.75042849569595671, 0.75042849567262659, 0.75042849566397485, 0.75042849565151626, 0.75042849563655711, 0.75042849560644631, 0.75042849560409208, 0.75042849559505143, 0.75042849558747871, 0.75042849558161584, 0.75042849554155389, 2.1148222680263129, 1.4326349312578024, 1.4326146105783164, 1.4325955440173088, 9.8654991570845514, 2.114832541375228, 1.4326328133251172, 3.4792562179143411, 2.1147653544984282, 2.1148428736453755, 1.4324871104209054, 2.7969728736826265, 1.4326104849200916, 3.4792732682918208, 2.9987923634211779, 2.9355559944724394, 2.114850319219344, 2.1148832724135307, 1.5967921538364298, 1.6103356694425939, 1.4326512736829706, 1.4326471202560298, 1.4326393857198001, 1.4326386049998134, 1.4326297003766686, 1.4326200852616937, 1.4326197678180663, 1.432618610302075, 1.4326185466434536, 4.1347915838771545, 2.779122211782143, 2.7788102705140378, 1.4234528402948992, 1.4234528402317732, 1.4234528401791195, 1.4234528401734419, 1.4234528400619884, 1.4234528399887849, 1.4234528399596653, 1.4234528385742797, 1.4234528383713676, 1.4234335068058719, 1.4234333560034418, 1.4234089277156903, 1.4234052196123919, 1.4234047618293237, 1.4232985506756179, 1.4232645652953588, 1.4227737123161617, 0.74561815432345457, 0.74561815430505007, 0.74561815429473177, 0.74561815428725342, 0.74561815427979117, 0.74561815425194078, 0.7456181542530973, 0.74561815425121591, 0.74561815424474942, 0.74561815423200084, 1.4234534429968519, 1.4234991128954331, 2.1012469251985104, 3.4569161468060283, 1.4234084962325861, 1.4234372887453739, 1.4234331161021332, 2.0794709586287494, 4.5728223549632405, 1.333444601790454, 2.718335417294822, 4.4672529529479075, 2.7792438767428451, 3.0722860161671042, 2.8803711960751937, 2.1012876306336796, 2.5822560584279071, 1.9874071074706781, 2.0668374752286707, 1.900785844570323, 1.5242083559791917, 1.4234760807303635, 1.4234640363809505, 1.4234596970837974, 3.4044695896105925, 2.7369323225872031, 2.7369283262489281, 2.0693761627515692, 1.4018649198510369, 1.4018649196359223, 1.4018649196209734, 1.40186491960597, 1.4018649195542334, 1.4018649194064559, 1.4018649187152374, 1.4018649182975202, 1.401852726476752, 1.4018507855734907, 1.4018423924396881, 1.4018385592216795, 1.4018635554189656, 0.73431019606161307, 0.73431019604308145, 0.73431019603916481, 0.73431019603742176, 0.7343101960310513, 0.73431019603030967, 0.7343101960244337, 0.734310196024614, 0.73431019602370085, 0.73431019602112535, 0.73431019601874736, 0.73431019601606418, 0.73431019601533976, 1.4018651977893339, 1.4018466373764038, 1.4018655207748811, 1.4018618475577316, 2.0694276575880384, 1.4018602039842787, 2.7369738827496217, 2.0694267044817209, 1.4018630441545918, 2.0694270782751336, 1.4018723061556528, 1.4018623293789938, 2.0697030031733923, 2.7370020681128482, 2.736952088240701, 2.0694322542994308, 2.06941860643435, 2.0694432254107626, 1.4020635116899978, 1.4020277320163319, 1.4019590184827926, 1.4019235129535459, 1.4018959384626815, 1.4018938507904897, 1.4018749666896413, 1.4018657471328544, 2.5455887950121392, 2.5455677026973689, 2.5454729034956989, 1.9247083581376567, 1.9246619388768733, 1.9246267164896, 1.3038381632272129, 1.3038381630397173, 1.3038381629906508, 1.3038381627749069, 1.3038381619689479, 1.303838161710446, 1.3038326594866665, 1.3038312132249419, 1.3038266309509141, 1.3038254506687668, 1.3038032175725991, 1.3038019602205502, 1.3038000815544348, 1.3037736623015126, 2.5455776081518726, 0.68296284737503887, 0.68296284734125767, 0.68296284730007428, 0.68296284728455925, 0.68296284727266454, 0.68296284719005429, 0.68296284717444167, 0.68296284716485411, 0.68296284712160782, 1.3038385953324885, 1.3038409620996245, 2.545609027007401, 1.3038353674342371, 1.9247104577412901, 1.3038249821885719, 1.9247069768541847, 1.3038115434216422, 1.3036342338509179, 1.9247081235718666, 1.9247375943553777, 1.3038804335451326, 1.303872834888858, 1.3038697149702945, 1.303860758798798, 1.3038567594364596, 1.3038399214007519, 1.3038385587178465, 1.303838220096416, 2.4742270001134936, 2.474127593234376, 1.870692044730939, 1.267292397568399, 1.2672923973804524, 1.2672923970250836, 1.2672923969730812, 1.2672923969385048, 1.267285930751723, 1.2672845626792313, 1.2672844097531379, 1.2672579866521125, 1.2672337651675729, 1.2672313284429058, 2.4742269643106924, 3.681188607492893, 1.8707745093204797, 0.66381982795646555, 0.66381982791687311, 0.6638198279089641, 0.66381982790859528, 0.66381982790633121, 0.66381982788890903, 0.66381982788449223, 0.66381982785113935, 0.6638198278457732, 0.66381982784425586, 0.66381982780389759, 0.66381982769794379, 0.6638198276372882, 1.2672125847356033, 1.2672855116495865, 2.4742202634601234, 1.2672768693934675, 1.8707644240060324, 1.2672926420158077, 2.4742311683391938, 1.2672452415676618, 1.8707616249398127, 1.2672650627917772, 1.2672418116050015, 1.2673023662027909, 1.267291474780553, 1.267296783249229, 1.2672941524478365, 1.2672932074312397, 1.2672810344532717, 1.8389583351210532, 1.8389456862755293, 1.8389452895361538, 1.2457459690729931, 1.2457459686841721, 1.2457459684865937, 1.2457156284493909, 1.2457166695814041, 1.2457179664962201, 1.2457178259240445, 1.2457143688146111, 1.2457122739595317, 1.2457097918077722, 1.245709085216107, 1.2457089297534416, 1.2457063176968566, 1.2457059941810502, 1.24571016739602, 1.2457079941079545, 1.8389283564283512, 0.65253360270438765, 0.6525336026791777, 0.65253360265688443, 0.65253360263150217, 0.65253360243404757, 0.65253360237227831, 0.65253360236591529, 0.65253360236642666, 0.65253360236073232, 0.65253360226460255, 1.2457312331788213, 1.2457228742416635, 2.4321314771916782, 1.2457267353182786, 1.2457486387670378, 1.8389468154507114, 1.2457365686509567, 1.2457154986754766, 1.2457299537660311, 2.4321752427689183, 2.4321479059239488, 1.8389506263510089, 1.8389239124091259, 1.8389168770555013, 1.2457510310180067, 1.2457501178191661, 1.2457498944284133, 1.2457475311050343, 1.2457473506462038, 1.2457447186020389, 1.2457303232668959, 1.2457300986314843, 1.2457292325305007, 1.2457282274906796, 1.2457277539214762, 1.1203208086083292, 1.1203208079371938, 0.58683470922645231, 0.58683470921744818, 0.58683470920508718, 0.58683470919543335, 0.58683470917631186, 0.58683470917664637, 0.58683470917373581, 0.5868347091685393, 0.58683470916056091, 0.58683470915567026, 0.58683470914396163, 0.58683470913743274, 0.58683470913474534, 0.58683470911972413, 0.58683470910729829, 0.58683470907187152, 0.58683470905301516, 0.58683470897520362, 0.5868347088713225, 0.58683470879305322, 0.58683470867985688, 0.58683470867378096, 0.58683470858766951, 0.58683470856524766, 0.5868347083585902, 0.58683470821048656, 0.5868347081879377, 0.58683470814302963, 1.1203216125152318, 1.1203232561770944, 1.1203388959847138, 1.1203273491225205, 1.6538432602222453, 1.1203242896433263, 2.1873285558155562, 1.1203259770344405, 1.1203679973595473, 1.1203375941543086, 1.1203523381894063, 1.1203180708339662, 1.1203243383958303, 1.1203176843586831, 1.1203516263028328, 1.1203267616963912, 1.1203137022791669, 1.1203178202857549, 0.5868500323512601, 0.58684544037159914, 0.58684280990756854, 0.58684143560760971, 0.5868409394986388, 0.58684082261060078, 0.58684018784684677, 0.58684007265668336, 0.58683912002464367, 0.58683906241333883], \"Total\": [29.0, 5.0, 11.0, 4.0, 8.0, 11.0, 4.0, 4.0, 4.0, 15.0, 24.0, 8.0, 12.0, 24.0, 3.0, 5.0, 10.0, 5.0, 7.0, 6.0, 3.0, 7.0, 11.0, 3.0, 3.0, 3.0, 7.0, 13.0, 3.0, 3.0, 4.7051548220278701, 3.8958347086258103, 3.8958303054798065, 3.8958281238941184, 3.0865128057095395, 3.0865128054951074, 3.0865128052973181, 3.0865126686218689, 3.0865101284921632, 3.0865088105933456, 3.0865082421365315, 3.0865080580270279, 11.381038731294174, 2.2771909025574928, 2.2771909025074044, 2.2771909024785644, 2.2771909023651178, 2.2771909023614558, 2.2771909023438726, 2.2771900659255593, 2.2771894239108548, 2.2771891207735, 2.2771887216083897, 2.2771866020192499, 2.27718798642749, 2.2771872559214845, 2.2771851079186254, 2.2771838166735918, 2.2771803504829076, 2.2771527979184389, 6.8862737720138227, 4.5890997675944165, 5.9935608662552955, 7.423429944636216, 7.9569208907264217, 13.962228636522582, 8.2204244832258215, 24.83466387343222, 5.1823098662182314, 8.7083137025408899, 3.768715581306636, 20.581300077155458, 11.212546805022177, 3.7797750724440973, 3.7907535314236234, 3.7907483583422477, 24.690794048426064, 13.073461297849411, 9.4554447042395218, 10.839784624702437, 14.451971616643553, 12.086364614430668, 29.815448549875917, 10.146580963734264, 6.4450328141497746, 19.760949191909614, 24.45133744938855, 7.107871949286217, 15.307232646908785, 9.0862123371485239, 22.237956182074321, 13.322802263291678, 4.883994806226819, 4.8840026182007819, 4.8840039572208758, 2.7712698666903202, 2.771268632473332, 2.067029788160943, 2.0670297880196515, 2.0670296975753715, 2.0670317224898258, 2.0670335968233071, 2.0670336683857804, 2.0670290261779534, 2.0670281198640801, 2.0670292792315705, 2.0670279740236377, 2.0670317685170789, 2.0670323773564676, 2.0670292467032185, 2.0670292285902794, 2.0670277640252106, 3.5805922907038865, 4.8883048822840856, 2.6005172634571641, 1.3627884421566012, 1.3627884421540586, 1.3627884421521907, 1.3627884421469387, 1.3627884421467729, 1.3627884421490857, 1.3627884421513754, 2.6602442709738758, 2.687906445766449, 4.0597065301777748, 2.7345846465800845, 2.7492375779294327, 2.7492375745659587, 6.8572513339030081, 9.3711019049917574, 4.9516957029190278, 22.237956182074321, 11.150536914120158, 5.6382679508222369, 24.690794048426064, 19.760949191909614, 13.073461297849411, 14.451971616643553, 8.2204244832258215, 24.83466387343222, 10.146580963734264, 10.275864665142677, 13.322802263291678, 13.962228636522582, 24.45133744938855, 7.2967638433311466, 7.1152194736570431, 3.4316039946287309, 3.431603994628154, 2.7383397700203203, 2.0450755454157652, 2.0450755454133036, 2.0450755454071499, 2.045075545409313, 2.0450755454035208, 2.0450755453916378, 2.0450755453461245, 2.0450755453427063, 2.0450755453268505, 2.0450755453088294, 2.0450755453397362, 2.0450756644879253, 2.0450747678005747, 5.7435101090195779, 4.7393049049702904, 4.8400873856298254, 1.3518113207913616, 1.3518113207895799, 1.3518113207910132, 1.3518113207905287, 1.3518113207880373, 1.351811320789384, 1.351811320792486, 1.3518113207869649, 1.3518113207879299, 1.3518113207867855, 1.3518113207868174, 2.6382879113563944, 2.648552455362863, 2.6485473351889937, 4.0460592961618742, 2.7126305551069398, 2.7229101830557307, 2.7229126074023919, 4.2519000009537242, 6.0567859773149957, 2.854397219102903, 7.4999924164588938, 5.3332598069678552, 24.45133744938855, 13.315552465525684, 13.322802263291678, 29.815448549875917, 24.690794048426064, 19.760949191909614, 12.396831110860429, 7.1152194736570431, 7.2967638433311466, 8.8714779280603491, 10.275864665142677, 14.451971616643553, 7.8872385824397968, 8.6510724654769611, 9.0862123371485239, 8.7083137025408899, 4.4730394487953156, 6.9274467915081788, 4.0480283817063247, 2.0229625447702815, 2.0229625477343602, 2.0229608303969528, 2.0229623633998859, 2.0229623454431964, 2.0229618286640472, 2.0229587258291781, 2.0229617664044208, 2.0229585862533739, 2.0229586924591363, 2.0229584986412106, 2.0229622881967297, 2.0229619296374652, 3.3830186433884917, 3.383001676896388, 1.3407548204946753, 1.3407548204933064, 1.3407548204873605, 1.3407548204895496, 1.340754820481225, 1.3407548204762083, 1.3407548204700936, 1.3407548204760029, 1.3407548204791697, 1.3407548204651087, 1.3407548204770139, 1.3407548204690405, 1.3407548204648478, 1.34075482046497, 1.3407548204775945, 4.0608381757853937, 2.6905178289307163, 2.6905171664224814, 2.6905130505653165, 29.815448549875917, 4.9446789953869192, 3.2093919487889639, 12.396831110860429, 6.1189370966139585, 6.8572513339030081, 4.0463662789615435, 13.315552465525684, 4.3458463538628553, 24.45133744938855, 22.237956182074321, 24.83466387343222, 15.307232646908785, 19.760949191909614, 9.4554447042395218, 13.322802263291678, 12.086364614430668, 7.8272617051424112, 5.5020894986471545, 20.581300077155458, 11.474027896263802, 6.0567859773149957, 10.146580963734264, 5.6382679508222369, 5.4213091719386766, 4.7255552128471896, 3.3698858406046535, 3.3699234162983234, 2.014216468398061, 2.0142164684004693, 2.01421646839652, 2.0142164684018868, 2.0142164683866204, 2.0142164683891091, 2.0142164683884429, 2.0142164683154768, 2.0142164683390131, 2.0142163370582571, 2.014216365192663, 2.014215012480733, 2.0142147493972407, 2.0142237263221814, 2.0142386284362872, 2.0142447461283597, 2.0142208497146363, 1.3363817822874444, 1.3363817822878952, 1.3363817822893558, 1.3363817822847643, 1.3363817822861868, 1.3363817822863364, 1.3363817822912785, 1.3363817822884199, 1.336381782286328, 1.3363817822878974, 2.681771201568198, 2.6964238940939853, 4.2056178511819633, 7.8272617051424112, 3.2152558086769165, 3.5057418582350071, 3.5057434032236414, 6.7680567621270304, 24.45133744938855, 3.4342114663966137, 11.150536914120158, 29.815448549875917, 13.315552465525684, 24.690794048426064, 24.83466387343222, 9.7299043487120134, 20.581300077155458, 9.0862123371485239, 12.396831110860429, 22.237956182074321, 9.4554447042395218, 7.1439363310282147, 7.2300063983014669, 10.800940654598833, 3.9963223308669589, 3.3287670818082717, 3.3287672489207298, 2.6612123657645737, 1.9936565442708507, 1.9936565442628278, 1.9936565442643859, 1.9936565442613221, 1.9936565442576168, 1.9936565442631626, 1.9936565442298562, 1.9936565442292107, 1.9936572143699043, 1.9936587567023769, 1.9936571233102411, 1.9936572207259644, 2.5271434445498495, 1.326101820227606, 1.3261018202273129, 1.3261018202267651, 1.3261018202259156, 1.3261018202246126, 1.3261018202254284, 1.3261018202227857, 1.3261018202249704, 1.3261018202244461, 1.3261018202251222, 1.3261018202256769, 1.3261018202243049, 1.3261018202264023, 2.6145352880333639, 2.6758668916359252, 2.8029776674491536, 2.8029790996488297, 5.2457732437834306, 3.1480191284276069, 10.800940654598833, 6.8843053969969867, 3.7688917271702835, 7.5570482418970499, 4.0783988051244808, 4.078394996079318, 9.3711019049917574, 19.760949191909614, 24.83466387343222, 12.086364614430668, 12.396831110860429, 20.581300077155458, 4.7225770561602287, 7.2764881693614329, 11.474027896263802, 22.237956182074321, 24.45133744938855, 15.307232646908785, 14.451971616643553, 6.3526122954310686, 3.1420483610941279, 3.1420499468921719, 3.1420618731243399, 2.5211735148687584, 2.5211677527580783, 2.5211831607005308, 1.9002977286507186, 1.9002977286755407, 1.9002977286622489, 1.900297728681227, 1.9002977287195233, 1.9002977287355964, 1.9002982337927072, 1.9002983664294326, 1.9002985956835963, 1.9002986844188479, 1.9002940602462748, 1.9002937253112431, 1.9002939101604202, 1.9003052489310481, 3.809603926177219, 1.2794224124227513, 1.2794224124238687, 1.2794224124304212, 1.2794224124254705, 1.2794224124296727, 1.2794224124359781, 1.2794224124321294, 1.279422412432127, 1.279422412431771, 2.4935128044565591, 2.5678522422573509, 7.2764881693614329, 3.086722337426294, 7.2300063983014669, 3.7688917271702835, 9.7299043487120134, 4.6757587873581414, 4.7225770561602287, 10.800940654598833, 22.237956182074321, 4.7849522442844696, 20.581300077155458, 13.315552465525684, 9.7847597911178266, 8.8714779280603491, 5.2457732437834306, 6.3580307495339765, 8.6510724654769611, 3.0724361588167164, 3.0724523567447335, 2.4689743364617929, 1.8654922388731785, 1.8654922388923254, 1.8654922389475952, 1.8654922389424615, 1.865492238935655, 1.8654914886141571, 1.8654913299750648, 1.8654913122063368, 1.8654932311165449, 1.8654993889121749, 1.865499998034907, 3.7546405204690592, 5.6507192345621391, 3.2782834589461118, 1.2620196674729722, 1.2620196674778879, 1.2620196674754867, 1.2620196674760695, 1.2620196674775346, 1.2620196674791471, 1.2620196674772894, 1.2620196674797874, 1.2620196674851369, 1.2620196674845892, 1.2620196674863144, 1.2620196674969875, 1.262019667500127, 2.5330577998254671, 2.6748126235151481, 8.1414649941163066, 3.2956893900626221, 6.1723455453973521, 3.4841359617873544, 11.212546805022177, 4.1663488672620295, 10.275864665142677, 4.8441798779043639, 5.4213091719386766, 6.1189370966139585, 6.3580307495339765, 6.8843053969969867, 22.237956182074321, 9.7847597911178266, 15.307232646908785, 2.4381841958935544, 2.4381857810387224, 2.4381858307834765, 1.8449718293040389, 1.844971829353804, 1.8449718293751891, 1.8449732442898938, 1.8449767709986853, 1.844982030683634, 1.8449820819241745, 1.8449771590500845, 1.8449775123706071, 1.844977931009081, 1.8449780501843214, 1.844978076406395, 1.8449785169536392, 1.8449785715225013, 1.8449848718106336, 1.844985663499576, 3.0590608755008981, 1.2517594627684652, 1.2517594627701127, 1.2517594627698032, 1.2517594627761557, 1.2517594627972943, 1.2517594627983613, 1.2517594628010968, 1.2517594628039963, 1.2517594628030491, 1.2517594628207671, 2.5382411319507541, 2.538239948888048, 5.3322455922930114, 2.6542963439374492, 3.086722337426294, 5.4176492723246152, 3.2057922637574996, 3.2093919487889639, 3.2167766280979273, 8.6510724654769611, 11.474027896263802, 15.307232646908785, 22.237956182074321, 29.815448549875917, 7.5570482418970499, 7.2967638433311466, 6.3580307495339765, 3.3364996764269579, 10.275864665142677, 8.8714779280603491, 8.7083137025408899, 12.086364614430668, 11.212546805022177, 24.690794048426064, 20.581300077155458, 1.7255192953806313, 1.7255192955528575, 1.1920331958008044, 1.1920331958046664, 1.1920331958039636, 1.1920331958096377, 1.1920331958128083, 1.1920331958136265, 1.1920331958147334, 1.1920331958161388, 1.1920331958179955, 1.1920331958203201, 1.1920331958220851, 1.1920331958244303, 1.1920331958280703, 1.1920331958273316, 1.192033195833889, 1.1920331958405694, 1.1920331958458421, 1.1920331958678605, 1.1920331958932602, 1.192033195907489, 1.1920331959364812, 1.1920331959437527, 1.1920331959697263, 1.1920331959759725, 1.1920331960167185, 1.1920331960534889, 1.1920331960608632, 1.1920331960740267, 2.3463944800018686, 3.1009905470485828, 3.1280442961909602, 3.21704127448315, 8.1414649941163066, 4.026368869674406, 15.307232646908785, 4.3727344684312444, 4.5268003548752542, 5.9250117837853971, 7.1439363310282147, 7.2300063983014669, 7.9569208907264217, 9.0862123371485239, 9.7847597911178266, 20.581300077155458, 22.237956182074321, 29.815448549875917, 2.5520703415791037, 3.8758695517097905, 7.8272617051424112, 3.7688917271702835, 2.0013518769640855, 13.322802263291678, 4.689571284599487, 7.107871949286217, 7.423429944636216, 3.8238990578902494], \"logprob\": [30.0, 29.0, 28.0, 27.0, 26.0, 25.0, 24.0, 23.0, 22.0, 21.0, 20.0, 19.0, 18.0, 17.0, 16.0, 15.0, 14.0, 13.0, 12.0, 11.0, 10.0, 9.0, 8.0, 7.0, 6.0, 5.0, 4.0, 3.0, 2.0, 1.0, -5.1311999999999998, -5.3494000000000002, -5.3494000000000002, -5.3494000000000002, -5.6289999999999996, -5.6289999999999996, -5.6289999999999996, -5.6289999999999996, -5.6289999999999996, -5.6289999999999996, -5.6289999999999996, -5.6289999999999996, -4.3535000000000004, -6.0185000000000004, -6.0185000000000004, -6.0185000000000004, -6.0185000000000004, -6.0185000000000004, -6.0185000000000004, -6.0185000000000004, -6.0185000000000004, -6.0185000000000004, -6.0185000000000004, -6.0185000000000004, -6.0185000000000004, -6.0185000000000004, -6.0185000000000004, -6.0185000000000004, -6.0185000000000004, -6.0186000000000002, -4.9520999999999997, -5.3494000000000002, -5.1311999999999998, -4.9520999999999997, -4.9520999999999997, -4.4981999999999998, -4.9520999999999997, -4.0693000000000001, -5.3494000000000002, -4.9520999999999997, -5.6289999999999996, -4.3277000000000001, -4.8003, -5.6289999999999996, -5.6289999999999996, -5.6289999999999996, -4.2236000000000002, -4.8003, -5.0180999999999996, -4.9520999999999997, -4.8003, -4.9520999999999997, -4.6520000000000001, -5.1311999999999998, -5.3494000000000002, -4.9520999999999997, -4.9020000000000001, -5.3494000000000002, -5.1344000000000003, -5.3110999999999997, -5.3494000000000002, -5.3494000000000002, -4.4717000000000002, -4.4717000000000002, -4.4718, -5.1486000000000001, -5.1486000000000001, -5.5381, -5.5381, -5.5381, -5.5381, -5.5381, -5.5381, -5.5381, -5.5381, -5.5381, -5.5381, -5.5381, -5.5381, -5.5381, -5.5381, -5.5381, -5.1486000000000001, -4.8689999999999998, -5.5381, -6.1847000000000003, -6.1847000000000003, -6.1847000000000003, -6.1847000000000003, -6.1847000000000003, -6.1847000000000003, -6.1847000000000003, -5.5381, -5.5381, -5.1486000000000001, -5.5381, -5.5381, -5.5381, -4.8689999999999998, -4.6508000000000003, -5.1486000000000001, -4.1882000000000001, -4.6508000000000003, -5.1486000000000001, -4.4717000000000002, -4.6508000000000003, -4.8689999999999998, -4.8689999999999998, -5.1486000000000001, -4.8689999999999998, -5.1486000000000001, -5.1486000000000001, -5.1486000000000001, -5.1486000000000001, -5.1486000000000001, -5.5381, -5.5381, -4.8410000000000002, -4.8410000000000002, -5.1205999999999996, -5.5099999999999998, -5.5099999999999998, -5.5099999999999998, -5.5099999999999998, -5.5099999999999998, -5.5099999999999998, -5.5099999999999998, -5.5099999999999998, -5.5099999999999998, -5.5099999999999998, -5.5099999999999998, -5.5101000000000004, -5.5101000000000004, -4.6227, -4.8414000000000001, -4.8410000000000002, -6.1566999999999998, -6.1566999999999998, -6.1566999999999998, -6.1566999999999998, -6.1566999999999998, -6.1566999999999998, -6.1566999999999998, -6.1566999999999998, -6.1566999999999998, -6.1566999999999998, -6.1566999999999998, -5.5099999999999998, -5.5101000000000004, -5.5101000000000004, -5.1205999999999996, -5.5101000000000004, -5.5099999999999998, -5.5101000000000004, -5.1205999999999996, -4.8410000000000002, -5.5099999999999998, -4.8410000000000002, -5.1205999999999996, -4.2862, -4.6227, -4.6227, -4.29, -4.4390000000000001, -4.6227, -4.8362999999999996, -5.1205999999999996, -5.1205999999999996, -5.1205999999999996, -5.1205999999999996, -5.1205999999999996, -5.4861000000000004, -5.5035999999999996, -5.5063000000000004, -5.5099999999999998, -5.5099999999999998, -5.5099999999999998, -5.5099999999999998, -5.4493, -5.4493, -5.4493, -5.4493, -5.4493, -5.4493, -5.4493, -5.4493, -5.4493, -5.4493, -5.4493, -5.4493, -5.4493999999999998, -5.0598000000000001, -5.0598999999999998, -6.0959000000000003, -6.0959000000000003, -6.0959000000000003, -6.0959000000000003, -6.0959000000000003, -6.0959000000000003, -6.0959000000000003, -6.0959000000000003, -6.0959000000000003, -6.0959000000000003, -6.0959000000000003, -6.0959000000000003, -6.0959000000000003, -6.0959000000000003, -6.0959000000000003, -5.0598000000000001, -5.4493, -5.4493, -5.4493, -3.5198, -5.0598000000000001, -5.4493, -4.5620000000000003, -5.0598999999999998, -5.0598000000000001, -5.4493999999999998, -4.7803000000000004, -5.4493, -4.5620000000000003, -4.7106000000000003, -4.7319000000000004, -5.0598000000000001, -5.0598000000000001, -5.3407999999999998, -5.3323999999999998, -5.4493, -5.4493, -5.4493, -5.4493, -5.4493, -5.4493, -5.4493, -5.4493, -5.4493, -4.367, -4.7643000000000004, -4.7644000000000002, -5.4333, -5.4333, -5.4333, -5.4333, -5.4333, -5.4333, -5.4333, -5.4333, -5.4333, -5.4333, -5.4333, -5.4333999999999998, -5.4333999999999998, -5.4333999999999998, -5.4333999999999998, -5.4335000000000004, -5.4337999999999997, -6.0800000000000001, -6.0800000000000001, -6.0800000000000001, -6.0800000000000001, -6.0800000000000001, -6.0800000000000001, -6.0800000000000001, -6.0800000000000001, -6.0800000000000001, -6.0800000000000001, -5.4333, -5.4333, -5.0438999999999998, -4.5460000000000003, -5.4333999999999998, -5.4333, -5.4333, -5.0542999999999996, -4.2663000000000002, -5.4985999999999997, -4.7864000000000004, -4.2896000000000001, -4.7641999999999998, -4.6639999999999997, -4.7285000000000004, -5.0438999999999998, -4.8377999999999997, -5.0995999999999997, -5.0603999999999996, -5.1440999999999999, -5.3648999999999996, -5.4333, -5.4333, -5.4333, -4.5145, -4.7328000000000001, -4.7328000000000001, -5.0124000000000004, -5.4017999999999997, -5.4017999999999997, -5.4017999999999997, -5.4017999999999997, -5.4017999999999997, -5.4017999999999997, -5.4017999999999997, -5.4017999999999997, -5.4017999999999997, -5.4017999999999997, -5.4019000000000004, -5.4019000000000004, -5.4017999999999997, -6.0484999999999998, -6.0484999999999998, -6.0484999999999998, -6.0484999999999998, -6.0484999999999998, -6.0484999999999998, -6.0484999999999998, -6.0484999999999998, -6.0484999999999998, -6.0484999999999998, -6.0484999999999998, -6.0484999999999998, -6.0484999999999998, -5.4017999999999997, -5.4017999999999997, -5.4017999999999997, -5.4017999999999997, -5.0124000000000004, -5.4017999999999997, -4.7328000000000001, -5.0124000000000004, -5.4017999999999997, -5.0124000000000004, -5.4017999999999997, -5.4017999999999997, -5.0122, -4.7328000000000001, -4.7328000000000001, -5.0124000000000004, -5.0124000000000004, -5.0124000000000004, -5.4016999999999999, -5.4016999999999999, -5.4017999999999997, -5.4017999999999997, -5.4017999999999997, -5.4017999999999997, -5.4017999999999997, -5.4017999999999997, -4.585, -4.585, -4.585, -4.8646000000000003, -4.8646000000000003, -4.8646000000000003, -5.2539999999999996, -5.2539999999999996, -5.2539999999999996, -5.2539999999999996, -5.2539999999999996, -5.2539999999999996, -5.2539999999999996, -5.2539999999999996, -5.2539999999999996, -5.2539999999999996, -5.2539999999999996, -5.2539999999999996, -5.2539999999999996, -5.2541000000000002, -4.585, -5.9005999999999998, -5.9005999999999998, -5.9005999999999998, -5.9005999999999998, -5.9005999999999998, -5.9005999999999998, -5.9005999999999998, -5.9005999999999998, -5.9005999999999998, -5.2539999999999996, -5.2539999999999996, -4.585, -5.2539999999999996, -4.8646000000000003, -5.2539999999999996, -4.8646000000000003, -5.2539999999999996, -5.2542, -4.8646000000000003, -4.8644999999999996, -5.2539999999999996, -5.2539999999999996, -5.2539999999999996, -5.2539999999999996, -5.2539999999999996, -5.2539999999999996, -5.2539999999999996, -5.2539999999999996, -4.5391000000000004, -4.5392000000000001, -4.8188000000000004, -5.2081999999999997, -5.2081999999999997, -5.2081999999999997, -5.2081999999999997, -5.2081999999999997, -5.2081999999999997, -5.2081999999999997, -5.2081999999999997, -5.2081999999999997, -5.2081999999999997, -5.2081999999999997, -4.5391000000000004, -4.1417999999999999, -4.8186999999999998, -5.8548, -5.8548, -5.8548, -5.8548, -5.8548, -5.8548, -5.8548, -5.8548, -5.8548, -5.8548, -5.8548, -5.8548, -5.8548, -5.2081999999999997, -5.2081999999999997, -4.5391000000000004, -5.2081999999999997, -4.8186999999999998, -5.2081999999999997, -4.5391000000000004, -5.2081999999999997, -4.8186999999999998, -5.2081999999999997, -5.2081999999999997, -5.2081999999999997, -5.2081999999999997, -5.2081999999999997, -5.2081999999999997, -5.2081999999999997, -5.2081999999999997, -4.8109000000000002, -4.8109000000000002, -4.8109000000000002, -5.2003000000000004, -5.2003000000000004, -5.2003000000000004, -5.2004000000000001, -5.2004000000000001, -5.2004000000000001, -5.2004000000000001, -5.2004000000000001, -5.2004000000000001, -5.2004000000000001, -5.2004000000000001, -5.2004000000000001, -5.2004000000000001, -5.2004000000000001, -5.2004000000000001, -5.2004000000000001, -4.8109000000000002, -5.8470000000000004, -5.8470000000000004, -5.8470000000000004, -5.8470000000000004, -5.8470000000000004, -5.8470000000000004, -5.8470000000000004, -5.8470000000000004, -5.8470000000000004, -5.8470000000000004, -5.2003000000000004, -5.2003000000000004, -4.5312999999999999, -5.2003000000000004, -5.2003000000000004, -4.8109000000000002, -5.2003000000000004, -5.2004000000000001, -5.2003000000000004, -4.5312999999999999, -4.5312999999999999, -4.8109000000000002, -4.8109000000000002, -4.8109000000000002, -5.2003000000000004, -5.2003000000000004, -5.2003000000000004, -5.2003000000000004, -5.2003000000000004, -5.2003000000000004, -5.2003000000000004, -5.2003000000000004, -5.2003000000000004, -5.2003000000000004, -5.2003000000000004, -5.0442999999999998, -5.0442999999999998, -5.6909999999999998, -5.6909999999999998, -5.6909999999999998, -5.6909999999999998, -5.6909999999999998, -5.6909999999999998, -5.6909999999999998, -5.6909999999999998, -5.6909999999999998, -5.6909999999999998, -5.6909999999999998, -5.6909999999999998, -5.6909999999999998, -5.6909999999999998, -5.6909999999999998, -5.6909999999999998, -5.6909999999999998, -5.6909999999999998, -5.6909999999999998, -5.6909999999999998, -5.6909999999999998, -5.6909999999999998, -5.6909999999999998, -5.6909999999999998, -5.6909999999999998, -5.6909999999999998, -5.6909999999999998, -5.6909999999999998, -5.0442999999999998, -5.0442999999999998, -5.0442999999999998, -5.0442999999999998, -4.6548999999999996, -5.0442999999999998, -4.3753000000000002, -5.0442999999999998, -5.0442999999999998, -5.0442999999999998, -5.0442999999999998, -5.0444000000000004, -5.0442999999999998, -5.0444000000000004, -5.0442999999999998, -5.0442999999999998, -5.0444000000000004, -5.0444000000000004, -5.6909999999999998, -5.6909999999999998, -5.6909999999999998, -5.6909999999999998, -5.6909999999999998, -5.6909999999999998, -5.6909999999999998, -5.6909999999999998, -5.6909999999999998, -5.6909999999999998]}};\n",
       "\n",
       "function LDAvis_load_lib(url, callback){\n",
       "  var s = document.createElement('script');\n",
       "  s.src = url;\n",
       "  s.async = true;\n",
       "  s.onreadystatechange = s.onload = callback;\n",
       "  s.onerror = function(){console.warn(\"failed to load library \" + url);};\n",
       "  document.getElementsByTagName(\"head\")[0].appendChild(s);\n",
       "}\n",
       "\n",
       "if(typeof(LDAvis) !== \"undefined\"){\n",
       "   // already loaded: just create the visualization\n",
       "   !function(LDAvis){\n",
       "       new LDAvis(\"#\" + \"ldavis_el16322140434926958416278568353\", ldavis_el16322140434926958416278568353_data);\n",
       "   }(LDAvis);\n",
       "}else if(typeof define === \"function\" && define.amd){\n",
       "   // require.js is available: use it to load d3/LDAvis\n",
       "   require.config({paths: {d3: \"https://cdnjs.cloudflare.com/ajax/libs/d3/3.5.5/d3.min\"}});\n",
       "   require([\"d3\"], function(d3){\n",
       "      window.d3 = d3;\n",
       "      LDAvis_load_lib(\"https://cdn.rawgit.com/bmabey/pyLDAvis/files/ldavis.v1.0.0.js\", function(){\n",
       "        new LDAvis(\"#\" + \"ldavis_el16322140434926958416278568353\", ldavis_el16322140434926958416278568353_data);\n",
       "      });\n",
       "    });\n",
       "}else{\n",
       "    // require.js not available: dynamically load d3 & LDAvis\n",
       "    LDAvis_load_lib(\"https://cdnjs.cloudflare.com/ajax/libs/d3/3.5.5/d3.min.js\", function(){\n",
       "         LDAvis_load_lib(\"https://cdn.rawgit.com/bmabey/pyLDAvis/files/ldavis.v1.0.0.js\", function(){\n",
       "                 new LDAvis(\"#\" + \"ldavis_el16322140434926958416278568353\", ldavis_el16322140434926958416278568353_data);\n",
       "            })\n",
       "         });\n",
       "}\n",
       "</script>"
      ],
      "text/plain": [
       "<IPython.core.display.HTML object>"
      ]
     },
     "execution_count": 26,
     "metadata": {},
     "output_type": "execute_result"
    }
   ],
   "source": [
    "sovizdata = pyLDAvis.gensim.prepare(ldamodel,corpus,dictionary)\n",
    "pyLDAvis.display(sovizdata)\n"
   ]
  },
  {
   "cell_type": "markdown",
   "metadata": {
    "collapsed": false
   },
   "source": [
    "## References\n",
    "\n",
    "* https://rstudio-pubs-static.s3.amazonaws.com/79360_850b2a69980c4488b1db95987a24867a.html\n",
    "* This dashboard @ https://github.com/dhruvaray/soml\n",
    "    "
   ]
  },
  {
   "cell_type": "code",
   "execution_count": null,
   "metadata": {
    "collapsed": true
   },
   "outputs": [],
   "source": []
  }
 ],
 "metadata": {
  "kernelspec": {
   "display_name": "Python 2",
   "language": "python",
   "name": "python2"
  },
  "language_info": {
   "codemirror_mode": {
    "name": "ipython",
    "version": 2
   },
   "file_extension": ".py",
   "mimetype": "text/x-python",
   "name": "python",
   "nbconvert_exporter": "python",
   "pygments_lexer": "ipython2",
   "version": "2.7.11"
  }
 },
 "nbformat": 4,
 "nbformat_minor": 0
}
