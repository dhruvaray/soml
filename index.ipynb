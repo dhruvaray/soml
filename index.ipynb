{
 "cells": [
  {
   "cell_type": "markdown",
   "metadata": {
    "slideshow": {
     "slide_type": "slide"
    }
   },
   "source": [
    "# StackOverflow Analysis\n",
    "\n",
    "Popular question and answer (qna) site - stackoverflow (& their sister sites - http://stackexchange.com/sites) witnesses tremendous activity daily where netizens post questions, recieve answers, comments and engage in an active discussion. \n",
    "\n",
    "We want to analyze this data with the intention to identify __related__ questions. In general, the analysis presented in this notebook can be used in a variety of scenarios. Some illustrative examples include\n",
    "\n",
    "* Power users use multiple browser tabs simultaneously. Using the techniques outlined below, we can identify and group similar tabs together. With the appropriate visual cues, similar tabs can be identified at a glance.\n",
    "\n",
    "* Many products provide a twitter handle to offer support. User questions about the product or service related queries (all within the twitter 140 char limit) can be grouped based on similarity.\n",
    "\n",
    "The Stack Exchange network uploads monthly dumps of their data which we have used for analysis.\n",
    "\n",
    "> \"The anonymized dump of all user-contributed content on the Stack Exchange network. Each site is formatted as a separate archive consisting of XML files zipped via 7-zip using bzip2 compression. Each site archive includes Posts, Users, Votes, Comments, PostHistory and PostLinks. For complete schema information, see the included readme.txt.\n",
    "\n",
    "> All user content contributed to the Stack Exchange network is cc-by-sa 3.0 licensed, intended to be shared and remixed. We even provide all our data as a convenient data dump.\"\n",
    "\n",
    "** From : https://archive.org/details/stackexchange **\n"
   ]
  },
  {
   "cell_type": "markdown",
   "metadata": {
    "slideshow": {
     "slide_type": "fragment"
    }
   },
   "source": [
    "## Schema & Data Munging\n",
    "\n",
    "The schema for their data is located @ https://ia800500.us.archive.org/22/items/stackexchange/readme.txt.\n",
    "    \n",
    "However,\n",
    "\n",
    "* All the data is dumped in XML format. So we need to write a converter to convert the XML data into a tabular format.\n",
    "* Since the size of data is huge, we need to load data in a streaming fashion. \n",
    "* All the exchange sites share identical schema!\n",
    "\n",
    "\n",
    "The first step is to then write a converter which does this. Our [Streaming XML2CSV Converter](convertp2csv.py) expects input data to be present at [input/english](input/english) for english.stackexchange.com, [input/aviation](input/aviation) for aviation.stackexchange.com etc. Similarly, the converted data is dumped at [output/english](output/english) and [output/aviation](output/aviation) respectively.\n",
    "\n",
    "Also, note the converter outputs the csv file in a zipped format as pandas (the lib we use to read data) understands zip formats natively.\n",
    "\n",
    "Please download the data from https://archive.org/download/stackexchange/english.stackexchange.com.7z and https://archive.org/download/stackexchange/aviation.stackexchange.com.7z into the input folders to run the dashboard. Alternatively, a sample run output has been stored in the respective output folders.\n"
   ]
  },
  {
   "cell_type": "code",
   "execution_count": 7,
   "metadata": {
    "collapsed": false
   },
   "outputs": [],
   "source": [
    "#imports\n",
    "import warnings\n",
    "warnings.filterwarnings('ignore')\n",
    "\n",
    "import os\n",
    "import os.path\n",
    "\n",
    "import pandas as pd\n",
    "import numpy as np\n",
    "import math\n",
    "import re\n",
    "import gensim\n",
    "from gensim import corpora, models,similarities\n",
    "from gensim.models import Doc2Vec, TfidfModel\n",
    "import nltk\n",
    "from nltk.corpus import stopwords\n",
    "from nltk.stem.porter import PorterStemmer\n",
    "from pprint import pprint                        # pretty-printer\n",
    "\n",
    "%matplotlib inline\n",
    "import matplotlib\n",
    "import numpy as np\n",
    "import matplotlib.pyplot as plt\n",
    "from matplotlib.pyplot import figure\n",
    "\n",
    "import pyLDAvis\n",
    "import pyLDAvis.gensim\n",
    "pyLDAvis.enable_notebook()\n",
    "\n",
    "from sklearn.feature_extraction.text import TfidfVectorizer\n",
    "from sklearn.cluster import KMeans\n",
    "\n",
    "SAMPLE_SIZE = 200000\n",
    "\n",
    "SITE1 = 'english' #.stackexchange.com\n",
    "SITE2 = 'aviation' #.stackexchange.com"
   ]
  },
  {
   "cell_type": "markdown",
   "metadata": {},
   "source": [
    "## 0. Convert Data from XML to CSV"
   ]
  },
  {
   "cell_type": "code",
   "execution_count": 4,
   "metadata": {
    "collapsed": false
   },
   "outputs": [
    {
     "name": "stdout",
     "output_type": "stream",
     "text": [
      "skipping aviation...\n",
      "skipping english...\n"
     ]
    }
   ],
   "source": [
    "from convertso2csv import process\n",
    "\n",
    "process(os.getcwd() + '/input')"
   ]
  },
  {
   "cell_type": "markdown",
   "metadata": {},
   "source": [
    "# Data loading\n",
    "\n",
    "For the purposes of this analysis, we use only post title and body. However, we will show the other data also made available to us from stackexchange. This can be used to further enrich the analysis. But this is not done in the current notebook.\n",
    "\n",
    "### Note :\n",
    "\n",
    "The original data is large. So to play around with the data, we have provide some knobs to tune within the notebooks (versus putting them in the parser)\n",
    "\n",
    "1. ** SAMPLE_SIZE **  (#default value as 20k records)\n",
    "2. ** SITE1 ** (#default value is english)\n",
    "3. ** SITE2 ** (#default value is aviation)\n",
    "\n",
    "Feel free to change this value to experiment or get better results."
   ]
  },
  {
   "cell_type": "markdown",
   "metadata": {},
   "source": [
    "### 1. Load the aviation stackexchange data."
   ]
  },
  {
   "cell_type": "code",
   "execution_count": 2,
   "metadata": {
    "collapsed": false
   },
   "outputs": [
    {
     "data": {
      "text/html": [
       "<div>\n",
       "<table border=\"1\" class=\"dataframe\">\n",
       "  <thead>\n",
       "    <tr style=\"text-align: right;\">\n",
       "      <th></th>\n",
       "      <th>Body</th>\n",
       "      <th>Title</th>\n",
       "      <th>Tags</th>\n",
       "    </tr>\n",
       "  </thead>\n",
       "  <tbody>\n",
       "    <tr>\n",
       "      <th>0</th>\n",
       "      <td>i recently had the opportunity to fly a par ap...</td>\n",
       "      <td>what does it mean when the controller uses the...</td>\n",
       "      <td>air-traffic-control  radio-communications  ph...</td>\n",
       "    </tr>\n",
       "    <tr>\n",
       "      <th>4</th>\n",
       "      <td>i ve never had the opportunity to fly into a c...</td>\n",
       "      <td>should you wait to switch to the ground freque...</td>\n",
       "      <td>air-traffic-control  runways</td>\n",
       "    </tr>\n",
       "  </tbody>\n",
       "</table>\n",
       "</div>"
      ],
      "text/plain": [
       "                                                Body  \\\n",
       "0  i recently had the opportunity to fly a par ap...   \n",
       "4  i ve never had the opportunity to fly into a c...   \n",
       "\n",
       "                                               Title  \\\n",
       "0  what does it mean when the controller uses the...   \n",
       "4  should you wait to switch to the ground freque...   \n",
       "\n",
       "                                                Tags  \n",
       "0   air-traffic-control  radio-communications  ph...  \n",
       "4                      air-traffic-control  runways   "
      ]
     },
     "execution_count": 2,
     "metadata": {},
     "output_type": "execute_result"
    }
   ],
   "source": [
    "path = 'output/'+SITE2+'/'+'posts.csv.gz'\n",
    "posts_aviation = pd.read_csv(path,compression='gzip',nrows=SAMPLE_SIZE).dropna(subset=['Body','Title'])\n",
    "posts_aviation['Tags'] = posts_aviation['Tags'].apply(lambda x : x.replace('<',' ').replace('>',' '))\n",
    "\n",
    "posts_aviation[['Body','Title', 'Tags']].head(2)"
   ]
  },
  {
   "cell_type": "markdown",
   "metadata": {},
   "source": [
    "### 2. Load the english stackexchange data."
   ]
  },
  {
   "cell_type": "code",
   "execution_count": 3,
   "metadata": {
    "collapsed": false
   },
   "outputs": [
    {
     "data": {
      "text/html": [
       "<div>\n",
       "<table border=\"1\" class=\"dataframe\">\n",
       "  <thead>\n",
       "    <tr style=\"text-align: right;\">\n",
       "      <th></th>\n",
       "      <th>Body</th>\n",
       "      <th>Title</th>\n",
       "      <th>Tags</th>\n",
       "    </tr>\n",
       "  </thead>\n",
       "  <tbody>\n",
       "    <tr>\n",
       "      <th>0</th>\n",
       "      <td>when should i use can  when should i use could...</td>\n",
       "      <td>when do i use  can  or  could</td>\n",
       "      <td>word-choice  tenses  politeness  subjunctive-...</td>\n",
       "    </tr>\n",
       "    <tr>\n",
       "      <th>1</th>\n",
       "      <td>doesn t  quint  mean  five    what does that h...</td>\n",
       "      <td>where does the  quint  in  quintessential  com...</td>\n",
       "      <td>etymology</td>\n",
       "    </tr>\n",
       "  </tbody>\n",
       "</table>\n",
       "</div>"
      ],
      "text/plain": [
       "                                                Body  \\\n",
       "0  when should i use can  when should i use could...   \n",
       "1  doesn t  quint  mean  five    what does that h...   \n",
       "\n",
       "                                               Title  \\\n",
       "0                    when do i use  can  or  could     \n",
       "1  where does the  quint  in  quintessential  com...   \n",
       "\n",
       "                                                Tags  \n",
       "0   word-choice  tenses  politeness  subjunctive-...  \n",
       "1                                         etymology   "
      ]
     },
     "execution_count": 3,
     "metadata": {},
     "output_type": "execute_result"
    }
   ],
   "source": [
    "path = 'output/'+SITE1+'/'+'posts.csv.gz'\n",
    "posts_english = pd.read_csv(path,compression='gzip',nrows=SAMPLE_SIZE).dropna(subset=['Body','Title'])\n",
    "posts_english['Tags'] = posts_english['Tags'].apply(lambda x : x.replace('<',' ').replace('>',' '))\n",
    "\n",
    "posts_english[['Body','Title', 'Tags']].head(2)"
   ]
  },
  {
   "cell_type": "markdown",
   "metadata": {},
   "source": [
    "Related data can also be loaded. However, for the purposes of this demonstration, we are not exploiting the data from the tables below."
   ]
  },
  {
   "cell_type": "code",
   "execution_count": 63,
   "metadata": {
    "collapsed": false
   },
   "outputs": [
    {
     "data": {
      "text/html": [
       "<div>\n",
       "<table border=\"1\" class=\"dataframe\">\n",
       "  <thead>\n",
       "    <tr style=\"text-align: right;\">\n",
       "      <th></th>\n",
       "      <th>Score</th>\n",
       "      <th>Text</th>\n",
       "    </tr>\n",
       "  </thead>\n",
       "  <tbody>\n",
       "    <tr>\n",
       "      <th>0</th>\n",
       "      <td>0</td>\n",
       "      <td>right  of course i use  request  all the time ...</td>\n",
       "    </tr>\n",
       "    <tr>\n",
       "      <th>1</th>\n",
       "      <td>1</td>\n",
       "      <td>the few times i ve spoken to military controll...</td>\n",
       "    </tr>\n",
       "    <tr>\n",
       "      <th>2</th>\n",
       "      <td>5</td>\n",
       "      <td>congrats on the first question on aviation</td>\n",
       "    </tr>\n",
       "    <tr>\n",
       "      <th>3</th>\n",
       "      <td>1</td>\n",
       "      <td>garrisonneely  thanks  i love the platform  b...</td>\n",
       "    </tr>\n",
       "    <tr>\n",
       "      <th>4</th>\n",
       "      <td>1</td>\n",
       "      <td>in the u s   i think the controllers would typ...</td>\n",
       "    </tr>\n",
       "  </tbody>\n",
       "</table>\n",
       "</div>"
      ],
      "text/plain": [
       "   Score                                               Text\n",
       "0      0  right  of course i use  request  all the time ...\n",
       "1      1  the few times i ve spoken to military controll...\n",
       "2      5        congrats on the first question on aviation \n",
       "3      1   garrisonneely  thanks  i love the platform  b...\n",
       "4      1  in the u s   i think the controllers would typ..."
      ]
     },
     "execution_count": 63,
     "metadata": {},
     "output_type": "execute_result"
    }
   ],
   "source": [
    "path = 'output/'+SITE2+'/'+'comments.csv.gz'\n",
    "comments = pd.read_csv(path,compression='gzip',nrows=SAMPLE_SIZE).dropna()\n",
    "comments[['Score','Text']].head(5)"
   ]
  },
  {
   "cell_type": "code",
   "execution_count": 64,
   "metadata": {
    "collapsed": false
   },
   "outputs": [
    {
     "data": {
      "text/html": [
       "<div>\n",
       "<table border=\"1\" class=\"dataframe\">\n",
       "  <thead>\n",
       "    <tr style=\"text-align: right;\">\n",
       "      <th></th>\n",
       "      <th>Text</th>\n",
       "    </tr>\n",
       "  </thead>\n",
       "  <tbody>\n",
       "    <tr>\n",
       "      <th>0</th>\n",
       "      <td>when could i use can  or when can i use could ...</td>\n",
       "    </tr>\n",
       "    <tr>\n",
       "      <th>1</th>\n",
       "      <td>when do i could  can     could</td>\n",
       "    </tr>\n",
       "    <tr>\n",
       "      <th>3</th>\n",
       "      <td>doesn t  quint  mean five   what does that hav...</td>\n",
       "    </tr>\n",
       "    <tr>\n",
       "      <th>4</th>\n",
       "      <td>where does the  quint  in quintessential come ...</td>\n",
       "    </tr>\n",
       "    <tr>\n",
       "      <th>6</th>\n",
       "      <td>which is the correct use of these two words an...</td>\n",
       "    </tr>\n",
       "  </tbody>\n",
       "</table>\n",
       "</div>"
      ],
      "text/plain": [
       "                                                Text\n",
       "0  when could i use can  or when can i use could ...\n",
       "1                  when do i could  can     could   \n",
       "3  doesn t  quint  mean five   what does that hav...\n",
       "4  where does the  quint  in quintessential come ...\n",
       "6  which is the correct use of these two words an..."
      ]
     },
     "execution_count": 64,
     "metadata": {},
     "output_type": "execute_result"
    }
   ],
   "source": [
    "path='output/'+SITE1+'/'+'posthistory.csv.gz'\n",
    "posthistory = pd.read_csv(path,compression='gzip',nrows=SAMPLE_SIZE).dropna(subset=['Text'])\n",
    "posthistory[['Text']].head(5)"
   ]
  },
  {
   "cell_type": "code",
   "execution_count": 65,
   "metadata": {
    "collapsed": false,
    "scrolled": true
   },
   "outputs": [
    {
     "data": {
      "text/html": [
       "<div>\n",
       "<table border=\"1\" class=\"dataframe\">\n",
       "  <thead>\n",
       "    <tr style=\"text-align: right;\">\n",
       "      <th></th>\n",
       "      <th>Location</th>\n",
       "      <th>AboutMe</th>\n",
       "    </tr>\n",
       "  </thead>\n",
       "  <tbody>\n",
       "    <tr>\n",
       "      <th>0</th>\n",
       "      <td>on the server farm</td>\n",
       "      <td>hi  i m not really a person  i m a background ...</td>\n",
       "    </tr>\n",
       "    <tr>\n",
       "      <th>1</th>\n",
       "      <td>corvallis  or</td>\n",
       "      <td>developer on the stack overflow team   find me...</td>\n",
       "    </tr>\n",
       "    <tr>\n",
       "      <th>2</th>\n",
       "      <td>new york  ny</td>\n",
       "      <td>developer on the stack overflow team  was dubb...</td>\n",
       "    </tr>\n",
       "    <tr>\n",
       "      <th>3</th>\n",
       "      <td>raleigh  nc</td>\n",
       "      <td>i design stuff for stack exchange  also a prof...</td>\n",
       "    </tr>\n",
       "    <tr>\n",
       "      <th>4</th>\n",
       "      <td>california</td>\n",
       "      <td>i slip my front end into the back end  and the...</td>\n",
       "    </tr>\n",
       "  </tbody>\n",
       "</table>\n",
       "</div>"
      ],
      "text/plain": [
       "             Location                                            AboutMe\n",
       "0  on the server farm  hi  i m not really a person  i m a background ...\n",
       "1       corvallis  or  developer on the stack overflow team   find me...\n",
       "2        new york  ny  developer on the stack overflow team  was dubb...\n",
       "3         raleigh  nc  i design stuff for stack exchange  also a prof...\n",
       "4          california  i slip my front end into the back end  and the..."
      ]
     },
     "execution_count": 65,
     "metadata": {},
     "output_type": "execute_result"
    }
   ],
   "source": [
    "path='output/' + SITE1 + '/' + 'users.csv.gz'\n",
    "users = pd.read_csv(path,compression='gzip',nrows=SAMPLE_SIZE).dropna(subset=['AboutMe','Location'])\n",
    "users[['Location','AboutMe']].head(5)"
   ]
  },
  {
   "cell_type": "markdown",
   "metadata": {},
   "source": [
    "### Note\n",
    "\n",
    "The relationship between all these tables and the detailed meaning of all the attributes and values can be found @\n",
    "https://ia800500.us.archive.org/22/items/stackexchange/readme.txt\n",
    "    "
   ]
  },
  {
   "cell_type": "markdown",
   "metadata": {},
   "source": [
    "## Data cleansing - Stop Words & Word Stems\n",
    "\n",
    "Once the data is loaded, we want to remove all the stop words present in the raw data. The ** stop_words ** instance can be used for the remainder of the program to achieve this."
   ]
  },
  {
   "cell_type": "code",
   "execution_count": 4,
   "metadata": {
    "collapsed": true
   },
   "outputs": [],
   "source": [
    "class StopWords():\n",
    "    def __init__(self):\n",
    "        self.stop_words = stopwords.words('english')\n",
    "        self.stop_words.append('use')\n",
    "\n",
    "    def remove(self, sentence):\n",
    "        return [tok for tok in sentence.split() if not tok in self.stop_words and len(tok) > 1]\n",
    "    "
   ]
  },
  {
   "cell_type": "code",
   "execution_count": 5,
   "metadata": {
    "collapsed": true
   },
   "outputs": [],
   "source": [
    "class SentenceTokens():\n",
    "    def __init__(self,df,field):\n",
    "        self.field = field\n",
    "        self.df = df\n",
    "    \n",
    "    def __iter__(self):\n",
    "        for index, row in self.df.iterrows():\n",
    "            raw_sentence = row[self.field]\n",
    "            yield stop_words.remove(raw_sentence)"
   ]
  },
  {
   "cell_type": "code",
   "execution_count": 6,
   "metadata": {
    "collapsed": false
   },
   "outputs": [],
   "source": [
    "def get_dictionary(force=False):\n",
    "    dictFile = 'models/posts.dict'\n",
    "\n",
    "    # Check if trained model file exists\n",
    "    if ( os.path.isfile(dictFile) and not force):\n",
    "        dictionary = corpora.Dictionary.load(dictFile)\n",
    "    else:\n",
    "        #How frequently each term occurs within each document? We construct a document-term matrix.\n",
    "        dictionary = corpora.Dictionary(allposts)\n",
    "        dictionary.filter_extremes(no_below=5, no_above=10)\n",
    "        # store the dictionary, for future reference\n",
    "        dictionary.save(dictFile) \n",
    "\n",
    "    return dictionary\n",
    "\n",
    "# Bag of words\n",
    "# corpus is a list of vectors equal to the number of documents. \n",
    "# In each document vector is a series of tuples. \n",
    "def get_corpus(force=False):\n",
    "    corpusFile = 'models/posts.mm'\n",
    "    \n",
    "    # Check if corpus file is found\n",
    "    if ( os.path.isfile(corpusFile) and not force ):\n",
    "        corpus = corpora.MmCorpus(corpusFile)\n",
    "    else:\n",
    "        # Create corpus\n",
    "        corpus = [dictionary.doc2bow(post) for post in allposts]\n",
    "        \n",
    "        # Store corpus to file\n",
    "        corpora.MmCorpus.serialize(corpusFile, corpus) #Save the bow corpus\n",
    "        \n",
    "    return corpus"
   ]
  },
  {
   "cell_type": "code",
   "execution_count": 7,
   "metadata": {
    "collapsed": false
   },
   "outputs": [],
   "source": [
    "# Create stop words object\n",
    "stop_words = StopWords() \n",
    "\n",
    "# analyze across sites. Control frames to 1..M site analysis\n",
    "frames = [posts_aviation, posts_english]\n",
    "frames = [posts_english]\n",
    "posts = pd.concat(frames)\n",
    "\n",
    "#all posts is a list of (list of tokens). The inner list of tokens is created once for each post\n",
    "allposts = SentenceTokens(posts,'Title')\n",
    "forceload = True #Set this to false to avoid computation. Loads the corpus and dictionary from disk.\n",
    "\n",
    "dictionary = get_dictionary(force=forceload)\n",
    "corpus = get_corpus(force=forceload)\n",
    "#print(len(corpus))\n",
    "#print(len(dictionary))"
   ]
  },
  {
   "cell_type": "markdown",
   "metadata": {},
   "source": [
    "## 1. Find out the number of topics\n",
    "===========================================\n",
    "\n",
    "We were not aware of the number of topic, so we decided to reduce the number of features to two dimensions, then clustering the points for different values of K (number of clusters) to find an optimum value. \n",
    "\n",
    "One such transform is the Latent Semantic Indexing (LSI) transform, which we use to project the original data to 2D."
   ]
  },
  {
   "cell_type": "code",
   "execution_count": 76,
   "metadata": {
    "collapsed": true
   },
   "outputs": [],
   "source": [
    "def get_lsi_model(force = False):\n",
    "    lsimodelFile = 'models/lsi.model'\n",
    "    \n",
    "    # Check if corpus file is found\n",
    "    if ( os.path.isfile(lsimodelFile) and not force):\n",
    "        lsimodel = models.LsiModel.load(lsimodelFile)\n",
    "    else:\n",
    "        # Create model\n",
    "        # num_topics: required. An LDA model requires the user to determine how many topics should be generated. \n",
    "        # id2word: required. The LdaModel class requires our previous dictionary to map ids to strings.\n",
    "        tfidf = TfidfModel(corpus, normalize=True)\n",
    "        corpus_tfidf = tfidf[corpus]\n",
    "        lsimodel = models.LsiModel(corpus_tfidf, id2word=dictionary, num_topics=2)\n",
    "        \n",
    "        # save model to disk (no need to use pickle module)\n",
    "        lsimodel.save(lsimodelFile)\n",
    "\n",
    "    return lsimodel   "
   ]
  },
  {
   "cell_type": "code",
   "execution_count": 77,
   "metadata": {
    "collapsed": false
   },
   "outputs": [],
   "source": [
    "# Get LSI Model\n",
    "lsi = get_lsi_model(force=True)"
   ]
  },
  {
   "cell_type": "markdown",
   "metadata": {},
   "source": [
    "We clustered the points in the this reduced space using KMeans, varying the number of clusters (K) from 1 to 10. \n",
    "We used the Inertia of the cluster provided by Scikit-Learn KMeans algorithm. \n",
    "\n",
    "** Ref ** : http://stackoverflow.com/questions/6645895/calculating-the-percentage-of-variance-measure-for-k-means\n"
   ]
  },
  {
   "cell_type": "markdown",
   "metadata": {},
   "source": [
    "## From the above analysis, we will use number of clusters as 5"
   ]
  },
  {
   "cell_type": "code",
   "execution_count": 78,
   "metadata": {
    "collapsed": false
   },
   "outputs": [
    {
     "data": {
      "image/png": "[encoded data removed]",
      "text/plain": [
       "<matplotlib.figure.Figure at 0x7ff659f9c5d0>"
      ]
     },
     "metadata": {},
     "output_type": "display_data"
    }
   ],
   "source": [
    "\n",
    "D = ''\n",
    "for vector in lsi[corpus]:\n",
    "    if 2 == len(vector):\n",
    "        #'1 2; 3 4' => 2 X 2\n",
    "        D = D + `round(vector[0][1],4)` + ' ' + `round(vector[1][1],4)` + ';'\n",
    "        \n",
    "X = np.matrix(D[:-1])\n",
    "\n",
    "\n",
    "MAX_K = 10\n",
    "ks = range(1, MAX_K + 1)\n",
    "\n",
    "inertias = np.zeros(MAX_K)\n",
    "diff = np.zeros(MAX_K)\n",
    "diff2 = np.zeros(MAX_K)\n",
    "diff3 = np.zeros(MAX_K)\n",
    "for k in ks:\n",
    "    kmeans = KMeans(k).fit(X)\n",
    "    inertias[k - 1] = kmeans.inertia_\n",
    "    # first difference    \n",
    "    if k > 1:\n",
    "        diff[k - 1] = inertias[k - 1] - inertias[k - 2]\n",
    "    # second difference\n",
    "    if k > 2:\n",
    "        diff2[k - 1] = diff[k - 1] - diff[k - 2]\n",
    "    # third difference\n",
    "    if k > 3:\n",
    "        diff3[k - 1] = diff2[k - 1] - diff2[k - 2]\n",
    "\n",
    "elbow = np.argmin(diff3[3:]) + 3\n",
    "\n",
    "plt.plot(ks, inertias, \"b*-\")\n",
    "plt.plot(ks[elbow], inertias[elbow], marker='o', markersize=12,\n",
    "         markeredgewidth=2, markeredgecolor='r', markerfacecolor=None)\n",
    "plt.ylabel(\"Inertia\")\n",
    "plt.xlabel(\"K\")\n",
    "plt.show()"
   ]
  },
  {
   "cell_type": "code",
   "execution_count": 79,
   "metadata": {
    "collapsed": false
   },
   "outputs": [
    {
     "data": {
      "image/png": "[encoded data removed]",
      "text/plain": [
       "<matplotlib.figure.Figure at 0x7ff63b93f7d0>"
      ]
     },
     "metadata": {},
     "output_type": "display_data"
    }
   ],
   "source": [
    "NUM_TOPICS = 5\n",
    "\n",
    "kmeans = KMeans(NUM_TOPICS).fit(X)\n",
    "y = kmeans.labels_\n",
    "\n",
    "colors = [\"b\", \"g\", \"r\", \"m\", \"c\", \"p\", \"y\"] #Not expecting more than 5 for the data size\n",
    "for i in range(X.shape[0]):\n",
    "    plt.scatter(X[i,0] ,X[i,1], c=colors[y[i]], s=50)    \n",
    "\n",
    "plt.show()"
   ]
  },
  {
   "cell_type": "markdown",
   "metadata": {},
   "source": [
    "## For the aviation site, the cluster spread looks like \n"
   ]
  },
  {
   "cell_type": "markdown",
   "metadata": {},
   "source": [
    "<img src='images/aviation.png'>"
   ]
  },
  {
   "cell_type": "markdown",
   "metadata": {},
   "source": [
    "## 2. Sample Search Demonstration\n",
    "=============================================\n",
    "\n",
    "In this section, we take a sample question, remove the stop words, and search using the LSI Model just created. We visually inspect the output for correctness."
   ]
  },
  {
   "cell_type": "code",
   "execution_count": 48,
   "metadata": {
    "collapsed": false
   },
   "outputs": [],
   "source": [
    "def QSim(document): # Query function for document\n",
    "    # Apply stop words\n",
    "    doc_processed = stop_words.remove(document)\n",
    "    # create vector\n",
    "    vec_bow = dictionary.doc2bow(doc_processed)\n",
    "    # convert the query (sample vector) to LSI space\n",
    "    vec_lsi = lsi[vec_bow]\n",
    "    # find indexes of similar sims\n",
    "    index = similarities.MatrixSimilarity(lsi[corpus]) \n",
    "    # perform a similarity query against the corpus\n",
    "    sims = index[vec_lsi]\n",
    "    return sims"
   ]
  },
  {
   "cell_type": "code",
   "execution_count": 49,
   "metadata": {
    "collapsed": true
   },
   "outputs": [],
   "source": [
    "# Find similar questions by converting it into vector\n",
    "samples = ['Where does the quint in quintessential come from?',\n",
    "           'Where does goodness me come from?']"
   ]
  },
  {
   "cell_type": "code",
   "execution_count": 50,
   "metadata": {
    "collapsed": false
   },
   "outputs": [],
   "source": [
    "# Search for similar documents\n",
    "sims = QSim(samples[0])\n",
    "\n",
    "# Sort in descending order - highest matching percentage on top\n",
    "sorted_sims = sorted(enumerate(sims), key=lambda item: -item[1])\n",
    "sims_list = list(enumerate(sorted_sims))"
   ]
  },
  {
   "cell_type": "code",
   "execution_count": 106,
   "metadata": {
    "collapsed": false
   },
   "outputs": [
    {
     "name": "stdout",
     "output_type": "stream",
     "text": [
      "Search results for [Where does the quint in quintessential come from?]:\n",
      "   100.000% : where does the  quint  in  quintessential  come from \n",
      "   100.000% : where does  santa  in santa claus come from \n",
      "   100.000% : where does  ta   come from \n",
      "   100.000% : where does  can t be arsed  come from \n",
      "   100.000% :  tit for tat    where does this come from \n",
      "   100.000% : where did the  juices  in  creative juices  come from \n",
      "   100.000% : where did  elbow grease  come from \n",
      "   100.000% : where did  cc  and  bcc  come from \n",
      "   100.000% : does responsibility come with consequences \n",
      "   100.000% : where does  otay  come from \n"
     ]
    }
   ],
   "source": [
    "print(\"Search results for [{}]:\".format(samples[0]))\n",
    "\n",
    "# Show top 10 matches only\n",
    "for i in range(0, 10):\n",
    "    docid = sims_list[i][1][0]\n",
    "    matchPercentage = sims_list[i][1][1]\n",
    "    print(\"{:10.3f}% : {}\".format(matchPercentage * 100, posts.iloc[docid]['Title']))"
   ]
  },
  {
   "cell_type": "markdown",
   "metadata": {},
   "source": [
    "## 3. Run the entire corpus against LDA to identify topics\n",
    "\n",
    "The LDA algorithm is run with the number of topics set to the value found in the preceding steps."
   ]
  },
  {
   "cell_type": "code",
   "execution_count": 10,
   "metadata": {
    "collapsed": true
   },
   "outputs": [],
   "source": [
    "def get_lda_model(force=False):\n",
    "    modelFile = 'models/lda.model'\n",
    "    \n",
    "    # Check if trained model file exists\n",
    "    if ( os.path.isfile(modelFile) and not force):\n",
    "        # load trained model from file\n",
    "        ldamodel =  models.LdaModel.load(modelFile)\n",
    "    else:\n",
    "        # Create model\n",
    "        \n",
    "        #num_topics: required. An LDA model requires the user to determine how many topics should be generated. \n",
    "        #id2word: required. The LdaModel class requires our previous dictionary to map ids to strings.\n",
    "        #passes: optional. The number of laps the model will take through corpus.\n",
    "        ldamodel = gensim.models.ldamodel.LdaModel(corpus, num_topics=NUM_TOPICS, id2word = dictionary, passes=30)\n",
    "\n",
    "        # save model to disk (no need to use pickle module)\n",
    "        ldamodel.save(modelFile)\n",
    "\n",
    "    return ldamodel\n"
   ]
  },
  {
   "cell_type": "code",
   "execution_count": 11,
   "metadata": {
    "collapsed": false
   },
   "outputs": [],
   "source": [
    "# Get LDA Model\n",
    "ldamodel = get_lda_model(True)"
   ]
  },
  {
   "cell_type": "code",
   "execution_count": 13,
   "metadata": {
    "collapsed": true
   },
   "outputs": [],
   "source": [
    "from __future__ import print_function\n",
    "from ipywidgets import interact, interactive, fixed\n",
    "import ipywidgets as widgets"
   ]
  },
  {
   "cell_type": "code",
   "execution_count": 15,
   "metadata": {
    "collapsed": false
   },
   "outputs": [
    {
     "data": {
      "text/plain": [
       "[(0, u'0.045*word + 0.044*english + 0.022*noun'),\n",
       " (1, u'0.053*sentence + 0.035*verb + 0.026*using'),\n",
       " (2, u'0.072*meaning + 0.046*difference + 0.024*phrase'),\n",
       " (3, u'0.121*word + 0.032*someone + 0.021*person'),\n",
       " (4, u'0.083*vs + 0.066*mean + 0.044*something')]"
      ]
     },
     "metadata": {},
     "output_type": "display_data"
    }
   ],
   "source": [
    "@interact(num_topics=NUM_TOPICS + 5, num_words=3)\n",
    "def understand(num_topics, num_words):\n",
    "   return ldamodel.print_topics(num_topics, num_words)"
   ]
  },
  {
   "cell_type": "markdown",
   "metadata": {},
   "source": [
    "## 4. Visualize the Model\n",
    "\n",
    "LDAvis is a web-based interactive visualization of topics estimated using Latent Dirichlet Allocation. The visualization provides a global view of the topics (and how they differ from each other), while at the same time allowing for a deep inspection of the terms most highly associated with each individual topic.\n",
    "\n",
    "** Ref ** : 2014 ACL Workshop on Interactive Language Learning, Visualization, and Interfaces http://nlp.stanford.edu/events/illvi2014/papers/sievert-illvi2014.pdf"
   ]
  },
  {
   "cell_type": "code",
   "execution_count": 16,
   "metadata": {
    "collapsed": false,
    "scrolled": true
   },
   "outputs": [
    {
     "data": {
      "text/html": [
       "\n",
       "<link rel=\"stylesheet\" type=\"text/css\" href=\"https://cdn.rawgit.com/bmabey/pyLDAvis/files/ldavis.v1.0.0.css\">\n",
       "\n",
       "\n",
       "<div id=\"ldavis_el73121400678650399527815899668\"></div>\n",
       "<script type=\"text/javascript\">\n",
       "\n",
       "var ldavis_el73121400678650399527815899668_data = {\"plot.opts\": {\"xlab\": \"PC1\", \"ylab\": \"PC2\"}, \"topic.order\": [4, 1, 2, 5, 3], \"token.table\": {\"Topic\": [3, 3, 2, 1, 2, 3, 1, 2, 2, 2, 1, 2, 2, 4, 2, 2, 2, 1, 1, 1, 3, 5, 5, 5, 2, 4, 3, 3, 1, 2, 4, 5, 4, 3, 4, 4, 4, 5, 2, 5, 1, 2, 5, 4, 5, 1, 4, 4, 3, 2, 5, 5, 4, 5, 2, 2, 2, 4, 5, 4, 1, 2, 5, 2, 3, 2, 3, 4, 5, 4, 4, 5, 2, 4, 5, 4, 2, 2, 5, 1, 3, 4, 4, 2, 5, 1, 5, 1, 3, 1, 1, 4, 5, 5, 2, 5, 4, 5, 1, 4, 5, 1, 4, 5, 3, 2, 4, 4, 3, 2, 2, 1, 3, 3, 1, 2, 3, 4, 1, 5, 5, 1, 1, 3, 3, 1, 2, 3, 1, 1, 2, 5, 3, 1, 2, 1, 4, 3, 3, 3, 3, 5, 2, 1, 2, 3, 1, 1, 1, 2, 5, 3, 4, 5, 2, 3, 4, 5, 2, 4, 1, 1, 5, 3, 5, 1, 3, 5, 3, 1, 2, 1, 5, 1, 4, 5, 3, 4, 5, 3, 4, 2, 3, 4, 5, 3, 1, 2, 4, 5, 4, 1, 1, 1, 1, 1, 5, 2, 3, 3, 4, 5, 1, 2, 3, 3, 3, 4, 4, 2, 2, 3, 1, 2, 1, 5, 4, 1, 3, 4, 5, 3, 3], \"Freq\": [0.99372832328662686, 0.99672861306938232, 0.99827293013129748, 0.99364487249886047, 0.99654372924604473, 0.99590079468959003, 0.68959968236546543, 0.30756793344938599, 0.99598740519624362, 0.99859586103834008, 0.99754930555341026, 0.99710286606125831, 0.99753744049575044, 0.99777053027976026, 0.99394162004512598, 0.99691320850638421, 0.99900101853432544, 0.99605272303936554, 0.99885333753771188, 0.72867400619870104, 0.27058947013811413, 0.99842145948187966, 0.99608083845381024, 0.99712398937820423, 0.99589590629817415, 0.99773551675208616, 0.9983690572693521, 0.99380151261777305, 0.35424405756467947, 0.6448348860357056, 0.9982197661564437, 0.99179778280344377, 0.99821108935652658, 0.30792917025128536, 0.69181420249788783, 0.99707710145430484, 0.99242965476017297, 0.99856795191471959, 0.99378294973740378, 0.99579401487250119, 0.8108626776311102, 0.18819757106822851, 0.99614761222981074, 0.99696069950581168, 0.99935171279305601, 0.99669762023151787, 0.99683861001659624, 0.99517334972734139, 0.997428602064234, 0.99973408314334844, 0.99678754041174011, 0.99847546460833581, 0.9975322535247767, 0.99273544847956974, 0.99661792763658741, 0.99688259859416439, 0.18890915100346078, 0.52182281875546144, 0.28955746916104236, 0.99376172407428975, 0.99754375540746565, 0.99277954315866002, 0.99852559254068951, 0.63002160222949166, 0.36883617609513658, 0.99535777053317198, 0.99763162247880255, 0.73569377383272772, 0.26415850268490559, 0.99215529477011588, 0.99808548391767926, 0.99731327508211498, 0.99825430858857023, 0.99462020975358301, 0.99771115090335494, 0.99840022157677, 0.99791854806165048, 0.26760624329112109, 0.73133487036409117, 0.99581158132827396, 0.99651160915435277, 0.99487496253982755, 0.99702287799390643, 0.99640503074025466, 0.99254834806170245, 0.3910567082099457, 0.6092377374856166, 0.14926850036298761, 0.84797211908335512, 0.99397803483641145, 0.99802572309415394, 0.99417073266383604, 0.9984927289673392, 0.99656248183844376, 0.99655529326746106, 0.9953526642394197, 0.99988198134860484, 0.99972968252273209, 0.99865342662090473, 0.99410008926815141, 0.99490162707663843, 0.63505699773171942, 0.18225343428664317, 0.18338544319525588, 0.99744932935521979, 0.99740928980964705, 0.99607933067350507, 0.99257750289139124, 0.99581685116585683, 0.99749766156841302, 0.99949628147450542, 0.99847148871307057, 0.99856379773541171, 0.99659612053508762, 0.37999953956356514, 0.2276547922347531, 0.14602100310006891, 0.24605113908200588, 0.99701295185407679, 0.99853806777071252, 0.99940556069263475, 0.99190707871016226, 0.99794948006989237, 0.99828104648865412, 0.9986042857227595, 0.71029262076252542, 0.2883366084283519, 0.99830272560924949, 0.9997072005288864, 0.25931456715727041, 0.26350550965678182, 0.47724357713186533, 0.99825102842461355, 0.99326926696814466, 0.99863449490027378, 0.99266092445961518, 0.99353809367944945, 0.99801563792187686, 0.99646972535724232, 0.99945681830031308, 0.99564229630531442, 0.99546783647566695, 0.99854967942907258, 0.2203002919341184, 0.33779378096564822, 0.44060058386823681, 0.99792280700684932, 0.99773854180818167, 0.9984334132589302, 0.99900446618727323, 0.9976781526070494, 0.31878455622928742, 0.16055572540015206, 0.52122438390774006, 0.26236807969718118, 0.18877703295284989, 0.42554822682591587, 0.12318501302855459, 0.79162544558843562, 0.20875054558325187, 0.99235809719504364, 0.99475563480354467, 0.99903465783820056, 0.76569148927803521, 0.23410134902668056, 0.2691664214188223, 0.73127514491662338, 0.99543418373207726, 0.99703778828001621, 0.99941890840628378, 0.99729163113338892, 0.99605504291416591, 0.99724246148057694, 0.99976374252435263, 0.99934211684838115, 0.99602275866401291, 0.99586421804279968, 0.99481069631116659, 0.99314977932404169, 0.99507253232000736, 0.99836666153509068, 0.99807312384025781, 0.15006889846374816, 0.57640099637212361, 0.27285254266136028, 0.99814047464352429, 0.40486650530600948, 0.26628803704690557, 0.11072691336389186, 0.21737798942604536, 0.99513464074637892, 0.99703554744383061, 0.99552514255762969, 0.9988683965723385, 0.99398233330531072, 0.99849553617154951, 0.99633689209042975, 0.99307617337103726, 0.99753139780726385, 0.30158120204327149, 0.51120042319442438, 0.18730491696409465, 0.48113733034247252, 0.19277095008795286, 0.32549848949277288, 0.99912366791802709, 0.99940464777504534, 0.99800276425410583, 0.99968253855657718, 0.99674092088619992, 0.99918557357007887, 0.99760571275186083, 0.75495378968238347, 0.24505933633229934, 0.75341226663624905, 0.2461556997177943, 0.99665581330530217, 0.17942520895560149, 0.2230691787015586, 0.45220001986783348, 0.14426756666024715, 0.99817644107574766, 0.99673411123573719], \"Term\": [\"acceptable\", \"action\", \"adjective\", \"adjectives\", \"adverb\", \"also\", \"alternative\", \"alternative\", \"american\", \"another\", \"answer\", \"antonym\", \"article\", \"back\", \"bad\", \"best\", \"better\", \"book\", \"call\", \"called\", \"called\", \"case\", \"change\", \"clause\", \"clauses\", \"come\", \"comma\", \"commas\", \"common\", \"common\", \"connotation\", \"construction\", \"context\", \"correct\", \"correct\", \"could\", \"date\", \"day\", \"definite\", \"definition\", \"describe\", \"describe\", \"describes\", \"describing\", \"difference\", \"different\", \"done\", \"else\", \"end\", \"english\", \"equivalent\", \"etymology\", \"even\", \"every\", \"example\", \"express\", \"expression\", \"expression\", \"expression\", \"feeling\", \"first\", \"followed\", \"following\", \"form\", \"form\", \"formal\", \"future\", \"get\", \"get\", \"give\", \"go\", \"going\", \"good\", \"got\", \"grammatical\", \"grammatically\", \"group\", \"idiom\", \"idiom\", \"infinitive\", \"instead\", \"kind\", \"know\", \"language\", \"life\", \"like\", \"like\", \"list\", \"list\", \"long\", \"looking\", \"love\", \"make\", \"making\", \"man\", \"may\", \"mean\", \"meaning\", \"means\", \"might\", \"much\", \"name\", \"name\", \"name\", \"names\", \"need\", \"negative\", \"never\", \"new\", \"non\", \"noun\", \"nouns\", \"object\", \"old\", \"one\", \"one\", \"one\", \"one\", \"opposite\", \"order\", \"origin\", \"others\", \"part\", \"passive\", \"past\", \"people\", \"people\", \"perfect\", \"person\", \"phrase\", \"phrase\", \"phrase\", \"place\", \"please\", \"plural\", \"point\", \"positive\", \"possessive\", \"preposition\", \"present\", \"problem\", \"pronoun\", \"pronunciation\", \"proper\", \"proper\", \"proper\", \"punctuation\", \"put\", \"question\", \"refer\", \"relative\", \"right\", \"right\", \"right\", \"say\", \"say\", \"say\", \"say\", \"saying\", \"saying\", \"second\", \"see\", \"sense\", \"sentence\", \"sentence\", \"sentences\", \"sentences\", \"similar\", \"simple\", \"single\", \"singular\", \"situation\", \"somebody\", \"someone\", \"something\", \"sound\", \"specific\", \"state\", \"statement\", \"structure\", \"subject\", \"synonym\", \"take\", \"take\", \"take\", \"tense\", \"term\", \"term\", \"term\", \"term\", \"text\", \"thing\", \"things\", \"time\", \"title\", \"two\", \"type\", \"understand\", \"us\", \"usage\", \"usage\", \"usage\", \"used\", \"used\", \"used\", \"using\", \"verb\", \"versus\", \"vs\", \"want\", \"way\", \"well\", \"word\", \"word\", \"words\", \"words\", \"work\", \"would\", \"would\", \"would\", \"would\", \"write\", \"wrong\"]}, \"mdsDat\": {\"y\": [-0.039019614123072893, -0.089931697248341436, -0.12031667951209453, -0.13411519926807153, 0.38338319015158034], \"cluster\": [1, 1, 1, 1, 1], \"Freq\": [22.761105420527478, 19.975240539607249, 19.461108000846156, 19.279607980984455, 18.522938058034665], \"topics\": [1, 2, 3, 4, 5], \"x\": [0.24486138497901536, 0.25007458233915575, -0.19112208741342662, -0.24256305043950047, -0.061250829465244634]}, \"R\": 30, \"lambda.step\": 0.01, \"tinfo\": {\"Category\": [\"Default\", \"Default\", \"Default\", \"Default\", \"Default\", \"Default\", \"Default\", \"Default\", \"Default\", \"Default\", \"Default\", \"Default\", \"Default\", \"Default\", \"Default\", \"Default\", \"Default\", \"Default\", \"Default\", \"Default\", \"Default\", \"Default\", \"Default\", \"Default\", \"Default\", \"Default\", \"Default\", \"Default\", \"Default\", \"Default\", \"Topic1\", \"Topic1\", \"Topic1\", \"Topic1\", \"Topic1\", \"Topic1\", \"Topic1\", \"Topic1\", \"Topic1\", \"Topic1\", \"Topic1\", \"Topic1\", \"Topic1\", \"Topic1\", \"Topic1\", \"Topic1\", \"Topic1\", \"Topic1\", \"Topic1\", \"Topic1\", \"Topic1\", \"Topic1\", \"Topic1\", \"Topic1\", \"Topic1\", \"Topic1\", \"Topic1\", \"Topic1\", \"Topic1\", \"Topic1\", \"Topic1\", \"Topic1\", \"Topic1\", \"Topic1\", \"Topic1\", \"Topic1\", \"Topic1\", \"Topic1\", \"Topic1\", \"Topic1\", \"Topic1\", \"Topic1\", \"Topic2\", \"Topic2\", \"Topic2\", \"Topic2\", \"Topic2\", \"Topic2\", \"Topic2\", \"Topic2\", \"Topic2\", \"Topic2\", \"Topic2\", \"Topic2\", \"Topic2\", \"Topic2\", \"Topic2\", \"Topic2\", \"Topic2\", \"Topic2\", \"Topic2\", \"Topic2\", \"Topic2\", \"Topic2\", \"Topic2\", \"Topic2\", \"Topic2\", \"Topic2\", \"Topic2\", \"Topic2\", \"Topic2\", \"Topic2\", \"Topic2\", \"Topic2\", \"Topic2\", \"Topic2\", \"Topic2\", \"Topic2\", \"Topic2\", \"Topic2\", \"Topic2\", \"Topic2\", \"Topic3\", \"Topic3\", \"Topic3\", \"Topic3\", \"Topic3\", \"Topic3\", \"Topic3\", \"Topic3\", \"Topic3\", \"Topic3\", \"Topic3\", \"Topic3\", \"Topic3\", \"Topic3\", \"Topic3\", \"Topic3\", \"Topic3\", \"Topic3\", \"Topic3\", \"Topic3\", \"Topic3\", \"Topic3\", \"Topic3\", \"Topic3\", \"Topic3\", \"Topic3\", \"Topic3\", \"Topic3\", \"Topic3\", \"Topic3\", \"Topic3\", \"Topic3\", \"Topic3\", \"Topic3\", \"Topic3\", \"Topic3\", \"Topic3\", \"Topic3\", \"Topic3\", \"Topic4\", \"Topic4\", \"Topic4\", \"Topic4\", \"Topic4\", \"Topic4\", \"Topic4\", \"Topic4\", \"Topic4\", \"Topic4\", \"Topic4\", \"Topic4\", \"Topic4\", \"Topic4\", \"Topic4\", \"Topic4\", \"Topic4\", \"Topic4\", \"Topic4\", \"Topic4\", \"Topic4\", \"Topic4\", \"Topic4\", \"Topic4\", \"Topic4\", \"Topic4\", \"Topic4\", \"Topic4\", \"Topic4\", \"Topic4\", \"Topic4\", \"Topic4\", \"Topic4\", \"Topic4\", \"Topic4\", \"Topic4\", \"Topic4\", \"Topic4\", \"Topic5\", \"Topic5\", \"Topic5\", \"Topic5\", \"Topic5\", \"Topic5\", \"Topic5\", \"Topic5\", \"Topic5\", \"Topic5\", \"Topic5\", \"Topic5\", \"Topic5\", \"Topic5\", \"Topic5\", \"Topic5\", \"Topic5\", \"Topic5\", \"Topic5\", \"Topic5\", \"Topic5\", \"Topic5\", \"Topic5\", \"Topic5\", \"Topic5\", \"Topic5\", \"Topic5\", \"Topic5\", \"Topic5\", \"Topic5\", \"Topic5\", \"Topic5\", \"Topic5\", \"Topic5\", \"Topic5\", \"Topic5\", \"Topic5\", \"Topic5\"], \"Term\": [\"word\", \"vs\", \"meaning\", \"mean\", \"sentence\", \"difference\", \"english\", \"something\", \"correct\", \"verb\", \"someone\", \"using\", \"noun\", \"way\", \"person\", \"past\", \"call\", \"question\", \"plural\", \"phrase\", \"two\", \"adjective\", \"words\", \"comma\", \"origin\", \"single\", \"time\", \"tense\", \"context\", \"usage\", \"someone\", \"person\", \"call\", \"question\", \"two\", \"single\", \"time\", \"means\", \"different\", \"opposite\", \"first\", \"things\", \"nouns\", \"part\", \"looking\", \"put\", \"thing\", \"punctuation\", \"long\", \"see\", \"title\", \"please\", \"adjectives\", \"situation\", \"book\", \"point\", \"others\", \"infinitive\", \"answer\", \"second\", \"word\", \"describe\", \"words\", \"people\", \"name\", \"called\", \"used\", \"one\", \"term\", \"phrase\", \"like\", \"alternative\", \"english\", \"noun\", \"way\", \"plural\", \"adjective\", \"good\", \"another\", \"better\", \"need\", \"non\", \"article\", \"singular\", \"best\", \"synonym\", \"refer\", \"pronunciation\", \"want\", \"language\", \"formal\", \"adverb\", \"american\", \"express\", \"group\", \"antonym\", \"bad\", \"man\", \"example\", \"understand\", \"clauses\", \"definite\", \"followed\", \"saying\", \"form\", \"word\", \"phrase\", \"term\", \"one\", \"say\", \"common\", \"used\", \"verb\", \"using\", \"past\", \"comma\", \"tense\", \"present\", \"perfect\", \"preposition\", \"instead\", \"object\", \"end\", \"place\", \"simple\", \"wrong\", \"new\", \"write\", \"future\", \"well\", \"specific\", \"old\", \"us\", \"names\", \"structure\", \"passive\", \"possessive\", \"acceptable\", \"action\", \"commas\", \"also\", \"problem\", \"sentence\", \"list\", \"sentences\", \"correct\", \"usage\", \"used\", \"one\", \"say\", \"proper\", \"vs\", \"mean\", \"something\", \"context\", \"come\", \"subject\", \"grammatically\", \"know\", \"could\", \"go\", \"work\", \"negative\", \"versus\", \"describing\", \"back\", \"positive\", \"text\", \"even\", \"love\", \"kind\", \"never\", \"else\", \"state\", \"got\", \"connotation\", \"date\", \"feeling\", \"might\", \"done\", \"give\", \"correct\", \"usage\", \"get\", \"say\", \"expression\", \"would\", \"one\", \"take\", \"meaning\", \"difference\", \"origin\", \"following\", \"make\", \"clause\", \"equivalent\", \"describes\", \"etymology\", \"sense\", \"sound\", \"order\", \"case\", \"day\", \"grammatical\", \"going\", \"much\", \"pronoun\", \"similar\", \"change\", \"type\", \"may\", \"statement\", \"relative\", \"life\", \"definition\", \"somebody\", \"every\", \"construction\", \"making\", \"idiom\", \"like\", \"phrase\", \"sentence\", \"right\", \"term\", \"words\", \"usage\"], \"loglift\": [30.0, 29.0, 28.0, 27.0, 26.0, 25.0, 24.0, 23.0, 22.0, 21.0, 20.0, 19.0, 18.0, 17.0, 16.0, 15.0, 14.0, 13.0, 12.0, 11.0, 10.0, 9.0, 8.0, 7.0, 6.0, 5.0, 4.0, 3.0, 2.0, 1.0, 1.4796, 1.4793000000000001, 1.4792000000000001, 1.4791000000000001, 1.4791000000000001, 1.4790000000000001, 1.4790000000000001, 1.4787999999999999, 1.4781, 1.4779, 1.4779, 1.4773000000000001, 1.4773000000000001, 1.4770000000000001, 1.4769000000000001, 1.4766999999999999, 1.4766999999999999, 1.4764999999999999, 1.4761, 1.4761, 1.476, 1.4759, 1.4757, 1.4755, 1.4754, 1.4754, 1.4751000000000001, 1.4750000000000001, 1.4749000000000001, 1.4746999999999999, 1.1990000000000001, 1.2706, 1.1967000000000001, 1.1382000000000001, 1.0259, 1.1625000000000001, 0.74850000000000005, 0.51219999999999999, 0.57669999999999999, 0.12970000000000001, 0.54000000000000004, 1.1093999999999999, 1.6102000000000001, 1.6097999999999999, 1.6097999999999999, 1.6095999999999999, 1.6094999999999999, 1.6092, 1.609, 1.609, 1.6088, 1.6087, 1.6087, 1.6086, 1.6085, 1.6084000000000001, 1.6083000000000001, 1.6083000000000001, 1.6076999999999999, 1.6076999999999999, 1.6075999999999999, 1.6072, 1.6071, 1.6069, 1.6069, 1.6068, 1.6067, 1.6067, 1.6067, 1.6062000000000001, 1.6055999999999999, 1.6054999999999999, 1.6053999999999999, 1.3756999999999999, 1.1476, 0.20419999999999999, 0.27610000000000001, 0.28749999999999998, 0.13039999999999999, 0.2727, 1.1722999999999999, -0.034200000000000001, 1.6362000000000001, 1.6359999999999999, 1.6357999999999999, 1.6355999999999999, 1.6355, 1.6354, 1.6351, 1.6345000000000001, 1.6344000000000001, 1.6343000000000001, 1.6341000000000001, 1.6339999999999999, 1.6339999999999999, 1.6338999999999999, 1.6337999999999999, 1.6335, 1.6335, 1.6335, 1.6335, 1.6332, 1.6331, 1.6329, 1.6328, 1.6327, 1.6326000000000001, 1.6325000000000001, 1.6324000000000001, 1.6324000000000001, 1.6322000000000001, 1.6322000000000001, 1.3697999999999999, 1.4718, 1.3225, 0.45879999999999999, 0.43790000000000001, 0.51439999999999997, -0.28649999999999998, -0.030800000000000001, 0.81740000000000002, 1.6458999999999999, 1.6457999999999999, 1.6456999999999999, 1.6448, 1.6444000000000001, 1.6443000000000001, 1.6442000000000001, 1.6440999999999999, 1.6438999999999999, 1.6438999999999999, 1.6437999999999999, 1.6436999999999999, 1.6434, 1.6431, 1.6427, 1.6420999999999999, 1.6417999999999999, 1.6417999999999999, 1.6416999999999999, 1.6415999999999999, 1.6415, 1.6415, 1.6414, 1.6413, 1.6413, 1.6411, 1.6411, 1.6411, 1.6409, 1.6409, 1.2777000000000001, 0.9748, 1.3382000000000001, 0.79190000000000005, 0.99450000000000005, 0.85170000000000001, 0.24479999999999999, 1.0949, 1.6859, 1.6857, 1.6849000000000001, 1.6847000000000001, 1.6847000000000001, 1.6842999999999999, 1.6838, 1.6838, 1.6837, 1.6837, 1.6836, 1.6835, 1.6833, 1.6832, 1.6831, 1.6831, 1.6831, 1.6830000000000001, 1.6829000000000001, 1.6821999999999999, 1.6821999999999999, 1.6820999999999999, 1.6819, 1.6813, 1.6811, 1.6811, 1.6808000000000001, 1.6808000000000001, 1.6803999999999999, 1.6803999999999999, 1.3723000000000001, 1.1898, 0.94669999999999999, 0.23400000000000001, 1.0345, 0.1603, 0.2848, 0.0103], \"Freq\": [7483.0, 3284.0, 2749.0, 2633.0, 2776.0, 1772.0, 1803.0, 1743.0, 2435.0, 1410.0, 1483.0, 1045.0, 926.0, 920.0, 999.0, 772.0, 853.0, 790.0, 718.0, 1908.0, 740.0, 665.0, 1137.0, 644.0, 614.0, 691.0, 680.0, 600.0, 567.0, 1478.0, 1482.5623585808435, 998.50667057014437, 853.19226107415341, 789.45006686556565, 739.32587170611203, 690.61661368558487, 679.98389107439698, 607.03265382639256, 386.49339470305034, 356.28335364696761, 354.08449720885915, 283.48652819900633, 278.6377017736761, 251.73234445178855, 247.70390784437097, 230.73473349860819, 228.89336259899181, 215.66058204169212, 196.3990104639937, 195.23793374626521, 191.36932768161458, 185.46311322802723, 180.36085914939946, 169.88546053998866, 166.87612555578775, 167.44391576756846, 156.48608041023766, 154.85481634810728, 149.5820265117695, 145.3297515313017, 5649.7394897339627, 754.12260788816832, 856.78977329459099, 505.0622961093477, 560.91283837020887, 341.61852804211139, 609.01121488398439, 660.81279732741746, 596.47324997165492, 494.64796375386555, 327.58755083435238, 213.1895219925992, 1802.7070143254596, 925.69454320652278, 919.97690673809097, 718.21204649557217, 664.37671679387893, 519.13371621979911, 468.88439468818376, 459.68675335401196, 405.27634647264989, 390.20398283820037, 384.17763676769022, 375.24927822763908, 361.34281211702404, 339.88391134239686, 325.55044762667762, 319.69414960024267, 264.08581892008516, 256.15120032639589, 253.40833405463198, 221.99619461298053, 215.09706877216004, 207.87382798104491, 203.65175947289191, 198.80840930315105, 196.42160686754644, 195.90307063932264, 195.88869494498218, 172.4222432633953, 153.85511838455551, 148.15588094157096, 148.295893211009, 291.60759661993086, 356.63349898647147, 1833.5691020445365, 502.54863205252201, 392.0124705295442, 395.86696504848572, 328.01640238443497, 233.10107301599422, 244.32688176602559, 1410.0629994368164, 1045.1395874390644, 771.30612927263826, 643.27663791649343, 599.34446035799795, 559.53237947575224, 457.00556982371995, 341.43362796825306, 335.39700294952883, 316.67855649217012, 291.97799689535071, 286.72380215193886, 279.05547552542066, 269.10449822200394, 265.32971348825947, 241.66560783132485, 235.78599172008623, 235.78923057969692, 237.20232274526009, 216.95910497761247, 215.75547012626336, 202.74177498838577, 194.18470312496976, 188.55402898182564, 187.59813161281767, 184.38372836552827, 180.81380795956272, 177.32931106782485, 172.93012824421754, 171.97245010227851, 2126.1293472749667, 266.99099209083829, 306.61393490310945, 749.95978284343573, 445.94853653857058, 412.01381400251529, 254.20095920329373, 235.91893494453402, 210.05352536626188, 3283.2716280234868, 2632.5409385596849, 1742.3723617033427, 566.2418345597157, 441.23068634229821, 428.92299396782397, 396.86637159747283, 375.34581778728108, 348.24514673227151, 343.88956005085822, 333.34521993988051, 316.47071905752944, 279.78877420730782, 258.0085632207593, 227.73441893495652, 193.48436253410503, 181.10358999724301, 178.66658359585566, 173.24091930743734, 169.09778327279196, 166.4671336210946, 165.02814724262009, 164.08008952772744, 161.09973227360567, 160.51559729483262, 154.40246614978915, 155.19427668081585, 154.1388317795768, 147.70032353317322, 148.39532970704724, 1685.08459374156, 755.77675336217408, 297.70280584970408, 532.08187993491538, 336.60389461079433, 372.69416779823058, 428.39400512753321, 168.94919622552857, 2748.9745126141866, 1771.3803775910478, 613.59901765762561, 526.00248186554381, 521.01733870422379, 421.44082498401593, 330.29041543122105, 327.4857861638859, 311.71089330605491, 310.53052881936168, 296.40929779397032, 290.6533896038664, 268.65146906666513, 261.60507369021855, 253.81286930679954, 251.90802125144589, 247.49552615645342, 246.34982820015142, 234.30060376440946, 196.00048844730946, 194.94484274723735, 189.10975669943218, 182.47761003812789, 157.59890891614523, 152.37119091068291, 150.86917648854615, 143.62509078316796, 143.27216579619375, 133.32763340258938, 132.68611896545153, 398.59462303738968, 510.575799156774, 911.28735186470658, 649.86643580928035, 223.9832297493646, 320.07944272568113, 280.11104440900289, 276.76509346567957], \"Total\": [7483.0, 3284.0, 2749.0, 2633.0, 2776.0, 1772.0, 1803.0, 1743.0, 2435.0, 1410.0, 1483.0, 1045.0, 926.0, 920.0, 999.0, 772.0, 853.0, 790.0, 718.0, 1908.0, 740.0, 665.0, 1137.0, 644.0, 614.0, 691.0, 680.0, 600.0, 567.0, 1478.0, 1483.3504526334395, 999.29259234252561, 853.97922592193856, 790.23797633601782, 740.11347395050734, 691.40176775512305, 680.7703620751746, 607.81847217395182, 387.27894214329319, 357.06657505097718, 354.87165157522537, 284.2720770195088, 279.42710748766893, 252.51779276677507, 248.49058923164012, 231.5235808986223, 229.68087806608625, 216.44960760829417, 197.18745599067248, 196.02804264437341, 192.15633276384662, 186.25362341542495, 181.1512392222468, 170.67329883962003, 167.66180759027944, 168.23468707697089, 157.27279636199026, 155.65193547282468, 150.36850726569804, 146.11660892358384, 7483.9017661955322, 929.87385016013889, 1137.4914345717225, 710.97458320468513, 883.38527408368964, 469.34568420262895, 1265.7508814926398, 1739.4757918895582, 1472.0901635207547, 1908.8784923516846, 838.75303277985813, 308.87485224669365, 1803.4795756197841, 926.46667842917816, 920.74988304009469, 718.98177327802136, 665.14875837880095, 519.90759822896541, 469.65946715654695, 460.45999099669035, 406.05196295824874, 390.97836017658875, 384.94795725076932, 376.01839651840345, 362.11778208944071, 340.65640270102813, 326.32486743946959, 320.46477665784454, 264.86321015623423, 256.92363256115948, 254.17996170811864, 222.76995327436217, 215.86618352632445, 208.65044719742147, 204.42550185708851, 199.5782047905318, 197.19468029832717, 196.67749629562846, 196.66513572036664, 173.19920124167217, 154.63463503171781, 148.92587967936799, 149.07639971016962, 368.86131140333526, 566.64723675611231, 7483.9017661955322, 1908.8784923516846, 1472.0901635207547, 1739.4757918895582, 1250.152077869265, 361.33280789510263, 1265.7508814926398, 1410.8399467013235, 1045.9165702455732, 772.07759972907945, 644.05040933327291, 600.11593079012926, 560.30434706758217, 457.77697313317424, 342.20808853751055, 336.17270177542991, 317.45593092690422, 292.75278390422108, 287.50283428500751, 279.82891248415086, 269.88140264056733, 266.1131910850375, 242.44210746868907, 236.56026401169382, 236.56640793385412, 237.9842509712648, 217.74116467911736, 216.5345376344074, 203.51911022009017, 194.96066236266196, 189.32544163268162, 188.37380182886108, 185.16127163553514, 181.59406444911659, 178.10397524326987, 173.71208148691352, 172.75280553896445, 2776.5752000255216, 314.86884296222252, 419.81462399491608, 2435.6250477600515, 1478.8720151596417, 1265.7508814926398, 1739.4757918895582, 1250.152077869265, 476.62215550490794, 3284.0425568903725, 2633.3107797869347, 1743.1467869019014, 567.01433798422204, 442.00090364185979, 429.7018485576919, 397.63612970059171, 376.11975439774403, 349.02015049028637, 344.65985683884833, 334.11735079900973, 317.24380806730994, 280.5603451502144, 258.78653002860523, 228.50945491051147, 194.25525928779197, 181.88493555429335, 179.44281938504156, 174.01437631990456, 169.87059315329233, 167.24134842512532, 165.80025986950602, 164.85548517735526, 161.87083111843035, 161.28712880522909, 155.17472625020974, 155.97300262735095, 154.91397864512172, 148.4693695778256, 149.17019621841746, 2435.6250477600515, 1478.8720151596417, 405.05983684966634, 1250.152077869265, 645.81307656062131, 824.85622205195477, 1739.4757918895582, 293.19866041816113, 2749.7433036729831, 1772.148861435669, 614.36520282563697, 526.7766834715012, 521.78647363694722, 422.21429279074016, 331.06352820550694, 328.26460254021197, 312.47638130235458, 311.30051150874914, 297.18196439309406, 291.42604512782617, 269.42529875068465, 262.375734668456, 254.58270138608901, 252.6788786394639, 248.26575138465756, 247.11998819663842, 235.073301504162, 196.7711780343507, 195.71693224253445, 189.88244748851992, 183.25533951573041, 158.36770564447821, 153.14115458136939, 151.63778627383459, 144.39818355328291, 144.04643273191519, 134.09991664234056, 133.45876693515851, 545.57770478161387, 838.75303277985813, 1908.8784923516846, 2776.5752000255216, 429.75733084592105, 1472.0901635207547, 1137.4914345717225, 1478.8720151596417], \"logprob\": [30.0, 29.0, 28.0, 27.0, 26.0, 25.0, 24.0, 23.0, 22.0, 21.0, 20.0, 19.0, 18.0, 17.0, 16.0, 15.0, 14.0, 13.0, 12.0, 11.0, 10.0, 9.0, 8.0, 7.0, 6.0, 5.0, 4.0, 3.0, 2.0, 1.0, -3.4539, -3.8492000000000002, -4.0065, -4.0841000000000003, -4.1497000000000002, -4.2179000000000002, -4.2333999999999996, -4.3468999999999998, -4.7983000000000002, -4.8796999999999997, -4.8859000000000004, -5.1082999999999998, -5.1254999999999997, -5.2271000000000001, -5.2431999999999999, -5.3141999999999996, -5.3221999999999996, -5.3817000000000004, -5.4752999999999998, -5.4812000000000003, -5.5011999999999999, -5.5326000000000004, -5.5605000000000002, -5.6203000000000003, -5.6382000000000003, -5.6348000000000003, -5.7024999999999997, -5.7130000000000001, -5.7476000000000003, -5.7763999999999998, -2.1160999999999999, -4.1299000000000001, -4.0023, -4.5308000000000002, -4.4259000000000004, -4.9218000000000002, -4.3436000000000003, -4.2619999999999996, -4.3643999999999998, -4.5515999999999996, -4.9637000000000002, -5.3933, -3.1278000000000001, -3.7942999999999998, -3.8005, -4.0480999999999998, -4.1260000000000003, -4.3727, -4.4744999999999999, -4.4943, -4.6203000000000003, -4.6581999999999999, -4.6738, -4.6973000000000003, -4.7351000000000001, -4.7962999999999996, -4.8394000000000004, -4.8574999999999999, -5.0486000000000004, -5.0791000000000004, -5.0899000000000001, -5.2222, -5.2538, -5.2880000000000003, -5.3085000000000004, -5.3326000000000002, -5.3445999999999998, -5.3472999999999997, -5.3472999999999997, -5.4748999999999999, -5.5888999999999998, -5.6265999999999998, -5.6257000000000001, -4.9494999999999996, -4.7481999999999998, -3.1109, -4.4051999999999998, -4.6536, -4.6437999999999997, -4.8318000000000003, -5.1734, -5.1264000000000003, -3.3473999999999999, -3.6469, -3.9506999999999999, -4.1322000000000001, -4.2030000000000003, -4.2717000000000001, -4.4741, -4.7656999999999998, -4.7835000000000001, -4.8409000000000004, -4.9221000000000004, -4.9402999999999997, -4.9673999999999996, -5.0037000000000003, -5.0178000000000003, -5.1113, -5.1359000000000004, -5.1359000000000004, -5.1299000000000001, -5.2191000000000001, -5.2247000000000003, -5.2869000000000002, -5.3300000000000001, -5.3593999999999999, -5.3644999999999996, -5.3818000000000001, -5.4013, -5.4207999999999998, -5.4459, -5.4515000000000002, -2.9367999999999999, -5.0115999999999996, -4.8731999999999998, -3.9788000000000001, -4.4985999999999997, -4.5777999999999999, -5.0606999999999998, -5.1353, -5.2515000000000001, -2.4929000000000001, -2.7136999999999998, -3.1263999999999998, -4.2504, -4.4999000000000002, -4.5282, -4.6058000000000003, -4.6616, -4.7365000000000004, -4.7491000000000003, -4.7803000000000004, -4.8322000000000003, -4.9554, -5.0365000000000002, -5.1612999999999998, -5.3242000000000003, -5.3903999999999996, -5.4039000000000001, -5.4348000000000001, -5.4589999999999996, -5.4745999999999997, -5.4832999999999998, -5.4890999999999996, -5.5073999999999996, -5.5110999999999999, -5.5499000000000001, -5.5448000000000004, -5.5515999999999996, -5.5942999999999996, -5.5895999999999999, -3.1598999999999999, -3.9617, -4.8933999999999997, -4.3125999999999998, -4.7705000000000002, -4.6687000000000003, -4.5293999999999999, -5.4598000000000004, -2.6303999999999998, -3.0699000000000001, -4.1300999999999997, -4.2840999999999996, -4.2935999999999996, -4.5057, -4.7493999999999996, -4.758, -4.8072999999999997, -4.8110999999999997, -4.8577000000000004, -4.8773, -4.9560000000000004, -4.9825999999999997, -5.0128000000000004, -5.0202999999999998, -5.0380000000000003, -5.0427, -5.0928000000000004, -5.2713000000000001, -5.2766999999999999, -5.3071000000000002, -5.3428000000000004, -5.4893999999999998, -5.5231000000000003, -5.5330000000000004, -5.5822000000000003, -5.5846999999999998, -5.6566000000000001, -5.6614000000000004, -4.5614999999999997, -4.3139000000000003, -3.7345000000000002, -4.0726000000000004, -5.1378000000000004, -4.7808000000000002, -4.9142000000000001, -4.9261999999999997]}};\n",
       "\n",
       "function LDAvis_load_lib(url, callback){\n",
       "  var s = document.createElement('script');\n",
       "  s.src = url;\n",
       "  s.async = true;\n",
       "  s.onreadystatechange = s.onload = callback;\n",
       "  s.onerror = function(){console.warn(\"failed to load library \" + url);};\n",
       "  document.getElementsByTagName(\"head\")[0].appendChild(s);\n",
       "}\n",
       "\n",
       "if(typeof(LDAvis) !== \"undefined\"){\n",
       "   // already loaded: just create the visualization\n",
       "   !function(LDAvis){\n",
       "       new LDAvis(\"#\" + \"ldavis_el73121400678650399527815899668\", ldavis_el73121400678650399527815899668_data);\n",
       "   }(LDAvis);\n",
       "}else if(typeof define === \"function\" && define.amd){\n",
       "   // require.js is available: use it to load d3/LDAvis\n",
       "   require.config({paths: {d3: \"https://cdnjs.cloudflare.com/ajax/libs/d3/3.5.5/d3.min\"}});\n",
       "   require([\"d3\"], function(d3){\n",
       "      window.d3 = d3;\n",
       "      LDAvis_load_lib(\"https://cdn.rawgit.com/bmabey/pyLDAvis/files/ldavis.v1.0.0.js\", function(){\n",
       "        new LDAvis(\"#\" + \"ldavis_el73121400678650399527815899668\", ldavis_el73121400678650399527815899668_data);\n",
       "      });\n",
       "    });\n",
       "}else{\n",
       "    // require.js not available: dynamically load d3 & LDAvis\n",
       "    LDAvis_load_lib(\"https://cdnjs.cloudflare.com/ajax/libs/d3/3.5.5/d3.min.js\", function(){\n",
       "         LDAvis_load_lib(\"https://cdn.rawgit.com/bmabey/pyLDAvis/files/ldavis.v1.0.0.js\", function(){\n",
       "                 new LDAvis(\"#\" + \"ldavis_el73121400678650399527815899668\", ldavis_el73121400678650399527815899668_data);\n",
       "            })\n",
       "         });\n",
       "}\n",
       "</script>"
      ],
      "text/plain": [
       "PreparedData(topic_coordinates=            Freq  cluster  topics         x         y\n",
       "topic                                                \n",
       "3      22.761105        1       1  0.244861 -0.039020\n",
       "0      19.975241        1       2  0.250075 -0.089932\n",
       "1      19.461108        1       3 -0.191122 -0.120317\n",
       "4      19.279608        1       4 -0.242563 -0.134115\n",
       "2      18.522938        1       5 -0.061251  0.383383, topic_info=     Category         Freq          Term        Total  loglift  logprob\n",
       "term                                                                   \n",
       "204   Default  7483.000000          word  7483.000000  30.0000  30.0000\n",
       "4803  Default  3284.000000            vs  3284.000000  29.0000  29.0000\n",
       "3835  Default  2749.000000       meaning  2749.000000  28.0000  28.0000\n",
       "2384  Default  2633.000000          mean  2633.000000  27.0000  27.0000\n",
       "951   Default  2776.000000      sentence  2776.000000  26.0000  26.0000\n",
       "2612  Default  1772.000000    difference  1772.000000  25.0000  25.0000\n",
       "1522  Default  1803.000000       english  1803.000000  24.0000  24.0000\n",
       "4131  Default  1743.000000     something  1743.000000  23.0000  23.0000\n",
       "1704  Default  2435.000000       correct  2435.000000  22.0000  22.0000\n",
       "2605  Default  1410.000000          verb  1410.000000  21.0000  21.0000\n",
       "3222  Default  1483.000000       someone  1483.000000  20.0000  20.0000\n",
       "3540  Default  1045.000000         using  1045.000000  19.0000  19.0000\n",
       "3045  Default   926.000000          noun   926.000000  18.0000  18.0000\n",
       "1794  Default   920.000000           way   920.000000  17.0000  17.0000\n",
       "3520  Default   999.000000        person   999.000000  16.0000  16.0000\n",
       "4533  Default   772.000000          past   772.000000  15.0000  15.0000\n",
       "1133  Default   853.000000          call   853.000000  14.0000  14.0000\n",
       "3726  Default   790.000000      question   790.000000  13.0000  13.0000\n",
       "1062  Default   718.000000        plural   718.000000  12.0000  12.0000\n",
       "4538  Default  1908.000000        phrase  1908.000000  11.0000  11.0000\n",
       "2732  Default   740.000000           two   740.000000  10.0000  10.0000\n",
       "2616  Default   665.000000     adjective   665.000000   9.0000   9.0000\n",
       "1088  Default  1137.000000         words  1137.000000   8.0000   8.0000\n",
       "4366  Default   644.000000         comma   644.000000   7.0000   7.0000\n",
       "200   Default   614.000000        origin   614.000000   6.0000   6.0000\n",
       "3790  Default   691.000000        single   691.000000   5.0000   5.0000\n",
       "2516  Default   680.000000          time   680.000000   4.0000   4.0000\n",
       "4764  Default   600.000000         tense   600.000000   3.0000   3.0000\n",
       "3352  Default   567.000000       context   567.000000   2.0000   2.0000\n",
       "4923  Default  1478.000000         usage  1478.000000   1.0000   1.0000\n",
       "...       ...          ...           ...          ...      ...      ...\n",
       "4319   Topic5   311.710893     etymology   312.476381   1.6837  -4.8073\n",
       "2798   Topic5   310.530529         sense   311.300512   1.6837  -4.8111\n",
       "2117   Topic5   296.409298         sound   297.181964   1.6836  -4.8577\n",
       "4047   Topic5   290.653390         order   291.426045   1.6835  -4.8773\n",
       "2594   Topic5   268.651469          case   269.425299   1.6833  -4.9560\n",
       "4315   Topic5   261.605074           day   262.375735   1.6832  -4.9826\n",
       "1205   Topic5   253.812869   grammatical   254.582701   1.6831  -5.0128\n",
       "1448   Topic5   251.908021         going   252.678879   1.6831  -5.0203\n",
       "809    Topic5   247.495526          much   248.265751   1.6831  -5.0380\n",
       "4626   Topic5   246.349828       pronoun   247.119988   1.6830  -5.0427\n",
       "3777   Topic5   234.300604       similar   235.073302   1.6829  -5.0928\n",
       "1389   Topic5   196.000488        change   196.771178   1.6822  -5.2713\n",
       "180    Topic5   194.944843          type   195.716932   1.6822  -5.2767\n",
       "1546   Topic5   189.109757           may   189.882447   1.6821  -5.3071\n",
       "5055   Topic5   182.477610     statement   183.255340   1.6819  -5.3428\n",
       "4209   Topic5   157.598909      relative   158.367706   1.6813  -5.4894\n",
       "821    Topic5   152.371191          life   153.141155   1.6811  -5.5231\n",
       "3009   Topic5   150.869176    definition   151.637786   1.6811  -5.5330\n",
       "2905   Topic5   143.625091      somebody   144.398184   1.6808  -5.5822\n",
       "46     Topic5   143.272166         every   144.046433   1.6808  -5.5847\n",
       "5116   Topic5   133.327633  construction   134.099917   1.6804  -5.6566\n",
       "1495   Topic5   132.686119        making   133.458767   1.6804  -5.6614\n",
       "2500   Topic5   398.594623         idiom   545.577705   1.3723  -4.5615\n",
       "4957   Topic5   510.575799          like   838.753033   1.1898  -4.3139\n",
       "4538   Topic5   911.287352        phrase  1908.878492   0.9467  -3.7345\n",
       "951    Topic5   649.866436      sentence  2776.575200   0.2340  -4.0726\n",
       "1026   Topic5   223.983230         right   429.757331   1.0345  -5.1378\n",
       "148    Topic5   320.079443          term  1472.090164   0.1603  -4.7808\n",
       "1088   Topic5   280.111044         words  1137.491435   0.2848  -4.9142\n",
       "4923   Topic5   276.765093         usage  1478.872015   0.0103  -4.9262\n",
       "\n",
       "[227 rows x 6 columns], token_table=      Topic      Freq         Term\n",
       "term                              \n",
       "1466      3  0.993728   acceptable\n",
       "2705      3  0.996729       action\n",
       "2616      2  0.998273    adjective\n",
       "894       1  0.993645   adjectives\n",
       "799       2  0.996544       adverb\n",
       "2121      3  0.995901         also\n",
       "3542      1  0.689600  alternative\n",
       "3542      2  0.307568  alternative\n",
       "4194      2  0.995987     american\n",
       "475       2  0.998596      another\n",
       "4552      1  0.997549       answer\n",
       "1778      2  0.997103      antonym\n",
       "3680      2  0.997537      article\n",
       "3623      4  0.997771         back\n",
       "692       2  0.993942          bad\n",
       "719       2  0.996913         best\n",
       "334       2  0.999001       better\n",
       "5192      1  0.996053         book\n",
       "1133      1  0.998853         call\n",
       "2047      1  0.728674       called\n",
       "2047      3  0.270589       called\n",
       "2594      5  0.998421         case\n",
       "1389      5  0.996081       change\n",
       "338       5  0.997124       clause\n",
       "400       2  0.995896      clauses\n",
       "2037      4  0.997736         come\n",
       "4366      3  0.998369        comma\n",
       "3201      3  0.993802       commas\n",
       "4327      1  0.354244       common\n",
       "4327      2  0.644835       common\n",
       "...     ...       ...          ...\n",
       "2516      1  0.998868         time\n",
       "1936      1  0.993982        title\n",
       "2732      1  0.998496          two\n",
       "180       5  0.996337         type\n",
       "2135      2  0.993076   understand\n",
       "3767      3  0.997531           us\n",
       "4923      3  0.301581        usage\n",
       "4923      4  0.511200        usage\n",
       "4923      5  0.187305        usage\n",
       "453       1  0.481137         used\n",
       "453       2  0.192771         used\n",
       "453       3  0.325498         used\n",
       "3540      3  0.999124        using\n",
       "2605      3  0.999405         verb\n",
       "344       4  0.998003       versus\n",
       "4803      4  0.999683           vs\n",
       "234       2  0.996741         want\n",
       "1794      2  0.999186          way\n",
       "4868      3  0.997606         well\n",
       "204       1  0.754954         word\n",
       "204       2  0.245059         word\n",
       "1088      1  0.753412        words\n",
       "1088      5  0.246156        words\n",
       "210       4  0.996656         work\n",
       "166       1  0.179425        would\n",
       "166       3  0.223069        would\n",
       "166       4  0.452200        would\n",
       "166       5  0.144268        would\n",
       "1532      3  0.998176        write\n",
       "278       3  0.996734        wrong\n",
       "\n",
       "[223 rows x 3 columns], R=30, lambda_step=0.01, plot_opts={'xlab': 'PC1', 'ylab': 'PC2'}, topic_order=[4, 1, 2, 5, 3])"
      ]
     },
     "execution_count": 16,
     "metadata": {},
     "output_type": "execute_result"
    }
   ],
   "source": [
    "pyLDAvis.gensim.prepare(ldamodel,corpus,dictionary)"
   ]
  },
  {
   "cell_type": "markdown",
   "metadata": {
    "collapsed": false
   },
   "source": [
    "<img src='images/ldaop.png'>"
   ]
  },
  {
   "cell_type": "code",
   "execution_count": 18,
   "metadata": {
    "collapsed": false
   },
   "outputs": [
    {
     "data": {
      "image/png": "[encoded data removed]",
      "text/plain": [
       "<matplotlib.figure.Figure at 0x7f640f1a0d50>"
      ]
     },
     "metadata": {},
     "output_type": "display_data"
    },
    {
     "data": {
      "image/png": "[encoded data removed]",
      "text/plain": [
       "<matplotlib.figure.Figure at 0x7f640f196390>"
      ]
     },
     "metadata": {},
     "output_type": "display_data"
    },
    {
     "data": {
      "image/png": "[encoded data removed]",
      "text/plain": [
       "<matplotlib.figure.Figure at 0x7f640f1a0b10>"
      ]
     },
     "metadata": {},
     "output_type": "display_data"
    },
    {
     "data": {
      "image/png": "[encoded data removed]",
      "text/plain": [
       "<matplotlib.figure.Figure at 0x7f640f16f6d0>"
      ]
     },
     "metadata": {},
     "output_type": "display_data"
    },
    {
     "data": {
      "image/png": "[encoded data removed]",
      "text/plain": [
       "<matplotlib.figure.Figure at 0x7f640f1e23d0>"
      ]
     },
     "metadata": {},
     "output_type": "display_data"
    }
   ],
   "source": [
    "from wordcloud import WordCloud\n",
    "curr_topic = 222\n",
    "\n",
    "for line in ldamodel.print_topics(NUM_TOPICS, 6):\n",
    "        line = line[1]\n",
    "        scores = [float(x.split(\"*\")[0]) for x in line.split(\" + \")]\n",
    "        words = [x.split(\"*\")[1] for x in line.split(\" + \")]\n",
    "        freqs = []\n",
    "        for word, score in zip(words, scores):\n",
    "            freqs.append((word, score))\n",
    "        wc = WordCloud().fit_words(freqs)\n",
    "\n",
    "        plt.figure()\n",
    "        #plt.subplot(curr_topic)\n",
    "        plt.imshow(wc)\n",
    "        plt.axis(\"off\")\n",
    "        plt.title(curr_topic)\n",
    "        plt.grid(True)\n",
    "        #wordcloud.draw(elements, \"gs_topic_%d.png\" % (curr_topic), width=120, height=120)\n",
    "        curr_topic += 1\n",
    "plt.show()"
   ]
  },
  {
   "cell_type": "markdown",
   "metadata": {},
   "source": [
    "# Approach 2 : Doc2Vec\n",
    "==================================="
   ]
  },
  {
   "cell_type": "code",
   "execution_count": 113,
   "metadata": {
    "collapsed": true
   },
   "outputs": [],
   "source": [
    "class LabeledLineSentence(object):\n",
    "    def __init__(self,df,field,tag):\n",
    "        self.df = df\n",
    "        self.field = field\n",
    "        self.tag = tag\n",
    "\n",
    "    def __iter__(self):\n",
    "        for index, row in self.df.iterrows():\n",
    "            tokens = stop_words.remove(row[self.field])\n",
    "            yield doc2vec.TaggedDocument(words=tokens,tags=[row[self.tag]])"
   ]
  },
  {
   "cell_type": "code",
   "execution_count": 114,
   "metadata": {
    "collapsed": false,
    "scrolled": false
   },
   "outputs": [],
   "source": [
    "def get_doc2vec(force=False):\n",
    "    doc2vecFile = 'doc2vec.model'\n",
    "    \n",
    "    # Check if trained model file exists\n",
    "    if ( os.path.isfile(doc2vecFile) and not force):\n",
    "        # load trained model from file\n",
    "        docmodel = Doc2Vec.load(doc2vecFile)\n",
    "    else:\n",
    "        lablines = LabeledLineSentence(posts,'Title','Id')\n",
    "        \n",
    "        # Create model\n",
    "        docmodel = doc2vec.Doc2Vec(alpha=0.025, min_alpha=0.025)\n",
    "        docmodel.build_vocab(lablines)\n",
    "\n",
    "        for epoch in range(10):\n",
    "            docmodel.train(lablines)\n",
    "            docmodel.alpha -= 0.002  # decrease the learning rate\n",
    "            docmodel.min_alpha = docmodel.alpha  # fix the learning rate, no decay\n",
    "\n",
    "        # Save model\n",
    "        docmodel.save(doc2vecFile)\n",
    "        \n",
    "    return docmodel"
   ]
  },
  {
   "cell_type": "code",
   "execution_count": 115,
   "metadata": {
    "collapsed": false
   },
   "outputs": [],
   "source": [
    "docmodel = get_doc2vec()"
   ]
  },
  {
   "cell_type": "code",
   "execution_count": 116,
   "metadata": {
    "collapsed": true
   },
   "outputs": [],
   "source": [
    "class MatchingPost(object):\n",
    "    matchingPercentage = 0\n",
    "    title = \"\"\n",
    "    \n",
    "    def __init__(self, matchingPercentage, title):\n",
    "        self.matchingPercentage = matchingPercentage\n",
    "        self.title = title        "
   ]
  },
  {
   "cell_type": "markdown",
   "metadata": {},
   "source": [
    "## Doc2Vec: Sample Search"
   ]
  },
  {
   "cell_type": "code",
   "execution_count": 117,
   "metadata": {
    "collapsed": true
   },
   "outputs": [],
   "source": [
    "def showsimilar(question):\n",
    "    if (type(question) is not 'str'):\n",
    "        question = str(question)\n",
    "        \n",
    "    norm_input = stop_words.remove(question) # question.split()\n",
    "    q_vector = docmodel.infer_vector(norm_input)\n",
    "    similar_vecs = docmodel.docvecs.most_similar(positive=[q_vector])\n",
    "    similarTitles = []\n",
    "    \n",
    "    for vec in similar_vecs:\n",
    "        post = posts[posts['Id']==vec[0]]\n",
    "        if(len(post) == 0): continue\n",
    "        title = posts[posts['Id']==vec[0]]['Title']\n",
    "        similarPostInfo = MatchingPost(vec[1], title.iloc[0])\n",
    "        similarTitles.append(similarPostInfo)\n",
    "    \n",
    "    print(\"Search results for [{}]:\".format(question))\n",
    "    \n",
    "    # Show top 10 matches only\n",
    "    for title in similarTitles:\n",
    "        post = title.title\n",
    "        matchPercentage = title.matchingPercentage\n",
    "        print(\"{:10.2f}% : {}\".format(matchPercentage * 100, post))\n",
    "\n",
    "    return similarTitles"
   ]
  },
  {
   "cell_type": "code",
   "execution_count": 118,
   "metadata": {
    "collapsed": false
   },
   "outputs": [
    {
     "name": "stdout",
     "output_type": "stream",
     "text": [
      "Search results for [Where does the quint in quintessential come from?]:\n",
      "     93.13% : why is it  how come  and not  why come  \n",
      "     88.64% : where does  santa  in santa claus come from \n",
      "     88.64% : does responsibility come with consequences \n",
      "     88.60% : where did the  juices  in  creative juices  come from \n",
      "     88.59% : where did  cc  and  bcc  come from \n",
      "     88.56% : where did  elbow grease  come from \n",
      "     88.50% : where does  can t be arsed  come from \n",
      "     88.42% : where does the  quint  in  quintessential  come from \n",
      "     88.36% :  tit for tat    where does this come from \n",
      "     88.31% : where does  cooling your heels  come from \n"
     ]
    }
   ],
   "source": [
    "# Find similar questions\n",
    "similarTitles = showsimilar(samples[0])"
   ]
  },
  {
   "cell_type": "code",
   "execution_count": 119,
   "metadata": {
    "collapsed": false
   },
   "outputs": [],
   "source": [
    "from IPython.display import display\n",
    "from ipywidgets import widgets \n",
    "import warnings\n",
    "warnings.filterwarnings(\"ignore\", category=DeprecationWarning) \n",
    "\n",
    "def handler(sender):\n",
    "    showsimilar(text.value)\n",
    "    \n",
    "text = widgets.Text()    \n",
    "display(text)    \n",
    "text.on_submit(handler)\n"
   ]
  },
  {
   "cell_type": "markdown",
   "metadata": {
    "collapsed": true
   },
   "source": [
    "# Experimental : Try T-SNE \n",
    "======================================="
   ]
  },
  {
   "cell_type": "code",
   "execution_count": 12,
   "metadata": {
    "collapsed": false
   },
   "outputs": [],
   "source": [
    "tf = TfidfVectorizer(analyzer='word', ngram_range=(1,3), min_df = 0, stop_words = 'english')\n",
    "data = []\n",
    "for index, post in posts.iterrows():\n",
    "    data.append(post['Title']) \n",
    "tfidf_matrix =  tf.fit_transform(data)\n",
    "feature_names = tf.get_feature_names() \n",
    "#dense = tfidf_matrix.todense()\n",
    "#len(feature_names)\n",
    "#feature_names[50:70]"
   ]
  },
  {
   "cell_type": "code",
   "execution_count": 13,
   "metadata": {
    "collapsed": false
   },
   "outputs": [
    {
     "name": "stdout",
     "output_type": "stream",
     "text": [
      "[t-SNE] Computing pairwise distances...\n",
      "[t-SNE] Computing 121 nearest neighbors...\n",
      "[t-SNE] Computed conditional probabilities for sample 1000 / 12769\n",
      "[t-SNE] Computed conditional probabilities for sample 2000 / 12769\n",
      "[t-SNE] Computed conditional probabilities for sample 3000 / 12769\n",
      "[t-SNE] Computed conditional probabilities for sample 4000 / 12769\n",
      "[t-SNE] Computed conditional probabilities for sample 5000 / 12769\n",
      "[t-SNE] Computed conditional probabilities for sample 6000 / 12769\n",
      "[t-SNE] Computed conditional probabilities for sample 7000 / 12769\n",
      "[t-SNE] Computed conditional probabilities for sample 8000 / 12769\n",
      "[t-SNE] Computed conditional probabilities for sample 9000 / 12769\n",
      "[t-SNE] Computed conditional probabilities for sample 10000 / 12769\n",
      "[t-SNE] Computed conditional probabilities for sample 11000 / 12769\n",
      "[t-SNE] Computed conditional probabilities for sample 12000 / 12769\n",
      "[t-SNE] Computed conditional probabilities for sample 12769 / 12769\n",
      "[t-SNE] Mean sigma: 0.000000\n",
      "[t-SNE] Iteration 25: error = 1.0396066, gradient norm = 0.0000019\n",
      "[t-SNE] Iteration 25: gradient norm 0.000002. Finished.\n",
      "[t-SNE] Iteration 50: error = 1.0396031, gradient norm = 0.0000021\n",
      "[t-SNE] Iteration 50: gradient norm 0.000002. Finished.\n",
      "[t-SNE] Error after 50 iterations with early exaggeration: 1.039603\n",
      "[t-SNE] Iteration 75: error = 1.0396005, gradient norm = 0.0000024\n",
      "[t-SNE] Iteration 75: gradient norm 0.000002. Finished.\n",
      "[t-SNE] Error after 75 iterations: 1.039600\n"
     ]
    }
   ],
   "source": [
    "from sklearn.manifold import TSNE\n",
    "from sklearn.decomposition import PCA\n",
    "from sklearn.decomposition import TruncatedSVD\n",
    "\n",
    "X_reduced = TruncatedSVD(n_components=50, random_state=0).fit_transform(tfidf_matrix)\n",
    "X_tsne = TSNE(learning_rate=10,n_components=2, perplexity=40, verbose=2).fit_transform(X_reduced)"
   ]
  },
  {
   "cell_type": "code",
   "execution_count": null,
   "metadata": {
    "collapsed": false
   },
   "outputs": [],
   "source": [
    "'''\n",
    "X_pca = PCA().fit_transform(dense)\n",
    "from matplotlib.pyplot import figure\n",
    "\n",
    "figure(figsize=(10, 5))\n",
    "plt.subplot(121)\n",
    "plt.scatter(X_tsne[:, 0], X_tsne[:, 1])\n",
    "plt.title('T-SNE')\n",
    "plt.subplot(122)\n",
    "plt.scatter(X_pca[:, 0], X_pca[:, 1])\n",
    "plt.title('PCA')\n",
    "'''"
   ]
  },
  {
   "cell_type": "code",
   "execution_count": 20,
   "metadata": {
    "collapsed": false
   },
   "outputs": [
    {
     "data": {
      "text/plain": [
       "<matplotlib.text.Text at 0x7f77087ab510>"
      ]
     },
     "execution_count": 20,
     "metadata": {},
     "output_type": "execute_result"
    },
    {
     "data": {
      "image/png": "[encoded data removed]",
      "text/plain": [
       "<matplotlib.figure.Figure at 0x7f7706bf8510>"
      ]
     },
     "metadata": {},
     "output_type": "display_data"
    }
   ],
   "source": [
    "fig = figure(figsize=(15, 15))\n",
    "#plt.setp(ax, xticks=(), yticks=())\n",
    "#plt.subplots_adjust(left=0.0, bottom=0.0, right=1.0, top=0.9,wspace=0.0, hspace=0.0)\n",
    "plt.scatter(X_tsne[:, 0], X_tsne[:, 1],marker=\"x\")\n",
    "plt.title('T-SNE')"
   ]
  },
  {
   "cell_type": "markdown",
   "metadata": {
    "collapsed": true
   },
   "source": [
    "# Future Directions\n",
    "\n",
    "These are the kinds of questions we would like to pursue in the future:\n",
    "\n",
    "* Predict the next question a user may ask based on this current search\n",
    "\n",
    "* The raw data has user-generated tags for all the questions asked. Use supervised learning algorithms against this data set.\n",
    "\n",
    "* Build a browser plugin for the use case discussed in the introduction\n",
    "\n",
    "We are always live @ https://github.com/dhruvaray/soml\n"
   ]
  },
  {
   "cell_type": "markdown",
   "metadata": {
    "collapsed": false
   },
   "source": [
    "## References\n",
    "\n",
    "* https://rstudio-pubs-static.s3.amazonaws.com/79360_850b2a69980c4488b1db95987a24867a.html\n",
    "* LDA Viz - http://nlp.stanford.edu/events/illvi2014/papers/sievert-illvi2014.pdf\n",
    "* This dashboard @ https://github.com/dhruvaray/soml\n",
    "    "
   ]
  },
  {
   "cell_type": "code",
   "execution_count": null,
   "metadata": {
    "collapsed": true
   },
   "outputs": [],
   "source": []
  }
 ],
 "metadata": {
  "kernelspec": {
   "display_name": "Python 2",
   "language": "python",
   "name": "python2"
  },
  "language_info": {
   "codemirror_mode": {
    "name": "ipython",
    "version": 2
   },
   "file_extension": ".py",
   "mimetype": "text/x-python",
   "name": "python",
   "nbconvert_exporter": "python",
   "pygments_lexer": "ipython2",
   "version": "2.7.11"
  }
 },
 "nbformat": 4,
 "nbformat_minor": 0
}
