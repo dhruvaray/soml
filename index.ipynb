{
 "cells": [
  {
   "cell_type": "markdown",
   "metadata": {
    "slideshow": {
     "slide_type": "slide"
    }
   },
   "source": [
    "# Problem\n",
    "\n",
    "Popular question and answer (qna) site -  stackoverflow (+ their sister sites) allows for download of monthly data dumps from https://archive.org/details/stackexchange.\n",
    "\n",
    "With this data, can we classify the questions/answers based on\n",
    "\n",
    "* Conceptual v/s howto question \n",
    "* Beginner v/s intermediate v/s hard/trick\n",
    "* A particular question is associated with another question in terms of the next things to do or perhaps the pre-requisites?\n",
    "* Predict the next question a user may ask based on this current search\n",
    "\n",
    "The taxanomy could be a useful layout of the land for a student of the area."
   ]
  },
  {
   "cell_type": "markdown",
   "metadata": {
    "slideshow": {
     "slide_type": "fragment"
    }
   },
   "source": [
    "# Schema\n",
    "\n",
    "The schema for their data is located @ https://ia800500.us.archive.org/22/items/stackexchange/readme.txt.\n",
    "    \n",
    "Unfortunately, the data is dumped in an XML format and there is preliminary effort to convert that data into CSV format. We have written a converter (convert2csv.py) for the tables of interest.\n",
    "\n",
    "The schemas for the tables of interest are shown below.\n",
    "\n",
    "\n",
    "## Posts\n",
    "-----------\n",
    "- Id\n",
    "- PostTypeId\n",
    "  - 1: Question\n",
    "  - 2: Answer\n",
    "- ParentID (only present if PostTypeId is 2)\n",
    "- AcceptedAnswerId (only present if PostTypeId is 1)\n",
    "- CreationDate\n",
    "- Score\n",
    "- ViewCount\n",
    "- Body\n",
    "- OwnerUserId\n",
    "- LastEditorUserId\n",
    "- LastEditorDisplayName=\"Jeff Atwood\"\n",
    "- LastEditDate=\"2009-03-05T22:28:34.823\"\n",
    "- LastActivityDate=\"2009-03-11T12:51:01.480\"\n",
    "- CommunityOwnedDate=\"2009-03-11T12:51:01.480\"\n",
    "- ClosedDate=\"2009-03-11T12:51:01.480\"\n",
    "- Title=\n",
    "- Tags=\n",
    "- AnswerCount\n",
    "- CommentCount\n",
    "- FavoriteCount\n",
    "\n",
    "## Comments\n",
    "---------------------------\n",
    "- Id\n",
    "- PostId\n",
    "- Score\n",
    "- Text, e.g.: \"@Stu Thompson: Seems possible to me - why not try it?\"\n",
    "- CreationDate, e.g.:\"2008-09-06T08:07:10.730\"\n",
    "- UserId\n",
    "\n",
    "## Post History\n",
    "---------------------------\n",
    "- Id\n",
    "- PostHistoryTypeId\n",
    "    - 1: Initial Title - The first title a question is asked with.\n",
    "    - 2: Initial Body - The first raw body text a post is submitted with.\n",
    "    - 3: Initial Tags - The first tags a question is asked with.\n",
    "    - 4: Edit Title - A question's title has been changed.\n",
    "    - 5: Edit Body - A post's body has been changed, the raw text is stored here as markdown.\n",
    "    - 6: Edit Tags - A question's tags have been changed.\n",
    "    - 7: Rollback Title - A question's title has reverted to a previous version.\n",
    "    - 8: Rollback Body - A post's body has reverted to a previous version - the raw text is stored here.\n",
    "    - 9: Rollback Tags - A question's tags have reverted to a previous version.\n",
    "    - 10: Post Closed - A post was voted to be closed.\n",
    "    - 11: Post Reopened - A post was voted to be reopened.\n",
    "    - 12: Post Deleted - A post was voted to be removed.\n",
    "    - 13: Post Undeleted - A post was voted to be restored.\n",
    "    - 14: Post Locked - A post was locked by a moderator.\n",
    "    - 15: Post Unlocked - A post was unlocked by a moderator.\n",
    "    - 16: Community Owned - A post has become community owned.\n",
    "    - 17: Post Migrated - A post was migrated.\n",
    "    - 18: Question Merged - A question has had another, deleted question merged into itself.\n",
    "    - 19: Question Protected - A question was protected by a moderator\n",
    "    - 20: Question Unprotected - A question was unprotected by a moderator\n",
    "    - 21: Post Disassociated - An admin removes the OwnerUserId from a post.\n",
    "    - 22: Question Unmerged - A previously merged question has had its answers and votes restored.\n",
    "- PostId\n",
    "- RevisionGUID: At times more than one type of history record can be recorded by a single action.  \n",
    "- CreationDate: \"2009-03-05T22:28:34.823\"\n",
    "- UserId\n",
    "- UserDisplayName: populated if a user has been removed and no longer referenced by user Id\n",
    "- Comment: This field will contain the comment made by the user who edited a post\n",
    "- Text: A raw version of the new value for a given revision. \n",
    "- CloseReasonId\n",
    "    - 1: Exact Duplicate - This question covers exactly the same ground as earlier questions on this topic; its answers may be merged with another identical question.\n",
    "    - 2: off-topic\n",
    "    - 3: subjective\n",
    "    - 4: not a real question\n",
    "    - 7: too localized\n",
    "       \n",
    "       \n",
    "## Users\n",
    "---------------------------\n",
    " - Id\n",
    " - Reputation\n",
    " - CreationDate\n",
    " - DisplayName\n",
    " - EmailHash\n",
    " - LastAccessDate\n",
    " - WebsiteUrl\n",
    " - Location\n",
    " - Age\n",
    " - AboutMe\n",
    " - Views\n",
    " - UpVotes\n",
    " - DownVotes\n",
    "       "
   ]
  },
  {
   "cell_type": "markdown",
   "metadata": {},
   "source": [
    "# Conversion from XML to CSV\n",
    "\n",
    "Run python convert2csv.py to convert each of the xml files to their CSV equivalents. For columns/attributes which contain textual data, the converter encodes them with base64 encoding so that handling of quotes and special characters (separators) is avoided. \n",
    "\n",
    "When the data is read back into the dataframe, the corresponding decode (from base64) needs to happen. The converter also creates a sample file of 100 rows for each xml data dump converted."
   ]
  },
  {
   "cell_type": "code",
   "execution_count": 191,
   "metadata": {
    "collapsed": false
   },
   "outputs": [],
   "source": [
    "#imports\n",
    "import pandas as pd\n",
    "import math\n",
    "import re\n",
    "import gensim\n",
    "from gensim import corpora, models\n",
    "from gensim.models import word2vec\n",
    "import nltk\n",
    "from nltk.corpus import stopwords\n",
    "from nltk.stem.porter import PorterStemmer\n",
    "\n",
    "%matplotlib inline\n",
    "import matplotlib\n",
    "import numpy as np\n",
    "import matplotlib.pyplot as plt\n",
    "\n",
    "import pyLDAvis\n",
    "import pyLDAvis.gensim\n",
    "pyLDAvis.enable_notebook()\n",
    "\n",
    "\n",
    "SAMPLE_SIZE = 5000"
   ]
  },
  {
   "cell_type": "code",
   "execution_count": 223,
   "metadata": {
    "collapsed": false
   },
   "outputs": [
    {
     "data": {
      "text/html": [
       "<div>\n",
       "<table border=\"1\" class=\"dataframe\">\n",
       "  <thead>\n",
       "    <tr style=\"text-align: right;\">\n",
       "      <th></th>\n",
       "      <th>Body</th>\n",
       "      <th>Title</th>\n",
       "      <th>Tags</th>\n",
       "    </tr>\n",
       "  </thead>\n",
       "  <tbody>\n",
       "    <tr>\n",
       "      <th>0</th>\n",
       "      <td>when should i use can  when should i use could...</td>\n",
       "      <td>when do i use  can  or  could</td>\n",
       "      <td>&lt;word-choice&gt;&lt;tenses&gt;&lt;politeness&gt;&lt;subjunctive-...</td>\n",
       "    </tr>\n",
       "    <tr>\n",
       "      <th>1</th>\n",
       "      <td>doesn t  quint  mean  five    what does that h...</td>\n",
       "      <td>where does the  quint  in  quintessential  com...</td>\n",
       "      <td>&lt;etymology&gt;</td>\n",
       "    </tr>\n",
       "  </tbody>\n",
       "</table>\n",
       "</div>"
      ],
      "text/plain": [
       "                                                Body  \\\n",
       "0  when should i use can  when should i use could...   \n",
       "1  doesn t  quint  mean  five    what does that h...   \n",
       "\n",
       "                                               Title  \\\n",
       "0                    when do i use  can  or  could     \n",
       "1  where does the  quint  in  quintessential  com...   \n",
       "\n",
       "                                                Tags  \n",
       "0  <word-choice><tenses><politeness><subjunctive-...  \n",
       "1                                        <etymology>  "
      ]
     },
     "execution_count": 223,
     "metadata": {},
     "output_type": "execute_result"
    }
   ],
   "source": [
    "posts = pd.read_csv('data/posts.csv.gz',compression='gzip',nrows=SAMPLE_SIZE).dropna(subset=['Body','Title'])\n",
    "posts[['Body','Title', 'Tags']].head(2)"
   ]
  },
  {
   "cell_type": "code",
   "execution_count": 227,
   "metadata": {
    "collapsed": false
   },
   "outputs": [
    {
     "data": {
      "text/html": [
       "<div>\n",
       "<table border=\"1\" class=\"dataframe\">\n",
       "  <thead>\n",
       "    <tr style=\"text-align: right;\">\n",
       "      <th></th>\n",
       "      <th>Score</th>\n",
       "      <th>Text</th>\n",
       "    </tr>\n",
       "  </thead>\n",
       "  <tbody>\n",
       "    <tr>\n",
       "      <th>0</th>\n",
       "      <td>9</td>\n",
       "      <td>i think you need to edit the title of your que...</td>\n",
       "    </tr>\n",
       "    <tr>\n",
       "      <th>1</th>\n",
       "      <td>12</td>\n",
       "      <td>it s correct when you re accessing a method of...</td>\n",
       "    </tr>\n",
       "    <tr>\n",
       "      <th>2</th>\n",
       "      <td>2</td>\n",
       "      <td>yes  i would think in almost any context where...</td>\n",
       "    </tr>\n",
       "    <tr>\n",
       "      <th>3</th>\n",
       "      <td>0</td>\n",
       "      <td>would you say  it can certainly be  acceptable...</td>\n",
       "    </tr>\n",
       "    <tr>\n",
       "      <th>4</th>\n",
       "      <td>4</td>\n",
       "      <td>serg     would you expect anything less on a ...</td>\n",
       "    </tr>\n",
       "  </tbody>\n",
       "</table>\n",
       "</div>"
      ],
      "text/plain": [
       "   Score                                               Text\n",
       "0      9  i think you need to edit the title of your que...\n",
       "1     12  it s correct when you re accessing a method of...\n",
       "2      2  yes  i would think in almost any context where...\n",
       "3      0  would you say  it can certainly be  acceptable...\n",
       "4      4   serg     would you expect anything less on a ..."
      ]
     },
     "execution_count": 227,
     "metadata": {},
     "output_type": "execute_result"
    }
   ],
   "source": [
    "comments = pd.read_csv('data/comments.csv.gz',compression='gzip',nrows=SAMPLE_SIZE).dropna()\n",
    "comments[['Score','Text']].head(5)"
   ]
  },
  {
   "cell_type": "code",
   "execution_count": 228,
   "metadata": {
    "collapsed": false
   },
   "outputs": [
    {
     "data": {
      "text/html": [
       "<div>\n",
       "<table border=\"1\" class=\"dataframe\">\n",
       "  <thead>\n",
       "    <tr style=\"text-align: right;\">\n",
       "      <th></th>\n",
       "      <th>Text</th>\n",
       "    </tr>\n",
       "  </thead>\n",
       "  <tbody>\n",
       "    <tr>\n",
       "      <th>0</th>\n",
       "      <td>when could i use can  or when can i use could ...</td>\n",
       "    </tr>\n",
       "    <tr>\n",
       "      <th>1</th>\n",
       "      <td>when do i could  can     could</td>\n",
       "    </tr>\n",
       "    <tr>\n",
       "      <th>3</th>\n",
       "      <td>doesn t  quint  mean five   what does that hav...</td>\n",
       "    </tr>\n",
       "    <tr>\n",
       "      <th>4</th>\n",
       "      <td>where does the  quint  in quintessential come ...</td>\n",
       "    </tr>\n",
       "    <tr>\n",
       "      <th>6</th>\n",
       "      <td>which is the correct use of these two words an...</td>\n",
       "    </tr>\n",
       "  </tbody>\n",
       "</table>\n",
       "</div>"
      ],
      "text/plain": [
       "                                                Text\n",
       "0  when could i use can  or when can i use could ...\n",
       "1                  when do i could  can     could   \n",
       "3  doesn t  quint  mean five   what does that hav...\n",
       "4  where does the  quint  in quintessential come ...\n",
       "6  which is the correct use of these two words an..."
      ]
     },
     "execution_count": 228,
     "metadata": {},
     "output_type": "execute_result"
    }
   ],
   "source": [
    "posthistory = pd.read_csv('data/posthistory.csv.gz',compression='gzip',nrows=SAMPLE_SIZE).dropna(subset=['Text'])\n",
    "posthistory[['Text']].head(5)"
   ]
  },
  {
   "cell_type": "code",
   "execution_count": 232,
   "metadata": {
    "collapsed": false
   },
   "outputs": [
    {
     "data": {
      "text/html": [
       "<div>\n",
       "<table border=\"1\" class=\"dataframe\">\n",
       "  <thead>\n",
       "    <tr style=\"text-align: right;\">\n",
       "      <th></th>\n",
       "      <th>Location</th>\n",
       "      <th>AboutMe</th>\n",
       "    </tr>\n",
       "  </thead>\n",
       "  <tbody>\n",
       "    <tr>\n",
       "      <th>0</th>\n",
       "      <td>on the server farm</td>\n",
       "      <td>hi  i m not really a person  i m a background ...</td>\n",
       "    </tr>\n",
       "    <tr>\n",
       "      <th>1</th>\n",
       "      <td>corvallis  or</td>\n",
       "      <td>developer on the stack overflow team   find me...</td>\n",
       "    </tr>\n",
       "    <tr>\n",
       "      <th>2</th>\n",
       "      <td>new york  ny</td>\n",
       "      <td>developer on the stack overflow team  was dubb...</td>\n",
       "    </tr>\n",
       "    <tr>\n",
       "      <th>3</th>\n",
       "      <td>raleigh  nc</td>\n",
       "      <td>i design stuff for stack exchange  also a prof...</td>\n",
       "    </tr>\n",
       "    <tr>\n",
       "      <th>4</th>\n",
       "      <td>california</td>\n",
       "      <td>i slip my front end into the back end  and the...</td>\n",
       "    </tr>\n",
       "  </tbody>\n",
       "</table>\n",
       "</div>"
      ],
      "text/plain": [
       "             Location                                            AboutMe\n",
       "0  on the server farm  hi  i m not really a person  i m a background ...\n",
       "1       corvallis  or  developer on the stack overflow team   find me...\n",
       "2        new york  ny  developer on the stack overflow team  was dubb...\n",
       "3         raleigh  nc  i design stuff for stack exchange  also a prof...\n",
       "4          california  i slip my front end into the back end  and the..."
      ]
     },
     "execution_count": 232,
     "metadata": {},
     "output_type": "execute_result"
    }
   ],
   "source": [
    "users = pd.read_csv('data/users.csv.gz',compression='gzip',nrows=SAMPLE_SIZE).dropna(subset=['AboutMe','Location'])\n",
    "users[['Location','AboutMe']].head(5)"
   ]
  },
  {
   "cell_type": "markdown",
   "metadata": {},
   "source": [
    "## Further cleansing\n",
    "\n",
    "* Remove (html) tags & carriage returns from the Text field\n",
    "* Remove stop words (pick up the nltk stop words)\n",
    "* Use PorterStemmer to stem words"
   ]
  },
  {
   "cell_type": "code",
   "execution_count": 196,
   "metadata": {
    "collapsed": false
   },
   "outputs": [],
   "source": [
    "#global\n",
    "p_stemmer = PorterStemmer()\n",
    "stop_words = stopwords.words('english')\n",
    "stop_words.append('use')\n",
    "#print(stop_words)"
   ]
  },
  {
   "cell_type": "code",
   "execution_count": 215,
   "metadata": {
    "collapsed": false
   },
   "outputs": [],
   "source": [
    "class SentenceTokens():\n",
    "    def __init__(self,df,field):\n",
    "        self.field = field\n",
    "        self.df = df\n",
    "    \n",
    "    def __iter__(self):\n",
    "      for index, row in self.df.iterrows():\n",
    "         raw_sentence = row[self.field]\n",
    "         raw_tokens = filter(None, re.split(\"[ ]+\",raw_sentence))\n",
    "         #stem_tokens = [p_stemmer.stem(tok) for tok in raw_tokens]\n",
    "         yield [tok for tok in raw_tokens if not tok in stop_words and len(tok) > 1 ]\n",
    "\n",
    "#all posts is a list of (list of tokens). The inner list of tokens is created once for each post\n",
    "allposts = SentenceTokens(posts,'Title')\n",
    "\n",
    "#print([p for p in allposts])   \n",
    "    "
   ]
  },
  {
   "cell_type": "code",
   "execution_count": 216,
   "metadata": {
    "collapsed": false
   },
   "outputs": [],
   "source": [
    "#How frequently each term occurs within each document? We construct a document-term matrix.\n",
    "dictionary = corpora.Dictionary(allposts)\n",
    "#print(dictionary.token2id) #maps ids to tokens"
   ]
  },
  {
   "cell_type": "code",
   "execution_count": 217,
   "metadata": {
    "collapsed": false
   },
   "outputs": [
    {
     "name": "stdout",
     "output_type": "stream",
     "text": [
      "[(0, 1)]\n"
     ]
    }
   ],
   "source": [
    "#bag of words\n",
    "corpus = [dictionary.doc2bow(text) for text in allposts]\n",
    "#corpus, is a list of vectors equal to the number of documents. \n",
    "#In each document vector is a series of tuples. \n",
    "print(corpus[0])\n",
    "#(term ID, term frequency) pairs"
   ]
  },
  {
   "cell_type": "code",
   "execution_count": 218,
   "metadata": {
    "collapsed": true
   },
   "outputs": [],
   "source": [
    "ldamodel = gensim.models.ldamodel.LdaModel(corpus, num_topics=10, id2word = dictionary, passes=30)\n",
    "\n",
    "#num_topics: required. An LDA model requires the user to determine how many topics should be generated. \n",
    "#id2word: required. The LdaModel class requires our previous dictionary to map ids to strings.\n",
    "#passes: optional. The number of laps the model will take through corpus."
   ]
  },
  {
   "cell_type": "code",
   "execution_count": 208,
   "metadata": {
    "collapsed": true
   },
   "outputs": [],
   "source": [
    "from __future__ import print_function\n",
    "from ipywidgets import interact, interactive, fixed\n",
    "import ipywidgets as widgets"
   ]
  },
  {
   "cell_type": "code",
   "execution_count": 220,
   "metadata": {
    "collapsed": false
   },
   "outputs": [
    {
     "data": {
      "text/plain": [
       "[(6,\n",
       "  u'0.039*vs + 0.022*come + 0.019*word + 0.012*correct + 0.012*difference + 0.010*used'),\n",
       " (2,\n",
       "  u'0.019*vs + 0.018*word + 0.018*nouns + 0.012*origin + 0.012*phrase + 0.010*proper'),\n",
       " (8,\n",
       "  u'0.021*correct + 0.017*different + 0.014*english + 0.014*sentences + 0.013*words + 0.011*something'),\n",
       " (4,\n",
       "  u'0.045*one + 0.038*word + 0.014*correct + 0.014*would + 0.012*difference + 0.008*english'),\n",
       " (0,\n",
       "  u'0.043*correct + 0.025*instead + 0.021*pronunciation + 0.020*usage + 0.018*word + 0.014*english')]"
      ]
     },
     "metadata": {},
     "output_type": "display_data"
    }
   ],
   "source": [
    "@interact(num_topics=5, num_words=6)\n",
    "def understand(num_topics, num_words):\n",
    "    return ldamodel.print_topics(num_topics, num_words)\n",
    "    \n",
    "#Each generated topic is separated by a comma.\n",
    "#Within each topic are the three most probable words to appear in that topic."
   ]
  },
  {
   "cell_type": "code",
   "execution_count": 222,
   "metadata": {
    "collapsed": false
   },
   "outputs": [
    {
     "data": {
      "text/html": [
       "\n",
       "<link rel=\"stylesheet\" type=\"text/css\" href=\"https://cdn.rawgit.com/bmabey/pyLDAvis/files/ldavis.v1.0.0.css\">\n",
       "\n",
       "\n",
       "<div id=\"ldavis_el163221404346327729447580985179\"></div>\n",
       "<script type=\"text/javascript\">\n",
       "\n",
       "var ldavis_el163221404346327729447580985179_data = {\"plot.opts\": {\"xlab\": \"PC1\", \"ylab\": \"PC2\"}, \"topic.order\": [1, 6, 3, 5, 4, 7, 8, 10, 2, 9], \"token.table\": {\"Topic\": [2, 3, 6, 8, 10, 1, 2, 4, 9, 1, 8, 8, 9, 3, 7, 4, 1, 2, 3, 4, 10, 3, 10, 7, 2, 3, 5, 10, 10, 2, 6, 2, 4, 1, 2, 3, 4, 9, 10, 1, 4, 5, 9, 10, 2, 5, 6, 8, 9, 8, 4, 6, 7, 8, 10, 7, 3, 5, 6, 10, 1, 8, 4, 7, 1, 5, 7, 8, 2, 4, 6, 7, 8, 1, 6, 8, 9, 1, 1, 4, 7, 4, 1, 8, 3, 1, 2, 3, 5, 6, 8, 9, 9, 7, 4, 5, 8, 2, 4, 5, 6, 2, 2, 5, 6, 10, 5, 9, 5, 3, 7, 3, 7, 1, 4, 6, 9, 1, 6, 9, 1, 6, 7, 8, 10, 2, 3, 7, 8, 9, 1, 2, 3, 4, 8, 4, 8, 2, 1, 9, 2, 8, 10, 8, 4, 8, 1, 2, 10, 10, 1, 2, 4, 5, 6, 7, 8, 9, 10, 2, 9, 4, 5, 6, 7, 8, 9, 9, 4, 7, 6, 1, 7, 5, 9, 4, 3, 7, 3, 4, 8, 9, 1, 3, 10, 1, 3, 7, 1, 2, 3, 4, 5, 6, 7, 8, 1, 2, 3, 5, 10, 1, 10, 3, 5, 6, 3, 4, 8, 10, 9, 4, 1, 10, 8, 5, 4, 4, 10, 1, 6, 9, 10, 1, 4, 7, 8, 2, 6, 9, 10, 2, 3, 6, 8, 1, 2, 3, 4, 5, 6, 7, 8, 9, 10, 8, 3, 6, 6, 8, 9, 3, 5, 9, 1, 2, 6, 9, 10, 5, 9, 2, 6, 9, 1, 4, 7, 5, 3, 4, 7, 9, 3, 8, 2, 5, 2, 8, 6, 5, 9, 5, 7, 9, 10, 1, 4, 5, 7, 5, 1, 3, 4, 8, 10, 3, 5, 7, 5, 2, 5, 6, 7, 8, 9, 10, 4, 5, 3, 3, 4, 4, 7, 8, 2, 4, 6, 8, 9, 3, 2, 3, 8, 10, 5, 9, 2, 4, 5, 6, 7, 9, 10, 7, 8, 9, 10, 2, 7, 9, 7, 8, 2, 4, 8, 5, 9, 3, 8, 1, 7, 7, 2, 1, 9, 4, 6, 10, 4, 9, 1, 3, 7, 1, 6, 6, 3, 2, 6, 8, 3, 1, 8, 2, 4, 1, 3, 4, 3, 1, 6, 7, 10, 1, 10, 8, 1, 4, 7, 9, 2, 5, 6, 7, 8, 3, 6, 1, 3, 4, 5, 8, 1, 2, 3, 9, 10, 1, 6, 10, 3, 4, 7, 8, 10, 10, 6, 7, 8, 3, 7, 1, 2, 4, 5, 8, 9, 10, 2, 2, 10, 1, 4, 2, 4, 6, 10, 9, 3, 9, 7, 2, 3, 4, 5, 6, 8, 9, 10, 2, 5, 1, 4, 10, 6, 1, 10, 2, 3, 7, 2, 6, 8, 1, 9, 1, 3, 4, 5, 7, 9, 10, 2, 4, 5, 8, 9, 10, 2, 10, 2, 4, 6, 7, 4, 6, 9, 3, 1, 3, 9, 10, 3, 9, 8, 9, 4, 7, 10, 8, 5, 3, 4, 1, 6, 6, 10, 4, 5, 4, 3, 5, 2, 3, 9, 9, 1, 2, 3, 4, 7, 8, 9, 5, 2, 8, 4, 1, 5, 1, 3, 6, 7, 8, 10, 2, 1, 2, 4, 6, 8, 9, 10, 8, 1, 6, 7, 8, 9, 10, 1, 2, 3, 4, 7, 10, 1, 3, 4, 6, 8, 9, 10, 2, 3, 4, 7, 5, 1, 8, 1, 3, 9, 1, 3, 4, 5, 7, 8, 2, 2, 5, 6, 9, 3, 6, 8, 9, 5, 10, 7, 8, 4, 2, 1, 2, 6, 8, 10, 9, 3, 8, 1, 6, 1, 2, 4, 6, 7, 9, 1, 6, 7, 1, 5, 1, 2, 3, 7, 8, 4, 5, 1, 3, 5, 8, 7, 10, 7, 2, 4, 5, 6, 7, 10, 2, 4, 5, 9, 2, 2, 3, 6, 2, 1, 3, 4, 5, 6, 2, 3, 4, 5, 6, 8, 5, 7, 4, 4, 4, 7, 5, 10, 4, 7, 8, 5, 5, 3, 6, 4, 2, 3, 4, 6, 8, 9, 2, 3, 7, 8, 10, 1, 5, 6, 10, 5, 6, 9, 8, 6, 1, 3, 9, 9, 5, 10, 5, 3, 9, 6, 8, 1, 2, 3, 4, 7, 8, 3, 8, 9, 10, 5, 2, 2, 4, 6, 7, 10, 1, 6, 6, 1, 3, 5, 6, 5, 2, 4, 5, 6, 8, 10, 1, 2, 6, 7, 8, 10, 5, 6, 2, 3, 5, 6, 9, 2, 5, 10, 3, 8, 1, 3, 6, 3, 9, 10, 5, 2, 5, 5, 6, 2, 3, 7, 8, 8, 5, 6, 1, 6, 7, 3, 4, 4, 6, 9, 10, 6, 2, 6, 9, 4, 2, 6, 4, 8, 2, 5, 1, 3, 8, 2, 3, 4, 6, 8, 9, 8, 6, 1, 2, 3, 8, 9, 10, 6, 6, 3, 2, 3, 1, 6, 7, 1, 6, 7, 10, 6, 1, 1, 4, 2, 4, 6, 7, 1, 2, 3, 5, 7, 8, 9, 1, 2, 3, 4, 5, 6, 7, 8, 9, 7, 9, 1, 2, 3, 6, 7, 8, 9, 8, 9, 8, 1, 2, 4, 6, 9, 10, 3, 7, 1, 7, 8, 10, 7, 2, 8, 1, 3, 4, 5, 6, 8, 9, 10, 7, 9, 1, 2, 3, 5, 6, 8, 9, 4, 6, 3, 4, 6, 7, 2, 4, 2, 5, 1, 2, 9, 1, 2, 3, 4, 5, 6, 7, 9, 10, 1, 2, 3, 4, 5, 6, 7, 9, 10, 10, 10, 1, 4, 5, 6, 7, 1, 5, 6, 7, 8, 9, 2, 3, 4, 6, 7, 9, 1, 5, 9, 2, 3, 9, 7], \"Freq\": [0.4593486885530067, 0.4593486885530067, 0.17721597885022533, 0.17721597885022533, 0.70886391540090132, 0.25228213431963409, 0.50456426863926818, 0.12614106715981704, 0.12614106715981704, 0.55730173532315086, 0.27865086766157543, 0.47140176199753253, 0.47348737960395099, 0.92060872078010958, 0.47305054938425889, 0.70430623740527809, 0.11564377247875071, 0.11564377247875071, 0.46257508991500285, 0.23128754495750142, 0.11564377247875071, 0.69147512176751924, 0.23049170725583973, 0.47305054939651076, 0.20064390262360154, 0.20064390262360154, 0.40128780524720309, 0.20064390262360154, 0.47165597040968554, 0.9236482171710535, 0.47209628605802678, 0.35028707834929718, 0.70057415669859435, 0.15564840228340926, 0.15564840228340926, 0.15564840228340926, 0.31129680456681852, 0.15564840228340926, 0.15564840228340926, 0.30187743642786979, 0.10062581214262327, 0.20125162428524654, 0.20125162428524654, 0.10062581214262327, 0.5561762559522907, 0.27808812797614535, 0.70691511349463598, 0.47140194605518571, 0.47348592382798949, 0.47140187399325867, 0.083456724982421224, 0.41728362491210613, 0.083456724982421224, 0.25037017494726366, 0.083456724982421224, 0.47305054939106295, 0.92060872085836798, 0.20265399682240781, 0.40530799364481562, 0.20265399682240781, 0.28163501958250764, 0.56327003916501528, 0.46977214317140936, 0.4730505493978136, 0.69724272777624241, 0.1743106819440606, 0.1743106819440606, 0.47140194605151459, 0.50842416797525147, 0.12710604199381287, 0.12710604199381287, 0.12710604199381287, 0.12710604199381287, 0.12899528189604795, 0.12899528189604795, 0.12899528189604795, 0.51598112758419179, 0.69359009482644796, 0.556730481235165, 0.2783652406175825, 0.47305054939982139, 0.46977209169993145, 0.92620077197777573, 0.47140194605311952, 0.92060872079421396, 0.92620125289291289, 0.13933339433118483, 0.41800018299355446, 0.13933339433118483, 0.13933339433118483, 0.13933339433118483, 0.47348776770490358, 0.4734877364324413, 0.85302495588124905, 0.15737201069847448, 0.15737201069847448, 0.62948804279389792, 0.32324374786573423, 0.32324374786573423, 0.21549583191048949, 0.10774791595524474, 0.92364821718398449, 0.17659493221610931, 0.17659493221610931, 0.17659493221610931, 0.35318986443221861, 0.47215490277364991, 0.7110771962551683, 0.47215490275943495, 0.28199484896070853, 0.56398969792141707, 0.92060872082797973, 0.47305054934466845, 0.92620077196360218, 0.46977213091242531, 0.47209628605759713, 0.70847394544782105, 0.92620005878952805, 0.35477165841689573, 0.35477165841689573, 0.12324694366656329, 0.67785819016609816, 0.12324694366656329, 0.061623471833281644, 0.47165632990869072, 0.16513425336663939, 0.16513425336663939, 0.16513425336663939, 0.16513425336663939, 0.24770138004995906, 0.34668041850860898, 0.086670104627152245, 0.26001031388145673, 0.17334020925430449, 0.086670104627152245, 0.35287473822782378, 0.35287473822782378, 0.92364821719938361, 0.35258751392815946, 0.35258751392815946, 0.92364821715495671, 0.47140194223207987, 0.47165568298536215, 0.47140189222860807, 0.56453771812730413, 0.28226885906365207, 0.39997044882582483, 0.19998522441291242, 0.39997044882582483, 0.47165597041199392, 0.3511360015120859, 0.036324413949526131, 0.096865103865403021, 0.15740579378127989, 0.072648827899052262, 0.048432551932701511, 0.036324413949526131, 0.072648827899052262, 0.13318951781492916, 0.79249609518152475, 0.19812402379538119, 0.094740564168992306, 0.37896225667596922, 0.094740564168992306, 0.18948112833798461, 0.094740564168992306, 0.094740564168992306, 0.70847394544687547, 0.70483429765692818, 0.47305054935858715, 0.47209628606281695, 0.55787595666699941, 0.2789379783334997, 0.70885956482657364, 0.70847394544999776, 0.70430623740465881, 0.92060872086767465, 0.47305055162175441, 0.23380951686188947, 0.46761903372377894, 0.11690475843094474, 0.11690475843094474, 0.92620077204555107, 0.92060872080706568, 0.707903532147096, 0.2011331063346623, 0.2011331063346623, 0.60339931900398691, 0.11582870326646967, 0.03860956775548989, 0.11582870326646967, 0.11582870326646967, 0.11582870326646967, 0.11582870326646967, 0.30887654204391912, 0.096523919388724733, 0.18277117529494202, 0.12184745019662802, 0.12184745019662802, 0.060923725098314008, 0.48738980078651206, 0.9262007719554618, 0.70775482004448009, 0.92060872081832124, 0.47215490276255534, 0.47209620896137833, 0.14089912179064826, 0.42269736537194474, 0.28179824358129651, 0.14089912179064826, 0.47348776774138152, 0.46977209170105683, 0.92620077196478989, 0.47165597041249618, 0.7075871700489994, 0.47215490276698308, 0.46977209170006362, 0.46977209169973511, 0.47165597041094209, 0.92620064990823003, 0.4720962860656468, 0.47348776771690465, 0.47165526021007464, 0.11797638623059352, 0.11797638623059352, 0.58988193115296761, 0.11797638623059352, 0.69501080565032547, 0.17375270141258137, 0.086876350706290684, 0.086876350706290684, 0.21652947577164786, 0.10826473788582393, 0.43305895154329571, 0.21652947577164786, 0.1783545093495319, 0.039634335411007089, 0.099085838527517719, 0.079268670822014178, 0.15853734164402836, 0.039634335411007089, 0.15853734164402836, 0.039634335411007089, 0.05945150311651063, 0.13872017393852482, 0.70758714763598884, 0.92060872083464385, 0.47209628603911352, 0.20298574958041085, 0.20298574958041085, 0.4059714991608217, 0.21685095187423897, 0.43370190374847795, 0.32527642781135846, 0.25542457784048189, 0.12771228892024095, 0.38313686676072284, 0.12771228892024095, 0.12771228892024095, 0.35518041491423386, 0.35518041491423386, 0.35144642601650461, 0.35144642601650461, 0.71111278587282079, 0.40220014508443402, 0.20110007254221701, 0.40220014508443402, 0.47215490275979344, 0.15734276550737353, 0.15734276550737353, 0.15734276550737353, 0.47202829652212053, 0.68888969564141878, 0.47140194605327201, 0.92364900155305263, 0.47215463482937831, 0.92364821715844503, 0.47140194604832697, 0.47209628604661524, 0.28441630245980132, 0.56883260491960264, 0.47215490276923755, 0.47305054939149116, 0.28366416931608485, 0.56732833863216969, 0.12864025228544965, 0.12864025228544965, 0.38592075685634891, 0.12864025228544965, 0.47215490277205441, 0.38121037827073356, 0.12707012609024451, 0.12707012609024451, 0.12707012609024451, 0.12707012609024451, 0.92060872079112377, 0.28417960517573154, 0.56835921035146308, 0.70885978108867709, 0.28168954204547303, 0.21126715653410477, 0.14084477102273651, 0.14084477102273651, 0.070422385511368257, 0.070422385511368257, 0.070422385511368257, 0.23589656846656715, 0.47179313693313429, 0.68889005482301291, 0.6888896956520677, 0.46977209169763451, 0.28374650025651277, 0.56749300051302554, 0.84945339143558163, 0.10856682009246314, 0.32570046027738947, 0.10856682009246314, 0.21713364018492629, 0.10856682009246314, 0.9206087207924567, 0.69171108884650401, 0.172927772211626, 0.172927772211626, 0.47165597040384138, 0.71017846680958641, 0.1775446167023966, 0.16624694604489407, 0.083123473022447034, 0.16624694604489407, 0.083123473022447034, 0.16624694604489407, 0.24937041906734111, 0.94473286653558697, 0.11861772540774007, 0.11861772540774007, 0.59308862703870036, 0.11861772540774007, 0.55648647960737352, 0.27824323980368676, 0.47348776380445823, 0.47305054939430352, 0.70758684480917622, 0.92364821715848466, 0.46977518714891714, 0.47140194604401203, 0.47215490277709166, 0.70847394544730435, 0.7889715913549411, 0.19724289783873528, 0.92620984401919237, 0.71036248776318889, 0.47305054938712721, 0.92364821725431268, 0.92620076845299959, 0.70847394544943476, 0.35372351519148471, 0.35372351519148471, 0.47142378002932933, 0.70639692834941292, 0.23546564278313764, 0.97886136748995611, 0.55483095905494617, 0.27741547952747309, 0.6958377034214972, 0.23194590114049907, 0.70691511349454839, 0.92060872084224843, 0.92364968264634439, 0.47209593987928467, 0.70751776921735354, 0.92060872084655121, 0.92620077193992667, 0.70758717005504557, 0.35015676926071826, 0.35015676926071826, 0.15368976724504341, 0.61475906898017363, 0.15368976724504341, 0.92060872080910938, 0.17691512645369939, 0.17691512645369939, 0.35383025290739878, 0.17691512645369939, 0.28177080216731454, 0.56354160433462908, 0.47140194605139424, 0.17648599473590829, 0.35297198947181657, 0.35297198947181657, 0.70847394544662601, 0.15717122828710309, 0.31434245657420617, 0.15717122828710309, 0.15717122828710309, 0.15717122828710309, 0.35100546082761652, 0.35100546082761652, 0.27883910674596213, 0.27883910674596213, 0.13941955337298106, 0.13941955337298106, 0.13941955337298106, 0.15417001341725853, 0.51390004472419515, 0.10278000894483903, 0.10278000894483903, 0.15417001341725853, 0.31201080881273624, 0.15600540440636812, 0.31201080881273624, 0.92060872080365463, 0.47158915526613016, 0.11789728881653254, 0.11789728881653254, 0.11789728881653254, 0.47165597039644436, 0.15800385533509057, 0.63201542134036226, 0.15800385533509057, 0.92060872080952816, 0.9482302964297058, 0.25582958558320174, 0.12791479279160087, 0.12791479279160087, 0.25582958558320174, 0.12791479279160087, 0.12791479279160087, 0.12791479279160087, 0.9236482234246548, 0.55601031585119465, 0.27800515792559732, 0.39919404912150136, 0.39919404912150136, 0.17632605001091797, 0.17632605001091797, 0.35265210002183595, 0.17632605001091797, 0.70847394544679687, 0.4679475260182529, 0.4679475260182529, 0.88946507354010129, 0.12258185942741828, 0.12258185942741828, 0.08172123961827886, 0.38817588818682458, 0.04086061980913943, 0.10215154952284858, 0.14301216933198801, 0.020430309904569715, 0.92907350932068844, 0.032037017562782356, 0.15683973604565829, 0.15683973604565829, 0.62735894418263316, 0.70691511349540936, 0.9262007719670492, 0.47165597040984242, 0.69144367685789609, 0.17692935548638983, 0.70771742194555931, 0.92364821717737977, 0.47210075650632716, 0.47140194605777413, 0.92620077195049322, 0.71111373381682152, 0.83154642857333416, 0.067599994933025861, 0.067599994933025861, 0.20279998479907757, 0.40559996959815514, 0.20279998479907757, 0.067599994933025861, 0.40068140497826249, 0.10017035124456562, 0.10017035124456562, 0.20034070248913124, 0.10017035124456562, 0.10017035124456562, 0.92364821714163503, 0.94473255684811763, 0.34993761539044033, 0.17496880769522016, 0.17496880769522016, 0.17496880769522016, 0.46977213031083587, 0.94583737245376953, 0.70847394544833586, 0.6888896956563777, 0.42757906249322364, 0.21378953124661182, 0.10689476562330591, 0.10689476562330591, 0.75997652101303603, 0.20726632391264621, 0.56705263771492198, 0.28352631885746099, 0.25751129937046624, 0.12875564968523312, 0.51502259874093248, 0.7073334730592481, 0.47215490277051325, 0.2338006845624491, 0.70140205368734732, 0.55754024511982148, 0.27877012255991074, 0.47149857163723063, 0.4716559704110958, 0.91534111710398747, 0.038139213212666147, 0.46977209170037448, 0.92060872088741963, 0.47215490275617722, 0.34929842174658071, 0.17464921087329036, 0.34929842174658071, 0.47348776773336632, 0.17355851934819239, 0.17355851934819239, 0.34711703869638477, 0.043389629837048097, 0.043389629837048097, 0.1301688895111443, 0.086779259674096193, 0.47215490277667577, 0.46480837286950016, 0.23240418643475008, 0.70430623740523979, 0.92620063058955859, 0.47215490276915317, 0.26334068861757121, 0.087780229539190402, 0.1755604590783808, 0.087780229539190402, 0.26334068861757121, 0.087780229539190402, 0.69144367689311614, 0.078462588018326021, 0.15692517603665204, 0.15692517603665204, 0.078462588018326021, 0.078462588018326021, 0.31385035207330408, 0.078462588018326021, 0.70758717004779859, 0.11825687084477728, 0.11825687084477728, 0.11825687084477728, 0.11825687084477728, 0.4730274833791091, 0.11825687084477728, 0.1165320366934566, 0.1165320366934566, 0.23306407338691321, 0.1165320366934566, 0.23306407338691321, 0.1165320366934566, 0.12226296020069725, 0.21396018035122019, 0.061131480100348627, 0.030565740050174314, 0.030565740050174314, 0.36678888060209175, 0.15282870025087156, 0.52105358783747902, 0.17368452927915967, 0.17368452927915967, 0.17368452927915967, 0.47215490276143152, 0.9262007719651103, 0.47140194605088737, 0.23413805857269848, 0.23413805857269848, 0.46827611714539696, 0.20805899822046825, 0.15604424866535119, 0.10402949911023412, 0.57216224510628766, 0.47305050933984361, 0.84945363298720711, 0.92364821712965484, 0.20190918204964214, 0.40381836409928429, 0.20190918204964214, 0.20190918204964214, 0.12864451550379308, 0.64322257751896539, 0.12864451550379308, 0.12864451550379308, 0.47274172920971452, 0.23637086460485726, 0.47305054938276137, 0.47140194604657099, 0.46977204005009177, 0.82880542222952114, 0.14100049392517885, 0.14100049392517885, 0.28200098785035771, 0.14100049392517885, 0.28200098785035771, 0.70847394545021414, 0.92060872080570832, 0.47140200548582051, 0.40113155675888373, 0.40113155675888373, 0.18745554062268435, 0.18745554062268435, 0.093727770311342176, 0.093727770311342176, 0.28118331093402654, 0.093727770311342176, 0.72155641206050769, 0.20615897487443077, 0.051539743718607693, 0.69359110469645402, 0.47215483421468463, 0.13995776210288977, 0.046652587367629922, 0.27991552420577953, 0.46652587367629916, 0.046652587367629922, 0.46977209170315165, 0.47215490277436734, 0.31045854345064483, 0.31045854345064483, 0.15522927172532242, 0.31045854345064483, 0.71037375383035217, 0.4716559704055861, 0.94823210269480152, 0.44573319175981496, 0.063676170251402139, 0.25470468100560856, 0.063676170251402139, 0.12735234050280428, 0.063676170251402139, 0.31349566254928879, 0.15674783127464439, 0.15674783127464439, 0.47024349382393321, 0.92393851303101682, 0.69144367688804764, 0.9206087208251772, 0.47209628605813408, 0.92366155663873606, 0.50615724076284807, 0.12653931019071202, 0.12653931019071202, 0.12653931019071202, 0.706915113495033, 0.10792164857329464, 0.21584329714658929, 0.10792164857329464, 0.10792164857329464, 0.43168659429317857, 0.10792164857329464, 0.47215490277495908, 0.47305054938890634, 0.46977209170035961, 0.70483355670768333, 0.56512656237664272, 0.28256328118832136, 0.2025323023367642, 0.81012920934705679, 0.46977209170049083, 0.47305021673106756, 0.47140194605052599, 0.47215490277911376, 0.47215490276761601, 0.92060872080664713, 0.47209628606526788, 0.70430623740378084, 0.12681019470669064, 0.38043058412007191, 0.12681019470669064, 0.25362038941338128, 0.12681019470669064, 0.47347371193409032, 0.2546789208304634, 0.2546789208304634, 0.1273394604152317, 0.2546789208304634, 0.1273394604152317, 0.28222642310408375, 0.14111321155204187, 0.42333963465612562, 0.14111321155204187, 0.20323673002230766, 0.20323673002230766, 0.60971019006692306, 0.70758717005507066, 0.47209628605674853, 0.38727690410798893, 0.096819226026997232, 0.48409613013498615, 0.70847394544887499, 0.47215490277489958, 0.47165597038899915, 0.47215490275685479, 0.92060872078819111, 0.70847394544722442, 0.35418454291935669, 0.35418454291935669, 0.072090392018138494, 0.43254235210883096, 0.072090392018138494, 0.048060261345425667, 0.14418078403627699, 0.19224104538170267, 0.088469016450269555, 0.17693803290053911, 0.088469016450269555, 0.61928311515188683, 0.47215490277691735, 0.69144367687573027, 0.2018139473288279, 0.2018139473288279, 0.2018139473288279, 0.40362789465765581, 0.47165597040446994, 0.92620077195847239, 0.85095715707750519, 0.47209628605723508, 0.28057332772312094, 0.14028666386156047, 0.35071665965390114, 0.2104299957923407, 0.4721542492062803, 0.25523416204444743, 0.25523416204444743, 0.12761708102222372, 0.12761708102222372, 0.12761708102222372, 0.12761708102222372, 0.073966628738977289, 0.29586651495590915, 0.073966628738977289, 0.073966628738977289, 0.073966628738977289, 0.4437997724338637, 0.35439685889219513, 0.35439685889219513, 0.31067606406759035, 0.15533803203379518, 0.15533803203379518, 0.31067606406759035, 0.711110018409852, 0.25625121719520072, 0.12812560859760036, 0.64062804298800169, 0.55426292773732655, 0.27713146386866327, 0.69267449204325215, 0.13853489840865044, 0.13853489840865044, 0.92060872090414514, 0.47348180885813018, 0.4716559703848221, 0.85108412539414768, 0.55617623216292311, 0.27808811608146156, 0.70885978110495063, 0.47209628606106369, 0.55585729022856356, 0.092642881704760593, 0.18528576340952119, 0.092642881704760593, 0.84945334407995354, 0.81102717611174413, 0.20275679402793603, 0.92620077196303408, 0.28416902437253078, 0.56833804874506155, 0.28024598007137658, 0.56049196014275315, 0.14182912395828395, 0.14182912395828395, 0.14182912395828395, 0.28365824791656791, 0.70691511349637137, 0.35144626141300278, 0.35144626141300278, 0.47348776770255757, 0.7043062374054343, 0.92364821716106249, 0.70691511349515523, 0.46977214072819229, 0.47140194605423341, 0.55617623594310717, 0.27808811797155358, 0.41837901098115665, 0.13945967032705223, 0.27891934065410445, 0.17536068179790787, 0.17536068179790787, 0.17536068179790787, 0.2630410226968618, 0.087680340898953935, 0.087680340898953935, 0.47140194605393021, 0.47209630348200343, 0.29396722393720376, 0.14698361196860188, 0.14698361196860188, 0.22047541795290285, 0.07349180598430094, 0.14698361196860188, 0.47209628604300929, 0.70876069161285515, 0.92060872078678235, 0.92364821715443612, 0.92060872083801815, 0.92620077196566641, 0.70691511349460245, 0.47305054936284846, 0.3514993996601023, 0.11716646655336743, 0.11716646655336743, 0.3514993996601023, 0.70691511349503622, 0.92620060288763895, 0.92620077206704243, 0.46977220795570751, 0.31329744239858387, 0.15664872119929193, 0.15664872119929193, 0.46994616359787578, 0.52915054627352909, 0.037796467590966359, 0.037796467590966359, 0.15118587036386544, 0.15118587036386544, 0.037796467590966359, 0.075592935181932719, 0.21588575841047672, 0.080957159403928766, 0.10794287920523836, 0.05397143960261918, 0.18890003860916713, 0.13492859900654794, 0.05397143960261918, 0.02698571980130959, 0.13492859900654794, 0.2372220221525822, 0.4744440443051644, 0.2590521179979039, 0.20724169439832313, 0.051810423599580782, 0.051810423599580782, 0.10362084719916156, 0.15543127079874233, 0.15543127079874233, 0.35496714564602261, 0.35496714564602261, 0.47140194604914609, 0.40044645807326057, 0.10011161451831514, 0.050055807259157571, 0.050055807259157571, 0.20022322903663028, 0.25027903629578785, 0.78502033681741346, 0.85302483270084206, 0.29030086834939417, 0.45618707883476228, 0.16588621048536811, 0.082943105242684056, 0.85302483270660845, 0.69573876106302623, 0.23191292035434208, 0.10728635875418008, 0.16092953813127012, 0.01341079484427251, 0.10728635875418008, 0.26821589688545017, 0.16092953813127012, 0.093875563909907561, 0.080464769065635058, 0.35543354815702627, 0.35543354815702627, 0.2676860727270749, 0.066921518181768724, 0.066921518181768724, 0.20076455454530617, 0.066921518181768724, 0.066921518181768724, 0.2676860727270749, 0.35306909750708915, 0.35306909750708915, 0.23466310216622144, 0.23466310216622144, 0.46932620433244288, 0.47305054940329899, 0.35015674997256968, 0.35015674997256968, 0.69144367686279562, 0.47215191209265478, 0.2316321544753833, 0.46326430895076659, 0.2316321544753833, 0.14867780004610576, 0.12389816670508813, 0.13628798337559694, 0.26018615008068507, 0.037169450011526439, 0.12389816670508813, 0.061949083352544065, 0.049559266682035252, 0.074338900023052878, 0.16482312010880484, 0.13735260009067068, 0.10988208007253655, 0.10988208007253655, 0.10988208007253655, 0.082411560054402422, 0.082411560054402422, 0.027470520018134138, 0.16482312010880484, 0.47165602262526957, 0.85000298053394596, 0.05663626793952016, 0.39645387557664108, 0.05663626793952016, 0.05663626793952016, 0.33981760763712093, 0.12900053882498524, 0.12900053882498524, 0.12900053882498524, 0.12900053882498524, 0.12900053882498524, 0.38700161647495573, 0.15658504175425716, 0.15658504175425716, 0.15658504175425716, 0.15658504175425716, 0.31317008350851433, 0.15658504175425716, 0.38350041189421519, 0.38350041189421519, 0.12783347063140507, 0.61487746100880569, 0.30743873050440285, 0.15371936525220142, 0.47305053940543673], \"Term\": [\"abbreviations\", \"abbreviations\", \"accent\", \"accent\", \"accent\", \"acceptable\", \"acceptable\", \"acceptable\", \"acceptable\", \"accepted\", \"accepted\", \"accident\", \"accounts\", \"acting\", \"added\", \"addressed\", \"adjective\", \"adjective\", \"adjective\", \"adjective\", \"adjective\", \"adjectives\", \"adjectives\", \"admire\", \"adverb\", \"adverb\", \"adverb\", \"adverb\", \"albert\", \"along\", \"already\", \"alternative\", \"alternative\", \"always\", \"always\", \"always\", \"always\", \"always\", \"always\", \"american\", \"american\", \"american\", \"american\", \"american\", \"answering\", \"answering\", \"appalachian\", \"apples\", \"applicant\", \"apply\", \"appropriate\", \"appropriate\", \"appropriate\", \"appropriate\", \"appropriate\", \"arrived\", \"arse\", \"articles\", \"articles\", \"articles\", \"ask\", \"ask\", \"ate\", \"backseat\", \"bad\", \"bad\", \"bad\", \"bananas\", \"become\", \"become\", \"become\", \"become\", \"become\", \"best\", \"best\", \"best\", \"best\", \"beyond\", \"big\", \"big\", \"blocked\", \"body\", \"borrow\", \"bourbon\", \"box\", \"bring\", \"british\", \"british\", \"british\", \"british\", \"british\", \"built\", \"bus\", \"bye\", \"call\", \"call\", \"call\", \"called\", \"called\", \"called\", \"called\", \"came\", \"capitalized\", \"capitalized\", \"capitalized\", \"capitalized\", \"care\", \"case\", \"categories\", \"century\", \"century\", \"chainsaw\", \"check\", \"checked\", \"cheeseburger\", \"chinese\", \"chuck\", \"clear\", \"colons\", \"colons\", \"come\", \"come\", \"come\", \"come\", \"coming\", \"comma\", \"comma\", \"comma\", \"comma\", \"comma\", \"common\", \"common\", \"common\", \"common\", \"common\", \"company\", \"company\", \"comparative\", \"compared\", \"compared\", \"complimentary\", \"conditional\", \"confusion\", \"connection\", \"consonant\", \"consonant\", \"context\", \"context\", \"context\", \"continuous\", \"correct\", \"correct\", \"correct\", \"correct\", \"correct\", \"correct\", \"correct\", \"correct\", \"correct\", \"correctly\", \"correctly\", \"could\", \"could\", \"could\", \"could\", \"could\", \"could\", \"counts\", \"couple\", \"currently\", \"darkly\", \"deal\", \"deal\", \"definition\", \"demand\", \"department\", \"deployed\", \"derivative\", \"describe\", \"describe\", \"describe\", \"describe\", \"despite\", \"determiner\", \"dialect\", \"differ\", \"differ\", \"differ\", \"difference\", \"difference\", \"difference\", \"difference\", \"difference\", \"difference\", \"difference\", \"difference\", \"different\", \"different\", \"different\", \"different\", \"different\", \"dinner\", \"direct\", \"discuss\", \"discussed\", \"dog\", \"double\", \"double\", \"double\", \"double\", \"drink\", \"drinking\", \"drupal\", \"dv\", \"early\", \"easily\", \"eating\", \"educated\", \"effort\", \"either\", \"elizabethan\", \"ellipses\", \"else\", \"email\", \"email\", \"email\", \"email\", \"end\", \"end\", \"end\", \"end\", \"ending\", \"ending\", \"ending\", \"ending\", \"english\", \"english\", \"english\", \"english\", \"english\", \"english\", \"english\", \"english\", \"english\", \"english\", \"enough\", \"equipped\", \"especially\", \"etc\", \"etc\", \"etc\", \"etymology\", \"etymology\", \"etymology\", \"ever\", \"ever\", \"ever\", \"ever\", \"ever\", \"examples\", \"examples\", \"exclamation\", \"exclamation\", \"explain\", \"express\", \"express\", \"express\", \"expressing\", \"expression\", \"expression\", \"expression\", \"expression\", \"fall\", \"famous\", \"far\", \"fast\", \"feedback\", \"fell\", \"fewer\", \"file\", \"file\", \"filename\", \"fill\", \"fine\", \"fine\", \"first\", \"first\", \"first\", \"first\", \"flexible\", \"following\", \"following\", \"following\", \"following\", \"following\", \"force\", \"foreign\", \"foreign\", \"forgot\", \"form\", \"form\", \"form\", \"form\", \"form\", \"form\", \"form\", \"formal\", \"formal\", \"four\", \"fragments\", \"frequently\", \"friend\", \"friend\", \"friends\", \"get\", \"get\", \"get\", \"get\", \"get\", \"gins\", \"go\", \"go\", \"go\", \"gobble\", \"going\", \"going\", \"good\", \"good\", \"good\", \"good\", \"good\", \"good\", \"grammatical\", \"grammatically\", \"grammatically\", \"grammatically\", \"grammatically\", \"great\", \"great\", \"group\", \"half\", \"hand\", \"happened\", \"hat\", \"head\", \"high\", \"higher\", \"home\", \"home\", \"hopefully\", \"hour\", \"humanitarian\", \"improper\", \"include\", \"increase\", \"indefinite\", \"indefinite\", \"indirect\", \"infinitive\", \"infinitive\", \"instead\", \"interesting\", \"interesting\", \"internet\", \"internet\", \"island\", \"italicize\", \"item\", \"items\", \"jive\", \"keen\", \"kids\", \"kill\", \"kind\", \"kind\", \"know\", \"know\", \"know\", \"knowledge\", \"language\", \"language\", \"language\", \"language\", \"languages\", \"languages\", \"large\", \"last\", \"last\", \"last\", \"lead\", \"less\", \"less\", \"less\", \"less\", \"less\", \"let\", \"let\", \"letter\", \"letter\", \"letter\", \"letter\", \"letter\", \"like\", \"like\", \"like\", \"like\", \"like\", \"line\", \"line\", \"line\", \"linguistic\", \"list\", \"list\", \"list\", \"list\", \"log\", \"long\", \"long\", \"long\", \"lost\", \"mail\", \"make\", \"make\", \"make\", \"make\", \"make\", \"make\", \"make\", \"making\", \"man\", \"man\", \"many\", \"many\", \"mark\", \"mark\", \"mark\", \"mark\", \"mass\", \"matter\", \"matter\", \"may\", \"mean\", \"mean\", \"mean\", \"mean\", \"mean\", \"mean\", \"mean\", \"mean\", \"meaning\", \"meaning\", \"meanings\", \"meanings\", \"meanings\", \"mentioned\", \"merely\", \"michael\", \"middle\", \"might\", \"might\", \"mind\", \"missing\", \"mockingbird\", \"months\", \"must\", \"na\", \"name\", \"name\", \"name\", \"name\", \"name\", \"name\", \"names\", \"names\", \"names\", \"names\", \"names\", \"names\", \"nay\", \"neither\", \"new\", \"new\", \"new\", \"new\", \"night\", \"none\", \"norris\", \"nothing\", \"noun\", \"noun\", \"noun\", \"noun\", \"nouns\", \"nouns\", \"numbers\", \"numbers\", \"object\", \"object\", \"object\", \"objects\", \"offer\", \"often\", \"often\", \"ok\", \"ok\", \"okay\", \"old\", \"one\", \"one\", \"open\", \"orange\", \"orbit\", \"order\", \"order\", \"order\", \"ordered\", \"origin\", \"origin\", \"origin\", \"origin\", \"origin\", \"origin\", \"origin\", \"overflow\", \"part\", \"part\", \"partial\", \"participle\", \"password\", \"past\", \"past\", \"past\", \"past\", \"past\", \"past\", \"pay\", \"people\", \"people\", \"people\", \"people\", \"people\", \"people\", \"people\", \"per\", \"period\", \"period\", \"period\", \"period\", \"period\", \"period\", \"person\", \"person\", \"person\", \"person\", \"person\", \"person\", \"phrase\", \"phrase\", \"phrase\", \"phrase\", \"phrase\", \"phrase\", \"phrase\", \"phrases\", \"phrases\", \"phrases\", \"phrases\", \"pissed\", \"planet\", \"playing\", \"please\", \"please\", \"please\", \"plural\", \"plural\", \"plural\", \"plural\", \"plurals\", \"politely\", \"population\", \"position\", \"position\", \"position\", \"position\", \"possessive\", \"possessive\", \"possessive\", \"possessive\", \"possible\", \"possible\", \"prefer\", \"preferred\", \"prefixed\", \"prepositions\", \"present\", \"present\", \"present\", \"present\", \"present\", \"price\", \"print\", \"progressive\", \"pronoun\", \"pronoun\", \"pronounce\", \"pronounce\", \"pronounce\", \"pronounce\", \"pronounce\", \"pronounce\", \"pronunciation\", \"pronunciation\", \"pronunciation\", \"pronunciations\", \"proof\", \"proper\", \"proper\", \"proper\", \"proper\", \"proper\", \"prose\", \"province\", \"punctuation\", \"punctuation\", \"punctuation\", \"punctuation\", \"purpose\", \"purposes\", \"put\", \"question\", \"question\", \"question\", \"question\", \"question\", \"question\", \"questions\", \"questions\", \"questions\", \"questions\", \"quite\", \"quotes\", \"rag\", \"rates\", \"rather\", \"really\", \"really\", \"really\", \"really\", \"reasonably\", \"refer\", \"refer\", \"refer\", \"refer\", \"refer\", \"refer\", \"reflected\", \"refrigerator\", \"refurbished\", \"regarding\", \"regards\", \"regards\", \"related\", \"related\", \"relationship\", \"remember\", \"requests\", \"reserved\", \"retarded\", \"retrieves\", \"rich\", \"richer\", \"right\", \"right\", \"right\", \"right\", \"right\", \"roots\", \"rule\", \"rule\", \"rule\", \"rule\", \"rule\", \"rules\", \"rules\", \"rules\", \"rules\", \"said\", \"said\", \"said\", \"salad\", \"santa\", \"say\", \"say\", \"say\", \"scarce\", \"schema\", \"scratch\", \"sea\", \"seconds\", \"sell\", \"semi\", \"semi\", \"sentence\", \"sentence\", \"sentence\", \"sentence\", \"sentence\", \"sentence\", \"sentences\", \"sentences\", \"sentences\", \"sentences\", \"server\", \"set\", \"shall\", \"shall\", \"shall\", \"shall\", \"sighted\", \"similes\", \"simple\", \"simplified\", \"singular\", \"singular\", \"singular\", \"singular\", \"sites\", \"someone\", \"someone\", \"someone\", \"someone\", \"someone\", \"someone\", \"something\", \"something\", \"something\", \"something\", \"something\", \"something\", \"sometimes\", \"sometimes\", \"sound\", \"sound\", \"sound\", \"sound\", \"spaghetti\", \"speak\", \"speak\", \"speak\", \"special\", \"special\", \"spelling\", \"spelling\", \"spelling\", \"splice\", \"split\", \"sqa\", \"sql\", \"square\", \"square\", \"stack\", \"standing\", \"start\", \"start\", \"start\", \"start\", \"started\", \"state\", \"state\", \"stop\", \"stories\", \"stories\", \"stuff\", \"stuff\", \"subject\", \"subject\", \"subject\", \"subject\", \"suffice\", \"superlative\", \"superlative\", \"sure\", \"surroundings\", \"talk\", \"tangier\", \"tasks\", \"tater\", \"tax\", \"tax\", \"tense\", \"tense\", \"tense\", \"term\", \"term\", \"term\", \"term\", \"term\", \"term\", \"testing\", \"three\", \"time\", \"time\", \"time\", \"time\", \"time\", \"time\", \"times\", \"together\", \"tonics\", \"took\", \"topics\", \"toy\", \"truly\", \"turn\", \"two\", \"two\", \"two\", \"two\", \"unchanged\", \"uncommon\", \"uniform\", \"url\", \"us\", \"us\", \"us\", \"us\", \"usage\", \"usage\", \"usage\", \"usage\", \"usage\", \"usage\", \"usage\", \"used\", \"used\", \"used\", \"used\", \"used\", \"used\", \"used\", \"used\", \"used\", \"user\", \"user\", \"using\", \"using\", \"using\", \"using\", \"using\", \"using\", \"using\", \"various\", \"various\", \"vehicle\", \"verb\", \"verb\", \"verb\", \"verb\", \"verb\", \"verb\", \"verbs\", \"versa\", \"versus\", \"versus\", \"versus\", \"versus\", \"vice\", \"vowel\", \"vowel\", \"vs\", \"vs\", \"vs\", \"vs\", \"vs\", \"vs\", \"vs\", \"vs\", \"wanted\", \"wanted\", \"way\", \"way\", \"way\", \"way\", \"way\", \"way\", \"way\", \"ways\", \"ways\", \"web\", \"web\", \"web\", \"weekend\", \"welcome\", \"welcome\", \"went\", \"whose\", \"without\", \"without\", \"without\", \"word\", \"word\", \"word\", \"word\", \"word\", \"word\", \"word\", \"word\", \"word\", \"words\", \"words\", \"words\", \"words\", \"words\", \"words\", \"words\", \"words\", \"words\", \"works\", \"worth\", \"would\", \"would\", \"would\", \"would\", \"would\", \"write\", \"write\", \"write\", \"write\", \"write\", \"write\", \"writing\", \"writing\", \"writing\", \"writing\", \"writing\", \"writing\", \"written\", \"written\", \"written\", \"wrong\", \"wrong\", \"wrong\", \"zero\"]}, \"mdsDat\": {\"y\": [0.080274273307654784, -0.095680564780572797, -0.049113226515022798, 0.044140988360010625, -0.044030331817438748, 0.0057524808395455459, 0.15814413995220106, -0.0010627965081390083, -0.069061612180012, -0.029363350658226324], \"cluster\": [1, 1, 1, 1, 1, 1, 1, 1, 1, 1], \"Freq\": [11.9654641362809, 11.956726217272363, 11.051634566915777, 9.7148855008511443, 9.5220604581812349, 9.2796303237711424, 9.2778056092893753, 9.2161120675194539, 9.1199109882033227, 8.8957701317152882], \"topics\": [1, 2, 3, 4, 5, 6, 7, 8, 9, 10], \"x\": [-0.11688507291409007, 0.16672197801633593, -0.021000812445843248, 0.045403553746129574, -0.047110134215562538, -0.02174387356366253, 0.08821264741603993, 0.022498844662049426, -0.075941510922742719, -0.040155619778653749]}, \"R\": 30, \"lambda.step\": 0.01, \"tinfo\": {\"Category\": [\"Default\", \"Default\", \"Default\", \"Default\", \"Default\", \"Default\", \"Default\", \"Default\", \"Default\", \"Default\", \"Default\", \"Default\", \"Default\", \"Default\", \"Default\", \"Default\", \"Default\", \"Default\", \"Default\", \"Default\", \"Default\", \"Default\", \"Default\", \"Default\", \"Default\", \"Default\", \"Default\", \"Default\", \"Default\", \"Default\", \"Topic1\", \"Topic1\", \"Topic1\", \"Topic1\", \"Topic1\", \"Topic1\", \"Topic1\", \"Topic1\", \"Topic1\", \"Topic1\", \"Topic1\", \"Topic1\", \"Topic1\", \"Topic1\", \"Topic1\", \"Topic1\", \"Topic1\", \"Topic1\", \"Topic1\", \"Topic1\", \"Topic1\", \"Topic1\", \"Topic1\", \"Topic1\", \"Topic1\", \"Topic1\", \"Topic1\", \"Topic1\", \"Topic1\", \"Topic1\", \"Topic1\", \"Topic1\", \"Topic1\", \"Topic1\", \"Topic1\", \"Topic1\", \"Topic1\", \"Topic1\", \"Topic1\", \"Topic1\", \"Topic1\", \"Topic1\", \"Topic1\", \"Topic1\", \"Topic1\", \"Topic1\", \"Topic1\", \"Topic1\", \"Topic1\", \"Topic1\", \"Topic1\", \"Topic1\", \"Topic1\", \"Topic1\", \"Topic1\", \"Topic1\", \"Topic1\", \"Topic1\", \"Topic2\", \"Topic2\", \"Topic2\", \"Topic2\", \"Topic2\", \"Topic2\", \"Topic2\", \"Topic2\", \"Topic2\", \"Topic2\", \"Topic2\", \"Topic2\", \"Topic2\", \"Topic2\", \"Topic2\", \"Topic2\", \"Topic2\", \"Topic2\", \"Topic2\", \"Topic2\", \"Topic2\", \"Topic2\", \"Topic2\", \"Topic2\", \"Topic2\", \"Topic2\", \"Topic2\", \"Topic2\", \"Topic2\", \"Topic2\", \"Topic2\", \"Topic2\", \"Topic2\", \"Topic2\", \"Topic2\", \"Topic2\", \"Topic2\", \"Topic2\", \"Topic2\", \"Topic2\", \"Topic2\", \"Topic2\", \"Topic2\", \"Topic2\", \"Topic2\", \"Topic2\", \"Topic2\", \"Topic2\", \"Topic2\", \"Topic2\", \"Topic2\", \"Topic2\", \"Topic2\", \"Topic2\", \"Topic2\", \"Topic2\", \"Topic2\", \"Topic2\", \"Topic2\", \"Topic3\", \"Topic3\", \"Topic3\", \"Topic3\", \"Topic3\", \"Topic3\", \"Topic3\", \"Topic3\", \"Topic3\", \"Topic3\", \"Topic3\", \"Topic3\", \"Topic3\", \"Topic3\", \"Topic3\", \"Topic3\", \"Topic3\", \"Topic3\", \"Topic3\", \"Topic3\", \"Topic3\", \"Topic3\", \"Topic3\", \"Topic3\", \"Topic3\", \"Topic3\", \"Topic3\", \"Topic3\", \"Topic3\", \"Topic3\", \"Topic3\", \"Topic3\", \"Topic3\", \"Topic3\", \"Topic3\", \"Topic3\", \"Topic3\", \"Topic3\", \"Topic3\", \"Topic3\", \"Topic3\", \"Topic3\", \"Topic3\", \"Topic3\", \"Topic3\", \"Topic3\", \"Topic3\", \"Topic3\", \"Topic3\", \"Topic3\", \"Topic3\", \"Topic3\", \"Topic3\", \"Topic3\", \"Topic3\", \"Topic3\", \"Topic3\", \"Topic3\", \"Topic4\", \"Topic4\", \"Topic4\", \"Topic4\", \"Topic4\", \"Topic4\", \"Topic4\", \"Topic4\", \"Topic4\", \"Topic4\", \"Topic4\", \"Topic4\", \"Topic4\", \"Topic4\", \"Topic4\", \"Topic4\", \"Topic4\", \"Topic4\", \"Topic4\", \"Topic4\", \"Topic4\", \"Topic4\", \"Topic4\", \"Topic4\", \"Topic4\", \"Topic4\", \"Topic4\", \"Topic4\", \"Topic4\", \"Topic4\", \"Topic4\", \"Topic4\", \"Topic4\", \"Topic4\", \"Topic4\", \"Topic4\", \"Topic4\", \"Topic4\", \"Topic4\", \"Topic4\", \"Topic4\", \"Topic4\", \"Topic4\", \"Topic4\", \"Topic4\", \"Topic4\", \"Topic4\", \"Topic4\", \"Topic4\", \"Topic4\", \"Topic4\", \"Topic4\", \"Topic4\", \"Topic4\", \"Topic4\", \"Topic4\", \"Topic4\", \"Topic4\", \"Topic5\", \"Topic5\", \"Topic5\", \"Topic5\", \"Topic5\", \"Topic5\", \"Topic5\", \"Topic5\", \"Topic5\", \"Topic5\", \"Topic5\", \"Topic5\", \"Topic5\", \"Topic5\", \"Topic5\", \"Topic5\", \"Topic5\", \"Topic5\", \"Topic5\", \"Topic5\", \"Topic5\", \"Topic5\", \"Topic5\", \"Topic5\", \"Topic5\", \"Topic5\", \"Topic5\", \"Topic5\", \"Topic5\", \"Topic5\", \"Topic5\", \"Topic5\", \"Topic5\", \"Topic5\", \"Topic5\", \"Topic5\", \"Topic5\", \"Topic5\", \"Topic5\", \"Topic5\", \"Topic5\", \"Topic5\", \"Topic5\", \"Topic5\", \"Topic5\", \"Topic5\", \"Topic5\", \"Topic5\", \"Topic5\", \"Topic5\", \"Topic5\", \"Topic5\", \"Topic5\", \"Topic5\", \"Topic5\", \"Topic5\", \"Topic6\", \"Topic6\", \"Topic6\", \"Topic6\", \"Topic6\", \"Topic6\", \"Topic6\", \"Topic6\", \"Topic6\", \"Topic6\", \"Topic6\", \"Topic6\", \"Topic6\", \"Topic6\", \"Topic6\", \"Topic6\", \"Topic6\", \"Topic6\", \"Topic6\", \"Topic6\", \"Topic6\", \"Topic6\", \"Topic6\", \"Topic6\", \"Topic6\", \"Topic6\", \"Topic6\", \"Topic6\", \"Topic6\", \"Topic6\", \"Topic6\", \"Topic6\", \"Topic6\", \"Topic6\", \"Topic6\", \"Topic6\", \"Topic6\", \"Topic6\", \"Topic6\", \"Topic6\", \"Topic6\", \"Topic6\", \"Topic6\", \"Topic6\", \"Topic6\", \"Topic6\", \"Topic6\", \"Topic6\", \"Topic6\", \"Topic6\", \"Topic6\", \"Topic6\", \"Topic6\", \"Topic6\", \"Topic6\", \"Topic6\", \"Topic6\", \"Topic6\", \"Topic6\", \"Topic6\", \"Topic6\", \"Topic6\", \"Topic7\", \"Topic7\", \"Topic7\", \"Topic7\", \"Topic7\", \"Topic7\", \"Topic7\", \"Topic7\", \"Topic7\", \"Topic7\", \"Topic7\", \"Topic7\", \"Topic7\", \"Topic7\", \"Topic7\", \"Topic7\", \"Topic7\", \"Topic7\", \"Topic7\", \"Topic7\", \"Topic7\", \"Topic7\", \"Topic7\", \"Topic7\", \"Topic7\", \"Topic7\", \"Topic7\", \"Topic7\", \"Topic7\", \"Topic7\", \"Topic7\", \"Topic7\", \"Topic7\", \"Topic7\", \"Topic7\", \"Topic7\", \"Topic7\", \"Topic7\", \"Topic7\", \"Topic7\", \"Topic7\", \"Topic7\", \"Topic7\", \"Topic7\", \"Topic7\", \"Topic7\", \"Topic7\", \"Topic7\", \"Topic7\", \"Topic7\", \"Topic7\", \"Topic7\", \"Topic7\", \"Topic7\", \"Topic7\", \"Topic7\", \"Topic7\", \"Topic8\", \"Topic8\", \"Topic8\", \"Topic8\", \"Topic8\", \"Topic8\", \"Topic8\", \"Topic8\", \"Topic8\", \"Topic8\", \"Topic8\", \"Topic8\", \"Topic8\", \"Topic8\", \"Topic8\", \"Topic8\", \"Topic8\", \"Topic8\", \"Topic8\", \"Topic8\", \"Topic8\", \"Topic8\", \"Topic8\", \"Topic8\", \"Topic8\", \"Topic8\", \"Topic8\", \"Topic8\", \"Topic8\", \"Topic8\", \"Topic8\", \"Topic8\", \"Topic8\", \"Topic8\", \"Topic8\", \"Topic8\", \"Topic8\", \"Topic8\", \"Topic8\", \"Topic8\", \"Topic8\", \"Topic8\", \"Topic8\", \"Topic8\", \"Topic8\", \"Topic8\", \"Topic8\", \"Topic8\", \"Topic8\", \"Topic8\", \"Topic8\", \"Topic8\", \"Topic9\", \"Topic9\", \"Topic9\", \"Topic9\", \"Topic9\", \"Topic9\", \"Topic9\", \"Topic9\", \"Topic9\", \"Topic9\", \"Topic9\", \"Topic9\", \"Topic9\", \"Topic9\", \"Topic9\", \"Topic9\", \"Topic9\", \"Topic9\", \"Topic9\", \"Topic9\", \"Topic9\", \"Topic9\", \"Topic9\", \"Topic9\", \"Topic9\", \"Topic9\", \"Topic9\", \"Topic9\", \"Topic9\", \"Topic9\", \"Topic9\", \"Topic9\", \"Topic9\", \"Topic9\", \"Topic9\", \"Topic9\", \"Topic9\", \"Topic9\", \"Topic9\", \"Topic9\", \"Topic9\", \"Topic9\", \"Topic9\", \"Topic9\", \"Topic9\", \"Topic9\", \"Topic9\", \"Topic9\", \"Topic9\", \"Topic9\", \"Topic9\", \"Topic9\", \"Topic9\", \"Topic9\", \"Topic9\", \"Topic9\", \"Topic9\", \"Topic9\", \"Topic9\", \"Topic9\", \"Topic9\", \"Topic10\", \"Topic10\", \"Topic10\", \"Topic10\", \"Topic10\", \"Topic10\", \"Topic10\", \"Topic10\", \"Topic10\", \"Topic10\", \"Topic10\", \"Topic10\", \"Topic10\", \"Topic10\", \"Topic10\", \"Topic10\", \"Topic10\", \"Topic10\", \"Topic10\", \"Topic10\", \"Topic10\", \"Topic10\", \"Topic10\", \"Topic10\", \"Topic10\", \"Topic10\", \"Topic10\", \"Topic10\", \"Topic10\", \"Topic10\", \"Topic10\", \"Topic10\", \"Topic10\", \"Topic10\", \"Topic10\", \"Topic10\", \"Topic10\", \"Topic10\", \"Topic10\", \"Topic10\", \"Topic10\", \"Topic10\", \"Topic10\", \"Topic10\", \"Topic10\", \"Topic10\", \"Topic10\"], \"Term\": [\"meaning\", \"one\", \"instead\", \"vs\", \"sentence\", \"say\", \"correct\", \"mean\", \"versus\", \"pronunciation\", \"come\", \"nouns\", \"difference\", \"proper\", \"plural\", \"phrase\", \"word\", \"usage\", \"would\", \"different\", \"like\", \"sentences\", \"verb\", \"singular\", \"end\", \"name\", \"something\", \"may\", \"appropriate\", \"speak\", \"instead\", \"na\", \"beyond\", \"pronunciations\", \"pronunciation\", \"kids\", \"months\", \"dinner\", \"similes\", \"stop\", \"planet\", \"checked\", \"drupal\", \"merely\", \"toy\", \"borrow\", \"despite\", \"uniform\", \"include\", \"bring\", \"either\", \"uncommon\", \"participle\", \"clear\", \"hopefully\", \"internet\", \"spelling\", \"bad\", \"deal\", \"accepted\", \"usage\", \"really\", \"correct\", \"big\", \"ok\", \"say\", \"verb\", \"noun\", \"tense\", \"versus\", \"common\", \"used\", \"time\", \"english\", \"word\", \"singular\", \"way\", \"using\", \"written\", \"following\", \"words\", \"vs\", \"past\", \"difference\", \"origin\", \"plural\", \"phrase\", \"proper\", \"meaning\", \"prepositions\", \"middle\", \"went\", \"set\", \"quotes\", \"pay\", \"correctly\", \"population\", \"nay\", \"complimentary\", \"happened\", \"took\", \"feedback\", \"talk\", \"along\", \"mind\", \"came\", \"comparative\", \"improper\", \"making\", \"far\", \"item\", \"rather\", \"quite\", \"end\", \"go\", \"great\", \"square\", \"tax\", \"start\", \"like\", \"sentence\", \"acceptable\", \"wrong\", \"answering\", \"man\", \"vowel\", \"question\", \"become\", \"phrases\", \"names\", \"part\", \"without\", \"abbreviations\", \"called\", \"form\", \"word\", \"using\", \"something\", \"words\", \"mean\", \"origin\", \"used\", \"correct\", \"comma\", \"good\", \"order\", \"new\", \"verbs\", \"fall\", \"fragments\", \"nothing\", \"four\", \"nouns\", \"home\", \"acting\", \"tonics\", \"seconds\", \"force\", \"gins\", \"box\", \"linguistic\", \"print\", \"retrieves\", \"determiner\", \"lost\", \"knowledge\", \"discuss\", \"rag\", \"chainsaw\", \"topics\", \"equipped\", \"italicize\", \"keen\", \"arse\", \"deployed\", \"orange\", \"splice\", \"adjectives\", \"know\", \"interesting\", \"special\", \"origin\", \"adjective\", \"proper\", \"vs\", \"phrase\", \"word\", \"british\", \"right\", \"difference\", \"mean\", \"common\", \"english\", \"letter\", \"used\", \"words\", \"plural\", \"describe\", \"person\", \"etymology\", \"sentence\", \"term\", \"noun\", \"different\", \"refer\", \"one\", \"couple\", \"regarding\", \"prose\", \"refurbished\", \"body\", \"drinking\", \"educated\", \"open\", \"relationship\", \"eating\", \"frequently\", \"prefixed\", \"night\", \"tasks\", \"cheeseburger\", \"ate\", \"url\", \"hat\", \"infinitive\", \"often\", \"alternative\", \"regards\", \"consonant\", \"stuff\", \"surroundings\", \"partial\", \"addressed\", \"richer\", \"department\", \"list\", \"ways\", \"company\", \"kind\", \"welcome\", \"would\", \"describe\", \"word\", \"double\", \"get\", \"difference\", \"called\", \"many\", \"correct\", \"last\", \"words\", \"always\", \"english\", \"object\", \"mean\", \"someone\", \"adjective\", \"term\", \"common\", \"people\", \"sentence\", \"phrase\", \"used\", \"sql\", \"stack\", \"forgot\", \"definition\", \"going\", \"state\", \"reserved\", \"server\", \"high\", \"overflow\", \"schema\", \"reflected\", \"care\", \"province\", \"flexible\", \"offer\", \"filename\", \"password\", \"retarded\", \"easily\", \"discussed\", \"pissed\", \"expressing\", \"categories\", \"orbit\", \"sea\", \"proof\", \"fast\", \"sites\", \"whose\", \"plural\", \"mean\", \"first\", \"correct\", \"etymology\", \"singular\", \"possible\", \"formal\", \"could\", \"used\", \"english\", \"written\", \"vs\", \"position\", \"adverb\", \"question\", \"difference\", \"form\", \"name\", \"usage\", \"less\", \"way\", \"words\", \"make\", \"american\", \"word\", \"none\", \"simple\", \"together\", \"elizabethan\", \"rich\", \"darkly\", \"standing\", \"chinese\", \"already\", \"rates\", \"santa\", \"simplified\", \"fewer\", \"especially\", \"times\", \"dog\", \"items\", \"three\", \"come\", \"missing\", \"okay\", \"possessive\", \"suffice\", \"reasonably\", \"unchanged\", \"appalachian\", \"truly\", \"mentioned\", \"tangier\", \"island\", \"web\", \"colons\", \"sometimes\", \"semi\", \"indefinite\", \"exclamation\", \"superlative\", \"let\", \"ending\", \"appropriate\", \"vs\", \"refer\", \"rules\", \"pronoun\", \"articles\", \"ever\", \"word\", \"used\", \"difference\", \"singular\", \"pronunciation\", \"correct\", \"term\", \"mark\", \"sound\", \"present\", \"right\", \"words\", \"english\", \"form\", \"end\", \"mean\", \"may\", \"put\", \"mail\", \"bye\", \"vice\", \"versa\", \"purpose\", \"hour\", \"might\", \"weekend\", \"blocked\", \"backseat\", \"admire\", \"half\", \"fill\", \"arrived\", \"refrigerator\", \"humanitarian\", \"added\", \"prefer\", \"turn\", \"currently\", \"check\", \"derivative\", \"zero\", \"plurals\", \"remember\", \"long\", \"stories\", \"foreign\", \"email\", \"versus\", \"proper\", \"differ\", \"friend\", \"century\", \"difference\", \"name\", \"would\", \"us\", \"english\", \"sentence\", \"shall\", \"express\", \"pronounce\", \"language\", \"last\", \"usage\", \"word\", \"correct\", \"words\", \"form\", \"using\", \"start\", \"writing\", \"person\", \"could\", \"politely\", \"started\", \"friends\", \"salad\", \"kill\", \"per\", \"early\", \"enough\", \"hand\", \"jive\", \"objects\", \"mockingbird\", \"tater\", \"apples\", \"famous\", \"bourbon\", \"testing\", \"playing\", \"bananas\", \"large\", \"requests\", \"vehicle\", \"fell\", \"preferred\", \"head\", \"conditional\", \"connection\", \"accident\", \"progressive\", \"apply\", \"call\", \"numbers\", \"ask\", \"vs\", \"sentence\", \"past\", \"tense\", \"mean\", \"appropriate\", \"difference\", \"versus\", \"time\", \"double\", \"punctuation\", \"rule\", \"using\", \"get\", \"ending\", \"names\", \"origin\", \"correct\", \"sentences\", \"must\", \"explain\", \"spaghetti\", \"case\", \"drink\", \"ordered\", \"ellipses\", \"built\", \"sure\", \"bus\", \"group\", \"accounts\", \"applicant\", \"roots\", \"split\", \"file\", \"grammatically\", \"said\", \"best\", \"price\", \"demand\", \"scarce\", \"increase\", \"norris\", \"lead\", \"higher\", \"chuck\", \"sell\", \"mass\", \"counts\", \"say\", \"user\", \"matter\", \"wanted\", \"examples\", \"various\", \"compared\", \"please\", \"write\", \"expression\", \"questions\", \"phrase\", \"period\", \"people\", \"etc\", \"mean\", \"etymology\", \"way\", \"vs\", \"used\", \"verb\", \"correct\", \"comma\", \"order\", \"good\", \"nouns\", \"word\", \"using\", \"name\", \"english\", \"usage\", \"grammatical\", \"neither\", \"worth\", \"dialect\", \"direct\", \"related\", \"dv\", \"continuous\", \"old\", \"effort\", \"albert\", \"michael\", \"purposes\", \"sighted\", \"gobble\", \"log\", \"sqa\", \"scratch\", \"works\", \"confusion\", \"else\", \"coming\", \"indirect\", \"accent\", \"speak\", \"sentences\", \"fine\", \"languages\", \"meanings\", \"object\", \"different\", \"something\", \"verb\", \"correct\", \"words\", \"english\", \"two\", \"context\", \"phrase\", \"capitalized\", \"vs\", \"word\", \"subject\", \"present\", \"like\", \"line\", \"time\"], \"loglift\": [30.0, 29.0, 28.0, 27.0, 26.0, 25.0, 24.0, 23.0, 22.0, 21.0, 20.0, 19.0, 18.0, 17.0, 16.0, 15.0, 14.0, 13.0, 12.0, 11.0, 10.0, 9.0, 8.0, 7.0, 6.0, 5.0, 4.0, 3.0, 2.0, 1.0, 2.0851999999999999, 1.9282999999999999, 1.8728, 1.8728, 1.7941, 1.7726, 1.7726, 1.7726, 1.7726, 1.7726, 1.7726, 1.7726, 1.7726, 1.7726, 1.7726, 1.7726, 1.7726, 1.7726, 1.7726, 1.7725, 1.7725, 1.7725, 1.7725, 1.7723, 1.7721, 1.7502, 1.6839, 1.6827000000000001, 1.6551, 1.6539999999999999, 1.4509000000000001, 1.5415000000000001, 1.0707, 1.653, 1.6520999999999999, 1.2190000000000001, 1.2034, 1.3797999999999999, 1.3774, 0.93530000000000002, 1.163, 0.59970000000000001, 0.99809999999999999, 0.42420000000000002, 0.22, 0.95150000000000001, 0.90449999999999997, 0.74929999999999997, 1.1544000000000001, 1.1391, 0.37440000000000001, -0.071599999999999997, 0.8992, -0.11070000000000001, 0.33950000000000002, 0.47339999999999999, -0.055899999999999998, 0.2208, 2.0581, 1.9298, 1.8746, 1.8746, 1.8746, 1.8746, 1.8746, 1.8156000000000001, 1.7746999999999999, 1.7746999999999999, 1.7746999999999999, 1.7746999999999999, 1.7746999999999999, 1.7746999999999999, 1.7746999999999999, 1.7746999999999999, 1.7746999999999999, 1.7746999999999999, 1.7746999999999999, 1.7746999999999999, 1.7746, 1.7746, 1.7746, 1.774, 1.7601, 1.7235, 1.6796, 1.6574, 1.6569, 1.6569, 1.5913999999999999, 1.466, 1.3061, 1.5054000000000001, 1.5348999999999999, 1.6569, 1.6533, 1.6007, 1.2555000000000001, 1.3717999999999999, 1.4224000000000001, 1.1311, 1.4774, 1.4741, 1.4656, 1.1026, 0.87039999999999995, -0.0048999999999999998, 0.66479999999999995, 0.83040000000000003, 0.2009, -0.0141, 0.4229, -0.27450000000000002, -1.0604, 0.50009999999999999, 0.50590000000000002, 1.2039, 1.1936, 2.0684999999999998, 1.9544999999999999, 1.9544999999999999, 1.9544999999999999, 1.9544999999999999, 1.931, 1.8948, 1.855, 1.855, 1.855, 1.855, 1.855, 1.855, 1.855, 1.855, 1.855, 1.855, 1.855, 1.855, 1.855, 1.855, 1.855, 1.855, 1.855, 1.855, 1.855, 1.855, 1.855, 1.855, 1.855, 1.8322000000000001, 1.6453, 1.7381, 1.7370000000000001, 1.1034999999999999, 1.3609, 0.94220000000000004, 0.35599999999999998, 0.68999999999999995, 0.2462, 1.329, 1.2325999999999999, 0.033399999999999999, 0.017999999999999999, 0.85429999999999995, -0.19320000000000001, 1.05, -0.085500000000000007, -0.076399999999999996, 0.34360000000000002, 0.877, 0.87070000000000003, 0.79859999999999998, -0.42870000000000003, 0.58940000000000003, 0.78469999999999995, 0.2223, 0.79400000000000004, 2.2530000000000001, 2.0758000000000001, 2.0758000000000001, 1.9738, 1.9738, 1.9738, 1.9738, 1.9738, 1.9738, 1.9738, 1.9738, 1.9738, 1.9738, 1.9738, 1.9738, 1.9738, 1.9738, 1.9738, 1.9730000000000001, 1.9521999999999999, 1.9451000000000001, 1.8745000000000001, 1.8549, 1.8539000000000001, 1.8467, 1.7322, 1.7322, 1.7322, 1.7322, 1.7322, 1.6577999999999999, 1.6882999999999999, 1.6877, 1.6799999999999999, 1.6799999999999999, 1.4689000000000001, 1.4702999999999999, 0.96850000000000003, 1.4387000000000001, 1.3387, 0.2429, 1.1704000000000001, 1.5062, -0.059499999999999997, 1.3843000000000001, 0.2011, 1.2586999999999999, -0.1255, 1.0689, -0.2351, 1.0601, 0.96160000000000001, 0.68479999999999996, 0.67320000000000002, 0.57369999999999999, -0.48999999999999999, -0.31419999999999998, -0.49370000000000003, 2.1509999999999998, 2.0939999999999999, 2.0939999999999999, 2.0939999999999999, 2.0796000000000001, 2.0333000000000001, 1.9913000000000001, 1.9913000000000001, 1.9913000000000001, 1.9913000000000001, 1.9913000000000001, 1.9913000000000001, 1.9913000000000001, 1.9913000000000001, 1.9913000000000001, 1.9913000000000001, 1.9913000000000001, 1.9913000000000001, 1.9913000000000001, 1.9913000000000001, 1.9913000000000001, 1.9913000000000001, 1.9913000000000001, 1.9913000000000001, 1.9913000000000001, 1.9913000000000001, 1.9913000000000001, 1.9913000000000001, 1.9913000000000001, 1.9911000000000001, 1.7524, 1.3909, 1.5127999999999999, 0.5323, 1.3972, 1.2166999999999999, 1.6889000000000001, 1.6868000000000001, 1.2722, 0.66890000000000005, 0.505, 1.3537999999999999, 0.095299999999999996, 1.5313000000000001, 1.5250999999999999, 0.873, 0.14430000000000001, 0.88419999999999999, 0.80149999999999999, 0.35460000000000003, 1.2808999999999999, 0.69820000000000004, 0.060699999999999997, 1.0529999999999999, 0.83489999999999998, -1.1088, 2.2130999999999998, 2.1768000000000001, 2.1198000000000001, 2.0171999999999999, 2.0171999999999999, 2.0171999999999999, 2.0171999999999999, 2.0171999999999999, 2.0171999999999999, 2.0171999999999999, 2.0171999999999999, 2.0171999999999999, 2.0171999999999999, 2.0171999999999999, 2.0171999999999999, 2.0171999999999999, 2.0171999999999999, 2.0169000000000001, 2.0156000000000001, 2.0141, 1.9601, 1.9317, 1.7743, 1.7743, 1.7743, 1.7743, 1.7743, 1.7743, 1.7743, 1.7743, 1.7076, 1.7315, 1.7303999999999999, 1.7298, 1.7284999999999999, 1.7221, 1.722, 1.7208000000000001, 1.5880000000000001, 1.5024999999999999, 1.0609, 1.4287000000000001, 1.4785999999999999, 1.5604, 1.5609999999999999, 1.3543000000000001, 0.25659999999999999, 0.45610000000000001, 0.22189999999999999, 0.91300000000000003, 0.68969999999999998, -0.1986, 1.0027999999999999, 1.4218, 1.2950999999999999, 1.1981999999999999, 1.093, -0.15790000000000001, -0.76400000000000001, 0.33450000000000002, 0.47310000000000002, -1.0036, 2.2559999999999998, 2.2128000000000001, 2.2126999999999999, 2.1764000000000001, 2.1762999999999999, 2.1762999999999999, 2.1191, 2.1152000000000002, 2.0911, 2.0164, 2.0164, 2.0164, 2.0164, 2.0164, 2.0164, 2.0164, 2.0164, 2.0164, 2.0164, 2.0164, 2.0164, 2.0164, 2.0164, 2.0164, 2.0164, 2.0163000000000002, 2.0163000000000002, 1.9619, 1.8962000000000001, 1.8962000000000001, 1.8458000000000001, 1.6132, 1.6095999999999999, 1.8302, 1.8947000000000001, 1.8885000000000001, 1.1738, 1.4207000000000001, 1.3022, 1.5801000000000001, 0.54159999999999997, 0.503, 1.554, 1.5503, 1.0538000000000001, 1.4222999999999999, 1.4198, 0.43819999999999998, -0.42899999999999999, -0.76180000000000003, -0.11600000000000001, 0.61460000000000004, 0.28160000000000002, 0.77569999999999995, 1.3003, 1.0047999999999999, 0.79779999999999995, 2.1840999999999999, 2.1840999999999999, 2.1840999999999999, 2.1273, 2.1273, 2.1273, 2.1273, 2.1273, 2.1272000000000002, 2.1231, 2.1095999999999999, 2.0247999999999999, 2.0247999999999999, 2.0247999999999999, 2.0247999999999999, 2.0247999999999999, 2.0247999999999999, 2.0247999999999999, 2.0247999999999999, 2.0247999999999999, 2.0247999999999999, 2.0247999999999999, 2.0247999999999999, 2.0247999999999999, 2.0247999999999999, 2.0247999999999999, 2.0247999999999999, 2.0247999999999999, 2.0247999999999999, 2.0247999999999999, 1.9941, 1.9058999999999999, 1.8992, 0.59670000000000001, 0.76060000000000005, 1.0963000000000001, 1.3185, 0.1237, 0.96250000000000002, 0.047600000000000003, 0.48139999999999999, 0.83530000000000004, 1.2065999999999999, 1.2544999999999999, 1.1053999999999999, 0.46129999999999999, 0.94589999999999996, 0.94310000000000005, 0.86550000000000005, 0.19389999999999999, -0.94599999999999995, 0.75119999999999998, 2.1360999999999999, 2.1358000000000001, 2.1347999999999998, 2.1259999999999999, 2.0331000000000001, 2.0331000000000001, 2.0331000000000001, 2.0331000000000001, 2.0331000000000001, 2.0331000000000001, 2.0331000000000001, 2.0329999999999999, 2.0329000000000002, 2.032, 2.0314999999999999, 1.9128000000000001, 1.8631, 1.8541000000000001, 1.7987, 1.7894000000000001, 1.7894000000000001, 1.7894000000000001, 1.7894000000000001, 1.7894000000000001, 1.7894000000000001, 1.7894000000000001, 1.7894000000000001, 1.7894000000000001, 1.7894000000000001, 1.7894000000000001, 1.6940999999999999, 1.7309000000000001, 1.7176, 1.7463, 1.7455000000000001, 1.7448999999999999, 1.7382, 1.6794, 1.5900000000000001, 1.6004, 1.5966, 1.3626, 1.5330999999999999, 1.2963, 1.5754999999999999, 0.47099999999999997, 1.2361, 0.96230000000000004, 0.039600000000000003, 0.31240000000000001, 0.6734, -0.23050000000000001, 0.9556, 1.4128000000000001, 0.9173, 0.77759999999999996, -0.54390000000000005, 0.48959999999999998, 0.66279999999999994, -0.47349999999999998, -0.089399999999999993, 2.2555999999999998, 2.2555999999999998, 2.2193000000000001, 2.1556999999999999, 2.1446999999999998, 2.1019000000000001, 2.0598999999999998, 2.0598999999999998, 2.0598999999999998, 2.0598999999999998, 2.0598999999999998, 2.0598999999999998, 2.0598999999999998, 2.0598999999999998, 2.0598999999999998, 2.0598999999999998, 2.0598999999999998, 2.0598999999999998, 2.0598999999999998, 2.0598999999999998, 2.0598000000000001, 2.0596999999999999, 2.0337000000000001, 1.9679, 1.9508000000000001, 1.9435, 1.9409000000000001, 1.9341999999999999, 1.8458000000000001, 1.8279000000000001, 1.7302999999999999, 1.5571999999999999, 1.034, 0.35870000000000002, 0.66010000000000002, 0.45879999999999999, 1.3362000000000001, 1.5892999999999999, 0.46460000000000001, 1.4670000000000001, -0.15040000000000001, -0.25480000000000003, 1.2478, 1.2419, 0.50390000000000001, 1.2490000000000001, 0.59030000000000005], \"Freq\": [31.0, 26.0, 17.0, 74.0, 41.0, 20.0, 82.0, 48.0, 24.0, 19.0, 16.0, 14.0, 51.0, 21.0, 19.0, 32.0, 80.0, 26.0, 17.0, 16.0, 19.0, 11.0, 19.0, 14.0, 11.0, 14.0, 13.0, 5.0, 11.0, 7.0, 16.720687053553199, 2.9691728157781312, 2.2449843234703897, 2.2448374748136861, 13.962349337049313, 1.5207958332035978, 1.520795831967575, 1.5207958311911656, 1.520795831025493, 1.5207958307894027, 1.5207958304806677, 1.5207958304446598, 1.520795830297804, 1.5207958300812678, 1.5207958300656745, 1.5207958289644632, 1.5207958210527177, 1.5207958194352267, 1.5207938342111862, 1.5207543691773875, 1.5207510104900122, 1.520749823864485, 1.5207158147999649, 1.5203922565921943, 1.520056058247188, 2.969135849211737, 4.6522240129767285, 3.6931305620274961, 2.2449953309566832, 2.2449055512368465, 13.508439351482846, 4.4176042159648752, 28.829687175891834, 2.2449912460648749, 2.2395697420453615, 8.3635038399908215, 7.9632618041406094, 4.4483410691034351, 3.4015235055606992, 7.3517698858679807, 4.4172568286932119, 8.0766579912178926, 4.4175499275300005, 9.2283301786100118, 12.033700378786447, 4.4174370300157024, 4.4176228379324174, 4.8856961702804176, 2.9691639767983169, 2.9415235916216562, 6.3339640877626886, 8.3054985968042576, 3.3499720529351396, 5.5485003852496719, 3.8725373577504461, 3.6932671395367578, 3.7016666608961324, 3.1984440380076551, 29.225614291445133, 2.9812509964679128, 2.2542339704486598, 2.254233969624345, 2.2542339673066625, 2.2542339651552488, 2.2542339641383462, 3.7085151888455234, 1.527061721011804, 1.5270617199391832, 1.5270617187483861, 1.5270617186238369, 1.5270617185835034, 1.527061718434984, 1.5270617179761534, 1.527061717033509, 1.5270617163899969, 1.5270617160992193, 1.5270617143899907, 1.5270617089080838, 1.5270581253683067, 1.5270083859851835, 1.5269530728241569, 1.5260589397590079, 1.5045780563671927, 7.7132411020217617, 3.7084989751745137, 2.2542444004601871, 2.2542412616549656, 2.2542405118928923, 6.3380789775681894, 10.079170813442071, 18.368480492628183, 4.2710497947018631, 3.6098247408052444, 2.2542365390514565, 2.2468919008933996, 2.5555371178147057, 6.589852651471519, 3.7086428852161499, 2.8549456814369467, 3.6993163542051395, 2.2542273179569481, 2.254271041118507, 2.2541880359288391, 3.3425375020818278, 4.0542361943478165, 9.6029883614943312, 4.4865347145236392, 3.7086337711507409, 5.3212706690716738, 5.7703481130617069, 4.2063666285578378, 3.3671111159000002, 3.419729683605659, 2.3877460999042164, 2.3855358424718807, 2.2818272228665255, 2.2542710106727437, 4.4560877530779583, 2.2653150378011779, 2.2653150360244676, 2.2653150354633729, 2.2652715421442835, 11.032127393103888, 3.7267774383889076, 1.5345682525779758, 1.5345682520098129, 1.5345682519154331, 1.5345682516479375, 1.5345682515972336, 1.5345682514866783, 1.5345682507005365, 1.5345682505351468, 1.5345682504766724, 1.534568250464829, 1.5345682503950548, 1.5345682501812907, 1.5345682494593482, 1.534568249003883, 1.5345682487928476, 1.5345682481967775, 1.534568248052347, 1.53456824761057, 1.5345682474097357, 1.5345682465804, 1.5345682457124001, 1.5345682442088246, 1.534568242912137, 2.9954702932383586, 3.7267515531525142, 2.2653309559536794, 2.2652722238723508, 7.678426234588537, 3.7269329432056075, 6.0776291307429648, 11.765264753090058, 7.2085946284796245, 11.410073016630273, 2.996114993610457, 2.9893872010108686, 5.9189666652371598, 5.5076105368758848, 2.9961116815663456, 4.5970078157224821, 2.2652946085378831, 3.7598041940911582, 3.7272416886462776, 2.9959503307688937, 2.2724371505325087, 2.265348712877437, 2.2652678093765934, 2.9957779768046029, 2.2724170535880881, 2.2659392703799104, 2.2655074007545677, 2.2654247683235313, 24.240646188829352, 2.1973958242260259, 2.197345466074426, 1.4885952440848593, 1.4885952425734237, 1.4885952413306878, 1.4885952412779966, 1.4885952409971097, 1.4885952409394958, 1.4885952406562921, 1.4885952406380565, 1.4885952384485754, 1.488584414338932, 1.488578425638091, 1.4885763879067935, 1.4885656115618313, 1.4885563495980501, 1.4884783174449798, 1.4874048286931714, 2.9062925229566776, 2.90627861530968, 3.6150731721194553, 2.19726602788454, 2.1974563094553572, 2.1974257725204125, 0.77974036539513414, 0.77974036535557867, 0.7797403652342525, 0.77974036518078438, 0.7797403651602679, 4.3240221195705457, 1.4885983624959644, 1.4886029809889729, 1.4886095573637905, 1.488603467198832, 7.4517893956915247, 3.6152209940685718, 20.653233601775877, 2.9063821413777848, 3.4128045043267083, 6.4161353818946596, 2.9063130312327976, 2.1948724544849147, 7.5598042600110951, 2.1973713870140537, 4.3240070160940114, 2.1974925394528388, 4.3240359816360465, 2.1972899065301785, 3.7589122200330887, 2.1974988068951906, 2.197509988607504, 2.1974872390437996, 2.1975124266075703, 2.1974812795119161, 2.4767606457628508, 2.3212909459148139, 2.1973474778284938, 2.884282240608484, 2.1807987664474853, 2.1807987606993384, 2.1807695144483512, 4.2910982024904945, 3.5876963525548118, 1.4773152941039072, 1.4773152933412179, 1.4773152933207749, 1.47731529317669, 1.4773152928528452, 1.4773152927483177, 1.4773152921124764, 1.4773152920129533, 1.4773152915787942, 1.4773152906576792, 1.477315290492508, 1.4773152904204074, 1.4773152899175237, 1.4773152896033641, 1.4773152883901368, 1.4773152872830115, 1.4773152869324611, 1.4773152864170305, 1.4773152861317045, 1.4773152851993834, 1.477275016604348, 1.477268118664705, 1.4772156816920232, 1.4769359345694144, 10.560432971686465, 18.729758593594791, 3.3600118991215391, 13.392034948680237, 3.5514554670494092, 4.5831036230624678, 2.1807947440788809, 2.1807027396685932, 3.5867371791159846, 6.8878270197643126, 7.9618514184887355, 2.8842233707756244, 7.8101098030087277, 2.1807660716276791, 2.1808768416304813, 3.5800469315281229, 5.6981539336947691, 3.2735518100984642, 3.1395800602254487, 3.5917132609619475, 2.1808647155794962, 2.860190989551965, 3.6833736990897963, 2.1337248910871245, 2.1808278008413606, 2.5359371957441899, 3.5883830907468268, 2.8848213211132672, 2.1812063683296441, 1.4775914114898081, 1.4775914113556301, 1.4775914109954975, 1.4775914101663659, 1.4775914088507214, 1.4775914088284368, 1.4775914087561235, 1.4775914084902813, 1.4775914084345076, 1.4775914035961348, 1.477591402687938, 1.4775914023840169, 1.4775810768121742, 1.4775511278517832, 1.4771730101708875, 11.301869778293556, 1.4730068673908034, 1.3973692242806284, 4.9781373194755485, 0.77397645372070756, 0.77397645347313859, 0.77397645345704247, 0.77397645343516108, 0.77397645343008115, 0.77397645340590948, 0.77397645338147714, 0.77397645337534182, 2.1812406081076285, 1.4775960034838493, 1.4776036134312778, 1.4775904711658812, 1.4775960258137872, 1.4776008991875866, 1.4775575685757623, 1.4775972202514212, 4.1948916163030461, 4.9958754624074144, 19.989834499935043, 3.5884213644201877, 2.8848746887964349, 2.2027046544425812, 2.1811854299794344, 2.814975951191232, 9.6802126127162751, 5.4257763905851002, 6.0011021691328139, 3.2965048324378698, 3.5884492604018972, 6.2837573330912715, 2.8848534396871184, 2.1812470302540854, 2.1812305219348485, 2.181184031471942, 2.1830939818221595, 2.8847308516468151, 2.1810761353866686, 1.8411210935345379, 1.7143456704676641, 1.6649961810667211, 4.9781178585449197, 3.5774836350214705, 3.5772698321497987, 2.876061733040447, 2.8759475136942751, 2.8759475096580513, 2.1741625619102933, 2.1657534983763296, 4.2441075692422663, 1.4731047906598418, 1.4731047896261455, 1.4731047890206226, 1.4731047889409579, 1.473104788181882, 1.4731047874327143, 1.4731047867400611, 1.4731047863265039, 1.473104785887869, 1.473104785355914, 1.4731047844139891, 1.4731047789183007, 1.4731047779804385, 1.4731047732567388, 1.4730976144764321, 1.4730891814741911, 1.4730646243778311, 1.4729947126715566, 4.1765918222633145, 2.1745947785667057, 2.1745011387425115, 4.9805128620972177, 11.227871779476278, 9.9451121751632172, 2.876036991188335, 2.1745521705451059, 2.1745876875011705, 15.543236778630442, 5.6821637776752993, 6.0237786002079918, 2.8758407024054868, 8.0465392125454098, 6.3849704359663111, 2.174626513228783, 2.1743215766177779, 2.8394789317447713, 2.1745719577907456, 2.1745327252299096, 3.8046375459477773, 4.8761586608234246, 3.5771808340761981, 3.007321184030713, 2.4358067697836985, 2.3732634829964012, 2.1752086327731903, 2.1746811808535846, 2.1746491191699882, 2.1746302446810786, 2.8912153948191524, 2.8911768907182784, 2.8911660254327951, 2.1860423200264734, 2.1860423193300544, 2.1860423163108962, 2.1860423149366079, 2.1860389994648606, 2.1859942886656598, 2.1771563252923807, 2.1484346668929182, 1.4808673791667355, 1.4808673777613002, 1.4808673776107943, 1.4808673772765906, 1.480867377173742, 1.4808673766689937, 1.4808673757286783, 1.4808673756154469, 1.4808673751983361, 1.4808673746272305, 1.4808673746084404, 1.4808673744822887, 1.4808673738608342, 1.480867372952831, 1.4808623847661997, 1.4808606975508443, 1.4808366570168212, 1.4808270033554649, 1.48081914811238, 4.301634349551283, 2.186055441332186, 2.1860637029641565, 12.480198205899933, 8.2055014283026395, 3.1424305577390945, 2.4701227168561415, 5.1047491120744413, 2.8911824642839603, 5.0067571446503951, 3.5963011356880976, 2.8912799624693322, 2.1861112509222465, 2.0815624040606631, 2.1860435847391231, 2.8214130766467096, 2.1860154228714634, 2.1859961907487753, 2.1861046661105727, 2.5784903895794882, 2.955354756621158, 2.2079730909133226, 2.1715425345651731, 2.1710352029758901, 2.1686830540463262, 2.149917733000104, 1.4710551789350612, 1.4710551770926514, 1.471055172466641, 1.4710551692132221, 1.4710551691167431, 1.4710510483051185, 1.4710425782357583, 1.4710150707466372, 1.4708119329765985, 1.4695418898460371, 1.4688259708808391, 2.1715723932302451, 4.9544381890584965, 2.8656109324959114, 4.2713631436351633, 0.77055271333571784, 0.77055271330322384, 0.77055271320379193, 0.77055271318365515, 0.77055271314317531, 0.77055271305261308, 0.77055271304474082, 0.77055271298776318, 0.77055271294488514, 0.7705527129341766, 0.7705527128982399, 10.252184289164761, 2.1703980490517432, 2.1715129438944194, 1.4710717901519674, 1.4710380366305997, 1.4709907969022487, 1.4710601127892706, 2.0886782054971196, 3.466816200241996, 2.8720536220853812, 2.872102583091817, 11.655685590783033, 3.5726740517888373, 4.2492424561964697, 2.1715754772796294, 7.1494416971871591, 2.8952778837206155, 3.5672085381703447, 7.0751499718820083, 4.6187540942135223, 3.5726343537191831, 5.9811940107306256, 2.8720771966648733, 2.1447970955696083, 2.7456314484311912, 2.8725674384772479, 4.2730146849034076, 2.8721819093177809, 2.6176267535339357, 2.8662022808829875, 2.2066370710148795, 3.5934253992438676, 3.5934204913604284, 2.8887944505543195, 2.1698383648676267, 2.1466954547195707, 3.5934905097730447, 1.479667748298398, 1.4796677481945302, 1.4796677477805871, 1.4796677475182143, 1.4796677470549746, 1.479667746896157, 1.4796677451744493, 1.479667744316518, 1.4796677436619479, 1.4796677418532982, 1.4796677369772935, 1.4796677361470922, 1.47962740614285, 1.4796274028231007, 1.4795766554927114, 1.47939010232062, 1.442085224852049, 3.5919088060223303, 4.8838660543837769, 7.0219298166471029, 2.1842453855711255, 2.1842144364933098, 3.5922356061810237, 4.298089378596849, 8.2388996404588948, 5.7073613884607202, 4.9980510800507663, 10.516743660842865, 6.2659363705744955, 7.1025595854502104, 2.8886662810220871, 2.1797077917313747, 4.6314783833511237, 2.1843238788306278, 5.7070452951134767, 5.5648009387440069, 2.1843158924320987, 2.1843161526434991, 2.8650578673884661, 1.9882794804585582, 2.1843292933155043], \"Total\": [31.0, 26.0, 17.0, 74.0, 41.0, 20.0, 82.0, 48.0, 24.0, 19.0, 16.0, 14.0, 51.0, 21.0, 19.0, 32.0, 80.0, 26.0, 17.0, 16.0, 19.0, 11.0, 19.0, 14.0, 11.0, 14.0, 13.0, 5.0, 11.0, 7.0, 17.367117106268303, 3.6077360167934747, 2.8835475231237919, 2.8835433246729543, 19.402502376800996, 2.159359029480187, 2.159359029455552, 2.159359029443968, 2.1593590294369491, 2.1593590294263141, 2.1593590294214735, 2.1593590294249894, 2.1593590294222205, 2.1593590294169531, 2.1593590294201768, 2.1593590293919451, 2.1593590292339324, 2.1593590291838272, 2.1593590376096636, 2.1593579081794219, 2.159359313986839, 2.1593594236114182, 2.1593593590267059, 2.1593606921315094, 2.1593378788992412, 4.3113501686510052, 7.218397757438697, 5.7368830690532082, 3.5850263416062864, 3.5887202088834376, 26.457498907622984, 7.9026825615918357, 82.589081937249986, 3.5924025491882361, 3.587184992484584, 20.657054203700376, 19.977701984159946, 9.3549950193442708, 7.1705317935634127, 24.112914438737015, 11.538003839985182, 37.056636152854111, 13.606959124308585, 50.46129774247629, 80.711444454240905, 14.256522644045955, 14.9428767781964, 19.301135380180359, 7.8226773869216091, 7.8696703211721486, 36.402659991142109, 74.566795750147548, 11.392086865682431, 51.800631715583506, 23.046981588816255, 19.225316060406232, 32.716368010670728, 21.43503836389263, 31.213891806261874, 3.61966743886626, 2.892498791931299, 2.8924987919108029, 2.8924987918566938, 2.892498791805167, 2.892498791783964, 5.0473434813376361, 2.1653265419763756, 2.1653265419482901, 2.16532654191706, 2.1653265419087893, 2.1653265419182803, 2.1653265419088821, 2.1653265419027461, 2.1653265418793239, 2.1653265418644931, 2.1653265418490095, 2.1653265418129091, 2.1653265416841379, 2.1653265272188844, 2.1653247030388565, 2.1653231063424494, 2.1652952703565242, 2.1646462094527492, 11.510612403377463, 5.7827611332216629, 3.5939777034854301, 3.5959825040026723, 3.5959824795617226, 10.794137462032483, 19.459037029986828, 41.614422061197516, 7.927632312901153, 6.5053612364280751, 3.5959823501914503, 3.5970555635073165, 4.3119632941195771, 15.704462062524563, 7.8674466163353349, 5.757565191040821, 9.9829938457388749, 4.3028484785094889, 4.3171899094271691, 4.3539908784766439, 9.280921966187913, 14.200030185551871, 80.711444454240905, 19.301135380180359, 13.519610357380561, 36.402659991142109, 48.946883560308926, 23.046981588816255, 37.056636152854111, 82.589081937249986, 12.11135763311019, 12.030296180357569, 5.7257630595623441, 5.7153044200993213, 5.0954093956553805, 2.9032224065099692, 2.9032224064650909, 2.9032224064469268, 2.9032208927937457, 14.474131365712697, 5.069891037686916, 2.1724756184204197, 2.1724756184046732, 2.1724756184013487, 2.172475618394428, 2.1724756183912826, 2.1724756183871357, 2.1724756183648575, 2.1724756183600111, 2.1724756183577956, 2.1724756183568079, 2.172475618350997, 2.1724756183519851, 2.1724756183302469, 2.1724756183140679, 2.1724756183074545, 2.1724756182837655, 2.1724756182917284, 2.1724756182737828, 2.1724756182636291, 2.1724756182357434, 2.1724756182137814, 2.1724756181671867, 2.1724756181277174, 4.3385508828307922, 6.5066140571714, 3.6047015173894352, 3.6083957629362322, 23.046981588816255, 8.6472447116315561, 21.43503836389263, 74.566795750147548, 32.716368010670728, 80.711444454240905, 7.177030350836616, 7.8858013136323883, 51.800631715583506, 48.946883560308926, 11.538003839985182, 50.46129774247629, 7.1725950615030145, 37.056636152854111, 36.402659991142109, 19.225316060406232, 8.5539717409424085, 8.5813311804594168, 9.2229246988036486, 41.614422061197516, 11.405065146273062, 9.3549950193442708, 16.413966782009425, 9.2659815080646517, 26.219733333877404, 2.8375463660729547, 2.8375493490152639, 2.1286918011125673, 2.1286918011252189, 2.1286918011271592, 2.1286918011220597, 2.1286918011280487, 2.1286918011251514, 2.1286918011246243, 2.1286918011265601, 2.1286918011375673, 2.1286920351695899, 2.1286916261684707, 2.1286915789640126, 2.1286916234424718, 2.1286915678929952, 2.1286912743341451, 2.1286777747224939, 4.2469040840960126, 4.2771474423672871, 5.7096025620609732, 3.5390302511865475, 3.5427216566404813, 3.5682938243942246, 1.419836921626394, 1.4198369216267861, 1.4198369216267088, 1.4198369216297271, 1.4198369216279572, 8.4819592548575358, 2.8323067837448486, 2.8338667852000721, 2.8558636810343203, 2.8558638383476467, 17.656530636302946, 8.5539717409424085, 80.711444454240905, 7.0972763157873135, 9.2109172871447242, 51.800631715583506, 9.280921966187913, 5.0100947256136745, 82.589081937249986, 5.6661719900006178, 36.402659991142109, 6.4247366842813465, 50.46129774247629, 7.766649482525108, 48.946883560308926, 7.8359416466033753, 8.6472447116315561, 11.405065146273062, 11.538003839985182, 12.744927554090316, 41.614422061197516, 32.716368010670728, 37.056636152854111, 3.5249159401377184, 2.8214324656456831, 2.8214324657104557, 2.8214333264859182, 5.6323870504968196, 4.9320172218851468, 2.1179489911340088, 2.1179489911438614, 2.1179489911430793, 2.1179489911449449, 2.1179489911529124, 2.1179489911526455, 2.1179489911585181, 2.1179489911552998, 2.117948991165675, 2.1179489911725882, 2.1179489911783107, 2.1179489911786891, 2.1179489911855844, 2.1179489911884235, 2.1179489912082849, 2.1179489912133262, 2.1179489912206741, 2.1179489912222822, 2.1179489912368954, 2.117948991233856, 2.1179492986940569, 2.1179501930789439, 2.1179519228749082, 2.1179624065649461, 19.225316060406232, 48.946883560308926, 7.7736165953796794, 82.589081937249986, 9.2229246988036486, 14.256522644045955, 4.2306398534849317, 4.2391460227694102, 10.555140860426611, 37.056636152854111, 50.46129774247629, 7.8226773869216091, 74.566795750147548, 4.9527217625701452, 4.9839540944134875, 15.704462062524563, 51.800631715583506, 14.200030185551871, 14.792900517089414, 26.457498907622984, 6.3624876569222337, 14.9428767781964, 36.402659991142109, 7.8177040995501024, 9.9378079908824724, 80.711444454240905, 4.2290568299525626, 3.5254418804150913, 2.8218269208028479, 2.1182119612373866, 2.1182119612390866, 2.1182119612500836, 2.1182119612579502, 2.118211961273504, 2.1182119612715762, 2.1182119612710948, 2.1182119612773116, 2.1182119612751285, 2.1182119613227779, 2.1182119613564367, 2.118211961338957, 2.1182123071905643, 2.1182135145150811, 2.118211883093299, 16.22758293634341, 2.1181919033561174, 2.1208971991741188, 7.7733589814057407, 1.4145970016881426, 1.4145970016908209, 1.4145970016908145, 1.4145970016916154, 1.4145970016916825, 1.4145970016900677, 1.4145970016905762, 1.4145970016917906, 4.2614283658947762, 2.8187144499149648, 2.8216954380631023, 2.8233869037805168, 2.8270667825368068, 2.8453838934558919, 2.8453852261209516, 2.8489585251527281, 9.2366177531838733, 11.982257873294614, 74.566795750147548, 9.2659815080646517, 7.0865086904439476, 4.9858954407872238, 4.934519011121858, 7.8301000510962684, 80.711444454240905, 37.056636152854111, 51.800631715583506, 14.256522644045955, 19.402502376800996, 82.589081937249986, 11.405065146273062, 5.6713117542080749, 6.4375735092513668, 7.0921737375660872, 7.8858013136323883, 36.402659991142109, 50.46129774247629, 14.200030185551871, 11.510612403377463, 48.946883560308926, 5.6213561934476299, 4.2183764804337596, 4.2183845159355, 3.5168959352434639, 3.5168964430743928, 3.5168964430981666, 2.815419332732878, 2.8154639841662545, 5.6519733384600741, 2.1139389886797288, 2.1139389886952693, 2.1139389887042417, 2.1139389887100637, 2.1139389887199274, 2.1139389887324951, 2.1139389887344087, 2.1139389887440458, 2.1139389887519964, 2.1139389887648141, 2.1139389887715061, 2.1139389888604918, 2.1139389888795344, 2.1139389889417335, 2.1139389787660328, 2.1139390333575574, 2.1139391677128314, 2.1139404753058324, 6.3289594920277441, 3.5190323864752129, 3.5189013630363024, 8.4762725147846663, 24.112914438737015, 21.43503836389263, 4.9718319287333799, 3.5242725429070636, 3.5461640653561513, 51.800631715583506, 14.792900517089414, 17.656530636302946, 6.3837099488847926, 50.46129774247629, 41.614422061197516, 4.9550589205345572, 4.9726486289062359, 10.669196511111158, 5.6524279186591251, 5.6661719900006178, 26.457498907622984, 80.711444454240905, 82.589081937249986, 36.402659991142109, 14.200030185551871, 19.301135380180359, 10.794137462032483, 6.386306053226904, 8.5813311804594168, 10.555140860426611, 3.5316818758548774, 3.5316830770138559, 3.5316828801283386, 2.8265068738376677, 2.8265068738377681, 2.8265068738667165, 2.8265068738619199, 2.8265069633922746, 2.8265081730559376, 2.8267841275737466, 2.8275206478634649, 2.1213319299225843, 2.1213319299385178, 2.1213319299342324, 2.1213319299428441, 2.1213319299435303, 2.1213319299398821, 2.1213319299535751, 2.1213319299507525, 2.1213319299512943, 2.1213319299552014, 2.1213319299614111, 2.121331929965097, 2.1213319299729991, 2.1213319299845144, 2.1213319471383967, 2.1213321721565053, 2.1213327582030428, 2.1213316624934881, 2.1213322542164961, 6.3543701040714584, 3.5270094290708034, 3.5506948016705731, 74.566795750147548, 41.614422061197516, 11.392086865682431, 7.1705317935634127, 48.946883560308926, 11.982257873294614, 51.800631715583506, 24.112914438737015, 13.606959124308585, 7.0972763157873135, 6.4420839503099394, 7.8530252660029731, 19.301135380180359, 9.2109172871447242, 9.2366177531838733, 9.9829938457388749, 23.046981588816255, 82.589081937249986, 11.303392307544447, 2.8124896270322739, 2.8124933762021973, 2.8125043217254877, 2.8126341423024694, 2.1119869786080701, 2.1119869786438219, 2.1119869787172489, 2.1119869787707795, 2.111986978781244, 2.1119871182612626, 2.1119869961686732, 2.1119887098922279, 2.1119952033954981, 2.1120496762430698, 2.1120135584757618, 3.515972858628023, 8.4304432289741733, 4.9203704462782785, 7.7522215177285272, 1.4114845103647808, 1.4114845103652121, 1.4114845103674489, 1.4114845103663336, 1.411484510368523, 1.4114845103719296, 1.411484510370578, 1.4114845103695486, 1.4114845103707372, 1.4114845103715892, 1.4114845103714324, 20.657054203700376, 4.2154602297285697, 4.2739834891700816, 2.8134654288688923, 2.8154705552711063, 2.8171621296952698, 2.836175305412977, 4.2709844187484194, 7.7519056052680355, 6.355551186451831, 6.3796735933644806, 32.716368010670728, 8.4561682789035526, 12.744927554090316, 4.9264542070913189, 48.946883560308926, 9.2229246988036486, 14.9428767781964, 74.566795750147548, 37.056636152854111, 19.977701984159946, 82.589081937249986, 12.11135763311019, 5.7257630595623441, 12.030296180357569, 14.474131365712697, 80.711444454240905, 19.301135380180359, 14.792900517089414, 50.46129774247629, 26.457498907622984, 4.2340011041092795, 4.2340024920333832, 3.5293993888297797, 2.8252437079017398, 2.8258373427598933, 4.9374839887872906, 2.1201894235016892, 2.1201894235039469, 2.1201894235079841, 2.1201894235086751, 2.1201894235143235, 2.1201894235136183, 2.1201894235327514, 2.1201894235377687, 2.120189423540594, 2.1201894235738452, 2.1201894236260896, 2.1201894236073131, 2.1201891887946895, 2.1201907155458466, 2.1201926160106881, 2.1201878074944798, 2.1212336805279226, 5.642832020498294, 7.8048409755513068, 11.303392307544447, 3.5252954308998667, 3.5489837566853484, 6.3759352394528754, 7.766649482525108, 16.413966782009425, 13.519610357380561, 19.977701984159946, 82.589081937249986, 36.402659991142109, 50.46129774247629, 8.5348652171269173, 5.0003694169689528, 32.716368010670728, 5.6626766547085445, 74.566795750147548, 80.711444454240905, 7.0507380437189253, 7.0921737375660872, 19.459037029986828, 6.4100343433947096, 13.606959124308585], \"logprob\": [30.0, 29.0, 28.0, 27.0, 26.0, 25.0, 24.0, 23.0, 22.0, 21.0, 20.0, 19.0, 18.0, 17.0, 16.0, 15.0, 14.0, 13.0, 12.0, 11.0, 10.0, 9.0, 8.0, 7.0, 6.0, 5.0, 4.0, 3.0, 2.0, 1.0, -3.6890999999999998, -5.4175000000000004, -5.6970999999999998, -5.6970999999999998, -3.8694000000000002, -6.0865, -6.0865, -6.0865, -6.0865, -6.0865, -6.0865, -6.0865, -6.0865, -6.0865, -6.0865, -6.0865, -6.0865, -6.0865, -6.0865, -6.0865999999999998, -6.0865999999999998, -6.0865999999999998, -6.0865999999999998, -6.0868000000000002, -6.0869999999999997, -5.4175000000000004, -4.9683999999999999, -5.1993, -5.6970999999999998, -5.6970999999999998, -3.9024999999999999, -5.0202, -3.1444000000000001, -5.6970999999999998, -5.6994999999999996, -4.3818999999999999, -4.4309000000000003, -5.0132000000000003, -5.2815000000000003, -4.5107999999999997, -5.0202, -4.4168000000000003, -5.0202, -4.2835000000000001, -4.0180999999999996, -5.0202, -5.0202, -4.9195000000000002, -5.4175000000000004, -5.4268000000000001, -4.6597999999999997, -4.3887999999999998, -5.2968000000000002, -4.7922000000000002, -5.1519000000000004, -5.1993, -5.1970000000000001, -5.3430999999999997, -3.1299999999999999, -5.4127000000000001, -5.6921999999999997, -5.6921999999999997, -5.6921999999999997, -5.6921999999999997, -5.6921999999999997, -5.1943999999999999, -6.0816999999999997, -6.0816999999999997, -6.0816999999999997, -6.0816999999999997, -6.0816999999999997, -6.0816999999999997, -6.0816999999999997, -6.0816999999999997, -6.0816999999999997, -6.0816999999999997, -6.0816999999999997, -6.0816999999999997, -6.0816999999999997, -6.0816999999999997, -6.0818000000000003, -6.0823, -6.0964999999999998, -4.4621000000000004, -5.1943999999999999, -5.6921999999999997, -5.6921999999999997, -5.6921999999999997, -4.6585000000000001, -4.1946000000000003, -3.5943999999999998, -5.0532000000000004, -5.2214, -5.6921999999999997, -5.6955, -5.5667999999999997, -4.6195000000000004, -5.1943999999999999, -5.4560000000000004, -5.1969000000000003, -5.6921999999999997, -5.6921999999999997, -5.6921999999999997, -5.2983000000000002, -5.1052999999999997, -4.2430000000000003, -5.0039999999999996, -5.1943999999999999, -4.8333000000000004, -4.7523, -5.0683999999999996, -5.2910000000000004, -5.2755000000000001, -5.6346999999999996, -5.6356000000000002, -5.6801000000000004, -5.6921999999999997, -4.9321000000000002, -5.6086, -5.6086, -5.6086, -5.6086, -4.0255000000000001, -5.1108000000000002, -5.9981, -5.9981, -5.9981, -5.9981, -5.9981, -5.9981, -5.9981, -5.9981, -5.9981, -5.9981, -5.9981, -5.9981, -5.9981, -5.9981, -5.9981, -5.9981, -5.9981, -5.9981, -5.9981, -5.9981, -5.9981, -5.9981, -5.9981, -5.3292000000000002, -5.1108000000000002, -5.6086, -5.6086, -4.3879000000000001, -5.1106999999999996, -4.6216999999999997, -3.9611999999999998, -4.4509999999999996, -3.9918, -5.3289999999999997, -5.3312999999999997, -4.6482000000000001, -4.7202000000000002, -5.3289999999999997, -4.9009, -5.6086, -5.1020000000000003, -5.1106999999999996, -5.3291000000000004, -5.6055000000000001, -5.6086, -5.6086, -5.3291000000000004, -5.6055000000000001, -5.6082999999999998, -5.6085000000000003, -5.6086, -3.1093999999999999, -5.5101000000000004, -5.5102000000000002, -5.8996000000000004, -5.8996000000000004, -5.8996000000000004, -5.8996000000000004, -5.8996000000000004, -5.8996000000000004, -5.8996000000000004, -5.8996000000000004, -5.8996000000000004, -5.8996000000000004, -5.8996000000000004, -5.8996000000000004, -5.8996000000000004, -5.8996000000000004, -5.8996000000000004, -5.9004000000000003, -5.2305000000000001, -5.2305000000000001, -5.0122999999999998, -5.5102000000000002, -5.5101000000000004, -5.5101000000000004, -6.5461999999999998, -6.5461999999999998, -6.5461999999999998, -6.5461999999999998, -6.5461999999999998, -4.8331999999999997, -5.8996000000000004, -5.8996000000000004, -5.8996000000000004, -5.8996000000000004, -4.2888999999999999, -5.0122, -3.2694999999999999, -5.2305000000000001, -5.0698999999999996, -4.4386000000000001, -5.2305000000000001, -5.5113000000000003, -4.2746000000000004, -5.5101000000000004, -4.8331999999999997, -5.5101000000000004, -4.8331999999999997, -5.5102000000000002, -4.9733000000000001, -5.5101000000000004, -5.5101000000000004, -5.5101000000000004, -5.5101000000000004, -5.5101000000000004, -5.3905000000000003, -5.4553000000000003, -5.5102000000000002, -5.2180999999999997, -5.4977, -5.4977, -5.4977, -4.8208000000000002, -4.9997999999999996, -5.8871000000000002, -5.8871000000000002, -5.8871000000000002, -5.8871000000000002, -5.8871000000000002, -5.8871000000000002, -5.8871000000000002, -5.8871000000000002, -5.8871000000000002, -5.8871000000000002, -5.8871000000000002, -5.8871000000000002, -5.8871000000000002, -5.8871000000000002, -5.8871000000000002, -5.8871000000000002, -5.8871000000000002, -5.8871000000000002, -5.8871000000000002, -5.8871000000000002, -5.8872, -5.8872, -5.8872, -5.8874000000000004, -3.9201999999999999, -3.3472, -5.0654000000000003, -3.6827000000000001, -5.0099999999999998, -4.7549999999999999, -5.4977, -5.4977, -5.0000999999999998, -4.3475999999999999, -4.2027000000000001, -5.2180999999999997, -4.2218999999999998, -5.4977, -5.4976000000000003, -5.0019999999999998, -4.5372000000000003, -5.0914999999999999, -5.1333000000000002, -4.9987000000000004, -5.4976000000000003, -5.2264999999999997, -4.9734999999999996, -5.5194999999999999, -5.4976000000000003, -5.3468, -4.9739000000000004, -5.1920999999999999, -5.4717000000000002, -5.8612000000000002, -5.8612000000000002, -5.8612000000000002, -5.8612000000000002, -5.8612000000000002, -5.8612000000000002, -5.8612000000000002, -5.8612000000000002, -5.8612000000000002, -5.8612000000000002, -5.8612000000000002, -5.8612000000000002, -5.8612000000000002, -5.8612000000000002, -5.8613999999999997, -3.8266, -5.8643000000000001, -5.9169999999999998, -4.6464999999999996, -6.5077999999999996, -6.5077999999999996, -6.5077999999999996, -6.5077999999999996, -6.5077999999999996, -6.5077999999999996, -6.5077999999999996, -6.5077999999999996, -5.4717000000000002, -5.8611000000000004, -5.8611000000000004, -5.8612000000000002, -5.8611000000000004, -5.8611000000000004, -5.8612000000000002, -5.8611000000000004, -4.8177000000000003, -4.6429999999999998, -3.2563, -4.9739000000000004, -5.1920999999999999, -5.4619, -5.4717000000000002, -5.2165999999999997, -3.9815, -4.5603999999999996, -4.4596, -5.0587, -4.9737999999999998, -4.4135999999999997, -5.1920999999999999, -5.4717000000000002, -5.4717000000000002, -5.4717000000000002, -5.4707999999999997, -5.1920999999999999, -5.4717000000000002, -5.6412000000000004, -5.7125000000000004, -5.7416999999999998, -4.6463000000000001, -4.9767000000000001, -4.9767999999999999, -5.1948999999999996, -5.1950000000000003, -5.1950000000000003, -5.4747000000000003, -5.4786000000000001, -4.8057999999999996, -5.8639999999999999, -5.8639999999999999, -5.8639999999999999, -5.8639999999999999, -5.8639999999999999, -5.8639999999999999, -5.8639999999999999, -5.8639999999999999, -5.8639999999999999, -5.8639999999999999, -5.8639999999999999, -5.8639999999999999, -5.8639999999999999, -5.8639999999999999, -5.8639999999999999, -5.8639999999999999, -5.8639999999999999, -5.8640999999999996, -4.8219000000000003, -5.4744999999999999, -5.4745999999999997, -4.6458000000000004, -3.8330000000000002, -3.9542999999999999, -5.1950000000000003, -5.4744999999999999, -5.4744999999999999, -3.5076999999999998, -4.5140000000000002, -4.4557000000000002, -5.1950000000000003, -4.1661000000000001, -4.3974000000000002, -5.4744999999999999, -5.4747000000000003, -5.2077, -5.4744999999999999, -5.4745999999999997, -4.9150999999999998, -4.6669999999999998, -4.9767999999999999, -5.1502999999999997, -5.3611000000000004, -5.3871000000000002, -5.4741999999999997, -5.4744999999999999, -5.4744999999999999, -5.4744999999999999, -5.1829999999999998, -5.1829999999999998, -5.1829999999999998, -5.4626000000000001, -5.4626000000000001, -5.4626000000000001, -5.4626000000000001, -5.4626000000000001, -5.4626000000000001, -5.4667000000000003, -5.4800000000000004, -5.8521000000000001, -5.8521000000000001, -5.8521000000000001, -5.8521000000000001, -5.8521000000000001, -5.8521000000000001, -5.8521000000000001, -5.8521000000000001, -5.8521000000000001, -5.8521000000000001, -5.8521000000000001, -5.8521000000000001, -5.8521000000000001, -5.8521000000000001, -5.8521000000000001, -5.8521000000000001, -5.8521000000000001, -5.8521000000000001, -5.8521000000000001, -4.7857000000000003, -5.4626000000000001, -5.4626000000000001, -3.7206000000000001, -4.1398999999999999, -5.0997000000000003, -5.3403999999999998, -4.6144999999999996, -5.1829999999999998, -4.6338999999999997, -4.9648000000000003, -5.1829999999999998, -5.4626000000000001, -5.5115999999999996, -5.4626000000000001, -5.2074999999999996, -5.4626000000000001, -5.4626000000000001, -5.4626000000000001, -5.2975000000000003, -5.1611000000000002, -5.4526000000000003, -5.4588000000000001, -5.4589999999999996, -5.4600999999999997, -5.4687999999999999, -5.8482000000000003, -5.8482000000000003, -5.8482000000000003, -5.8482000000000003, -5.8482000000000003, -5.8482000000000003, -5.8482000000000003, -5.8483000000000001, -5.8483999999999998, -5.8493000000000004, -5.8497000000000003, -5.4588000000000001, -4.6338999999999997, -5.1814, -4.7823000000000002, -6.4949000000000003, -6.4949000000000003, -6.4949000000000003, -6.4949000000000003, -6.4949000000000003, -6.4949000000000003, -6.4949000000000003, -6.4949000000000003, -6.4949000000000003, -6.4949000000000003, -6.4949000000000003, -3.9066999999999998, -5.4592999999999998, -5.4588000000000001, -5.8482000000000003, -5.8482000000000003, -5.8483000000000001, -5.8482000000000003, -5.4977, -4.9909999999999997, -5.1791999999999998, -5.1791999999999998, -3.7784, -4.9608999999999996, -4.7874999999999996, -5.4588000000000001, -4.2671999999999999, -5.1711, -4.9623999999999997, -4.2775999999999996, -4.7041000000000004, -4.9608999999999996, -4.4455999999999998, -5.1791999999999998, -5.4711999999999996, -5.2241999999999997, -5.1790000000000003, -4.7819000000000003, -5.1791, -5.2718999999999996, -5.1811999999999996, -5.4427000000000003, -4.9302000000000001, -4.9302000000000001, -5.1485000000000003, -5.4347000000000003, -5.4454000000000002, -4.9302000000000001, -5.8174999999999999, -5.8174999999999999, -5.8174999999999999, -5.8174999999999999, -5.8174999999999999, -5.8174999999999999, -5.8174999999999999, -5.8174999999999999, -5.8174999999999999, -5.8174999999999999, -5.8174999999999999, -5.8174999999999999, -5.8174999999999999, -5.8174999999999999, -5.8175999999999997, -5.8177000000000003, -5.8432000000000004, -4.9306000000000001, -4.6234000000000002, -4.2603, -5.4279999999999999, -5.4280999999999997, -4.9305000000000003, -4.7511000000000001, -4.1005000000000003, -4.4676, -4.6002999999999998, -3.8563999999999998, -4.3742000000000001, -4.2488999999999999, -5.1485000000000003, -5.4301000000000004, -4.6764000000000001, -5.4279999999999999, -4.4676, -4.4928999999999997, -5.4279999999999999, -5.4279999999999999, -5.1566999999999998, -5.5220000000000002, -5.4279999999999999]}};\n",
       "\n",
       "function LDAvis_load_lib(url, callback){\n",
       "  var s = document.createElement('script');\n",
       "  s.src = url;\n",
       "  s.async = true;\n",
       "  s.onreadystatechange = s.onload = callback;\n",
       "  s.onerror = function(){console.warn(\"failed to load library \" + url);};\n",
       "  document.getElementsByTagName(\"head\")[0].appendChild(s);\n",
       "}\n",
       "\n",
       "if(typeof(LDAvis) !== \"undefined\"){\n",
       "   // already loaded: just create the visualization\n",
       "   !function(LDAvis){\n",
       "       new LDAvis(\"#\" + \"ldavis_el163221404346327729447580985179\", ldavis_el163221404346327729447580985179_data);\n",
       "   }(LDAvis);\n",
       "}else if(typeof define === \"function\" && define.amd){\n",
       "   // require.js is available: use it to load d3/LDAvis\n",
       "   require.config({paths: {d3: \"https://cdnjs.cloudflare.com/ajax/libs/d3/3.5.5/d3.min\"}});\n",
       "   require([\"d3\"], function(d3){\n",
       "      window.d3 = d3;\n",
       "      LDAvis_load_lib(\"https://cdn.rawgit.com/bmabey/pyLDAvis/files/ldavis.v1.0.0.js\", function(){\n",
       "        new LDAvis(\"#\" + \"ldavis_el163221404346327729447580985179\", ldavis_el163221404346327729447580985179_data);\n",
       "      });\n",
       "    });\n",
       "}else{\n",
       "    // require.js not available: dynamically load d3 & LDAvis\n",
       "    LDAvis_load_lib(\"https://cdnjs.cloudflare.com/ajax/libs/d3/3.5.5/d3.min.js\", function(){\n",
       "         LDAvis_load_lib(\"https://cdn.rawgit.com/bmabey/pyLDAvis/files/ldavis.v1.0.0.js\", function(){\n",
       "                 new LDAvis(\"#\" + \"ldavis_el163221404346327729447580985179\", ldavis_el163221404346327729447580985179_data);\n",
       "            })\n",
       "         });\n",
       "}\n",
       "</script>"
      ],
      "text/plain": [
       "PreparedData(topic_coordinates=            Freq  cluster  topics         x         y\n",
       "topic                                                \n",
       "0      11.965464        1       1 -0.116885  0.080274\n",
       "5      11.956726        1       2  0.166722 -0.095681\n",
       "2      11.051635        1       3 -0.021001 -0.049113\n",
       "4       9.714886        1       4  0.045404  0.044141\n",
       "3       9.522060        1       5 -0.047110 -0.044030\n",
       "6       9.279630        1       6 -0.021744  0.005752\n",
       "7       9.277806        1       7  0.088213  0.158144\n",
       "9       9.216112        1       8  0.022499 -0.001063\n",
       "1       9.119911        1       9 -0.075942 -0.069062\n",
       "8       8.895770        1      10 -0.040156 -0.029363, topic_info=     Category       Freq           Term      Total  loglift  logprob\n",
       "term                                                                \n",
       "1720  Default  31.000000        meaning  31.000000  30.0000  30.0000\n",
       "823   Default  26.000000            one  26.000000  29.0000  29.0000\n",
       "1836  Default  17.000000        instead  17.000000  28.0000  28.0000\n",
       "2092  Default  74.000000             vs  74.000000  27.0000  27.0000\n",
       "429   Default  41.000000       sentence  41.000000  26.0000  26.0000\n",
       "862   Default  20.000000            say  20.000000  25.0000  25.0000\n",
       "801   Default  82.000000        correct  82.000000  24.0000  24.0000\n",
       "184   Default  48.000000           mean  48.000000  23.0000  23.0000\n",
       "167   Default  24.000000         versus  24.000000  22.0000  22.0000\n",
       "1681  Default  19.000000  pronunciation  19.000000  21.0000  21.0000\n",
       "954   Default  16.000000           come  16.000000  20.0000  20.0000\n",
       "1600  Default  14.000000          nouns  14.000000  19.0000  19.0000\n",
       "1219  Default  51.000000     difference  51.000000  18.0000  18.0000\n",
       "2181  Default  21.000000         proper  21.000000  17.0000  17.0000\n",
       "1898  Default  19.000000         plural  19.000000  16.0000  16.0000\n",
       "708   Default  32.000000         phrase  32.000000  15.0000  15.0000\n",
       "97    Default  80.000000           word  80.000000  14.0000  14.0000\n",
       "2149  Default  26.000000          usage  26.000000  13.0000  13.0000\n",
       "76    Default  17.000000          would  17.000000  12.0000  12.0000\n",
       "1311  Default  16.000000      different  16.000000  11.0000  11.0000\n",
       "2165  Default  19.000000           like  19.000000  10.0000  10.0000\n",
       "1435  Default  11.000000      sentences  11.000000   9.0000   9.0000\n",
       "1213  Default  19.000000           verb  19.000000   8.0000   8.0000\n",
       "1838  Default  14.000000       singular  14.000000   7.0000   7.0000\n",
       "115   Default  11.000000            end  11.000000   6.0000   6.0000\n",
       "770   Default  14.000000           name  14.000000   5.0000   5.0000\n",
       "1827  Default  13.000000      something  13.000000   4.0000   4.0000\n",
       "716   Default   5.000000            may   5.000000   3.0000   3.0000\n",
       "1672  Default  11.000000    appropriate  11.000000   2.0000   2.0000\n",
       "362   Default   7.000000          speak   7.000000   1.0000   1.0000\n",
       "...       ...        ...            ...        ...      ...      ...\n",
       "1730  Topic10   1.479668        scratch   2.120189   2.0599  -5.8175\n",
       "2172  Topic10   1.479627          works   2.120189   2.0599  -5.8175\n",
       "340   Topic10   1.479627      confusion   2.120191   2.0599  -5.8175\n",
       "1566  Topic10   1.479577           else   2.120193   2.0598  -5.8176\n",
       "1316  Topic10   1.479390         coming   2.120188   2.0597  -5.8177\n",
       "475   Topic10   1.442085       indirect   2.121234   2.0337  -5.8432\n",
       "1931  Topic10   3.591909         accent   5.642832   1.9679  -4.9306\n",
       "362   Topic10   4.883866          speak   7.804841   1.9508  -4.6234\n",
       "1435  Topic10   7.021930      sentences  11.303392   1.9435  -4.2603\n",
       "1472  Topic10   2.184245           fine   3.525295   1.9409  -5.4280\n",
       "1267  Topic10   2.184214      languages   3.548984   1.9342  -5.4281\n",
       "488   Topic10   3.592236       meanings   6.375935   1.8458  -4.9305\n",
       "271   Topic10   4.298089         object   7.766649   1.8279  -4.7511\n",
       "1311  Topic10   8.238900      different  16.413967   1.7303  -4.1005\n",
       "1827  Topic10   5.707361      something  13.519610   1.5572  -4.4676\n",
       "1213  Topic10   4.998051           verb  19.977702   1.0340  -4.6003\n",
       "801   Topic10  10.516744        correct  82.589082   0.3587  -3.8564\n",
       "2004  Topic10   6.265936          words  36.402660   0.6601  -4.3742\n",
       "2126  Topic10   7.102560        english  50.461298   0.4588  -4.2489\n",
       "1269  Topic10   2.888666            two   8.534865   1.3362  -5.1485\n",
       "1536  Topic10   2.179708        context   5.000369   1.5893  -5.4301\n",
       "708   Topic10   4.631478         phrase  32.716368   0.4646  -4.6764\n",
       "1690  Topic10   2.184324    capitalized   5.662677   1.4670  -5.4280\n",
       "2092  Topic10   5.707045             vs  74.566796  -0.1504  -4.4676\n",
       "97    Topic10   5.564801           word  80.711444  -0.2548  -4.4929\n",
       "327   Topic10   2.184316        subject   7.050738   1.2478  -5.4280\n",
       "2073  Topic10   2.184316        present   7.092174   1.2419  -5.4280\n",
       "2165  Topic10   2.865058           like  19.459037   0.5039  -5.1567\n",
       "1687  Topic10   1.988279           line   6.410034   1.2490  -5.5220\n",
       "579   Topic10   2.184329           time  13.606959   0.5903  -5.4280\n",
       "\n",
       "[598 rows x 6 columns], token_table=      Topic      Freq           Term\n",
       "term                                \n",
       "79        2  0.459349  abbreviations\n",
       "79        3  0.459349  abbreviations\n",
       "1931      6  0.177216         accent\n",
       "1931      8  0.177216         accent\n",
       "1931     10  0.708864         accent\n",
       "682       1  0.252282     acceptable\n",
       "682       2  0.504564     acceptable\n",
       "682       4  0.126141     acceptable\n",
       "682       9  0.126141     acceptable\n",
       "1065      1  0.557302       accepted\n",
       "1065      8  0.278651       accepted\n",
       "347       8  0.471402       accident\n",
       "1112      9  0.473487       accounts\n",
       "1372      3  0.920609         acting\n",
       "1647      7  0.473051          added\n",
       "1792      4  0.704306      addressed\n",
       "586       1  0.115644      adjective\n",
       "586       2  0.115644      adjective\n",
       "586       3  0.462575      adjective\n",
       "586       4  0.231288      adjective\n",
       "586      10  0.115644      adjective\n",
       "1254      3  0.691475     adjectives\n",
       "1254     10  0.230492     adjectives\n",
       "1573      7  0.473051         admire\n",
       "363       2  0.200644         adverb\n",
       "363       3  0.200644         adverb\n",
       "363       5  0.401288         adverb\n",
       "363      10  0.200644         adverb\n",
       "238      10  0.471656         albert\n",
       "641       2  0.923648          along\n",
       "...     ...       ...            ...\n",
       "2004      6  0.082412          words\n",
       "2004      7  0.082412          words\n",
       "2004      9  0.027471          words\n",
       "2004     10  0.164823          words\n",
       "2172     10  0.471656          works\n",
       "16       10  0.850003          worth\n",
       "76        1  0.056636          would\n",
       "76        4  0.396454          would\n",
       "76        5  0.056636          would\n",
       "76        6  0.056636          would\n",
       "76        7  0.339818          would\n",
       "1862      1  0.129001          write\n",
       "1862      5  0.129001          write\n",
       "1862      6  0.129001          write\n",
       "1862      7  0.129001          write\n",
       "1862      8  0.129001          write\n",
       "1862      9  0.387002          write\n",
       "161       2  0.156585        writing\n",
       "161       3  0.156585        writing\n",
       "161       4  0.156585        writing\n",
       "161       6  0.156585        writing\n",
       "161       7  0.313170        writing\n",
       "161       9  0.156585        writing\n",
       "204       1  0.383500        written\n",
       "204       5  0.383500        written\n",
       "204       9  0.127833        written\n",
       "135       2  0.614877          wrong\n",
       "135       3  0.307439          wrong\n",
       "135       9  0.153719          wrong\n",
       "244       7  0.473051           zero\n",
       "\n",
       "[943 rows x 3 columns], R=30, lambda_step=0.01, plot_opts={'xlab': 'PC1', 'ylab': 'PC2'}, topic_order=[1, 6, 3, 5, 4, 7, 8, 10, 2, 9])"
      ]
     },
     "execution_count": 222,
     "metadata": {},
     "output_type": "execute_result"
    }
   ],
   "source": [
    "pyLDAvis.gensim.prepare(ldamodel,corpus,dictionary)"
   ]
  },
  {
   "cell_type": "code",
   "execution_count": 211,
   "metadata": {
    "collapsed": false
   },
   "outputs": [
    {
     "data": {
      "text/plain": [
       "[('none', 0.26615095138549805),\n",
       " ('better', 0.25428104400634766),\n",
       " ('like', 0.23603419959545135),\n",
       " ('find', 0.22828680276870728),\n",
       " ('adjective', 0.22783225774765015),\n",
       " ('words', 0.22431403398513794),\n",
       " ('list', 0.22357627749443054),\n",
       " ('take', 0.210282564163208),\n",
       " ('nouns', 0.20473437011241913),\n",
       " ('english', 0.20281971991062164)]"
      ]
     },
     "execution_count": 211,
     "metadata": {},
     "output_type": "execute_result"
    }
   ],
   "source": [
    "model = word2vec.Word2Vec(allposts, size=200)\n",
    "model.most_similar(positive = ['correct'])"
   ]
  },
  {
   "cell_type": "markdown",
   "metadata": {
    "collapsed": false
   },
   "source": [
    "## References\n",
    "\n",
    "* https://rstudio-pubs-static.s3.amazonaws.com/79360_850b2a69980c4488b1db95987a24867a.html\n",
    "* LDA Viz - http://nlp.stanford.edu/events/illvi2014/papers/sievert-illvi2014.pdf\n",
    "* This dashboard @ https://github.com/dhruvaray/soml\n",
    "    "
   ]
  },
  {
   "cell_type": "code",
   "execution_count": null,
   "metadata": {
    "collapsed": true
   },
   "outputs": [],
   "source": []
  }
 ],
 "metadata": {
  "kernelspec": {
   "display_name": "Python 2",
   "language": "python",
   "name": "python2"
  },
  "language_info": {
   "codemirror_mode": {
    "name": "ipython",
    "version": 2
   },
   "file_extension": ".py",
   "mimetype": "text/x-python",
   "name": "python",
   "nbconvert_exporter": "python",
   "pygments_lexer": "ipython2",
   "version": "2.7.11"
  }
 },
 "nbformat": 4,
 "nbformat_minor": 0
}
